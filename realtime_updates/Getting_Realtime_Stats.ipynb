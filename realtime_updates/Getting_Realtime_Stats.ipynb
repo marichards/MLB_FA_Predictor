{
 "cells": [
  {
   "cell_type": "markdown",
   "metadata": {},
   "source": [
    "# Getting Real-time Stats\n",
    "\n",
    "The idea of this notebook is to figure out how to get real-time stats that I can update daily (nightly) to use for updating my site. There's a number of sites that might suffice:\n",
    "\n",
    "* Fangraphs\n",
    "* MLB.com\n",
    "* Baseball Reference\n",
    "* ESPN.com\n",
    "...\n",
    "\n",
    "They all seemingly have pluses and minuses; I'm going to start with Fangraphs\n",
    "\n",
    "**Notes on sites:**\n",
    "\n",
    "* Fangraphs is a pain because it's posting via Javascript; I'm having a hell of a time getting the .CSV to download on its own. And otherwise, I'd have to sense all the pages (e.g. 7 of them)\n",
    "* MLB.com doesn't have what I want\n",
    "* Baseball reference doesn't have anything like what I want\n",
    "* Yahoo is not useful\n",
    "* BP might be the solution!!\n",
    "\n",
    "## Data from Fangraphs\n",
    "\n",
    "Fangraphs is tricky because it presents 2 non-optimal options:\n",
    "\n",
    "1. Scrape data from a series of HTML tables\n",
    "2. Export a .csv file through a Javascript post statement\n",
    "\n",
    "The 2nd option is probably more optimal, as the CSV file is very friendly. But I need to figure out how to do it, as the \"Export\" button actually runs this command:\n",
    "\n",
    "```\n",
    "<a id=\"LeaderBoard1_cmdCSV\" href=\"javascript:__doPostBack('LeaderBoard1$cmdCSV','')\">Export Data</a>\n",
    "```\n",
    "\n",
    "I'll import the necessary libraries:"
   ]
  },
  {
   "cell_type": "code",
   "execution_count": 215,
   "metadata": {},
   "outputs": [],
   "source": [
    "# Import DS tools\n",
    "import pandas as pd\n",
    "import numpy as np\n",
    "import seaborn as sns\n",
    "import matplotlib.pyplot as plt\n",
    "\n",
    "# Import Web tools\n",
    "import requests\n",
    "from selenium import webdriver\n",
    "from selenium.webdriver.common.keys import Keys\n",
    "from selenium.webdriver.support.ui import WebDriverWait\n",
    "from selenium.webdriver.common.by import By\n",
    "from selenium.webdriver.support import expected_conditions as EC\n",
    "from bs4 import BeautifulSoup\n",
    "\n",
    "# Import my own fxns\n",
    "import sys\n",
    "sys.path.append(\"/home/matt/Github/MLB_FA_Predictor\")\n",
    "import buildFeatureMatrix as bfm"
   ]
  },
  {
   "cell_type": "markdown",
   "metadata": {},
   "source": [
    "Apparently, this behaves as a form; here's the page itself:"
   ]
  },
  {
   "cell_type": "code",
   "execution_count": 8,
   "metadata": {},
   "outputs": [
    {
     "name": "stdout",
     "output_type": "stream",
     "text": [
      "\n",
      "<!DOCTYPE html PUBLIC \"-//W3C//DTD XHTML 1.0 Transitional//EN\" \"http://www.w3.org/TR/xhtml1/DTD/xhtml1-transitional.dtd\">\n",
      "<html xmlns=\"http://www.w3.org/1999/xhtml\">\n",
      "<head id=\"Head1\"><script type=\"text/javascript\">window.NREUM||(NREUM={});NREUM.info = {\"beacon\":\"bam.nr-data.net\",\"errorBeacon\":\"bam.nr-data.net\",\"licenseKey\":\"8c8459e5ba\",\"applicationID\":\"2284934\",\"transactionName\":\"ZlMHMEtVDUdTW0ZQC18ZJDdpGw9RU1xXSxcfVxYUQQ==\",\"queueTime\":0,\"applicationTime\":134,\"agent\":\"\",\"atts\":\"\"}</script><script type=\"text/javascript\">window.NREUM||(NREUM={}),__nr_require=function(e,t,n){function r(n){if(!t[n]){var o=t[n]={exports:{}};e[n][0].call(o.exports,function(t){var o=e[n][1][t];return r(o||t)},o,o.exports)}return t[n].exports}if(\"function\"==typeof __nr_require)return __nr_require;for(var o=0;o<n.length;o++)r(n[o]);return r}({1:[function(e,t,n){function r(){}function o(e,t,n){return function(){return i(e,[f.now()].concat(u(arguments)),t?null:this,n),t?void 0:this}}var i=e(\"handle\"),a=e(2),\n"
     ]
    }
   ],
   "source": [
    "# Grab 2018 page\n",
    "fg_page = requests.get(\"https://www.fangraphs.com/leaders.aspx?pos=all&stats=bat&lg=all&qual=y&type=8&season=2018&month=0&season1=2018&ind=0\")\n",
    "\n",
    "# Show the top\n",
    "print(fg_page.text[0:1000])"
   ]
  },
  {
   "cell_type": "markdown",
   "metadata": {},
   "source": [
    "Note that the HTTP trace shows this:\n",
    "\n",
    "```https://www.fangraphs.com/leaders.aspx?pos=all&stats=bat&lg=all&qual=y&type=8&season=2018&month=0&season1=2018&ind=0\n",
    "\n",
    "POST https://www.fangraphs.com/leaders.aspx?pos=all&stats=bat&lg=all&qual=y&type=8&season=2018&month=0&season1=2018&ind=0\n",
    "Origin: https://www.fangraphs.com\n",
    "Upgrade-Insecure-Requests: 1\n",
    "Content-Type: application/x-www-form-urlencoded\n",
    "User-Agent: Mozilla/5.0 (X11; Linux x86_64) AppleWebKit/537.36 (KHTML, like Gecko) Chrome/65.0.3325.181 Safari/537.36\n",
    "Accept: text/html,application/xhtml+xml,application/xml;q=0.9,image/webp,image/apng,*/*;q=0.8\n",
    "Referer: https://www.fangraphs.com/leaders.aspx?pos=all&stats=bat&lg=all&qual=y&type=8&season=2018&month=0&season1=2018&ind=0\n",
    "Accept-Encoding: gzip, deflate, br\n",
    "Accept-Language: en-US,en;q=0.9\n",
    "Cookie: __qca=P0-1096495856-1511568322815; _jsuid=3860423848; __gads=ID=46c9360072e56023:T=1511568323:S=ALNI_MYcBKGNgue606hF789xDyvSpqAUZw; _cb_ls=1; opti-userid=58b2535a-37d6-47f6-9094-3187e1bf74d9; _ga=GA1.2.2091433700.1511568323; _cb=-orahCJsTnrDQuPoq; _pk_id.5863.07a3=75985b650b517c43.1511568324.2.1514091887.1514091879.; opti-position=1; _1ci_7ag23o86kjasbfd=393d0950-0564-11e8-a7ce-f5d3fbed2065; fitracking_12=no; btpdb.0M6ZVb2.dGZjLjYwOTQyNzg=REFZUw; btpdb.0M6ZVb2.dGZjLjYwOTQyODU=VVNFUg; btpdb.0M6ZVb2.dGZjLjYwMjU2Mjg=REFZUw; btpdb.0M6ZVb2.dGZjLjYwOTc4MDM=REFZUw; btpdb.0M6ZVb2.dGZjLjYwMjU2NDk=VVNFUg; fgadp=0; _gid=GA1.2.532765737.1524073489; __atuvc=1%7C12%2C0%7C13%2C3%7C14%2C6%7C15%2C2%7C16; OX_plg=pm; _gat=1; _first_pageview=1; heatmaps_g2g_100553825=yes; fiutm=direct|direct||||; _chartbeat2=.1511568328475.1524162311895.1001011110001011.d3vRTb1Q3LC0SDV3x2CxFRdzPo.1; _cb_svref=https%3A%2F%2Fwww.fangraphs.com%2Fstandings%2Fplayoff-odds-graphs%3Flg%3DNL%26div%3DW%26stat%3Dpoff%26year%3D2018; _eventqueue=%7B%22heatmap%22%3A%5B%7B%22type%22%3A%22heatmap%22%2C%22href%22%3A%22%2Fleaders.aspx%3Fpos%3Dall%26stats%3Dbat%26lg%3Dall%26qual%3Dy%26type%3D8%26season%3D2018%26month%3D0%26season1%3D2018%26ind%3D0%22%2C%22x%22%3A1360%2C%22y%22%3A670%2C%22w%22%3A1835%7D%5D%2C%22events%22%3A%5B%5D%7D\n",
    "\n",
    "HTTP/1.1 200 OK\n",
    "Cache-Control: private\n",
    "Content-Type: text/csv; charset=utf-8;\n",
    "Content-Encoding: gzip\n",
    "Vary: Accept-Encoding\n",
    "Server: Microsoft-IIS/10.0\n",
    "Content-Disposition: attachment;filename=\"FanGraphs Leaderboard.csv\"\n",
    "X-AspNet-Version: 4.0.30319\n",
    "X-Powered-By: ASP.NET\n",
    "Date: Thu, 19 Apr 2018 18:25:33 GMT\n",
    "Content-Length: 12960\n",
    "```"
   ]
  },
  {
   "cell_type": "code",
   "execution_count": 53,
   "metadata": {},
   "outputs": [],
   "source": [
    "# Try posting to same link\n",
    "fg_dl = requests.post('https://www.fangraphs.com/leaders.aspx?pos=all&stats=bat&lg=all&qual=y&type=8&season=2018&month=0&season1=2018&ind=0',\n",
    "                      data = {'Origin' : 'https://www.fangraphs.com',\n",
    "                              'Upgrade-Insecure-Requests' : '1',\n",
    "                              'Content-Type' : 'application/x-www-form-urlencoded',\n",
    "                              'Accept' : 'text/html,application/xhtml+xml,application/xml;q=0.9,image/webp,image/apng,*/*;q=0.8',\n",
    "                              'Referer' : 'https://www.fangraphs.com/leaders.aspx?pos=all&stats=bat&lg=all&qual=y&type=8&season=2018&month=0&season1=2018&ind=0',\n",
    "                              'Accept-Encoding' : 'gzip, deflate, br',\n",
    "                              'Accept-Language' : 'en-US,en;q=0.9',\n",
    "                              'Cookie' : '__qca=P0-1096495856-1511568322815; _jsuid=3860423848; __gads=ID=46c9360072e56023:T=1511568323:S=ALNI_MYcBKGNgue606hF789xDyvSpqAUZw; _cb_ls=1; opti-userid=58b2535a-37d6-47f6-9094-3187e1bf74d9; _ga=GA1.2.2091433700.1511568323; _cb=-orahCJsTnrDQuPoq; _pk_id.5863.07a3=75985b650b517c43.1511568324.2.1514091887.1514091879.; opti-position=1; _1ci_7ag23o86kjasbfd=393d0950-0564-11e8-a7ce-f5d3fbed2065; fitracking_12=no; btpdb.0M6ZVb2.dGZjLjYwOTQyNzg=REFZUw; btpdb.0M6ZVb2.dGZjLjYwOTQyODU=VVNFUg; btpdb.0M6ZVb2.dGZjLjYwMjU2Mjg=REFZUw; btpdb.0M6ZVb2.dGZjLjYwOTc4MDM=REFZUw; btpdb.0M6ZVb2.dGZjLjYwMjU2NDk=VVNFUg; fgadp=0; _gid=GA1.2.532765737.1524073489; __atuvc=1%7C12%2C0%7C13%2C3%7C14%2C6%7C15%2C2%7C16; OX_plg=pm; _gat=1; _first_pageview=1; heatmaps_g2g_100553825=yes; fiutm=direct|direct||||; _chartbeat2=.1511568328475.1524162311895.1001011110001011.d3vRTb1Q3LC0SDV3x2CxFRdzPo.1; _cb_svref=https%3A%2F%2Fwww.fangraphs.com%2Fstandings%2Fplayoff-odds-graphs%3Flg%3DNL%26div%3DW%26stat%3Dpoff%26year%3D2018; _eventqueue=%7B%22heatmap%22%3A%5B%7B%22type%22%3A%22heatmap%22%2C%22href%22%3A%22%2Fleaders.aspx%3Fpos%3Dall%26stats%3Dbat%26lg%3Dall%26qual%3Dy%26type%3D8%26season%3D2018%26month%3D0%26season1%3D2018%26ind%3D0%22%2C%22x%22%3A1360%2C%22y%22%3A670%2C%22w%22%3A1835%7D%5D%2C%22events%22%3A%5B%5D%7D'\n",
    "                             }\n",
    "                     )"
   ]
  },
  {
   "cell_type": "code",
   "execution_count": 54,
   "metadata": {},
   "outputs": [
    {
     "data": {
      "text/plain": [
       "'\\r\\n<!DOCTYPE html PUBLIC \"-//W3C//DTD XHTML 1.0 Transitional//EN\" \"http://www.w3.org/TR/xhtml1/DTD/xhtml1-transitional.dtd\">\\r\\n<html xmlns=\"http://www.w3.org/1999/xhtml\">\\r\\n<head id=\"Head1\"><script type=\"text/javascript\">window.NREUM||(NREUM={});NREUM.info = {\"beacon\":\"bam.nr-data.net\",\"errorBeacon\":\"bam.nr-data.net\",\"licenseKey\":\"8c8459e5ba\",\"applicationID\":\"2284934\",\"transactionName\":\"ZlMHMEtVDUdTW0ZQC18ZJDdpGw9RU1xXSxcfVxYUQQ==\",\"queueTime\":0,\"applicationTime\":93,\"agent\":\"\",\"atts\":\"\"}</script><script type=\"text/javascript\">window.NREUM||(NREUM={}),__nr_require=function(e,t,n){function r(n){if(!t[n]){var o=t[n]={exports:{}};e[n][0].call(o.exports,function(t){var o=e[n][1][t];return r(o||t)},o,o.exports)}return t[n].exports}if(\"function\"==typeof __nr_require)return __nr_require;for(var o=0;o<n.length;o++)r(n[o]);return r}({1:[function(e,t,n){function r(){}function o(e,t,n){return function(){return i(e,[f.now()].concat(u(arguments)),t?null:this,n),t?void 0:this}}var i=e(\"handle\"),a=e(2),u'"
      ]
     },
     "execution_count": 54,
     "metadata": {},
     "output_type": "execute_result"
    }
   ],
   "source": [
    "fg_dl.text[0:1000]"
   ]
  },
  {
   "cell_type": "code",
   "execution_count": 55,
   "metadata": {},
   "outputs": [],
   "source": [
    "test = requests.get('https://in.getclicky.com/in.php?site_id=100553825&res=1920x1080&lang=en&secure=1&type=heatmap&heatmap[]=%2Fleaders.aspx%3Fpos%3Dall%26stats%3Dbat%26lg%3Dall%26qual%3Dy%26type%3D8%26season%3D2018%26month%3D0%26season1%3D2018%26ind%3D0|1006|662|1142&jsuid=3860423848&hmset&mime=js&x=0.4253376462049516')"
   ]
  },
  {
   "cell_type": "code",
   "execution_count": 56,
   "metadata": {},
   "outputs": [
    {
     "data": {
      "text/plain": [
       "'// static34\\n\\n// exit trax0r\\n'"
      ]
     },
     "execution_count": 56,
     "metadata": {},
     "output_type": "execute_result"
    }
   ],
   "source": [
    "test.text"
   ]
  },
  {
   "cell_type": "markdown",
   "metadata": {},
   "source": [
    "This is dumb; I'm going to try Selenium"
   ]
  },
  {
   "cell_type": "code",
   "execution_count": 35,
   "metadata": {},
   "outputs": [],
   "source": [
    "# Set URL\n",
    "my_url = 'https://www.fangraphs.com/leaders.aspx?pos=all&stats=bat&lg=all&qual=y&type=8&season=2018&month=0&season1=2018&ind=0'\n",
    "#my_url = 'https://www.fangraphs.com/'"
   ]
  },
  {
   "cell_type": "code",
   "execution_count": 52,
   "metadata": {},
   "outputs": [
    {
     "name": "stdout",
     "output_type": "stream",
     "text": [
      "Major League Leaderboards » 2018 » Batters » Dashboard | FanGraphs Baseball\n",
      "Page loaded\n",
      "<selenium.webdriver.remote.webelement.WebElement (session=\"6f3f773c0e84559f76d3731b1f5e4732\", element=\"0.5879974233295713-1\")>\n"
     ]
    },
    {
     "ename": "URLError",
     "evalue": "<urlopen error unknown url type: javascript>",
     "output_type": "error",
     "traceback": [
      "\u001b[0;31m---------------------------------------------------------------------------\u001b[0m",
      "\u001b[0;31mURLError\u001b[0m                                  Traceback (most recent call last)",
      "\u001b[0;32m<ipython-input-52-ddc59e413f13>\u001b[0m in \u001b[0;36m<module>\u001b[0;34m()\u001b[0m\n\u001b[1;32m     13\u001b[0m \u001b[0mprint\u001b[0m\u001b[0;34m(\u001b[0m\u001b[0mlink\u001b[0m\u001b[0;34m)\u001b[0m\u001b[0;34m\u001b[0m\u001b[0m\n\u001b[1;32m     14\u001b[0m \u001b[0mcsv_url\u001b[0m \u001b[0;34m=\u001b[0m \u001b[0murljoin\u001b[0m\u001b[0;34m(\u001b[0m\u001b[0mmy_url\u001b[0m\u001b[0;34m,\u001b[0m \u001b[0mlink\u001b[0m\u001b[0;34m.\u001b[0m\u001b[0mget_attribute\u001b[0m\u001b[0;34m(\u001b[0m\u001b[0;34m\"href\"\u001b[0m\u001b[0;34m)\u001b[0m\u001b[0;34m)\u001b[0m\u001b[0;34m\u001b[0m\u001b[0m\n\u001b[0;32m---> 15\u001b[0;31m \u001b[0murlretrieve\u001b[0m\u001b[0;34m(\u001b[0m\u001b[0mcsv_url\u001b[0m\u001b[0;34m,\u001b[0m \u001b[0;34m\"players.csv\"\u001b[0m\u001b[0;34m)\u001b[0m\u001b[0;34m\u001b[0m\u001b[0m\n\u001b[0m\u001b[1;32m     16\u001b[0m \u001b[0;34m\u001b[0m\u001b[0m\n\u001b[1;32m     17\u001b[0m \u001b[0mdriver\u001b[0m\u001b[0;34m.\u001b[0m\u001b[0mclose\u001b[0m\u001b[0;34m(\u001b[0m\u001b[0;34m)\u001b[0m\u001b[0;34m\u001b[0m\u001b[0m\n",
      "\u001b[0;32m~/anaconda3/lib/python3.6/urllib/request.py\u001b[0m in \u001b[0;36murlretrieve\u001b[0;34m(url, filename, reporthook, data)\u001b[0m\n\u001b[1;32m    246\u001b[0m     \u001b[0murl_type\u001b[0m\u001b[0;34m,\u001b[0m \u001b[0mpath\u001b[0m \u001b[0;34m=\u001b[0m \u001b[0msplittype\u001b[0m\u001b[0;34m(\u001b[0m\u001b[0murl\u001b[0m\u001b[0;34m)\u001b[0m\u001b[0;34m\u001b[0m\u001b[0m\n\u001b[1;32m    247\u001b[0m \u001b[0;34m\u001b[0m\u001b[0m\n\u001b[0;32m--> 248\u001b[0;31m     \u001b[0;32mwith\u001b[0m \u001b[0mcontextlib\u001b[0m\u001b[0;34m.\u001b[0m\u001b[0mclosing\u001b[0m\u001b[0;34m(\u001b[0m\u001b[0murlopen\u001b[0m\u001b[0;34m(\u001b[0m\u001b[0murl\u001b[0m\u001b[0;34m,\u001b[0m \u001b[0mdata\u001b[0m\u001b[0;34m)\u001b[0m\u001b[0;34m)\u001b[0m \u001b[0;32mas\u001b[0m \u001b[0mfp\u001b[0m\u001b[0;34m:\u001b[0m\u001b[0;34m\u001b[0m\u001b[0m\n\u001b[0m\u001b[1;32m    249\u001b[0m         \u001b[0mheaders\u001b[0m \u001b[0;34m=\u001b[0m \u001b[0mfp\u001b[0m\u001b[0;34m.\u001b[0m\u001b[0minfo\u001b[0m\u001b[0;34m(\u001b[0m\u001b[0;34m)\u001b[0m\u001b[0;34m\u001b[0m\u001b[0m\n\u001b[1;32m    250\u001b[0m \u001b[0;34m\u001b[0m\u001b[0m\n",
      "\u001b[0;32m~/anaconda3/lib/python3.6/urllib/request.py\u001b[0m in \u001b[0;36murlopen\u001b[0;34m(url, data, timeout, cafile, capath, cadefault, context)\u001b[0m\n\u001b[1;32m    221\u001b[0m     \u001b[0;32melse\u001b[0m\u001b[0;34m:\u001b[0m\u001b[0;34m\u001b[0m\u001b[0m\n\u001b[1;32m    222\u001b[0m         \u001b[0mopener\u001b[0m \u001b[0;34m=\u001b[0m \u001b[0m_opener\u001b[0m\u001b[0;34m\u001b[0m\u001b[0m\n\u001b[0;32m--> 223\u001b[0;31m     \u001b[0;32mreturn\u001b[0m \u001b[0mopener\u001b[0m\u001b[0;34m.\u001b[0m\u001b[0mopen\u001b[0m\u001b[0;34m(\u001b[0m\u001b[0murl\u001b[0m\u001b[0;34m,\u001b[0m \u001b[0mdata\u001b[0m\u001b[0;34m,\u001b[0m \u001b[0mtimeout\u001b[0m\u001b[0;34m)\u001b[0m\u001b[0;34m\u001b[0m\u001b[0m\n\u001b[0m\u001b[1;32m    224\u001b[0m \u001b[0;34m\u001b[0m\u001b[0m\n\u001b[1;32m    225\u001b[0m \u001b[0;32mdef\u001b[0m \u001b[0minstall_opener\u001b[0m\u001b[0;34m(\u001b[0m\u001b[0mopener\u001b[0m\u001b[0;34m)\u001b[0m\u001b[0;34m:\u001b[0m\u001b[0;34m\u001b[0m\u001b[0m\n",
      "\u001b[0;32m~/anaconda3/lib/python3.6/urllib/request.py\u001b[0m in \u001b[0;36mopen\u001b[0;34m(self, fullurl, data, timeout)\u001b[0m\n\u001b[1;32m    524\u001b[0m             \u001b[0mreq\u001b[0m \u001b[0;34m=\u001b[0m \u001b[0mmeth\u001b[0m\u001b[0;34m(\u001b[0m\u001b[0mreq\u001b[0m\u001b[0;34m)\u001b[0m\u001b[0;34m\u001b[0m\u001b[0m\n\u001b[1;32m    525\u001b[0m \u001b[0;34m\u001b[0m\u001b[0m\n\u001b[0;32m--> 526\u001b[0;31m         \u001b[0mresponse\u001b[0m \u001b[0;34m=\u001b[0m \u001b[0mself\u001b[0m\u001b[0;34m.\u001b[0m\u001b[0m_open\u001b[0m\u001b[0;34m(\u001b[0m\u001b[0mreq\u001b[0m\u001b[0;34m,\u001b[0m \u001b[0mdata\u001b[0m\u001b[0;34m)\u001b[0m\u001b[0;34m\u001b[0m\u001b[0m\n\u001b[0m\u001b[1;32m    527\u001b[0m \u001b[0;34m\u001b[0m\u001b[0m\n\u001b[1;32m    528\u001b[0m         \u001b[0;31m# post-process response\u001b[0m\u001b[0;34m\u001b[0m\u001b[0;34m\u001b[0m\u001b[0m\n",
      "\u001b[0;32m~/anaconda3/lib/python3.6/urllib/request.py\u001b[0m in \u001b[0;36m_open\u001b[0;34m(self, req, data)\u001b[0m\n\u001b[1;32m    547\u001b[0m \u001b[0;34m\u001b[0m\u001b[0m\n\u001b[1;32m    548\u001b[0m         return self._call_chain(self.handle_open, 'unknown',\n\u001b[0;32m--> 549\u001b[0;31m                                 'unknown_open', req)\n\u001b[0m\u001b[1;32m    550\u001b[0m \u001b[0;34m\u001b[0m\u001b[0m\n\u001b[1;32m    551\u001b[0m     \u001b[0;32mdef\u001b[0m \u001b[0merror\u001b[0m\u001b[0;34m(\u001b[0m\u001b[0mself\u001b[0m\u001b[0;34m,\u001b[0m \u001b[0mproto\u001b[0m\u001b[0;34m,\u001b[0m \u001b[0;34m*\u001b[0m\u001b[0margs\u001b[0m\u001b[0;34m)\u001b[0m\u001b[0;34m:\u001b[0m\u001b[0;34m\u001b[0m\u001b[0m\n",
      "\u001b[0;32m~/anaconda3/lib/python3.6/urllib/request.py\u001b[0m in \u001b[0;36m_call_chain\u001b[0;34m(self, chain, kind, meth_name, *args)\u001b[0m\n\u001b[1;32m    502\u001b[0m         \u001b[0;32mfor\u001b[0m \u001b[0mhandler\u001b[0m \u001b[0;32min\u001b[0m \u001b[0mhandlers\u001b[0m\u001b[0;34m:\u001b[0m\u001b[0;34m\u001b[0m\u001b[0m\n\u001b[1;32m    503\u001b[0m             \u001b[0mfunc\u001b[0m \u001b[0;34m=\u001b[0m \u001b[0mgetattr\u001b[0m\u001b[0;34m(\u001b[0m\u001b[0mhandler\u001b[0m\u001b[0;34m,\u001b[0m \u001b[0mmeth_name\u001b[0m\u001b[0;34m)\u001b[0m\u001b[0;34m\u001b[0m\u001b[0m\n\u001b[0;32m--> 504\u001b[0;31m             \u001b[0mresult\u001b[0m \u001b[0;34m=\u001b[0m \u001b[0mfunc\u001b[0m\u001b[0;34m(\u001b[0m\u001b[0;34m*\u001b[0m\u001b[0margs\u001b[0m\u001b[0;34m)\u001b[0m\u001b[0;34m\u001b[0m\u001b[0m\n\u001b[0m\u001b[1;32m    505\u001b[0m             \u001b[0;32mif\u001b[0m \u001b[0mresult\u001b[0m \u001b[0;32mis\u001b[0m \u001b[0;32mnot\u001b[0m \u001b[0;32mNone\u001b[0m\u001b[0;34m:\u001b[0m\u001b[0;34m\u001b[0m\u001b[0m\n\u001b[1;32m    506\u001b[0m                 \u001b[0;32mreturn\u001b[0m \u001b[0mresult\u001b[0m\u001b[0;34m\u001b[0m\u001b[0m\n",
      "\u001b[0;32m~/anaconda3/lib/python3.6/urllib/request.py\u001b[0m in \u001b[0;36munknown_open\u001b[0;34m(self, req)\u001b[0m\n\u001b[1;32m   1386\u001b[0m     \u001b[0;32mdef\u001b[0m \u001b[0munknown_open\u001b[0m\u001b[0;34m(\u001b[0m\u001b[0mself\u001b[0m\u001b[0;34m,\u001b[0m \u001b[0mreq\u001b[0m\u001b[0;34m)\u001b[0m\u001b[0;34m:\u001b[0m\u001b[0;34m\u001b[0m\u001b[0m\n\u001b[1;32m   1387\u001b[0m         \u001b[0mtype\u001b[0m \u001b[0;34m=\u001b[0m \u001b[0mreq\u001b[0m\u001b[0;34m.\u001b[0m\u001b[0mtype\u001b[0m\u001b[0;34m\u001b[0m\u001b[0m\n\u001b[0;32m-> 1388\u001b[0;31m         \u001b[0;32mraise\u001b[0m \u001b[0mURLError\u001b[0m\u001b[0;34m(\u001b[0m\u001b[0;34m'unknown url type: %s'\u001b[0m \u001b[0;34m%\u001b[0m \u001b[0mtype\u001b[0m\u001b[0;34m)\u001b[0m\u001b[0;34m\u001b[0m\u001b[0m\n\u001b[0m\u001b[1;32m   1389\u001b[0m \u001b[0;34m\u001b[0m\u001b[0m\n\u001b[1;32m   1390\u001b[0m \u001b[0;32mdef\u001b[0m \u001b[0mparse_keqv_list\u001b[0m\u001b[0;34m(\u001b[0m\u001b[0ml\u001b[0m\u001b[0;34m)\u001b[0m\u001b[0;34m:\u001b[0m\u001b[0;34m\u001b[0m\u001b[0m\n",
      "\u001b[0;31mURLError\u001b[0m: <urlopen error unknown url type: javascript>"
     ]
    }
   ],
   "source": [
    "# Open Chrome and navigate to the page\n",
    "driver = webdriver.Chrome()\n",
    "driver.get(my_url)\n",
    "print(driver.title)\n",
    "link = driver.find_element_by_id('LeaderBoard1_cmdCSV')\n",
    "\n",
    "# wait for page to load\n",
    "wait = WebDriverWait(driver, 10)\n",
    "wait.until(EC.presence_of_element_located((By.ID, 'LeaderBoard1_cmdCSV')))\n",
    "print(\"Page loaded\")\n",
    "\n",
    "# Download the file\n",
    "print(link)\n",
    "csv_url = urljoin(my_url, link.get_attribute(\"href\"))\n",
    "urlretrieve(csv_url, \"players.csv\")\n",
    "\n",
    "driver.close()"
   ]
  },
  {
   "cell_type": "markdown",
   "metadata": {},
   "source": [
    "This is dumb; I'm going to try out BP:\n",
    "\n",
    "## Baseball Prospectus\n",
    "\n",
    "In general, the batting/pitching URLs I want look like this:\n",
    "\n",
    "Batting (2018) on 4/19:\n",
    "\n",
    "`https://legacy.baseballprospectus.com/sortable/index.php?cid=1918875`\n",
    "\n",
    "Pitching (2018) on 4/19:\n",
    "\n",
    "`https://legacy.baseballprospectus.com/sortable/index.php?cid=2508773`\n",
    "\n",
    "These are the same....I have 2 ideas for approaches:\n",
    "\n",
    "1. Hard-code the stat URLs; this isn't ideal, as they could change day to day\n",
    "2. Use Selenium to grab the stats by starting on the main page (cut off URL after \"sortable\")\n",
    "\n",
    "I'm going to try Selenium first:\n",
    "\n",
    "### BP w/ Selenium:"
   ]
  },
  {
   "cell_type": "code",
   "execution_count": 62,
   "metadata": {},
   "outputs": [
    {
     "name": "stdout",
     "output_type": "stream",
     "text": [
      "Baseball Prospectus | Statistics | Custom Statistics Reports\n",
      "Page loaded\n",
      "https://legacy.baseballprospectus.com/sortable/index.php?cid=1918875\n",
      "https://legacy.baseballprospectus.com/sortable/index.php?cid=2508773\n"
     ]
    }
   ],
   "source": [
    "# Set URL\n",
    "my_url = 'https://legacy.baseballprospectus.com/sortable'\n",
    "\n",
    "# Open Chrome and navigate to the page\n",
    "driver = webdriver.Chrome()\n",
    "driver.get(my_url)\n",
    "print(driver.title)\n",
    "\n",
    "# wait for page to load\n",
    "wait = WebDriverWait(driver, 10)\n",
    "wait.until(EC.presence_of_element_located((By.LINK_TEXT, '1. Individual Stats - Season Totals')))\n",
    "print(\"Page loaded\")\n",
    "\n",
    "# Find the batting stats URL\n",
    "bat_link = driver.find_element_by_link_text('1. Individual Stats - Season Totals').get_attribute('href')\n",
    "print(bat_link)\n",
    "\n",
    "# Find the pitching stats URL\n",
    "pitch_link = driver.find_element_by_link_text('3. Individual Stats - Season Totals').get_attribute('href')\n",
    "print(pitch_link)\n",
    "\n",
    "driver.close()"
   ]
  },
  {
   "cell_type": "markdown",
   "metadata": {},
   "source": [
    "Now that I have the URLs I want, I can get the pages using requests and scrape with Beautiful Soup"
   ]
  },
  {
   "cell_type": "code",
   "execution_count": 98,
   "metadata": {},
   "outputs": [
    {
     "name": "stdout",
     "output_type": "stream",
     "text": [
      "['#', 'NAME', 'YEAR', 'AGE', 'G', 'PA', 'AB', 'R', 'H', '1B', '2B', '3B', 'HR', 'TB', 'BB', 'IBB', 'SO', 'HBP', 'SF', 'SH', 'RBI', 'DP', 'NETDP', 'SB', 'CS', 'AVG', 'OBP', 'SLG', 'OPS', 'ISO', 'BPF', 'oppOPS', 'TAv', 'VORP', 'FRAA', 'BWARP']\n"
     ]
    }
   ],
   "source": [
    "# Get the batting and pitching results\n",
    "bat_results = requests.get(bat_link).text\n",
    "pitch_results = requests.get(pitch_link).text\n",
    "\n",
    "# Grab all the batting stats\n",
    "bat_table = BeautifulSoup(bat_results, 'html.parser').find('table', {'id' : 'TTdata'})\n",
    "\n",
    "# Print out just the header\n",
    "bat_head = bat_table.find('tr', {'class': 'TTdata_ltblue'})\n",
    "col_names = [col_name.text for col_name in bat_head.find_all('td')]\n",
    "print(col_names)"
   ]
  },
  {
   "cell_type": "markdown",
   "metadata": {},
   "source": [
    "Now I'll grab the rest of the table"
   ]
  },
  {
   "cell_type": "code",
   "execution_count": 102,
   "metadata": {},
   "outputs": [
    {
     "name": "stdout",
     "output_type": "stream",
     "text": [
      "['1.', 'Mookie Betts', '2018', '25', '16', '72', '59', '20', '23', '11', '7', '0', '5', '45', '10', '1', '6', '2', '1', '0', '13', '0', '-1.10', '2', '1', '.390', '.486', '.763', '1.249', '.373', '99', '.769', '.415', '14.2', '-0.8', '1.35', '2.', 'Didi Gregorius', '2018', '28', '16', '69', '51', '14', '17', '4', '7', '1', '5', '41', '14', '1', '4', '1', '3', '0', '16', '2', '0.21', '2', '1', '.333', '.464', '.804', '1.268', '.471', '107', '.746', '.394', '12.9', '0.1', '1.30']\n"
     ]
    }
   ],
   "source": [
    "# Try grabbing everything, but drop the first row\n",
    "all_stats = [stat.text for stat in bat_table.find_all('td')][len(col_names):]\n",
    "\n",
    "# Print the first 2 players\n",
    "print(all_stats[0:72])"
   ]
  },
  {
   "cell_type": "code",
   "execution_count": 103,
   "metadata": {},
   "outputs": [
    {
     "name": "stdout",
     "output_type": "stream",
     "text": [
      "[['1.' 'Mookie Betts' '2018' ..., '14.2' '-0.8' '1.35']\n",
      " ['2.' 'Didi Gregorius' '2018' ..., '12.9' '0.1' '1.30']\n",
      " ['3.' 'Christian Villanueva' '2018' ..., '12.5' '-1.2' '1.13']\n",
      " ..., \n",
      " ['682.' 'Logan Morrison' '2018' ..., '-6.6' '-0.1' '-0.66']\n",
      " ['683.' 'Lewis Brinson' '2018' ..., '-6.5' '-0.1' '-0.67']\n",
      " ['684.' 'Pat Valaika' '2018' ..., '-6.8' '0.0' '-0.68']]\n"
     ]
    }
   ],
   "source": [
    "# Reshape as a 2-D array\n",
    "bat_array = np.reshape(np.array(all_stats), (-1, len(col_names)))\n",
    "print(test2)"
   ]
  },
  {
   "cell_type": "code",
   "execution_count": 106,
   "metadata": {},
   "outputs": [
    {
     "name": "stdout",
     "output_type": "stream",
     "text": [
      "                   NAME  YEAR AGE   G  PA  AB   R   H  1B 2B  ...    OBP  \\\n",
      "0          Mookie Betts  2018  25  16  72  59  20  23  11  7  ...   .486   \n",
      "1        Didi Gregorius  2018  28  16  69  51  14  17   4  7  ...   .464   \n",
      "2  Christian Villanueva  2018  27  16  60  50  10  17   7  4  ...   .450   \n",
      "3       Yasmani Grandal  2018  29  14  62  54   9  19  11  5  ...   .435   \n",
      "4          Todd Frazier  2018  32  17  73  55  10  16   9  5  ...   .438   \n",
      "\n",
      "    SLG    OPS   ISO  BPF oppOPS   TAv  VORP  FRAA BWARP  \n",
      "0  .763  1.249  .373   99   .769  .415  14.2  -0.8  1.35  \n",
      "1  .804  1.268  .471  107   .746  .394  12.9   0.1  1.30  \n",
      "2  .780  1.230  .440   90   .684  .433  12.5  -1.2  1.13  \n",
      "3  .611  1.047  .259   87   .651  .377  10.3   0.9  1.13  \n",
      "4  .491   .929  .200   91   .700  .360  10.3   0.9  1.12  \n",
      "\n",
      "[5 rows x 35 columns]\n",
      "<class 'pandas.core.frame.DataFrame'>\n",
      "RangeIndex: 684 entries, 0 to 683\n",
      "Data columns (total 35 columns):\n",
      "NAME      684 non-null object\n",
      "YEAR      684 non-null object\n",
      "AGE       684 non-null object\n",
      "G         684 non-null object\n",
      "PA        684 non-null object\n",
      "AB        684 non-null object\n",
      "R         684 non-null object\n",
      "H         684 non-null object\n",
      "1B        684 non-null object\n",
      "2B        684 non-null object\n",
      "3B        684 non-null object\n",
      "HR        684 non-null object\n",
      "TB        684 non-null object\n",
      "BB        684 non-null object\n",
      "IBB       684 non-null object\n",
      "SO        684 non-null object\n",
      "HBP       684 non-null object\n",
      "SF        684 non-null object\n",
      "SH        684 non-null object\n",
      "RBI       684 non-null object\n",
      "DP        684 non-null object\n",
      "NETDP     684 non-null object\n",
      "SB        684 non-null object\n",
      "CS        684 non-null object\n",
      "AVG       684 non-null object\n",
      "OBP       684 non-null object\n",
      "SLG       684 non-null object\n",
      "OPS       684 non-null object\n",
      "ISO       684 non-null object\n",
      "BPF       684 non-null object\n",
      "oppOPS    684 non-null object\n",
      "TAv       684 non-null object\n",
      "VORP      684 non-null object\n",
      "FRAA      684 non-null object\n",
      "BWARP     684 non-null object\n",
      "dtypes: object(35)\n",
      "memory usage: 187.1+ KB\n",
      "None\n"
     ]
    }
   ],
   "source": [
    "# Make it into a dataframe, add column names, and drop the \"#\" one\n",
    "bat_df = pd.DataFrame(bat_array)\n",
    "bat_df.columns = col_names\n",
    "bat_df = bat_df.drop('#', axis = 'columns')\n",
    "\n",
    "# Inspect it\n",
    "print(bat_df.head())\n",
    "print(bat_df.info())"
   ]
  },
  {
   "cell_type": "code",
   "execution_count": 108,
   "metadata": {},
   "outputs": [
    {
     "name": "stdout",
     "output_type": "stream",
     "text": [
      "<class 'pandas.core.frame.DataFrame'>\n",
      "RangeIndex: 684 entries, 0 to 683\n",
      "Data columns (total 35 columns):\n",
      "NAME      684 non-null object\n",
      "YEAR      684 non-null int64\n",
      "AGE       684 non-null int64\n",
      "G         684 non-null int64\n",
      "PA        684 non-null int64\n",
      "AB        684 non-null int64\n",
      "R         684 non-null int64\n",
      "H         684 non-null int64\n",
      "1B        684 non-null int64\n",
      "2B        684 non-null int64\n",
      "3B        684 non-null int64\n",
      "HR        684 non-null int64\n",
      "TB        684 non-null int64\n",
      "BB        684 non-null int64\n",
      "IBB       684 non-null int64\n",
      "SO        684 non-null int64\n",
      "HBP       684 non-null int64\n",
      "SF        684 non-null int64\n",
      "SH        684 non-null int64\n",
      "RBI       684 non-null int64\n",
      "DP        684 non-null int64\n",
      "NETDP     684 non-null float64\n",
      "SB        684 non-null int64\n",
      "CS        684 non-null int64\n",
      "AVG       684 non-null float64\n",
      "OBP       684 non-null float64\n",
      "SLG       684 non-null float64\n",
      "OPS       684 non-null float64\n",
      "ISO       684 non-null float64\n",
      "BPF       539 non-null float64\n",
      "oppOPS    684 non-null float64\n",
      "TAv       684 non-null float64\n",
      "VORP      684 non-null float64\n",
      "FRAA      684 non-null float64\n",
      "BWARP     684 non-null float64\n",
      "dtypes: float64(12), int64(22), object(1)\n",
      "memory usage: 187.1+ KB\n",
      "None\n"
     ]
    }
   ],
   "source": [
    "# Convert numericals\n",
    "to_num = bat_df.columns.drop('NAME')\n",
    "bat_df[to_num] = bat_df[to_num].apply(pd.to_numeric)\n",
    "print(bat_df.info())"
   ]
  },
  {
   "cell_type": "markdown",
   "metadata": {},
   "source": [
    "I should be able to do the same with pitching...let me make it into a fxn"
   ]
  },
  {
   "cell_type": "code",
   "execution_count": 207,
   "metadata": {},
   "outputs": [],
   "source": [
    "def bpStatsToDF(url, stat_type):\n",
    "    \n",
    "    '''Given a BP stats page link, create a dataframe with correct data types'''\n",
    "    \n",
    "    # Debug: print the url\n",
    "    print(url)\n",
    "    \n",
    "    # Get the results page\n",
    "    stat_results = requests.get(url).text\n",
    "\n",
    "    # Grab all the batting stats\n",
    "    stat_table = BeautifulSoup(stat_results, 'html.parser').find('table', {'id' : 'TTdata'})\n",
    "\n",
    "    # Grab just the header\n",
    "    stat_head = stat_table.find('tr', {'class': 'TTdata_ltblue'})\n",
    "    col_names = [col_name.text for col_name in stat_head.find_all('td')]\n",
    "    \n",
    "    # Try grabbing everything, but drop the first row\n",
    "    all_stats = [stat.text for stat in stat_table.find_all('td')][len(col_names):]\n",
    "    \n",
    "    # Reshape as a 2-D array\n",
    "    stat_array = np.reshape(np.array(all_stats), (-1, len(col_names)))\n",
    "    \n",
    "    # Make it into a dataframe, add column names, and drop the \"#\" one\n",
    "    stat_df = pd.DataFrame(stat_array)\n",
    "    stat_df.columns = col_names\n",
    "    \n",
    "    # Change columns to drop based on whether it's batting or pitching\n",
    "    if stat_type == 'batting':\n",
    "        stat_df = stat_df.drop('#', axis = 'columns')\n",
    "    elif stat_type == 'pitching':\n",
    "        stat_df = stat_df.drop(['#','LVL'], axis = 'columns')\n",
    "    else:\n",
    "        raise ValueError(\"Must be either 'batting' or 'pitching'\")\n",
    "            \n",
    "    # Convert numericals, dropping commas\n",
    "    to_num = stat_df.columns.drop('NAME')\n",
    "    stat_df[to_num] = stat_df[to_num].apply(lambda x: x.str.replace(',','')).apply(pd.to_numeric)\n",
    "    \n",
    "    return stat_df"
   ]
  },
  {
   "cell_type": "code",
   "execution_count": 135,
   "metadata": {},
   "outputs": [
    {
     "name": "stdout",
     "output_type": "stream",
     "text": [
      "                   NAME  YEAR  AGE   G  PA  AB   R   H  1B  2B  ...      OBP  \\\n",
      "0          Mookie Betts  2018   25  17  77  64  22  25  11   8  ...    0.481   \n",
      "1        Didi Gregorius  2018   28  17  73  55  14  18   5   7  ...    0.452   \n",
      "2          Todd Frazier  2018   32  18  76  58  11  17   9   5  ...    0.434   \n",
      "3       Yasmani Grandal  2018   29  14  62  54   9  19  11   5  ...    0.435   \n",
      "4  Christian Villanueva  2018   27  16  60  50  10  17   7   4  ...    0.450   \n",
      "\n",
      "     SLG    OPS    ISO    BPF  oppOPS    TAv  VORP  FRAA  BWARP  \n",
      "0  0.797  1.277  0.406   99.0   0.773  0.418  15.4  -0.8   1.46  \n",
      "1  0.764  1.216  0.436  107.0   0.745  0.383  12.7   0.3   1.30  \n",
      "2  0.534  0.969  0.241   92.0   0.692  0.368  11.4   1.2   1.26  \n",
      "3  0.611  1.047  0.259   87.0   0.648  0.377  10.3   1.4   1.17  \n",
      "4  0.780  1.230  0.440   90.0   0.679  0.433  12.5  -1.3   1.13  \n",
      "\n",
      "[5 rows x 35 columns]\n"
     ]
    }
   ],
   "source": [
    "# Test on batters\n",
    "test = bpStatsToDF(bat_link, 'batting')\n",
    "\n",
    "print(test.head())"
   ]
  },
  {
   "cell_type": "code",
   "execution_count": 136,
   "metadata": {},
   "outputs": [
    {
     "name": "stdout",
     "output_type": "stream",
     "text": [
      "              NAME  YEAR  AGE  G  GS  PITCHES    IP  IP Start  IP Relief  W  \\\n",
      "0    Bartolo Colon  2018   45  4   2      243  18.7      13.7        5.0  0   \n",
      "1      Cc Sabathia  2018   37  3   3      213  13.3      13.3        0.0  0   \n",
      "2  Fernando Rodney  2018   41  6   0      101   5.7       0.0        5.7  1   \n",
      "3     Matt Belisle  2018   38  5   0       95   6.3       0.0        6.3  0   \n",
      "4  Adam Wainwright  2018   36  3   3      275  15.7      15.7        0.0  1   \n",
      "\n",
      "   ...    SH    PPF  CMD  PWR  STM   FIP  cFIP   ERA  DRA  PWARP  \n",
      "0  ...     0  109.0  NaN  NaN  NaN  2.33     0  1.45  0.0    0.0  \n",
      "1  ...     0  107.0  NaN  NaN  NaN  5.98     0  2.70  0.0    0.0  \n",
      "2  ...     0  110.0  NaN  NaN  NaN  4.72     0  3.18  0.0    0.0  \n",
      "3  ...     0  104.0  NaN  NaN  NaN  5.50     0  5.68  0.0    0.0  \n",
      "4  ...     2   97.0  NaN  NaN  NaN  5.17     0  3.45  0.0    0.0  \n",
      "\n",
      "[5 rows x 39 columns]\n"
     ]
    }
   ],
   "source": [
    "# Test on pitchers\n",
    "test = bpStatsToDF(pitch_link, 'pitching')\n",
    "\n",
    "print(test.head())"
   ]
  },
  {
   "cell_type": "markdown",
   "metadata": {},
   "source": [
    "*Note: to indent a block, use Ctrl + [ or Ctrl + ]*"
   ]
  },
  {
   "cell_type": "code",
   "execution_count": 143,
   "metadata": {},
   "outputs": [
    {
     "name": "stderr",
     "output_type": "stream",
     "text": [
      "test_Exception (__main__.bpTestCase) ... ok\n",
      "\n",
      "----------------------------------------------------------------------\n",
      "Ran 1 test in 1.550s\n",
      "\n",
      "OK\n"
     ]
    },
    {
     "data": {
      "text/plain": [
       "<unittest.main.TestProgram at 0x7fe52332d5c0>"
      ]
     },
     "execution_count": 143,
     "metadata": {},
     "output_type": "execute_result"
    }
   ],
   "source": [
    "# Test an error\n",
    "import unittest\n",
    "\n",
    "class bpTestCase(unittest.TestCase):\n",
    "    def test_Exception(self):\n",
    "        with self.assertRaises(ValueError):\n",
    "            bpStatsToDF(pitch_link, 'nothing')\n",
    "        \n",
    "unittest.main(argv=[''], verbosity=2, exit=False)"
   ]
  },
  {
   "cell_type": "markdown",
   "metadata": {},
   "source": [
    "## Getting old BP stats\n",
    "\n",
    "I've gotten the BP stats for the current year (2018); what I need is the archived stats. This would allow me to be consistent, plus I could avoid the Lahman database altogether. \n",
    "\n",
    "I think the script will be similar, I just need to:\n",
    "\n",
    "1. Go to the URL using the correct link\n",
    "2. Sequentially, change the dropdown menu year going back till 2004 (or maybe 1998?)\n",
    "3. Each time, pull the stats for that year and save to a data frame\n",
    "4. Concatenate the data frames into 1\n",
    "\n",
    "I'll start by testing that I can mess with the dropdown menu:"
   ]
  },
  {
   "cell_type": "code",
   "execution_count": 151,
   "metadata": {},
   "outputs": [
    {
     "name": "stdout",
     "output_type": "stream",
     "text": [
      "Baseball Prospectus | Statistics | Custom Statistics Reports\n",
      "2018 Page loaded\n",
      "Baseball Prospectus | Statistics | Custom Statistics Reports: Batter Season\n",
      "2017 Page loaded\n",
      "2016 Page loaded\n"
     ]
    }
   ],
   "source": [
    "# Set URL\n",
    "my_url = 'https://legacy.baseballprospectus.com/sortable'\n",
    "\n",
    "# Open Chrome and navigate to the page\n",
    "driver = webdriver.Chrome()\n",
    "driver.get(my_url)\n",
    "print(driver.title)\n",
    "\n",
    "# wait for page to load\n",
    "wait = WebDriverWait(driver, 10)\n",
    "wait.until(EC.presence_of_element_located((By.LINK_TEXT, '1. Individual Stats - Season Totals')))\n",
    "print(\"2018 Page loaded\")\n",
    "\n",
    "# Go to the batting stats\n",
    "bat_link = driver.find_element_by_link_text('1. Individual Stats - Season Totals')\n",
    "bat_link.click()\n",
    "print(driver.title)\n",
    "\n",
    "# Locate the dropdown menu and pick the year\n",
    "driver.find_element_by_xpath(\"//select[@name='year']/option[text()='2017']\").click()\n",
    "driver.find_element_by_xpath(\"//input[@value = 'View Data']\").click()\n",
    "\n",
    "# wait for page to load\n",
    "wait = WebDriverWait(driver, 10)\n",
    "#wait.until(EC.presence_of_element_located((By.LINK_TEXT, '1. Individual Stats - Season Totals')))\n",
    "print(\"2017 Page loaded\")\n",
    "\n",
    "# Do it again, but for 2016\n",
    "driver.find_element_by_xpath(\"//select[@name='year']/option[text()='2016']\").click()\n",
    "driver.find_element_by_xpath(\"//input[@value = 'View Data']\").click()\n",
    "\n",
    "# wait for page to load\n",
    "wait = WebDriverWait(driver, 10)\n",
    "#wait.until(EC.presence_of_element_located((By.LINK_TEXT, '1. Individual Stats - Season Totals')))\n",
    "print(\"2016 Page loaded\")\n",
    "\n",
    "# Close the browser\n",
    "driver.close()"
   ]
  },
  {
   "cell_type": "markdown",
   "metadata": {},
   "source": [
    "Okay, so I think I ultimately want to make a couple functions:\n",
    "\n",
    "1. Takes an open driver and a year, then returns the correct data frame\n",
    "2. Opens a driver with the general page and goes to the correct batting/pitching page \n",
    "\n",
    "I think this is all I need; I'll modify what I had earlier. I might also need to make 1 more function that wraps around these...I'll see\n",
    "\n",
    "**Change of plans; I just need the URLs for each year!**\n",
    "\n",
    "I've already written the code to get the correct data for a link, so I might as well just get the links"
   ]
  },
  {
   "cell_type": "code",
   "execution_count": 163,
   "metadata": {},
   "outputs": [],
   "source": [
    "# Function for taking the open driver to stat home page and year range, then returning the correct data frame:\n",
    "def getURLForYears(year_range, stat_type):\n",
    "    \n",
    "    '''Given a year range and stat type, return the link for the years requested'''\n",
    "    \n",
    "    # Initialize a list of years\n",
    "    all_year_urls = []\n",
    "    \n",
    "    # Change link based on stat type\n",
    "    if stat_type == 'batting':\n",
    "        stat_link = '1. Individual Stats - Season Totals'\n",
    "    elif stat_type == 'pitching':\n",
    "        stat_link = '3. Individual Stats - Season Totals'\n",
    "    else:\n",
    "        raise ValueError(\"Must be either 'batting' or 'pitching'\")\n",
    "    \n",
    "    # Create the driver and use the basic URL\n",
    "    my_url = 'https://legacy.baseballprospectus.com/sortable'\n",
    "    driver = webdriver.Chrome()\n",
    "    driver.get(my_url)\n",
    "    \n",
    "    # Wait for page to load\n",
    "    wait = WebDriverWait(driver, 10)\n",
    "    wait.until(EC.presence_of_element_located((By.LINK_TEXT, stat_link)))\n",
    "    \n",
    "    # Click on the correct link\n",
    "    stat_link = driver.find_element_by_link_text(stat_link)\n",
    "    stat_link.click()\n",
    "    \n",
    "    # Loop through each year supplied\n",
    "    for year in year_range:\n",
    "        \n",
    "        # Locate the dropdown menu and pick the year, then bring up data\n",
    "        driver.find_element_by_xpath(\"//select[@name='year']/option[text()='{}']\".format(year)).click()\n",
    "        driver.find_element_by_xpath(\"//input[@value = 'View Data']\").click()\n",
    "\n",
    "        # Grab the URL, then add it to the list\n",
    "        all_year_urls.append(driver.current_url)\n",
    "    \n",
    "    # Close the browser to be nice\n",
    "    driver.close()\n",
    "    \n",
    "    # Feed the current URL to the link and return it\n",
    "    return all_year_urls"
   ]
  },
  {
   "cell_type": "markdown",
   "metadata": {},
   "source": [
    "I'm going to test this for 2016-2017 batting and pitching"
   ]
  },
  {
   "cell_type": "code",
   "execution_count": 170,
   "metadata": {},
   "outputs": [
    {
     "name": "stdout",
     "output_type": "stream",
     "text": [
      "['https://legacy.baseballprospectus.com/sortable/index.php?cid=2021133', 'https://legacy.baseballprospectus.com/sortable/index.php?cid=2556049']\n",
      "['https://legacy.baseballprospectus.com/sortable/index.php?cid=2508797', 'https://legacy.baseballprospectus.com/sortable/index.php?cid=2555916']\n"
     ]
    }
   ],
   "source": [
    "test = getURLForYears(list(range(2016, 2018)), 'batting')\n",
    "print(test)\n",
    "test = getURLForYears(list(range(2016, 2018)), 'pitching')\n",
    "print(test)"
   ]
  },
  {
   "cell_type": "markdown",
   "metadata": {},
   "source": [
    "Now wrap everything into 2 blocks\n",
    "\n",
    "* Grab all necessary URLs\n",
    "* Get the data frames"
   ]
  },
  {
   "cell_type": "code",
   "execution_count": 172,
   "metadata": {},
   "outputs": [],
   "source": [
    "# Get all URLs till 2018\n",
    "bat_urls = getURLForYears(list(range(2001, 2019)), 'batting')\n",
    "pitch_urls = getURLForYears(list(range(2001, 2019)), 'pitching')"
   ]
  },
  {
   "cell_type": "markdown",
   "metadata": {},
   "source": [
    "Now get ALL the data!"
   ]
  },
  {
   "cell_type": "code",
   "execution_count": 176,
   "metadata": {},
   "outputs": [
    {
     "name": "stdout",
     "output_type": "stream",
     "text": [
      "CPU times: user 35.3 s, sys: 158 ms, total: 35.5 s\n",
      "Wall time: 1min 5s\n"
     ]
    }
   ],
   "source": [
    "%%time\n",
    "# Do all the batting links\n",
    "all_bat_dfs = [bpStatsToDF(bat_link, 'batting') for bat_link in bat_urls]"
   ]
  },
  {
   "cell_type": "code",
   "execution_count": 209,
   "metadata": {},
   "outputs": [
    {
     "name": "stdout",
     "output_type": "stream",
     "text": [
      "https://legacy.baseballprospectus.com/sortable/index.php?cid=2563320\n",
      "https://legacy.baseballprospectus.com/sortable/index.php?cid=2525123\n",
      "https://legacy.baseballprospectus.com/sortable/index.php?cid=2563321\n",
      "https://legacy.baseballprospectus.com/sortable/index.php?cid=2513248\n",
      "https://legacy.baseballprospectus.com/sortable/index.php?cid=2510188\n",
      "https://legacy.baseballprospectus.com/sortable/index.php?cid=2528667\n",
      "https://legacy.baseballprospectus.com/sortable/index.php?cid=2510190\n",
      "https://legacy.baseballprospectus.com/sortable/index.php?cid=2510189\n",
      "https://legacy.baseballprospectus.com/sortable/index.php?cid=2510191\n",
      "https://legacy.baseballprospectus.com/sortable/index.php?cid=2510192\n",
      "https://legacy.baseballprospectus.com/sortable/index.php?cid=2510193\n",
      "https://legacy.baseballprospectus.com/sortable/index.php?cid=2510194\n",
      "https://legacy.baseballprospectus.com/sortable/index.php?cid=2510195\n",
      "https://legacy.baseballprospectus.com/sortable/index.php?cid=2510196\n",
      "https://legacy.baseballprospectus.com/sortable/index.php?cid=2508801\n",
      "https://legacy.baseballprospectus.com/sortable/index.php?cid=2508797\n",
      "https://legacy.baseballprospectus.com/sortable/index.php?cid=2555916\n",
      "https://legacy.baseballprospectus.com/sortable/index.php?cid=2508773\n",
      "CPU times: user 19.5 s, sys: 63.6 ms, total: 19.5 s\n",
      "Wall time: 46 s\n"
     ]
    }
   ],
   "source": [
    "%%time\n",
    "# Do all the pitching links\n",
    "all_pitch_dfs = [bpStatsToDF(pitch_link, 'pitching') for pitch_link in pitch_urls]"
   ]
  },
  {
   "cell_type": "markdown",
   "metadata": {},
   "source": [
    "Now I'll convert them to 1 DF each"
   ]
  },
  {
   "cell_type": "code",
   "execution_count": 210,
   "metadata": {},
   "outputs": [
    {
     "name": "stdout",
     "output_type": "stream",
     "text": [
      "(21807, 35)\n",
      "(11703, 39)\n"
     ]
    }
   ],
   "source": [
    "full_bat = pd.concat(all_bat_dfs)\n",
    "full_pitch = pd.concat(all_pitch_dfs)\n",
    "\n",
    "print(full_bat.shape)\n",
    "print(full_pitch.shape)"
   ]
  },
  {
   "cell_type": "code",
   "execution_count": 211,
   "metadata": {},
   "outputs": [
    {
     "name": "stdout",
     "output_type": "stream",
     "text": [
      "            NAME  YEAR  AGE    G   PA   AB    R    H   1B  2B  ...      OBP  \\\n",
      "0    Barry Bonds  2001   36  153  664  476  129  156   49  32  ...    0.515   \n",
      "1     Sammy Sosa  2001   32  160  711  577  146  189   86  34  ...    0.437   \n",
      "2   Jason Giambi  2001   30  154  671  520  109  178   91  47  ...    0.477   \n",
      "3    Shawn Green  2001   28  161  701  619  121  184  100  31  ...    0.372   \n",
      "4  Luis Gonzalez  2001   33  162  728  609  128  198   98  36  ...    0.429   \n",
      "\n",
      "     SLG    OPS    ISO    BPF  oppOPS    TAv   VORP  FRAA  BWARP  \n",
      "0  0.863  1.379  0.536   96.0   0.757  0.428  134.8 -16.5  11.67  \n",
      "1  0.737  1.174  0.409   97.0   0.765  0.381  104.2   4.2  10.92  \n",
      "2  0.660  1.137  0.317   95.0   0.764  0.381   91.6   0.1   9.08  \n",
      "3  0.598  0.970  0.300   94.0   0.757  0.338   70.3  16.8   8.80  \n",
      "4  0.688  1.117  0.363  101.0   0.763  0.354   88.4  -1.0   8.47  \n",
      "\n",
      "[5 rows x 35 columns]\n"
     ]
    }
   ],
   "source": [
    "print(full_bat.head())"
   ]
  },
  {
   "cell_type": "markdown",
   "metadata": {},
   "source": [
    "For now, I'm saving these to pickle files so I don't have to re-do it while I'm testing"
   ]
  },
  {
   "cell_type": "code",
   "execution_count": 212,
   "metadata": {},
   "outputs": [],
   "source": [
    "full_bat.to_pickle('./batting_stats.pickle')\n",
    "full_pitch.to_pickle('./pitching_stats.pickle')"
   ]
  },
  {
   "cell_type": "markdown",
   "metadata": {},
   "source": [
    "## Joining with free agent data\n",
    "\n",
    "As I did in the actual project, now I need to join with the free agents themselves. This is easy enough, I just need to grab the correct data:"
   ]
  },
  {
   "cell_type": "code",
   "execution_count": 227,
   "metadata": {},
   "outputs": [
    {
     "name": "stdout",
     "output_type": "stream",
     "text": [
      "      index  Age       Full_Name  WAR_3 nameFirst   nameLast  Year  \\\n",
      "297     297   32  Alex Rodriguez   23.3      Alex  Rodriguez  2007   \n",
      "1115   1115   32   Albert Pujols   22.5    Albert     Pujols  2011   \n",
      "1460   1460   31   Robinson Cano   22.0  Robinson       Cano  2013   \n",
      "1797   1797   32    Zack Greinke   20.4      Zack    Greinke  2015   \n",
      "493     493   28     CC Sabathia   18.2        CC   Sabathia  2008   \n",
      "\n",
      "          Dollars  Length            Name Position  \n",
      "297   275000000.0      10  Alex Rodriguez       DH  \n",
      "1115  250000000.0      10   Albert Pujols       DH  \n",
      "1460  240000000.0      10   Robinson Cano       2B  \n",
      "1797  206500000.0       6    Zack Greinke       SP  \n",
      "493   161000000.0       7     CC Sabathia       SP  \n",
      "(2195, 11)\n"
     ]
    }
   ],
   "source": [
    "# Bring in free agent data\n",
    "engine = bfm.db_connect()\n",
    "people = bfm.pullFullTable('people', engine)\n",
    "free_agents = bfm.pullFullTable('free_agents', engine)\n",
    "\n",
    "# Print the free agent head\n",
    "print(free_agents.sort_values('WAR_3', ascending = False).head())\n",
    "print(free_agents.shape)"
   ]
  },
  {
   "cell_type": "markdown",
   "metadata": {},
   "source": [
    "A few things to note:\n",
    "\n",
    "1. This has ALL free agents; that means pitchers and batters, which are in different stats data frames\n",
    "2. There's 2 Name fields, plus the nameFirst/nameLast fields. I'm going to go out on a limb here and say I don't need all those\n",
    "3. The age and index columns are also redundant. Time to clean!\n",
    "\n",
    "So I'll start by stripping out the age, index, and excess name columns"
   ]
  },
  {
   "cell_type": "code",
   "execution_count": 228,
   "metadata": {},
   "outputs": [
    {
     "name": "stdout",
     "output_type": "stream",
     "text": [
      "           Full_Name  WAR_3  Year      Dollars  Length Position\n",
      "297   Alex Rodriguez   23.3  2007  275000000.0      10       DH\n",
      "1115   Albert Pujols   22.5  2011  250000000.0      10       DH\n",
      "1460   Robinson Cano   22.0  2013  240000000.0      10       2B\n",
      "1797    Zack Greinke   20.4  2015  206500000.0       6       SP\n",
      "493      CC Sabathia   18.2  2008  161000000.0       7       SP\n"
     ]
    }
   ],
   "source": [
    "fa_trimmed = free_agents.drop(['index','Age','nameFirst', 'nameLast', 'Name'], axis = 'columns')\n",
    "print(fa_trimmed.sort_values('WAR_3', ascending = False).head())"
   ]
  },
  {
   "cell_type": "markdown",
   "metadata": {},
   "source": [
    "Now then, I'll have to join on name AND Year. What sort of shape will it be? Remember...\n",
    "\n",
    "- There are ~2200 free agents\n",
    "- There are ~32500 total player season stat records\n",
    "\n",
    "If there's many fewer records than in free agents, then the punctuation effect isn't a big deal. But it probably is"
   ]
  },
  {
   "cell_type": "code",
   "execution_count": 231,
   "metadata": {},
   "outputs": [
    {
     "name": "stdout",
     "output_type": "stream",
     "text": [
      "(1047, 41)\n",
      "(1022, 45)\n"
     ]
    }
   ],
   "source": [
    "# Test joining batters (remove the pitchers!)\n",
    "test_bat_join = pd.merge(fa_trimmed[fa_trimmed.Position.isin(['SP','RP']) == False] , full_bat, \n",
    "                         left_on= ['Full_Name', 'Year'], \n",
    "                         right_on = ['NAME', 'YEAR'])\n",
    "# Test joining batters\n",
    "test_pitch_join = pd.merge(fa_trimmed, full_pitch, \n",
    "                         left_on= ['Full_Name', 'Year'], \n",
    "                         right_on = ['NAME', 'YEAR'])\n",
    "\n",
    "print(test_bat_join.shape)\n",
    "print(test_pitch_join.shape)"
   ]
  },
  {
   "cell_type": "markdown",
   "metadata": {},
   "source": [
    "I had to take pitchers out of the batting stats for obvious reasons. Unfortunately, I'm missing a bit over 100 players. Maybe removing periods and spaces will help? I'll look at the free agents who aren't there..."
   ]
  },
  {
   "cell_type": "code",
   "execution_count": 235,
   "metadata": {},
   "outputs": [
    {
     "name": "stdout",
     "output_type": "stream",
     "text": [
      "          Full_Name  WAR_3  Year     Dollars  Length Position\n",
      "8      Sandy Alomar   -0.4  2006         NaN       0        C\n",
      "11      Mike DeJean    0.9  2006         NaN       0       RP\n",
      "15        J.D. Drew   15.5  2006  70000000.0       5       RF\n",
      "81      J.C. Romero    1.2  2006   1600000.0       1       RP\n",
      "85  Greg Maddux HOF    9.3  2006  10000000.0       1       SP\n"
     ]
    }
   ],
   "source": [
    "# Gather the free agents who DO appear in the joins\n",
    "in_join = pd.concat([test_bat_join.Full_Name, test_pitch_join.Full_Name]).unique()\n",
    "\n",
    "# Find set difference\n",
    "not_in_join = fa_trimmed[fa_trimmed.Full_Name.isin(in_join) == False]\n",
    "\n",
    "# Print the head of it\n",
    "print(not_in_join.head())"
   ]
  },
  {
   "cell_type": "markdown",
   "metadata": {},
   "source": [
    "Things I need to catch:\n",
    "\n",
    "* Suffixes (e.g. \"Jr\")\n",
    "* Dots (e.g. \"J.D.\")\n",
    "* The \"HOF\" thing\n",
    "\n",
    "Maybe best to join on first AND last AND year? Plus replace the dots with nothing!"
   ]
  },
  {
   "cell_type": "code",
   "execution_count": null,
   "metadata": {},
   "outputs": [],
   "source": []
  }
 ],
 "metadata": {
  "kernelspec": {
   "display_name": "Python 3",
   "language": "python",
   "name": "python3"
  },
  "language_info": {
   "codemirror_mode": {
    "name": "ipython",
    "version": 3
   },
   "file_extension": ".py",
   "mimetype": "text/x-python",
   "name": "python",
   "nbconvert_exporter": "python",
   "pygments_lexer": "ipython3",
   "version": "3.6.3"
  }
 },
 "nbformat": 4,
 "nbformat_minor": 2
}
