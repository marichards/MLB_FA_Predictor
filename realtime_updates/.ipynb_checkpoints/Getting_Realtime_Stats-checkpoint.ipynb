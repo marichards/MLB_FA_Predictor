{
 "cells": [
  {
   "cell_type": "markdown",
   "metadata": {},
   "source": [
    "# Getting Real-time Stats\n",
    "\n",
    "The idea of this notebook is to figure out how to get real-time stats that I can update daily (nightly) to use for updating my site. There's a number of sites that might suffice:\n",
    "\n",
    "* Fangraphs\n",
    "* MLB.com\n",
    "* Baseball Reference\n",
    "* ESPN.com\n",
    "...\n",
    "\n",
    "They all seemingly have pluses and minuses; I'm going to start with Fangraphs\n",
    "\n",
    "**Notes on sites:**\n",
    "\n",
    "* Fangraphs is a pain because it's posting via Javascript; I'm having a hell of a time getting the .CSV to download on its own. And otherwise, I'd have to sense all the pages (e.g. 7 of them)\n",
    "* MLB.com doesn't have what I want\n",
    "* Baseball reference doesn't have anything like what I want\n",
    "* Yahoo is not useful\n",
    "* BP might be the solution!!\n",
    "\n",
    "## Data from Fangraphs\n",
    "\n",
    "Fangraphs is tricky because it presents 2 non-optimal options:\n",
    "\n",
    "1. Scrape data from a series of HTML tables\n",
    "2. Export a .csv file through a Javascript post statement\n",
    "\n",
    "The 2nd option is probably more optimal, as the CSV file is very friendly. But I need to figure out how to do it, as the \"Export\" button actually runs this command:\n",
    "\n",
    "```\n",
    "<a id=\"LeaderBoard1_cmdCSV\" href=\"javascript:__doPostBack('LeaderBoard1$cmdCSV','')\">Export Data</a>\n",
    "```\n",
    "\n",
    "I'll import the necessary libraries:"
   ]
  },
  {
   "cell_type": "code",
   "execution_count": 63,
   "metadata": {},
   "outputs": [],
   "source": [
    "import pandas as pd\n",
    "import requests\n",
    "import numpy as np\n",
    "\n",
    "from selenium import webdriver\n",
    "from selenium.webdriver.common.keys import Keys\n",
    "from selenium.webdriver.support.ui import WebDriverWait\n",
    "from selenium.webdriver.common.by import By\n",
    "from selenium.webdriver.support import expected_conditions as EC\n",
    "\n",
    "from urllib.parse import urljoin\n",
    "from urllib.request import urlretrieve\n",
    "\n",
    "from bs4 import BeautifulSoup"
   ]
  },
  {
   "cell_type": "markdown",
   "metadata": {},
   "source": [
    "Apparently, this behaves as a form; here's the page itself:"
   ]
  },
  {
   "cell_type": "code",
   "execution_count": 8,
   "metadata": {},
   "outputs": [
    {
     "name": "stdout",
     "output_type": "stream",
     "text": [
      "\n",
      "<!DOCTYPE html PUBLIC \"-//W3C//DTD XHTML 1.0 Transitional//EN\" \"http://www.w3.org/TR/xhtml1/DTD/xhtml1-transitional.dtd\">\n",
      "<html xmlns=\"http://www.w3.org/1999/xhtml\">\n",
      "<head id=\"Head1\"><script type=\"text/javascript\">window.NREUM||(NREUM={});NREUM.info = {\"beacon\":\"bam.nr-data.net\",\"errorBeacon\":\"bam.nr-data.net\",\"licenseKey\":\"8c8459e5ba\",\"applicationID\":\"2284934\",\"transactionName\":\"ZlMHMEtVDUdTW0ZQC18ZJDdpGw9RU1xXSxcfVxYUQQ==\",\"queueTime\":0,\"applicationTime\":134,\"agent\":\"\",\"atts\":\"\"}</script><script type=\"text/javascript\">window.NREUM||(NREUM={}),__nr_require=function(e,t,n){function r(n){if(!t[n]){var o=t[n]={exports:{}};e[n][0].call(o.exports,function(t){var o=e[n][1][t];return r(o||t)},o,o.exports)}return t[n].exports}if(\"function\"==typeof __nr_require)return __nr_require;for(var o=0;o<n.length;o++)r(n[o]);return r}({1:[function(e,t,n){function r(){}function o(e,t,n){return function(){return i(e,[f.now()].concat(u(arguments)),t?null:this,n),t?void 0:this}}var i=e(\"handle\"),a=e(2),\n"
     ]
    }
   ],
   "source": [
    "# Grab 2018 page\n",
    "fg_page = requests.get(\"https://www.fangraphs.com/leaders.aspx?pos=all&stats=bat&lg=all&qual=y&type=8&season=2018&month=0&season1=2018&ind=0\")\n",
    "\n",
    "# Show the top\n",
    "print(fg_page.text[0:1000])"
   ]
  },
  {
   "cell_type": "markdown",
   "metadata": {},
   "source": [
    "Note that the HTTP trace shows this:\n",
    "\n",
    "```https://www.fangraphs.com/leaders.aspx?pos=all&stats=bat&lg=all&qual=y&type=8&season=2018&month=0&season1=2018&ind=0\n",
    "\n",
    "POST https://www.fangraphs.com/leaders.aspx?pos=all&stats=bat&lg=all&qual=y&type=8&season=2018&month=0&season1=2018&ind=0\n",
    "Origin: https://www.fangraphs.com\n",
    "Upgrade-Insecure-Requests: 1\n",
    "Content-Type: application/x-www-form-urlencoded\n",
    "User-Agent: Mozilla/5.0 (X11; Linux x86_64) AppleWebKit/537.36 (KHTML, like Gecko) Chrome/65.0.3325.181 Safari/537.36\n",
    "Accept: text/html,application/xhtml+xml,application/xml;q=0.9,image/webp,image/apng,*/*;q=0.8\n",
    "Referer: https://www.fangraphs.com/leaders.aspx?pos=all&stats=bat&lg=all&qual=y&type=8&season=2018&month=0&season1=2018&ind=0\n",
    "Accept-Encoding: gzip, deflate, br\n",
    "Accept-Language: en-US,en;q=0.9\n",
    "Cookie: __qca=P0-1096495856-1511568322815; _jsuid=3860423848; __gads=ID=46c9360072e56023:T=1511568323:S=ALNI_MYcBKGNgue606hF789xDyvSpqAUZw; _cb_ls=1; opti-userid=58b2535a-37d6-47f6-9094-3187e1bf74d9; _ga=GA1.2.2091433700.1511568323; _cb=-orahCJsTnrDQuPoq; _pk_id.5863.07a3=75985b650b517c43.1511568324.2.1514091887.1514091879.; opti-position=1; _1ci_7ag23o86kjasbfd=393d0950-0564-11e8-a7ce-f5d3fbed2065; fitracking_12=no; btpdb.0M6ZVb2.dGZjLjYwOTQyNzg=REFZUw; btpdb.0M6ZVb2.dGZjLjYwOTQyODU=VVNFUg; btpdb.0M6ZVb2.dGZjLjYwMjU2Mjg=REFZUw; btpdb.0M6ZVb2.dGZjLjYwOTc4MDM=REFZUw; btpdb.0M6ZVb2.dGZjLjYwMjU2NDk=VVNFUg; fgadp=0; _gid=GA1.2.532765737.1524073489; __atuvc=1%7C12%2C0%7C13%2C3%7C14%2C6%7C15%2C2%7C16; OX_plg=pm; _gat=1; _first_pageview=1; heatmaps_g2g_100553825=yes; fiutm=direct|direct||||; _chartbeat2=.1511568328475.1524162311895.1001011110001011.d3vRTb1Q3LC0SDV3x2CxFRdzPo.1; _cb_svref=https%3A%2F%2Fwww.fangraphs.com%2Fstandings%2Fplayoff-odds-graphs%3Flg%3DNL%26div%3DW%26stat%3Dpoff%26year%3D2018; _eventqueue=%7B%22heatmap%22%3A%5B%7B%22type%22%3A%22heatmap%22%2C%22href%22%3A%22%2Fleaders.aspx%3Fpos%3Dall%26stats%3Dbat%26lg%3Dall%26qual%3Dy%26type%3D8%26season%3D2018%26month%3D0%26season1%3D2018%26ind%3D0%22%2C%22x%22%3A1360%2C%22y%22%3A670%2C%22w%22%3A1835%7D%5D%2C%22events%22%3A%5B%5D%7D\n",
    "\n",
    "HTTP/1.1 200 OK\n",
    "Cache-Control: private\n",
    "Content-Type: text/csv; charset=utf-8;\n",
    "Content-Encoding: gzip\n",
    "Vary: Accept-Encoding\n",
    "Server: Microsoft-IIS/10.0\n",
    "Content-Disposition: attachment;filename=\"FanGraphs Leaderboard.csv\"\n",
    "X-AspNet-Version: 4.0.30319\n",
    "X-Powered-By: ASP.NET\n",
    "Date: Thu, 19 Apr 2018 18:25:33 GMT\n",
    "Content-Length: 12960\n",
    "```"
   ]
  },
  {
   "cell_type": "code",
   "execution_count": 53,
   "metadata": {},
   "outputs": [],
   "source": [
    "# Try posting to same link\n",
    "fg_dl = requests.post('https://www.fangraphs.com/leaders.aspx?pos=all&stats=bat&lg=all&qual=y&type=8&season=2018&month=0&season1=2018&ind=0',\n",
    "                      data = {'Origin' : 'https://www.fangraphs.com',\n",
    "                              'Upgrade-Insecure-Requests' : '1',\n",
    "                              'Content-Type' : 'application/x-www-form-urlencoded',\n",
    "                              'Accept' : 'text/html,application/xhtml+xml,application/xml;q=0.9,image/webp,image/apng,*/*;q=0.8',\n",
    "                              'Referer' : 'https://www.fangraphs.com/leaders.aspx?pos=all&stats=bat&lg=all&qual=y&type=8&season=2018&month=0&season1=2018&ind=0',\n",
    "                              'Accept-Encoding' : 'gzip, deflate, br',\n",
    "                              'Accept-Language' : 'en-US,en;q=0.9',\n",
    "                              'Cookie' : '__qca=P0-1096495856-1511568322815; _jsuid=3860423848; __gads=ID=46c9360072e56023:T=1511568323:S=ALNI_MYcBKGNgue606hF789xDyvSpqAUZw; _cb_ls=1; opti-userid=58b2535a-37d6-47f6-9094-3187e1bf74d9; _ga=GA1.2.2091433700.1511568323; _cb=-orahCJsTnrDQuPoq; _pk_id.5863.07a3=75985b650b517c43.1511568324.2.1514091887.1514091879.; opti-position=1; _1ci_7ag23o86kjasbfd=393d0950-0564-11e8-a7ce-f5d3fbed2065; fitracking_12=no; btpdb.0M6ZVb2.dGZjLjYwOTQyNzg=REFZUw; btpdb.0M6ZVb2.dGZjLjYwOTQyODU=VVNFUg; btpdb.0M6ZVb2.dGZjLjYwMjU2Mjg=REFZUw; btpdb.0M6ZVb2.dGZjLjYwOTc4MDM=REFZUw; btpdb.0M6ZVb2.dGZjLjYwMjU2NDk=VVNFUg; fgadp=0; _gid=GA1.2.532765737.1524073489; __atuvc=1%7C12%2C0%7C13%2C3%7C14%2C6%7C15%2C2%7C16; OX_plg=pm; _gat=1; _first_pageview=1; heatmaps_g2g_100553825=yes; fiutm=direct|direct||||; _chartbeat2=.1511568328475.1524162311895.1001011110001011.d3vRTb1Q3LC0SDV3x2CxFRdzPo.1; _cb_svref=https%3A%2F%2Fwww.fangraphs.com%2Fstandings%2Fplayoff-odds-graphs%3Flg%3DNL%26div%3DW%26stat%3Dpoff%26year%3D2018; _eventqueue=%7B%22heatmap%22%3A%5B%7B%22type%22%3A%22heatmap%22%2C%22href%22%3A%22%2Fleaders.aspx%3Fpos%3Dall%26stats%3Dbat%26lg%3Dall%26qual%3Dy%26type%3D8%26season%3D2018%26month%3D0%26season1%3D2018%26ind%3D0%22%2C%22x%22%3A1360%2C%22y%22%3A670%2C%22w%22%3A1835%7D%5D%2C%22events%22%3A%5B%5D%7D'\n",
    "                             }\n",
    "                     )"
   ]
  },
  {
   "cell_type": "code",
   "execution_count": 54,
   "metadata": {},
   "outputs": [
    {
     "data": {
      "text/plain": [
       "'\\r\\n<!DOCTYPE html PUBLIC \"-//W3C//DTD XHTML 1.0 Transitional//EN\" \"http://www.w3.org/TR/xhtml1/DTD/xhtml1-transitional.dtd\">\\r\\n<html xmlns=\"http://www.w3.org/1999/xhtml\">\\r\\n<head id=\"Head1\"><script type=\"text/javascript\">window.NREUM||(NREUM={});NREUM.info = {\"beacon\":\"bam.nr-data.net\",\"errorBeacon\":\"bam.nr-data.net\",\"licenseKey\":\"8c8459e5ba\",\"applicationID\":\"2284934\",\"transactionName\":\"ZlMHMEtVDUdTW0ZQC18ZJDdpGw9RU1xXSxcfVxYUQQ==\",\"queueTime\":0,\"applicationTime\":93,\"agent\":\"\",\"atts\":\"\"}</script><script type=\"text/javascript\">window.NREUM||(NREUM={}),__nr_require=function(e,t,n){function r(n){if(!t[n]){var o=t[n]={exports:{}};e[n][0].call(o.exports,function(t){var o=e[n][1][t];return r(o||t)},o,o.exports)}return t[n].exports}if(\"function\"==typeof __nr_require)return __nr_require;for(var o=0;o<n.length;o++)r(n[o]);return r}({1:[function(e,t,n){function r(){}function o(e,t,n){return function(){return i(e,[f.now()].concat(u(arguments)),t?null:this,n),t?void 0:this}}var i=e(\"handle\"),a=e(2),u'"
      ]
     },
     "execution_count": 54,
     "metadata": {},
     "output_type": "execute_result"
    }
   ],
   "source": [
    "fg_dl.text[0:1000]"
   ]
  },
  {
   "cell_type": "code",
   "execution_count": 55,
   "metadata": {},
   "outputs": [],
   "source": [
    "test = requests.get('https://in.getclicky.com/in.php?site_id=100553825&res=1920x1080&lang=en&secure=1&type=heatmap&heatmap[]=%2Fleaders.aspx%3Fpos%3Dall%26stats%3Dbat%26lg%3Dall%26qual%3Dy%26type%3D8%26season%3D2018%26month%3D0%26season1%3D2018%26ind%3D0|1006|662|1142&jsuid=3860423848&hmset&mime=js&x=0.4253376462049516')"
   ]
  },
  {
   "cell_type": "code",
   "execution_count": 56,
   "metadata": {},
   "outputs": [
    {
     "data": {
      "text/plain": [
       "'// static34\\n\\n// exit trax0r\\n'"
      ]
     },
     "execution_count": 56,
     "metadata": {},
     "output_type": "execute_result"
    }
   ],
   "source": [
    "test.text"
   ]
  },
  {
   "cell_type": "markdown",
   "metadata": {},
   "source": [
    "This is dumb; I'm going to try Selenium"
   ]
  },
  {
   "cell_type": "code",
   "execution_count": 35,
   "metadata": {},
   "outputs": [],
   "source": [
    "# Set URL\n",
    "my_url = 'https://www.fangraphs.com/leaders.aspx?pos=all&stats=bat&lg=all&qual=y&type=8&season=2018&month=0&season1=2018&ind=0'\n",
    "#my_url = 'https://www.fangraphs.com/'"
   ]
  },
  {
   "cell_type": "code",
   "execution_count": 52,
   "metadata": {},
   "outputs": [
    {
     "name": "stdout",
     "output_type": "stream",
     "text": [
      "Major League Leaderboards » 2018 » Batters » Dashboard | FanGraphs Baseball\n",
      "Page loaded\n",
      "<selenium.webdriver.remote.webelement.WebElement (session=\"6f3f773c0e84559f76d3731b1f5e4732\", element=\"0.5879974233295713-1\")>\n"
     ]
    },
    {
     "ename": "URLError",
     "evalue": "<urlopen error unknown url type: javascript>",
     "output_type": "error",
     "traceback": [
      "\u001b[0;31m---------------------------------------------------------------------------\u001b[0m",
      "\u001b[0;31mURLError\u001b[0m                                  Traceback (most recent call last)",
      "\u001b[0;32m<ipython-input-52-ddc59e413f13>\u001b[0m in \u001b[0;36m<module>\u001b[0;34m()\u001b[0m\n\u001b[1;32m     13\u001b[0m \u001b[0mprint\u001b[0m\u001b[0;34m(\u001b[0m\u001b[0mlink\u001b[0m\u001b[0;34m)\u001b[0m\u001b[0;34m\u001b[0m\u001b[0m\n\u001b[1;32m     14\u001b[0m \u001b[0mcsv_url\u001b[0m \u001b[0;34m=\u001b[0m \u001b[0murljoin\u001b[0m\u001b[0;34m(\u001b[0m\u001b[0mmy_url\u001b[0m\u001b[0;34m,\u001b[0m \u001b[0mlink\u001b[0m\u001b[0;34m.\u001b[0m\u001b[0mget_attribute\u001b[0m\u001b[0;34m(\u001b[0m\u001b[0;34m\"href\"\u001b[0m\u001b[0;34m)\u001b[0m\u001b[0;34m)\u001b[0m\u001b[0;34m\u001b[0m\u001b[0m\n\u001b[0;32m---> 15\u001b[0;31m \u001b[0murlretrieve\u001b[0m\u001b[0;34m(\u001b[0m\u001b[0mcsv_url\u001b[0m\u001b[0;34m,\u001b[0m \u001b[0;34m\"players.csv\"\u001b[0m\u001b[0;34m)\u001b[0m\u001b[0;34m\u001b[0m\u001b[0m\n\u001b[0m\u001b[1;32m     16\u001b[0m \u001b[0;34m\u001b[0m\u001b[0m\n\u001b[1;32m     17\u001b[0m \u001b[0mdriver\u001b[0m\u001b[0;34m.\u001b[0m\u001b[0mclose\u001b[0m\u001b[0;34m(\u001b[0m\u001b[0;34m)\u001b[0m\u001b[0;34m\u001b[0m\u001b[0m\n",
      "\u001b[0;32m~/anaconda3/lib/python3.6/urllib/request.py\u001b[0m in \u001b[0;36murlretrieve\u001b[0;34m(url, filename, reporthook, data)\u001b[0m\n\u001b[1;32m    246\u001b[0m     \u001b[0murl_type\u001b[0m\u001b[0;34m,\u001b[0m \u001b[0mpath\u001b[0m \u001b[0;34m=\u001b[0m \u001b[0msplittype\u001b[0m\u001b[0;34m(\u001b[0m\u001b[0murl\u001b[0m\u001b[0;34m)\u001b[0m\u001b[0;34m\u001b[0m\u001b[0m\n\u001b[1;32m    247\u001b[0m \u001b[0;34m\u001b[0m\u001b[0m\n\u001b[0;32m--> 248\u001b[0;31m     \u001b[0;32mwith\u001b[0m \u001b[0mcontextlib\u001b[0m\u001b[0;34m.\u001b[0m\u001b[0mclosing\u001b[0m\u001b[0;34m(\u001b[0m\u001b[0murlopen\u001b[0m\u001b[0;34m(\u001b[0m\u001b[0murl\u001b[0m\u001b[0;34m,\u001b[0m \u001b[0mdata\u001b[0m\u001b[0;34m)\u001b[0m\u001b[0;34m)\u001b[0m \u001b[0;32mas\u001b[0m \u001b[0mfp\u001b[0m\u001b[0;34m:\u001b[0m\u001b[0;34m\u001b[0m\u001b[0m\n\u001b[0m\u001b[1;32m    249\u001b[0m         \u001b[0mheaders\u001b[0m \u001b[0;34m=\u001b[0m \u001b[0mfp\u001b[0m\u001b[0;34m.\u001b[0m\u001b[0minfo\u001b[0m\u001b[0;34m(\u001b[0m\u001b[0;34m)\u001b[0m\u001b[0;34m\u001b[0m\u001b[0m\n\u001b[1;32m    250\u001b[0m \u001b[0;34m\u001b[0m\u001b[0m\n",
      "\u001b[0;32m~/anaconda3/lib/python3.6/urllib/request.py\u001b[0m in \u001b[0;36murlopen\u001b[0;34m(url, data, timeout, cafile, capath, cadefault, context)\u001b[0m\n\u001b[1;32m    221\u001b[0m     \u001b[0;32melse\u001b[0m\u001b[0;34m:\u001b[0m\u001b[0;34m\u001b[0m\u001b[0m\n\u001b[1;32m    222\u001b[0m         \u001b[0mopener\u001b[0m \u001b[0;34m=\u001b[0m \u001b[0m_opener\u001b[0m\u001b[0;34m\u001b[0m\u001b[0m\n\u001b[0;32m--> 223\u001b[0;31m     \u001b[0;32mreturn\u001b[0m \u001b[0mopener\u001b[0m\u001b[0;34m.\u001b[0m\u001b[0mopen\u001b[0m\u001b[0;34m(\u001b[0m\u001b[0murl\u001b[0m\u001b[0;34m,\u001b[0m \u001b[0mdata\u001b[0m\u001b[0;34m,\u001b[0m \u001b[0mtimeout\u001b[0m\u001b[0;34m)\u001b[0m\u001b[0;34m\u001b[0m\u001b[0m\n\u001b[0m\u001b[1;32m    224\u001b[0m \u001b[0;34m\u001b[0m\u001b[0m\n\u001b[1;32m    225\u001b[0m \u001b[0;32mdef\u001b[0m \u001b[0minstall_opener\u001b[0m\u001b[0;34m(\u001b[0m\u001b[0mopener\u001b[0m\u001b[0;34m)\u001b[0m\u001b[0;34m:\u001b[0m\u001b[0;34m\u001b[0m\u001b[0m\n",
      "\u001b[0;32m~/anaconda3/lib/python3.6/urllib/request.py\u001b[0m in \u001b[0;36mopen\u001b[0;34m(self, fullurl, data, timeout)\u001b[0m\n\u001b[1;32m    524\u001b[0m             \u001b[0mreq\u001b[0m \u001b[0;34m=\u001b[0m \u001b[0mmeth\u001b[0m\u001b[0;34m(\u001b[0m\u001b[0mreq\u001b[0m\u001b[0;34m)\u001b[0m\u001b[0;34m\u001b[0m\u001b[0m\n\u001b[1;32m    525\u001b[0m \u001b[0;34m\u001b[0m\u001b[0m\n\u001b[0;32m--> 526\u001b[0;31m         \u001b[0mresponse\u001b[0m \u001b[0;34m=\u001b[0m \u001b[0mself\u001b[0m\u001b[0;34m.\u001b[0m\u001b[0m_open\u001b[0m\u001b[0;34m(\u001b[0m\u001b[0mreq\u001b[0m\u001b[0;34m,\u001b[0m \u001b[0mdata\u001b[0m\u001b[0;34m)\u001b[0m\u001b[0;34m\u001b[0m\u001b[0m\n\u001b[0m\u001b[1;32m    527\u001b[0m \u001b[0;34m\u001b[0m\u001b[0m\n\u001b[1;32m    528\u001b[0m         \u001b[0;31m# post-process response\u001b[0m\u001b[0;34m\u001b[0m\u001b[0;34m\u001b[0m\u001b[0m\n",
      "\u001b[0;32m~/anaconda3/lib/python3.6/urllib/request.py\u001b[0m in \u001b[0;36m_open\u001b[0;34m(self, req, data)\u001b[0m\n\u001b[1;32m    547\u001b[0m \u001b[0;34m\u001b[0m\u001b[0m\n\u001b[1;32m    548\u001b[0m         return self._call_chain(self.handle_open, 'unknown',\n\u001b[0;32m--> 549\u001b[0;31m                                 'unknown_open', req)\n\u001b[0m\u001b[1;32m    550\u001b[0m \u001b[0;34m\u001b[0m\u001b[0m\n\u001b[1;32m    551\u001b[0m     \u001b[0;32mdef\u001b[0m \u001b[0merror\u001b[0m\u001b[0;34m(\u001b[0m\u001b[0mself\u001b[0m\u001b[0;34m,\u001b[0m \u001b[0mproto\u001b[0m\u001b[0;34m,\u001b[0m \u001b[0;34m*\u001b[0m\u001b[0margs\u001b[0m\u001b[0;34m)\u001b[0m\u001b[0;34m:\u001b[0m\u001b[0;34m\u001b[0m\u001b[0m\n",
      "\u001b[0;32m~/anaconda3/lib/python3.6/urllib/request.py\u001b[0m in \u001b[0;36m_call_chain\u001b[0;34m(self, chain, kind, meth_name, *args)\u001b[0m\n\u001b[1;32m    502\u001b[0m         \u001b[0;32mfor\u001b[0m \u001b[0mhandler\u001b[0m \u001b[0;32min\u001b[0m \u001b[0mhandlers\u001b[0m\u001b[0;34m:\u001b[0m\u001b[0;34m\u001b[0m\u001b[0m\n\u001b[1;32m    503\u001b[0m             \u001b[0mfunc\u001b[0m \u001b[0;34m=\u001b[0m \u001b[0mgetattr\u001b[0m\u001b[0;34m(\u001b[0m\u001b[0mhandler\u001b[0m\u001b[0;34m,\u001b[0m \u001b[0mmeth_name\u001b[0m\u001b[0;34m)\u001b[0m\u001b[0;34m\u001b[0m\u001b[0m\n\u001b[0;32m--> 504\u001b[0;31m             \u001b[0mresult\u001b[0m \u001b[0;34m=\u001b[0m \u001b[0mfunc\u001b[0m\u001b[0;34m(\u001b[0m\u001b[0;34m*\u001b[0m\u001b[0margs\u001b[0m\u001b[0;34m)\u001b[0m\u001b[0;34m\u001b[0m\u001b[0m\n\u001b[0m\u001b[1;32m    505\u001b[0m             \u001b[0;32mif\u001b[0m \u001b[0mresult\u001b[0m \u001b[0;32mis\u001b[0m \u001b[0;32mnot\u001b[0m \u001b[0;32mNone\u001b[0m\u001b[0;34m:\u001b[0m\u001b[0;34m\u001b[0m\u001b[0m\n\u001b[1;32m    506\u001b[0m                 \u001b[0;32mreturn\u001b[0m \u001b[0mresult\u001b[0m\u001b[0;34m\u001b[0m\u001b[0m\n",
      "\u001b[0;32m~/anaconda3/lib/python3.6/urllib/request.py\u001b[0m in \u001b[0;36munknown_open\u001b[0;34m(self, req)\u001b[0m\n\u001b[1;32m   1386\u001b[0m     \u001b[0;32mdef\u001b[0m \u001b[0munknown_open\u001b[0m\u001b[0;34m(\u001b[0m\u001b[0mself\u001b[0m\u001b[0;34m,\u001b[0m \u001b[0mreq\u001b[0m\u001b[0;34m)\u001b[0m\u001b[0;34m:\u001b[0m\u001b[0;34m\u001b[0m\u001b[0m\n\u001b[1;32m   1387\u001b[0m         \u001b[0mtype\u001b[0m \u001b[0;34m=\u001b[0m \u001b[0mreq\u001b[0m\u001b[0;34m.\u001b[0m\u001b[0mtype\u001b[0m\u001b[0;34m\u001b[0m\u001b[0m\n\u001b[0;32m-> 1388\u001b[0;31m         \u001b[0;32mraise\u001b[0m \u001b[0mURLError\u001b[0m\u001b[0;34m(\u001b[0m\u001b[0;34m'unknown url type: %s'\u001b[0m \u001b[0;34m%\u001b[0m \u001b[0mtype\u001b[0m\u001b[0;34m)\u001b[0m\u001b[0;34m\u001b[0m\u001b[0m\n\u001b[0m\u001b[1;32m   1389\u001b[0m \u001b[0;34m\u001b[0m\u001b[0m\n\u001b[1;32m   1390\u001b[0m \u001b[0;32mdef\u001b[0m \u001b[0mparse_keqv_list\u001b[0m\u001b[0;34m(\u001b[0m\u001b[0ml\u001b[0m\u001b[0;34m)\u001b[0m\u001b[0;34m:\u001b[0m\u001b[0;34m\u001b[0m\u001b[0m\n",
      "\u001b[0;31mURLError\u001b[0m: <urlopen error unknown url type: javascript>"
     ]
    }
   ],
   "source": [
    "# Open Chrome and navigate to the page\n",
    "driver = webdriver.Chrome()\n",
    "driver.get(my_url)\n",
    "print(driver.title)\n",
    "link = driver.find_element_by_id('LeaderBoard1_cmdCSV')\n",
    "\n",
    "# wait for page to load\n",
    "wait = WebDriverWait(driver, 10)\n",
    "wait.until(EC.presence_of_element_located((By.ID, 'LeaderBoard1_cmdCSV')))\n",
    "print(\"Page loaded\")\n",
    "\n",
    "# Download the file\n",
    "print(link)\n",
    "csv_url = urljoin(my_url, link.get_attribute(\"href\"))\n",
    "urlretrieve(csv_url, \"players.csv\")\n",
    "\n",
    "driver.close()"
   ]
  },
  {
   "cell_type": "markdown",
   "metadata": {},
   "source": [
    "This is dumb; I'm going to try out BP:\n",
    "\n",
    "## Baseball Prospectus\n",
    "\n",
    "In general, the batting/pitching URLs I want look like this:\n",
    "\n",
    "Batting (2018) on 4/19:\n",
    "\n",
    "`https://legacy.baseballprospectus.com/sortable/index.php?cid=1918875`\n",
    "\n",
    "Pitching (2018) on 4/19:\n",
    "\n",
    "`https://legacy.baseballprospectus.com/sortable/index.php?cid=2508773`\n",
    "\n",
    "These are the same....I have 2 ideas for approaches:\n",
    "\n",
    "1. Hard-code the stat URLs; this isn't ideal, as they could change day to day\n",
    "2. Use Selenium to grab the stats by starting on the main page (cut off URL after \"sortable\")\n",
    "\n",
    "I'm going to try Selenium first:\n",
    "\n",
    "### BP w/ Selenium:"
   ]
  },
  {
   "cell_type": "code",
   "execution_count": 62,
   "metadata": {},
   "outputs": [
    {
     "name": "stdout",
     "output_type": "stream",
     "text": [
      "Baseball Prospectus | Statistics | Custom Statistics Reports\n",
      "Page loaded\n",
      "https://legacy.baseballprospectus.com/sortable/index.php?cid=1918875\n",
      "https://legacy.baseballprospectus.com/sortable/index.php?cid=2508773\n"
     ]
    }
   ],
   "source": [
    "# Set URL\n",
    "my_url = 'https://legacy.baseballprospectus.com/sortable'\n",
    "\n",
    "# Open Chrome and navigate to the page\n",
    "driver = webdriver.Chrome()\n",
    "driver.get(my_url)\n",
    "print(driver.title)\n",
    "\n",
    "# wait for page to load\n",
    "wait = WebDriverWait(driver, 10)\n",
    "wait.until(EC.presence_of_element_located((By.LINK_TEXT, '1. Individual Stats - Season Totals')))\n",
    "print(\"Page loaded\")\n",
    "\n",
    "# Find the batting stats URL\n",
    "bat_link = driver.find_element_by_link_text('1. Individual Stats - Season Totals').get_attribute('href')\n",
    "print(bat_link)\n",
    "\n",
    "# Find the pitching stats URL\n",
    "pitch_link = driver.find_element_by_link_text('3. Individual Stats - Season Totals').get_attribute('href')\n",
    "print(pitch_link)\n",
    "\n",
    "driver.close()"
   ]
  },
  {
   "cell_type": "markdown",
   "metadata": {},
   "source": [
    "Now that I have the URLs I want, I can get the pages using requests and scrape with Beautiful Soup"
   ]
  },
  {
   "cell_type": "code",
   "execution_count": 98,
   "metadata": {},
   "outputs": [
    {
     "name": "stdout",
     "output_type": "stream",
     "text": [
      "['#', 'NAME', 'YEAR', 'AGE', 'G', 'PA', 'AB', 'R', 'H', '1B', '2B', '3B', 'HR', 'TB', 'BB', 'IBB', 'SO', 'HBP', 'SF', 'SH', 'RBI', 'DP', 'NETDP', 'SB', 'CS', 'AVG', 'OBP', 'SLG', 'OPS', 'ISO', 'BPF', 'oppOPS', 'TAv', 'VORP', 'FRAA', 'BWARP']\n"
     ]
    }
   ],
   "source": [
    "# Get the batting and pitching results\n",
    "bat_results = requests.get(bat_link).text\n",
    "pitch_results = requests.get(pitch_link).text\n",
    "\n",
    "# Grab all the batting stats\n",
    "bat_table = BeautifulSoup(bat_results, 'html.parser').find('table', {'id' : 'TTdata'})\n",
    "\n",
    "# Print out just the header\n",
    "bat_head = bat_table.find('tr', {'class': 'TTdata_ltblue'})\n",
    "col_names = [col_name.text for col_name in bat_head.find_all('td')]\n",
    "print(col_names)"
   ]
  },
  {
   "cell_type": "markdown",
   "metadata": {},
   "source": [
    "Now I'll grab the rest of the table"
   ]
  },
  {
   "cell_type": "code",
   "execution_count": 102,
   "metadata": {},
   "outputs": [
    {
     "name": "stdout",
     "output_type": "stream",
     "text": [
      "['1.', 'Mookie Betts', '2018', '25', '16', '72', '59', '20', '23', '11', '7', '0', '5', '45', '10', '1', '6', '2', '1', '0', '13', '0', '-1.10', '2', '1', '.390', '.486', '.763', '1.249', '.373', '99', '.769', '.415', '14.2', '-0.8', '1.35', '2.', 'Didi Gregorius', '2018', '28', '16', '69', '51', '14', '17', '4', '7', '1', '5', '41', '14', '1', '4', '1', '3', '0', '16', '2', '0.21', '2', '1', '.333', '.464', '.804', '1.268', '.471', '107', '.746', '.394', '12.9', '0.1', '1.30']\n"
     ]
    }
   ],
   "source": [
    "# Try grabbing everything, but drop the first row\n",
    "all_stats = [stat.text for stat in bat_table.find_all('td')][len(col_names):]\n",
    "\n",
    "# Print the first 2 players\n",
    "print(all_stats[0:72])"
   ]
  },
  {
   "cell_type": "code",
   "execution_count": 103,
   "metadata": {},
   "outputs": [
    {
     "name": "stdout",
     "output_type": "stream",
     "text": [
      "[['1.' 'Mookie Betts' '2018' ..., '14.2' '-0.8' '1.35']\n",
      " ['2.' 'Didi Gregorius' '2018' ..., '12.9' '0.1' '1.30']\n",
      " ['3.' 'Christian Villanueva' '2018' ..., '12.5' '-1.2' '1.13']\n",
      " ..., \n",
      " ['682.' 'Logan Morrison' '2018' ..., '-6.6' '-0.1' '-0.66']\n",
      " ['683.' 'Lewis Brinson' '2018' ..., '-6.5' '-0.1' '-0.67']\n",
      " ['684.' 'Pat Valaika' '2018' ..., '-6.8' '0.0' '-0.68']]\n"
     ]
    }
   ],
   "source": [
    "# Reshape as a 2-D array\n",
    "bat_array = np.reshape(np.array(all_stats), (-1, len(col_names)))\n",
    "print(test2)"
   ]
  },
  {
   "cell_type": "code",
   "execution_count": 106,
   "metadata": {},
   "outputs": [
    {
     "name": "stdout",
     "output_type": "stream",
     "text": [
      "                   NAME  YEAR AGE   G  PA  AB   R   H  1B 2B  ...    OBP  \\\n",
      "0          Mookie Betts  2018  25  16  72  59  20  23  11  7  ...   .486   \n",
      "1        Didi Gregorius  2018  28  16  69  51  14  17   4  7  ...   .464   \n",
      "2  Christian Villanueva  2018  27  16  60  50  10  17   7  4  ...   .450   \n",
      "3       Yasmani Grandal  2018  29  14  62  54   9  19  11  5  ...   .435   \n",
      "4          Todd Frazier  2018  32  17  73  55  10  16   9  5  ...   .438   \n",
      "\n",
      "    SLG    OPS   ISO  BPF oppOPS   TAv  VORP  FRAA BWARP  \n",
      "0  .763  1.249  .373   99   .769  .415  14.2  -0.8  1.35  \n",
      "1  .804  1.268  .471  107   .746  .394  12.9   0.1  1.30  \n",
      "2  .780  1.230  .440   90   .684  .433  12.5  -1.2  1.13  \n",
      "3  .611  1.047  .259   87   .651  .377  10.3   0.9  1.13  \n",
      "4  .491   .929  .200   91   .700  .360  10.3   0.9  1.12  \n",
      "\n",
      "[5 rows x 35 columns]\n",
      "<class 'pandas.core.frame.DataFrame'>\n",
      "RangeIndex: 684 entries, 0 to 683\n",
      "Data columns (total 35 columns):\n",
      "NAME      684 non-null object\n",
      "YEAR      684 non-null object\n",
      "AGE       684 non-null object\n",
      "G         684 non-null object\n",
      "PA        684 non-null object\n",
      "AB        684 non-null object\n",
      "R         684 non-null object\n",
      "H         684 non-null object\n",
      "1B        684 non-null object\n",
      "2B        684 non-null object\n",
      "3B        684 non-null object\n",
      "HR        684 non-null object\n",
      "TB        684 non-null object\n",
      "BB        684 non-null object\n",
      "IBB       684 non-null object\n",
      "SO        684 non-null object\n",
      "HBP       684 non-null object\n",
      "SF        684 non-null object\n",
      "SH        684 non-null object\n",
      "RBI       684 non-null object\n",
      "DP        684 non-null object\n",
      "NETDP     684 non-null object\n",
      "SB        684 non-null object\n",
      "CS        684 non-null object\n",
      "AVG       684 non-null object\n",
      "OBP       684 non-null object\n",
      "SLG       684 non-null object\n",
      "OPS       684 non-null object\n",
      "ISO       684 non-null object\n",
      "BPF       684 non-null object\n",
      "oppOPS    684 non-null object\n",
      "TAv       684 non-null object\n",
      "VORP      684 non-null object\n",
      "FRAA      684 non-null object\n",
      "BWARP     684 non-null object\n",
      "dtypes: object(35)\n",
      "memory usage: 187.1+ KB\n",
      "None\n"
     ]
    }
   ],
   "source": [
    "# Make it into a dataframe, add column names, and drop the \"#\" one\n",
    "bat_df = pd.DataFrame(bat_array)\n",
    "bat_df.columns = col_names\n",
    "bat_df = bat_df.drop('#', axis = 'columns')\n",
    "\n",
    "# Inspect it\n",
    "print(bat_df.head())\n",
    "print(bat_df.info())"
   ]
  },
  {
   "cell_type": "code",
   "execution_count": 108,
   "metadata": {},
   "outputs": [
    {
     "name": "stdout",
     "output_type": "stream",
     "text": [
      "<class 'pandas.core.frame.DataFrame'>\n",
      "RangeIndex: 684 entries, 0 to 683\n",
      "Data columns (total 35 columns):\n",
      "NAME      684 non-null object\n",
      "YEAR      684 non-null int64\n",
      "AGE       684 non-null int64\n",
      "G         684 non-null int64\n",
      "PA        684 non-null int64\n",
      "AB        684 non-null int64\n",
      "R         684 non-null int64\n",
      "H         684 non-null int64\n",
      "1B        684 non-null int64\n",
      "2B        684 non-null int64\n",
      "3B        684 non-null int64\n",
      "HR        684 non-null int64\n",
      "TB        684 non-null int64\n",
      "BB        684 non-null int64\n",
      "IBB       684 non-null int64\n",
      "SO        684 non-null int64\n",
      "HBP       684 non-null int64\n",
      "SF        684 non-null int64\n",
      "SH        684 non-null int64\n",
      "RBI       684 non-null int64\n",
      "DP        684 non-null int64\n",
      "NETDP     684 non-null float64\n",
      "SB        684 non-null int64\n",
      "CS        684 non-null int64\n",
      "AVG       684 non-null float64\n",
      "OBP       684 non-null float64\n",
      "SLG       684 non-null float64\n",
      "OPS       684 non-null float64\n",
      "ISO       684 non-null float64\n",
      "BPF       539 non-null float64\n",
      "oppOPS    684 non-null float64\n",
      "TAv       684 non-null float64\n",
      "VORP      684 non-null float64\n",
      "FRAA      684 non-null float64\n",
      "BWARP     684 non-null float64\n",
      "dtypes: float64(12), int64(22), object(1)\n",
      "memory usage: 187.1+ KB\n",
      "None\n"
     ]
    }
   ],
   "source": [
    "# Convert numericals\n",
    "to_num = bat_df.columns.drop('NAME')\n",
    "bat_df[to_num] = bat_df[to_num].apply(pd.to_numeric)\n",
    "print(bat_df.info())"
   ]
  },
  {
   "cell_type": "markdown",
   "metadata": {},
   "source": [
    "I should be able to do the same with pitching...let me make it into a fxn"
   ]
  },
  {
   "cell_type": "code",
   "execution_count": 134,
   "metadata": {},
   "outputs": [],
   "source": [
    "def bpStatsToDF(url, stat_type):\n",
    "    \n",
    "    '''Given a BP stats page link, create a dataframe with correct data types'''\n",
    "    \n",
    "    # Get the results page\n",
    "    stat_results = requests.get(url).text\n",
    "\n",
    "    # Grab all the batting stats\n",
    "    stat_table = BeautifulSoup(stat_results, 'html.parser').find('table', {'id' : 'TTdata'})\n",
    "\n",
    "    # Grab just the header\n",
    "    stat_head = stat_table.find('tr', {'class': 'TTdata_ltblue'})\n",
    "    col_names = [col_name.text for col_name in stat_head.find_all('td')]\n",
    "    \n",
    "    # Try grabbing everything, but drop the first row\n",
    "    all_stats = [stat.text for stat in stat_table.find_all('td')][len(col_names):]\n",
    "    \n",
    "    # Reshape as a 2-D array\n",
    "    stat_array = np.reshape(np.array(all_stats), (-1, len(col_names)))\n",
    "    \n",
    "    # Make it into a dataframe, add column names, and drop the \"#\" one\n",
    "    stat_df = pd.DataFrame(stat_array)\n",
    "    stat_df.columns = col_names\n",
    "    \n",
    "    # Change based on whether it's batting or pitching\n",
    "    if stat_type == 'batting':\n",
    "        stat_df = stat_df.drop('#', axis = 'columns')\n",
    "    elif stat_type == 'pitching':\n",
    "        stat_df = stat_df.drop(['#','LVL'], axis = 'columns')\n",
    "    else:\n",
    "        raise ValueError(\"Must be either 'batting' or 'pitching'\")\n",
    "    # Convert numericals\n",
    "    to_num = stat_df.columns.drop('NAME')\n",
    "    stat_df[to_num] = stat_df[to_num].apply(pd.to_numeric)\n",
    "    \n",
    "    return stat_df"
   ]
  },
  {
   "cell_type": "code",
   "execution_count": 135,
   "metadata": {},
   "outputs": [
    {
     "name": "stdout",
     "output_type": "stream",
     "text": [
      "                   NAME  YEAR  AGE   G  PA  AB   R   H  1B  2B  ...      OBP  \\\n",
      "0          Mookie Betts  2018   25  17  77  64  22  25  11   8  ...    0.481   \n",
      "1        Didi Gregorius  2018   28  17  73  55  14  18   5   7  ...    0.452   \n",
      "2          Todd Frazier  2018   32  18  76  58  11  17   9   5  ...    0.434   \n",
      "3       Yasmani Grandal  2018   29  14  62  54   9  19  11   5  ...    0.435   \n",
      "4  Christian Villanueva  2018   27  16  60  50  10  17   7   4  ...    0.450   \n",
      "\n",
      "     SLG    OPS    ISO    BPF  oppOPS    TAv  VORP  FRAA  BWARP  \n",
      "0  0.797  1.277  0.406   99.0   0.773  0.418  15.4  -0.8   1.46  \n",
      "1  0.764  1.216  0.436  107.0   0.745  0.383  12.7   0.3   1.30  \n",
      "2  0.534  0.969  0.241   92.0   0.692  0.368  11.4   1.2   1.26  \n",
      "3  0.611  1.047  0.259   87.0   0.648  0.377  10.3   1.4   1.17  \n",
      "4  0.780  1.230  0.440   90.0   0.679  0.433  12.5  -1.3   1.13  \n",
      "\n",
      "[5 rows x 35 columns]\n"
     ]
    }
   ],
   "source": [
    "# Test on batters\n",
    "test = bpStatsToDF(bat_link, 'batting')\n",
    "\n",
    "print(test.head())"
   ]
  },
  {
   "cell_type": "code",
   "execution_count": 136,
   "metadata": {},
   "outputs": [
    {
     "name": "stdout",
     "output_type": "stream",
     "text": [
      "              NAME  YEAR  AGE  G  GS  PITCHES    IP  IP Start  IP Relief  W  \\\n",
      "0    Bartolo Colon  2018   45  4   2      243  18.7      13.7        5.0  0   \n",
      "1      Cc Sabathia  2018   37  3   3      213  13.3      13.3        0.0  0   \n",
      "2  Fernando Rodney  2018   41  6   0      101   5.7       0.0        5.7  1   \n",
      "3     Matt Belisle  2018   38  5   0       95   6.3       0.0        6.3  0   \n",
      "4  Adam Wainwright  2018   36  3   3      275  15.7      15.7        0.0  1   \n",
      "\n",
      "   ...    SH    PPF  CMD  PWR  STM   FIP  cFIP   ERA  DRA  PWARP  \n",
      "0  ...     0  109.0  NaN  NaN  NaN  2.33     0  1.45  0.0    0.0  \n",
      "1  ...     0  107.0  NaN  NaN  NaN  5.98     0  2.70  0.0    0.0  \n",
      "2  ...     0  110.0  NaN  NaN  NaN  4.72     0  3.18  0.0    0.0  \n",
      "3  ...     0  104.0  NaN  NaN  NaN  5.50     0  5.68  0.0    0.0  \n",
      "4  ...     2   97.0  NaN  NaN  NaN  5.17     0  3.45  0.0    0.0  \n",
      "\n",
      "[5 rows x 39 columns]\n"
     ]
    }
   ],
   "source": [
    "# Test on pitchers\n",
    "test = bpStatsToDF(pitch_link, 'pitching')\n",
    "\n",
    "print(test.head())"
   ]
  },
  {
   "cell_type": "markdown",
   "metadata": {},
   "source": [
    "*Note: to indent a block, use Ctrl + [ or Ctrl + ]*"
   ]
  },
  {
   "cell_type": "code",
   "execution_count": 143,
   "metadata": {},
   "outputs": [
    {
     "name": "stderr",
     "output_type": "stream",
     "text": [
      "test_Exception (__main__.bpTestCase) ... ok\n",
      "\n",
      "----------------------------------------------------------------------\n",
      "Ran 1 test in 1.550s\n",
      "\n",
      "OK\n"
     ]
    },
    {
     "data": {
      "text/plain": [
       "<unittest.main.TestProgram at 0x7fe52332d5c0>"
      ]
     },
     "execution_count": 143,
     "metadata": {},
     "output_type": "execute_result"
    }
   ],
   "source": [
    "# Test an error\n",
    "import unittest\n",
    "\n",
    "class bpTestCase(unittest.TestCase):\n",
    "    def test_Exception(self):\n",
    "        with self.assertRaises(ValueError):\n",
    "            bpStatsToDF(pitch_link, 'nothing')\n",
    "        \n",
    "unittest.main(argv=[''], verbosity=2, exit=False)"
   ]
  },
  {
   "cell_type": "code",
   "execution_count": null,
   "metadata": {},
   "outputs": [],
   "source": [
    "?"
   ]
  }
 ],
 "metadata": {
  "kernelspec": {
   "display_name": "Python 3",
   "language": "python",
   "name": "python3"
  },
  "language_info": {
   "codemirror_mode": {
    "name": "ipython",
    "version": 3
   },
   "file_extension": ".py",
   "mimetype": "text/x-python",
   "name": "python",
   "nbconvert_exporter": "python",
   "pygments_lexer": "ipython3",
   "version": "3.6.3"
  }
 },
 "nbformat": 4,
 "nbformat_minor": 2
}
