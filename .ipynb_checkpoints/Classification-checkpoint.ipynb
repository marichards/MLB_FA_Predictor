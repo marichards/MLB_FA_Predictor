{
 "cells": [
  {
   "cell_type": "markdown",
   "metadata": {},
   "source": [
    "# Classifying MLB Free agents\n",
    "\n",
    "Now we're going to actually try classifying. We'll bring in the final data (this might change from time to time), format it correctly, and then try some ML"
   ]
  },
  {
   "cell_type": "code",
   "execution_count": 1,
   "metadata": {
    "collapsed": true
   },
   "outputs": [],
   "source": [
    "# Bring in data\n",
    "import pandas as pd\n",
    "import pickle\n",
    "\n",
    "with open('final_data.pickle', 'rb') as file:\n",
    "    final_data = pickle.load(file)"
   ]
  },
  {
   "cell_type": "code",
   "execution_count": 2,
   "metadata": {},
   "outputs": [
    {
     "name": "stdout",
     "output_type": "stream",
     "text": [
      "<class 'pandas.core.frame.DataFrame'>\n",
      "Int64Index: 1098 entries, 4 to 1712\n",
      "Data columns (total 22 columns):\n",
      "Unnamed: 0     1098 non-null int64\n",
      "Age            1098 non-null int64\n",
      "Destination    1098 non-null object\n",
      "Origin         1098 non-null object\n",
      "WAR_3          1098 non-null float64\n",
      "nameFirst      1098 non-null object\n",
      "nameLast       1098 non-null object\n",
      "Dollars        1098 non-null float64\n",
      "Length         1098 non-null int64\n",
      "Name           1098 non-null object\n",
      "Position_x     1098 non-null object\n",
      "playerID       1098 non-null object\n",
      "yearID         1098 non-null int64\n",
      "G              1098 non-null float64\n",
      "OBP            1098 non-null float64\n",
      "SLG            1098 non-null float64\n",
      "HR             1098 non-null float64\n",
      "RBI            1098 non-null float64\n",
      "Position_y     1098 non-null object\n",
      "name           1098 non-null object\n",
      "teamID         1098 non-null object\n",
      "label          1098 non-null int32\n",
      "dtypes: float64(7), int32(1), int64(4), object(10)\n",
      "memory usage: 193.0+ KB\n"
     ]
    }
   ],
   "source": [
    "final_data.info()"
   ]
  },
  {
   "cell_type": "code",
   "execution_count": 5,
   "metadata": {
    "collapsed": true
   },
   "outputs": [],
   "source": [
    "# For features, let's drop all names, player/year IDs, position, Destination, and origin\n",
    "\n",
    "# The Destination can stay for now, but drop all the others\n",
    "X = final_data.drop(['playerID', 'nameFirst', 'nameLast', 'name',\n",
    "                     'Origin', 'Position', 'yearID', 'Destination',\n",
    "                     'teamID', 'label'], axis = 1).values\n",
    "\n",
    "y = final_data['label'].values\n",
    "\n",
    "\n",
    "# Split the data\n",
    "from sklearn.model_selection import train_test_split\n",
    "\n",
    "# Split into training and test set\n",
    "X_train, X_test, y_train, y_test = train_test_split(X, y, test_size = 0.2, stratify=y)"
   ]
  },
  {
   "cell_type": "markdown",
   "metadata": {},
   "source": [
    "## Make the naive method\n",
    "\n",
    "Classify based on the most common team: the Yankees"
   ]
  },
  {
   "cell_type": "code",
   "execution_count": 6,
   "metadata": {},
   "outputs": [
    {
     "data": {
      "text/plain": [
       "1897"
      ]
     },
     "execution_count": 6,
     "metadata": {},
     "output_type": "execute_result"
    }
   ],
   "source": [
    "final_data['label'].value_counts().max()\n",
    "final_data['label'].shape[0]"
   ]
  },
  {
   "cell_type": "code",
   "execution_count": 7,
   "metadata": {},
   "outputs": [
    {
     "name": "stdout",
     "output_type": "stream",
     "text": [
      "Naive Accuracy = 0.44069583552978386\n"
     ]
    }
   ],
   "source": [
    "# Calculate accuracy based on this\n",
    "most_freq = float(final_data['label'].value_counts().max())\n",
    "total_freq = float(final_data['label'].shape[0])\n",
    "\n",
    "\n",
    "print(\"Naive Accuracy = {}\".format(most_freq/total_freq))"
   ]
  },
  {
   "cell_type": "markdown",
   "metadata": {},
   "source": [
    "## Attempt 1: K-Nearest Neighbors\n",
    "\n",
    "This is probably the simplest approach; let's see how it works"
   ]
  },
  {
   "cell_type": "code",
   "execution_count": 8,
   "metadata": {},
   "outputs": [
    {
     "data": {
      "text/plain": [
       "KNeighborsClassifier(algorithm='auto', leaf_size=30, metric='minkowski',\n",
       "           metric_params=None, n_jobs=1, n_neighbors=6, p=2,\n",
       "           weights='uniform')"
      ]
     },
     "execution_count": 8,
     "metadata": {},
     "output_type": "execute_result"
    }
   ],
   "source": [
    "from sklearn.neighbors import KNeighborsClassifier\n",
    "from sklearn.metrics import classification_report\n",
    "\n",
    "# Create a k-NN classifier with 6 neighbors\n",
    "knn = KNeighborsClassifier(n_neighbors = 6)\n",
    "\n",
    "# Fit the classifier to the data\n",
    "knn.fit(X_train, y_train)"
   ]
  },
  {
   "cell_type": "code",
   "execution_count": 9,
   "metadata": {},
   "outputs": [
    {
     "name": "stdout",
     "output_type": "stream",
     "text": [
      "0.35\n",
      "             precision    recall  f1-score   support\n",
      "\n",
      "          1       0.31      0.48      0.38       115\n",
      "          2       0.00      0.00      0.00        30\n",
      "          3       0.09      0.04      0.06        50\n",
      "          4       0.43      0.45      0.44       168\n",
      "          5       0.00      0.00      0.00        17\n",
      "\n",
      "avg / total       0.30      0.35      0.32       380\n",
      "\n"
     ]
    },
    {
     "name": "stderr",
     "output_type": "stream",
     "text": [
      "/home/matt/anaconda3/lib/python3.6/site-packages/sklearn/metrics/classification.py:1135: UndefinedMetricWarning: Precision and F-score are ill-defined and being set to 0.0 in labels with no predicted samples.\n",
      "  'precision', 'predicted', average, warn_for)\n"
     ]
    }
   ],
   "source": [
    "print(knn.score(X_test, y_test))\n",
    "\n",
    "y_pred = knn.predict(X_test)\n",
    "\n",
    "print(classification_report(y_test, y_pred))"
   ]
  },
  {
   "cell_type": "code",
   "execution_count": 10,
   "metadata": {
    "collapsed": true
   },
   "outputs": [],
   "source": [
    "# Get actual probabilities\n",
    "blah = knn.predict_proba(X_test)"
   ]
  },
  {
   "cell_type": "markdown",
   "metadata": {},
   "source": [
    "## Attempt 2: Random Forest Classifier"
   ]
  },
  {
   "cell_type": "code",
   "execution_count": 11,
   "metadata": {},
   "outputs": [
    {
     "name": "stdout",
     "output_type": "stream",
     "text": [
      "0.328947368421\n",
      "             precision    recall  f1-score   support\n",
      "\n",
      "          1       0.27      0.34      0.30       115\n",
      "          2       0.08      0.03      0.05        30\n",
      "          3       0.19      0.14      0.16        50\n",
      "          4       0.43      0.46      0.44       168\n",
      "          5       0.00      0.00      0.00        17\n",
      "\n",
      "avg / total       0.30      0.33      0.31       380\n",
      "\n"
     ]
    }
   ],
   "source": [
    "from sklearn.ensemble import RandomForestClassifier\n",
    "\n",
    "rf = RandomForestClassifier()\n",
    "\n",
    "# Fit the classifier to the data\n",
    "rf.fit(X_train, y_train)\n",
    "\n",
    "print(rf.score(X_test, y_test))\n",
    "\n",
    "y_pred = rf.predict(X_test)\n",
    "\n",
    "print(classification_report(y_test, y_pred))"
   ]
  }
 ],
 "metadata": {
  "kernelspec": {
   "display_name": "Python 3",
   "language": "python",
   "name": "python3"
  },
  "language_info": {
   "codemirror_mode": {
    "name": "ipython",
    "version": 3
   },
   "file_extension": ".py",
   "mimetype": "text/x-python",
   "name": "python",
   "nbconvert_exporter": "python",
   "pygments_lexer": "ipython3",
   "version": "3.6.3"
  }
 },
 "nbformat": 4,
 "nbformat_minor": 2
}
