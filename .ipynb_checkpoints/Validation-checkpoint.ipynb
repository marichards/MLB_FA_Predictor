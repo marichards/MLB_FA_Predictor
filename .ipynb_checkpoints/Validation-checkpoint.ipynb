{
 "cells": [
  {
   "cell_type": "markdown",
   "metadata": {},
   "source": [
    "# Validation\n",
    "\n",
    "We have data nad the contract model; here, I need to come up with:\n",
    "\n",
    "* Final choice of regression model\n",
    "* Visualization of that model's validation\n",
    "\n",
    "First, I'm going to write up my \"predictDollars\" function to use. It'll take the pitcher AND player data, so I can account for both. It'll return the R^2, the RMSE, and percent errors for all points. I'll use these to calculate mean and median percent errors. \n",
    "\n",
    "Then, I'm going to use a linear model and make my plots\n",
    "\n",
    "Finally, I'll run the GBM and RF models as well, showing which model actually performs best"
   ]
  },
  {
   "cell_type": "code",
   "execution_count": 83,
   "metadata": {
    "collapsed": true
   },
   "outputs": [],
   "source": [
    " # Import libraries and data\n",
    "import pandas as pd\n",
    "import pickle\n",
    "import matplotlib.pyplot as plt\n",
    "import numpy as np\n",
    "\n",
    "# Import Regression models\n",
    "from sklearn.linear_model import LinearRegression\n",
    "from sklearn.ensemble import RandomForestRegressor, GradientBoostingRegressor\n",
    "\n",
    "# Import Metric \n",
    "from sklearn.metrics import mean_squared_error\n",
    "\n",
    "# Import other tools\n",
    "from sklearn.model_selection import train_test_split, cross_val_score\n",
    "from sklearn.preprocessing import StandardScaler\n",
    "from sklearn.pipeline import Pipeline\n",
    "\n",
    "with open('pitching_data.pickle', 'rb') as file:\n",
    "    pitcher_all = pickle.load(file)\n",
    "\n",
    "with open('position_data.pickle', 'rb') as file:\n",
    "    position_all = pickle.load(file)"
   ]
  },
  {
   "cell_type": "code",
   "execution_count": 84,
   "metadata": {
    "collapsed": true
   },
   "outputs": [],
   "source": [
    "# Bring in models\n",
    "lm = LinearRegression()\n",
    "rf = RandomForestRegressor()\n",
    "gb = GradientBoostingRegressor()"
   ]
  },
  {
   "cell_type": "markdown",
   "metadata": {},
   "source": [
    "## Now that we're setup, setup the features"
   ]
  },
  {
   "cell_type": "code",
   "execution_count": 85,
   "metadata": {
    "collapsed": true
   },
   "outputs": [],
   "source": [
    "# Create position one-hot configuration\n",
    "position_all = pd.get_dummies(position_all, columns = ['Position'], prefix= ['Pos'])\n",
    "pitcher_all = pd.get_dummies(pitcher_all, columns = ['Position'], prefix= ['Pos'])\n",
    "\n",
    "# Create Contract logical variable\n",
    "position_all['Contract'] = position_all.Dollars.notnull()\n",
    "pitcher_all['Contract'] = pitcher_all.Dollars.notnull()\n",
    "\n",
    "# Create AAV variable\n",
    "position_all['AAV_2006'] = position_all.Dollars_2006.divide(position_all.Length)\n",
    "pitcher_all['AAV_2006'] = pitcher_all.Dollars_2006.divide(pitcher_all.Length)\n",
    "# Remove 2017 data\n",
    "position_data = position_all[position_all.Year < 2017]\n",
    "pitcher_data = pitcher_all[pitcher_all.Year < 2017]\n",
    "\n",
    "position_trimmed = position_data.dropna()\n",
    "pitcher_trimmed = pitcher_data.dropna()"
   ]
  },
  {
   "cell_type": "markdown",
   "metadata": {},
   "source": [
    "## Write a function to do CVV"
   ]
  },
  {
   "cell_type": "code",
   "execution_count": 102,
   "metadata": {
    "collapsed": true
   },
   "outputs": [],
   "source": [
    "# Define function for Dollars\n",
    "def dollarsCV(regressor, position, pitching):\n",
    "    \n",
    "    # Divide into features and outcomes\n",
    "    features_pos = ['Age', 'WAR_3', 'G', 'OBP', 'SLG', 'HR', 'RBI', 'SB',\n",
    "                    'Med_WAR', 'Min_WAR', 'Pos_C', 'Pos_1B', 'Pos_2B', 'Pos_3B',\n",
    "                    'Pos_SS', 'Pos_LF', 'Pos_CF', 'Pos_RF', 'Pos_DH']\n",
    "    features_pitch = ['Age', 'WAR_3', 'ERA', 'WHIP', 'K_9', 'HR_9', 'IPouts',\n",
    "                      'W', 'SV', 'Med_WAR', 'Min_WAR', 'Pos_SP', 'Pos_RP']\n",
    "    \n",
    "    X_pos = position[features_pos].values\n",
    "    y_pos = position['AAV_2006'].values\n",
    "    \n",
    "    X_pitch = pitching[features_pitch].values\n",
    "    y_pitch = pitching['AAV_2006'].values\n",
    "    \n",
    "       \n",
    "    # Function for one model\n",
    "    def doCV(regressor, X, y): \n",
    "        \n",
    "        # Setup the pipeline steps: steps\n",
    "        steps = [('scaler', StandardScaler()),\n",
    "                 ('model', regressor)]\n",
    "        # Create models\n",
    "        cv_scores = cross_val_score(Pipeline(steps), X, y, cv = 3,\n",
    "                                    scoring = 'neg_mean_squared_error')\n",
    "      \n",
    "    \n",
    "        return np.sqrt(-np.mean(cv_scores))\n",
    "\n",
    "    # Run for position and pitching\n",
    "    cv_pitch = doCV(regressor, X_pitch, y_pitch)\n",
    "    cv_pos = doCV(regressor, X_pos, y_pos)\n",
    "\n",
    "    # Print values\n",
    "    print(\"Pitcher CV: {:0.1f}\".format(cv_pitch))\n",
    "    print(\"Position CV: {:0.1f}\".format(cv_pos))\n",
    "    "
   ]
  },
  {
   "cell_type": "code",
   "execution_count": 103,
   "metadata": {},
   "outputs": [
    {
     "name": "stdout",
     "output_type": "stream",
     "text": [
      "Pitcher CV: 2118207.5\n",
      "Position CV: 2161678.4\n"
     ]
    }
   ],
   "source": [
    "dollarsCV(lm, position_trimmed, pitcher_trimmed)"
   ]
  },
  {
   "cell_type": "code",
   "execution_count": 104,
   "metadata": {},
   "outputs": [
    {
     "name": "stdout",
     "output_type": "stream",
     "text": [
      "Pitcher CV: 2095632.5\n",
      "Position CV: 2193169.2\n"
     ]
    }
   ],
   "source": [
    "dollarsCV(rf, position_trimmed, pitcher_trimmed)"
   ]
  },
  {
   "cell_type": "code",
   "execution_count": 105,
   "metadata": {},
   "outputs": [
    {
     "name": "stdout",
     "output_type": "stream",
     "text": [
      "Pitcher CV: 2056341.1\n",
      "Position CV: 2118229.6\n"
     ]
    }
   ],
   "source": [
    "dollarsCV(gb, position_trimmed, pitcher_trimmed)"
   ]
  },
  {
   "cell_type": "markdown",
   "metadata": {},
   "source": [
    "## Now I'll write a function on linear regression"
   ]
  },
  {
   "cell_type": "code",
   "execution_count": null,
   "metadata": {
    "collapsed": true
   },
   "outputs": [],
   "source": []
  },
  {
   "cell_type": "code",
   "execution_count": 110,
   "metadata": {
    "collapsed": true
   },
   "outputs": [],
   "source": [
    "def predictDollars(regressor, position, pitching):\n",
    "    \n",
    "    # Divide into features and outcomes\n",
    "    features_pos = ['Age', 'WAR_3', 'G', 'OBP', 'SLG', 'HR', 'RBI', 'SB',\n",
    "                    'Med_WAR', 'Min_WAR', 'Pos_C', 'Pos_1B', 'Pos_2B', 'Pos_3B',\n",
    "                    'Pos_SS', 'Pos_LF', 'Pos_CF', 'Pos_RF', 'Pos_DH']\n",
    "    features_pitch = ['Age', 'WAR_3', 'ERA', 'WHIP', 'K_9', 'HR_9', 'IPouts',\n",
    "                      'W', 'SV', 'Med_WAR', 'Min_WAR', 'Pos_SP', 'Pos_RP']\n",
    "    \n",
    "    X_pos = position[features_pos].values\n",
    "    y_pos = position['AAV_2006'].values\n",
    "    \n",
    "    X_pitch = pitching[features_pitch].values\n",
    "    y_pitch = pitching['AAV_2006'].values\n",
    "    \n",
    "    # Split into training and test set\n",
    "    X_train_pos, X_test_pos, y_train_pos, y_test_pos = train_test_split(X_pos, y_pos, test_size = 0.1)\n",
    "    X_train_pitch, X_test_pitch, y_train_pitch, y_test_pitch = train_test_split(X_pitch, y_pitch, test_size = 0.1)\n",
    "       \n",
    "    # Function for one model\n",
    "    def useModel(regressor, X_train, y_train, X_test, y_test): \n",
    "        \n",
    "        # Setup the pipeline steps: steps\n",
    "        steps = [('scaler', StandardScaler()),\n",
    "                 ('model', regressor)]\n",
    "        # Create models\n",
    "        model = Pipeline(steps)\n",
    "         \n",
    "        # Train the models\n",
    "        model.fit(X_train, y_train)\n",
    "\n",
    "        # Fix the predictions below 0\n",
    "        y_pred = model.predict(X_test)\n",
    "        y_pred[y_pred < 0] = 0\n",
    "        \n",
    "        rmse = np.sqrt(mean_squared_error(y_test, y_pred))\n",
    "    \n",
    "        # Compute percent error\n",
    "        percent_error = 100* np.absolute((y_pred - y_test)/y_test)\n",
    "        mepe = np.mean(percent_error)\n",
    "        mdpe = np.median(percent_error)\n",
    "    \n",
    "        return y_pred, percent_error\n",
    "\n",
    "    # Run for position and pitching\n",
    "    y_pred_pitch, percent_pitch = useModel(regressor, X_train_pitch, y_train_pitch,\n",
    "                                                  X_test_pitch, y_test_pitch)\n",
    "    y_pred_pos, percent_pos = useModel(regressor, X_train_pos, y_train_pos,\n",
    "                                            X_test_pos, y_test_pos)\n",
    "    \n",
    "    # Put them together\n",
    "    full_y_test = np.concatenate([y_test_pos, y_test_pitch])\n",
    "    full_y_pred = np.concatenate([y_pred_pos, y_pred_pitch])\n",
    "    full_percent = np.concatenate([percent_pos, percent_pitch])\n",
    "    \n",
    "    plt.scatter(full_y_test, full_percent, color = 'blue')\n",
    "    plt.xlabel('Actual Average Dollars (millions)')\n",
    "    plt.ylabel('Percent Error')\n",
    "    plt.title('Prediction Contract Value')\n",
    "#    plt.yticks([0,5e6,1e7,1.5e7,2e7],['0','5','10','15','20'])\n",
    "    plt.xticks([0,5e6,1e7,1.5e7,2e7],['0','5','10','15','20'])\n",
    "    plt.text(x = 1e7, y = 300, s = \"Median Error = {:0.1f}%\".format(np.median(full_percent)))\n",
    "    plt.savefig('./regression_error.png')\n",
    "    plt.show()\n",
    "\n",
    "    return full_y_test, full_percent, full_y_pred"
   ]
  },
  {
   "cell_type": "markdown",
   "metadata": {},
   "source": [
    "## Test it on Gradient Boosted"
   ]
  },
  {
   "cell_type": "code",
   "execution_count": 114,
   "metadata": {},
   "outputs": [
    {
     "data": {
      "image/png": "[encoded data removed]",
      "text/plain": [
       "<matplotlib.figure.Figure at 0x7fb68f2e8f28>"
      ]
     },
     "metadata": {},
     "output_type": "display_data"
    }
   ],
   "source": [
    "y_test, percent_error, y_pred = predictDollars(gb, position_trimmed, pitcher_trimmed)"
   ]
  },
  {
   "cell_type": "code",
   "execution_count": 121,
   "metadata": {},
   "outputs": [
    {
     "data": {
      "image/png": "[encoded data removed]",
      "text/plain": [
       "<matplotlib.figure.Figure at 0x7fb69c09ff98>"
      ]
     },
     "metadata": {},
     "output_type": "display_data"
    }
   ],
   "source": [
    "    plt.scatter(y_test, y_pred, color = 'blue')\n",
    "    plt.plot(y_test, y_test, color = 'k')\n",
    "    plt.xlabel('Actual Average Dollars (millions)')\n",
    "    plt.ylabel('Predicted Average Dollars (millions)')\n",
    "    plt.title('Prediction Contract Value')\n",
    "    plt.yticks([0,5e6,1e7,1.5e7,2e7],['0','5','10','15','20'])\n",
    "    plt.xticks([0,5e6,1e7,1.5e7,2e7],['0','5','10','15','20'])\n",
    "    plt.text(x = 1.6e6, y = 1.6e7, s = \"Median Error = {:0.1f}%\".format(np.median(percent_error)))\n",
    "    plt.savefig('./contract_dollars_regression.png')\n",
    "    plt.show()"
   ]
  },
  {
   "cell_type": "code",
   "execution_count": null,
   "metadata": {
    "collapsed": true
   },
   "outputs": [],
   "source": []
  }
 ],
 "metadata": {
  "kernelspec": {
   "display_name": "Python 3",
   "language": "python",
   "name": "python3"
  },
  "language_info": {
   "codemirror_mode": {
    "name": "ipython",
    "version": 3
   },
   "file_extension": ".py",
   "mimetype": "text/x-python",
   "name": "python",
   "nbconvert_exporter": "python",
   "pygments_lexer": "ipython3",
   "version": "3.6.3"
  }
 },
 "nbformat": 4,
 "nbformat_minor": 2
}
