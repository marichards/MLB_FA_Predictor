{
 "cells": [
  {
   "cell_type": "markdown",
   "metadata": {},
   "source": [
    "# Quick Regression\n",
    "\n",
    "Let's see if we can predict something terribly!"
   ]
  },
  {
   "cell_type": "code",
   "execution_count": 89,
   "metadata": {},
   "outputs": [
    {
     "name": "stdout",
     "output_type": "stream",
     "text": [
      "<class 'pandas.core.frame.DataFrame'>\n",
      "Int64Index: 1098 entries, 4 to 1712\n",
      "Data columns (total 22 columns):\n",
      "Unnamed: 0     1098 non-null int64\n",
      "Age            1098 non-null int64\n",
      "Destination    1098 non-null object\n",
      "Origin         1098 non-null object\n",
      "WAR_3          1098 non-null float64\n",
      "nameFirst      1098 non-null object\n",
      "nameLast       1098 non-null object\n",
      "Dollars        1098 non-null float64\n",
      "Length         1098 non-null int64\n",
      "Name           1098 non-null object\n",
      "Position_x     1098 non-null object\n",
      "playerID       1098 non-null object\n",
      "yearID         1098 non-null int64\n",
      "G              1098 non-null float64\n",
      "OBP            1098 non-null float64\n",
      "SLG            1098 non-null float64\n",
      "HR             1098 non-null float64\n",
      "RBI            1098 non-null float64\n",
      "Position_y     1098 non-null object\n",
      "name           1098 non-null object\n",
      "teamID         1098 non-null object\n",
      "label          1098 non-null int32\n",
      "dtypes: float64(7), int32(1), int64(4), object(10)\n",
      "memory usage: 193.0+ KB\n"
     ]
    }
   ],
   "source": [
    "# Bring in data\n",
    "import pandas as pd\n",
    "import pickle\n",
    "\n",
    "with open('final_data.pickle', 'rb') as file:\n",
    "    final_data = pickle.load(file)\n",
    "    \n",
    "final_data.info()"
   ]
  },
  {
   "cell_type": "code",
   "execution_count": 90,
   "metadata": {
    "collapsed": true
   },
   "outputs": [],
   "source": [
    "# The Destination can stay for now, but drop all the others\n",
    "X = final_data[['Age','WAR_3','yearID','G','OBP','SLG','HR','RBI','label']].values\n",
    "\n",
    "y = final_data['Dollars'].values\n",
    "\n",
    "\n",
    "# Split the data\n",
    "from sklearn.model_selection import train_test_split\n",
    "\n",
    "# Split into training and test set\n",
    "X_train, X_test, y_train, y_test = train_test_split(X, y, test_size = 0.2)"
   ]
  },
  {
   "cell_type": "code",
   "execution_count": 91,
   "metadata": {},
   "outputs": [
    {
     "data": {
      "text/plain": [
       "0.45971779362659876"
      ]
     },
     "execution_count": 91,
     "metadata": {},
     "output_type": "execute_result"
    }
   ],
   "source": [
    "# Try regression\n",
    "# Import LinearRegression\n",
    "from sklearn.linear_model import LinearRegression\n",
    "\n",
    "lm = LinearRegression()\n",
    "lm.fit(X_train, y_train)\n",
    "\n",
    "y_pred = lm.predict(X_test)\n",
    "lm.score(X_test, y_test)"
   ]
  },
  {
   "cell_type": "code",
   "execution_count": 92,
   "metadata": {},
   "outputs": [
    {
     "data": {
      "image/png": "[encoded data removed]",
      "text/plain": [
       "<matplotlib.figure.Figure at 0x7f328f8d0a90>"
      ]
     },
     "metadata": {},
     "output_type": "display_data"
    }
   ],
   "source": [
    "import matplotlib.pyplot as plt\n",
    "\n",
    "\n",
    "plt.scatter(y_pred, y_test, color = 'blue')\n",
    "plt.xlabel('Predicted Dollars (millions)')\n",
    "plt.ylabel('Actual Dollars (millions)')\n",
    "plt.title('Prediction Contract Value')\n",
    "plt.yticks([0,4e7,8e7,1.2e8,1.6e8],['0','40','80','120','160'])\n",
    "plt.xticks([0,2e7,4e7,6e7,8e7,1e8],['0','20','40','60','80','100'])\n",
    "plt.text(x = 0, y = 1.5e8, s = \"R^2 = {:0.3f}\".format(lm.score(X_test, y_test)))\n",
    "plt.savefig('./contract_dollars_regression.png')\n",
    "plt.show()"
   ]
  },
  {
   "cell_type": "markdown",
   "metadata": {},
   "source": [
    "# Try it on Contract Length"
   ]
  },
  {
   "cell_type": "code",
   "execution_count": 93,
   "metadata": {
    "collapsed": true
   },
   "outputs": [],
   "source": [
    "y = final_data['Length'].values\n",
    "\n",
    "# Split into training and test set\n",
    "X_train, X_test, y_train, y_test = train_test_split(X, y, test_size = 0.2)"
   ]
  },
  {
   "cell_type": "code",
   "execution_count": 94,
   "metadata": {},
   "outputs": [
    {
     "data": {
      "text/plain": [
       "0.41252467641677915"
      ]
     },
     "execution_count": 94,
     "metadata": {},
     "output_type": "execute_result"
    }
   ],
   "source": [
    "# Try regression\n",
    "# Import LinearRegression\n",
    "from sklearn.linear_model import LinearRegression\n",
    "\n",
    "lm = LinearRegression()\n",
    "lm.fit(X_train, y_train)\n",
    "\n",
    "y_pred = lm.predict(X_test)\n",
    "lm.score(X_test, y_test)"
   ]
  },
  {
   "cell_type": "code",
   "execution_count": 95,
   "metadata": {},
   "outputs": [
    {
     "data": {
      "image/png": "[encoded data removed]",
      "text/plain": [
       "<matplotlib.figure.Figure at 0x7f328f8d0908>"
      ]
     },
     "metadata": {},
     "output_type": "display_data"
    }
   ],
   "source": [
    "plt.scatter(y_pred, y_test, color = 'red')\n",
    "plt.xlabel('Predicted Contract Length (years)')\n",
    "plt.ylabel('Actual Contract Length (years)')\n",
    "plt.title('Prediction Contract Length')\n",
    "plt.text(x = 1, y = 7, s = \"R^2 = {:0.3f}\".format(lm.score(X_test, y_test)))\n",
    "plt.savefig('./contract_length_regression.png')\n",
    "plt.show()"
   ]
  }
 ],
 "metadata": {
  "kernelspec": {
   "display_name": "Python 3",
   "language": "python",
   "name": "python3"
  },
  "language_info": {
   "codemirror_mode": {
    "name": "ipython",
    "version": 3
   },
   "file_extension": ".py",
   "mimetype": "text/x-python",
   "name": "python",
   "nbconvert_exporter": "python",
   "pygments_lexer": "ipython3",
   "version": "3.6.3"
  }
 },
 "nbformat": 4,
 "nbformat_minor": 2
}
