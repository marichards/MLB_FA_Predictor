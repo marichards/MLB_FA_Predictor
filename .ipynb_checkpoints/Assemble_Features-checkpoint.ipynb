{
 "cells": [
  {
   "cell_type": "markdown",
   "metadata": {},
   "source": [
    "# Assemble the Features\n",
    "\n",
    "We want to assemble our data in to a data frame of features; for now I'm going to try to make something including:\n",
    "\n",
    "* Position player performance data (~3 numbers)\n",
    "* Position player position\n",
    "* Team salary data\n",
    "* Team performance for position (previous year)\n",
    "* Team value lost for position (from previous year, using FAs)\n",
    "\n",
    "We'll try doing it in stages"
   ]
  },
  {
   "cell_type": "code",
   "execution_count": 317,
   "metadata": {
    "collapsed": true
   },
   "outputs": [],
   "source": [
    "# Bring in packages and connect to database\n",
    "from sqlalchemy import create_engine\n",
    "from sqlalchemy_utils import database_exists, create_database\n",
    "import psycopg2\n",
    "import pandas as pd\n",
    "\n",
    "# Set postgres username/password, and connection specifics\n",
    "username = 'postgres'\n",
    "password = 'S@ndw1ches'     # change this\n",
    "host     = 'localhost'\n",
    "port     = '5432'            # default port that postgres listens on\n",
    "db_name  = 'mlb_fa_db'\n",
    "\n",
    "engine = create_engine( 'postgresql://{}:{}@{}:{}/{}'.format(username, password, host, port, db_name) )"
   ]
  },
  {
   "cell_type": "code",
   "execution_count": 318,
   "metadata": {
    "collapsed": true
   },
   "outputs": [],
   "source": [
    "# Make a quick querying function\n",
    "def pullFullTable(table, engine):\n",
    "    '''Quick little function for pulling a full table'''\n",
    "    \n",
    "    query = 'select * from {}'.format(table)\n",
    "    \n",
    "    # Execute the query with context manager\n",
    "    with engine.connect() as con:\n",
    "        results = con.execute(query)\n",
    "        fetched_data = pd.DataFrame(results.fetchall())\n",
    "        fetched_data.columns = results.keys()\n",
    "        \n",
    "    return fetched_data"
   ]
  },
  {
   "cell_type": "markdown",
   "metadata": {},
   "source": [
    "## Task 1: Grab Batting data and filter it by only free agents\n",
    "\n",
    "We'll do it in 5 stages:\n",
    "\n",
    "1. Pull batting data and shorten its columns to just the ones I want\n",
    "2. Pull the \"people\" data to get the first/last names for batting data\n",
    "3. Join batting and people to get all the data JUST for our desired years\n",
    "3. Pull the \"free_agents\" data\n",
    "5. Join \"batting\" and new free_agents/people to filter batting by only free agents"
   ]
  },
  {
   "cell_type": "code",
   "execution_count": 319,
   "metadata": {},
   "outputs": [
    {
     "name": "stdout",
     "output_type": "stream",
     "text": [
      "['batting', 'pitching', 'salary', 'people', 'appearances', 'teams', 'position_team_war', 'pitcher_team_war', 'payrolls', 'free_agents']\n"
     ]
    }
   ],
   "source": [
    "print(engine.table_names())"
   ]
  },
  {
   "cell_type": "code",
   "execution_count": 320,
   "metadata": {},
   "outputs": [
    {
     "data": {
      "text/html": [
       "<div>\n",
       "<style>\n",
       "    .dataframe thead tr:only-child th {\n",
       "        text-align: right;\n",
       "    }\n",
       "\n",
       "    .dataframe thead th {\n",
       "        text-align: left;\n",
       "    }\n",
       "\n",
       "    .dataframe tbody tr th {\n",
       "        vertical-align: top;\n",
       "    }\n",
       "</style>\n",
       "<table border=\"1\" class=\"dataframe\">\n",
       "  <thead>\n",
       "    <tr style=\"text-align: right;\">\n",
       "      <th></th>\n",
       "      <th>index</th>\n",
       "      <th>playerID</th>\n",
       "      <th>yearID</th>\n",
       "      <th>stint</th>\n",
       "      <th>teamID</th>\n",
       "      <th>lgID</th>\n",
       "      <th>G</th>\n",
       "      <th>AB</th>\n",
       "      <th>R</th>\n",
       "      <th>H</th>\n",
       "      <th>...</th>\n",
       "      <th>RBI</th>\n",
       "      <th>SB</th>\n",
       "      <th>CS</th>\n",
       "      <th>BB</th>\n",
       "      <th>SO</th>\n",
       "      <th>IBB</th>\n",
       "      <th>HBP</th>\n",
       "      <th>SH</th>\n",
       "      <th>SF</th>\n",
       "      <th>GIDP</th>\n",
       "    </tr>\n",
       "  </thead>\n",
       "  <tbody>\n",
       "    <tr>\n",
       "      <th>0</th>\n",
       "      <td>76643</td>\n",
       "      <td>abbotje01</td>\n",
       "      <td>1998</td>\n",
       "      <td>1</td>\n",
       "      <td>CHA</td>\n",
       "      <td>AL</td>\n",
       "      <td>89</td>\n",
       "      <td>244</td>\n",
       "      <td>33</td>\n",
       "      <td>68</td>\n",
       "      <td>...</td>\n",
       "      <td>41.0</td>\n",
       "      <td>3.0</td>\n",
       "      <td>3.0</td>\n",
       "      <td>9</td>\n",
       "      <td>28.0</td>\n",
       "      <td>1.0</td>\n",
       "      <td>0.0</td>\n",
       "      <td>2.0</td>\n",
       "      <td>5.0</td>\n",
       "      <td>2.0</td>\n",
       "    </tr>\n",
       "    <tr>\n",
       "      <th>1</th>\n",
       "      <td>76644</td>\n",
       "      <td>abbotji01</td>\n",
       "      <td>1998</td>\n",
       "      <td>1</td>\n",
       "      <td>CHA</td>\n",
       "      <td>AL</td>\n",
       "      <td>5</td>\n",
       "      <td>0</td>\n",
       "      <td>0</td>\n",
       "      <td>0</td>\n",
       "      <td>...</td>\n",
       "      <td>0.0</td>\n",
       "      <td>0.0</td>\n",
       "      <td>0.0</td>\n",
       "      <td>0</td>\n",
       "      <td>0.0</td>\n",
       "      <td>0.0</td>\n",
       "      <td>0.0</td>\n",
       "      <td>0.0</td>\n",
       "      <td>0.0</td>\n",
       "      <td>0.0</td>\n",
       "    </tr>\n",
       "    <tr>\n",
       "      <th>2</th>\n",
       "      <td>76645</td>\n",
       "      <td>abbotku01</td>\n",
       "      <td>1998</td>\n",
       "      <td>1</td>\n",
       "      <td>OAK</td>\n",
       "      <td>AL</td>\n",
       "      <td>35</td>\n",
       "      <td>123</td>\n",
       "      <td>17</td>\n",
       "      <td>33</td>\n",
       "      <td>...</td>\n",
       "      <td>9.0</td>\n",
       "      <td>2.0</td>\n",
       "      <td>1.0</td>\n",
       "      <td>10</td>\n",
       "      <td>34.0</td>\n",
       "      <td>0.0</td>\n",
       "      <td>1.0</td>\n",
       "      <td>1.0</td>\n",
       "      <td>1.0</td>\n",
       "      <td>3.0</td>\n",
       "    </tr>\n",
       "    <tr>\n",
       "      <th>3</th>\n",
       "      <td>76646</td>\n",
       "      <td>abbotku01</td>\n",
       "      <td>1998</td>\n",
       "      <td>2</td>\n",
       "      <td>COL</td>\n",
       "      <td>NL</td>\n",
       "      <td>42</td>\n",
       "      <td>71</td>\n",
       "      <td>9</td>\n",
       "      <td>18</td>\n",
       "      <td>...</td>\n",
       "      <td>15.0</td>\n",
       "      <td>0.0</td>\n",
       "      <td>0.0</td>\n",
       "      <td>2</td>\n",
       "      <td>19.0</td>\n",
       "      <td>0.0</td>\n",
       "      <td>1.0</td>\n",
       "      <td>0.0</td>\n",
       "      <td>2.0</td>\n",
       "      <td>2.0</td>\n",
       "    </tr>\n",
       "    <tr>\n",
       "      <th>4</th>\n",
       "      <td>76647</td>\n",
       "      <td>abbotpa01</td>\n",
       "      <td>1998</td>\n",
       "      <td>1</td>\n",
       "      <td>SEA</td>\n",
       "      <td>AL</td>\n",
       "      <td>4</td>\n",
       "      <td>0</td>\n",
       "      <td>0</td>\n",
       "      <td>0</td>\n",
       "      <td>...</td>\n",
       "      <td>0.0</td>\n",
       "      <td>0.0</td>\n",
       "      <td>0.0</td>\n",
       "      <td>0</td>\n",
       "      <td>0.0</td>\n",
       "      <td>0.0</td>\n",
       "      <td>0.0</td>\n",
       "      <td>0.0</td>\n",
       "      <td>0.0</td>\n",
       "      <td>0.0</td>\n",
       "    </tr>\n",
       "  </tbody>\n",
       "</table>\n",
       "<p>5 rows × 23 columns</p>\n",
       "</div>"
      ],
      "text/plain": [
       "   index   playerID  yearID  stint teamID lgID   G   AB   R   H  ...    RBI  \\\n",
       "0  76643  abbotje01    1998      1    CHA   AL  89  244  33  68  ...   41.0   \n",
       "1  76644  abbotji01    1998      1    CHA   AL   5    0   0   0  ...    0.0   \n",
       "2  76645  abbotku01    1998      1    OAK   AL  35  123  17  33  ...    9.0   \n",
       "3  76646  abbotku01    1998      2    COL   NL  42   71   9  18  ...   15.0   \n",
       "4  76647  abbotpa01    1998      1    SEA   AL   4    0   0   0  ...    0.0   \n",
       "\n",
       "    SB   CS  BB    SO  IBB  HBP   SH   SF  GIDP  \n",
       "0  3.0  3.0   9  28.0  1.0  0.0  2.0  5.0   2.0  \n",
       "1  0.0  0.0   0   0.0  0.0  0.0  0.0  0.0   0.0  \n",
       "2  2.0  1.0  10  34.0  0.0  1.0  1.0  1.0   3.0  \n",
       "3  0.0  0.0   2  19.0  0.0  1.0  0.0  2.0   2.0  \n",
       "4  0.0  0.0   0   0.0  0.0  0.0  0.0  0.0   0.0  \n",
       "\n",
       "[5 rows x 23 columns]"
      ]
     },
     "execution_count": 320,
     "metadata": {},
     "output_type": "execute_result"
    }
   ],
   "source": [
    "# Create our query\n",
    "batting_data = pullFullTable('batting', engine)\n",
    "    \n",
    "batting_data.head()"
   ]
  },
  {
   "cell_type": "code",
   "execution_count": 321,
   "metadata": {},
   "outputs": [
    {
     "data": {
      "text/html": [
       "<div>\n",
       "<style>\n",
       "    .dataframe thead tr:only-child th {\n",
       "        text-align: right;\n",
       "    }\n",
       "\n",
       "    .dataframe thead th {\n",
       "        text-align: left;\n",
       "    }\n",
       "\n",
       "    .dataframe tbody tr th {\n",
       "        vertical-align: top;\n",
       "    }\n",
       "</style>\n",
       "<table border=\"1\" class=\"dataframe\">\n",
       "  <thead>\n",
       "    <tr style=\"text-align: right;\">\n",
       "      <th></th>\n",
       "      <th></th>\n",
       "      <th>index</th>\n",
       "      <th>stint</th>\n",
       "      <th>G</th>\n",
       "      <th>AB</th>\n",
       "      <th>R</th>\n",
       "      <th>H</th>\n",
       "      <th>2B</th>\n",
       "      <th>3B</th>\n",
       "      <th>HR</th>\n",
       "      <th>RBI</th>\n",
       "      <th>SB</th>\n",
       "      <th>CS</th>\n",
       "      <th>BB</th>\n",
       "      <th>SO</th>\n",
       "      <th>IBB</th>\n",
       "      <th>HBP</th>\n",
       "      <th>SH</th>\n",
       "      <th>SF</th>\n",
       "      <th>GIDP</th>\n",
       "    </tr>\n",
       "    <tr>\n",
       "      <th>playerID</th>\n",
       "      <th>yearID</th>\n",
       "      <th></th>\n",
       "      <th></th>\n",
       "      <th></th>\n",
       "      <th></th>\n",
       "      <th></th>\n",
       "      <th></th>\n",
       "      <th></th>\n",
       "      <th></th>\n",
       "      <th></th>\n",
       "      <th></th>\n",
       "      <th></th>\n",
       "      <th></th>\n",
       "      <th></th>\n",
       "      <th></th>\n",
       "      <th></th>\n",
       "      <th></th>\n",
       "      <th></th>\n",
       "      <th></th>\n",
       "      <th></th>\n",
       "    </tr>\n",
       "  </thead>\n",
       "  <tbody>\n",
       "    <tr>\n",
       "      <th rowspan=\"5\" valign=\"top\">aardsda01</th>\n",
       "      <th>2004</th>\n",
       "      <td>84653</td>\n",
       "      <td>1</td>\n",
       "      <td>11</td>\n",
       "      <td>0</td>\n",
       "      <td>0</td>\n",
       "      <td>0</td>\n",
       "      <td>0</td>\n",
       "      <td>0</td>\n",
       "      <td>0</td>\n",
       "      <td>0.0</td>\n",
       "      <td>0.0</td>\n",
       "      <td>0.0</td>\n",
       "      <td>0</td>\n",
       "      <td>0.0</td>\n",
       "      <td>0.0</td>\n",
       "      <td>0.0</td>\n",
       "      <td>0.0</td>\n",
       "      <td>0.0</td>\n",
       "      <td>0.0</td>\n",
       "    </tr>\n",
       "    <tr>\n",
       "      <th>2006</th>\n",
       "      <td>87329</td>\n",
       "      <td>1</td>\n",
       "      <td>45</td>\n",
       "      <td>2</td>\n",
       "      <td>0</td>\n",
       "      <td>0</td>\n",
       "      <td>0</td>\n",
       "      <td>0</td>\n",
       "      <td>0</td>\n",
       "      <td>0.0</td>\n",
       "      <td>0.0</td>\n",
       "      <td>0.0</td>\n",
       "      <td>0</td>\n",
       "      <td>0.0</td>\n",
       "      <td>0.0</td>\n",
       "      <td>0.0</td>\n",
       "      <td>1.0</td>\n",
       "      <td>0.0</td>\n",
       "      <td>0.0</td>\n",
       "    </tr>\n",
       "    <tr>\n",
       "      <th>2007</th>\n",
       "      <td>88706</td>\n",
       "      <td>1</td>\n",
       "      <td>25</td>\n",
       "      <td>0</td>\n",
       "      <td>0</td>\n",
       "      <td>0</td>\n",
       "      <td>0</td>\n",
       "      <td>0</td>\n",
       "      <td>0</td>\n",
       "      <td>0.0</td>\n",
       "      <td>0.0</td>\n",
       "      <td>0.0</td>\n",
       "      <td>0</td>\n",
       "      <td>0.0</td>\n",
       "      <td>0.0</td>\n",
       "      <td>0.0</td>\n",
       "      <td>0.0</td>\n",
       "      <td>0.0</td>\n",
       "      <td>0.0</td>\n",
       "    </tr>\n",
       "    <tr>\n",
       "      <th>2008</th>\n",
       "      <td>90091</td>\n",
       "      <td>1</td>\n",
       "      <td>47</td>\n",
       "      <td>1</td>\n",
       "      <td>0</td>\n",
       "      <td>0</td>\n",
       "      <td>0</td>\n",
       "      <td>0</td>\n",
       "      <td>0</td>\n",
       "      <td>0.0</td>\n",
       "      <td>0.0</td>\n",
       "      <td>0.0</td>\n",
       "      <td>0</td>\n",
       "      <td>1.0</td>\n",
       "      <td>0.0</td>\n",
       "      <td>0.0</td>\n",
       "      <td>0.0</td>\n",
       "      <td>0.0</td>\n",
       "      <td>0.0</td>\n",
       "    </tr>\n",
       "    <tr>\n",
       "      <th>2009</th>\n",
       "      <td>91476</td>\n",
       "      <td>1</td>\n",
       "      <td>73</td>\n",
       "      <td>0</td>\n",
       "      <td>0</td>\n",
       "      <td>0</td>\n",
       "      <td>0</td>\n",
       "      <td>0</td>\n",
       "      <td>0</td>\n",
       "      <td>0.0</td>\n",
       "      <td>0.0</td>\n",
       "      <td>0.0</td>\n",
       "      <td>0</td>\n",
       "      <td>0.0</td>\n",
       "      <td>0.0</td>\n",
       "      <td>0.0</td>\n",
       "      <td>0.0</td>\n",
       "      <td>0.0</td>\n",
       "      <td>0.0</td>\n",
       "    </tr>\n",
       "  </tbody>\n",
       "</table>\n",
       "</div>"
      ],
      "text/plain": [
       "                  index  stint   G  AB  R  H  2B  3B  HR  RBI   SB   CS  BB  \\\n",
       "playerID  yearID                                                              \n",
       "aardsda01 2004    84653      1  11   0  0  0   0   0   0  0.0  0.0  0.0   0   \n",
       "          2006    87329      1  45   2  0  0   0   0   0  0.0  0.0  0.0   0   \n",
       "          2007    88706      1  25   0  0  0   0   0   0  0.0  0.0  0.0   0   \n",
       "          2008    90091      1  47   1  0  0   0   0   0  0.0  0.0  0.0   0   \n",
       "          2009    91476      1  73   0  0  0   0   0   0  0.0  0.0  0.0   0   \n",
       "\n",
       "                   SO  IBB  HBP   SH   SF  GIDP  \n",
       "playerID  yearID                                 \n",
       "aardsda01 2004    0.0  0.0  0.0  0.0  0.0   0.0  \n",
       "          2006    0.0  0.0  0.0  1.0  0.0   0.0  \n",
       "          2007    0.0  0.0  0.0  0.0  0.0   0.0  \n",
       "          2008    1.0  0.0  0.0  0.0  0.0   0.0  \n",
       "          2009    0.0  0.0  0.0  0.0  0.0   0.0  "
      ]
     },
     "execution_count": 321,
     "metadata": {},
     "output_type": "execute_result"
    }
   ],
   "source": [
    "# Drop non-numeric team/league columns\n",
    "batting_data.drop(['teamID','lgID'], axis = 1)\n",
    "\n",
    "# Add data from players who had multiple stints\n",
    "batting_data.groupby(['playerID','yearID']).sum().head()"
   ]
  },
  {
   "cell_type": "code",
   "execution_count": 322,
   "metadata": {},
   "outputs": [
    {
     "name": "stdout",
     "output_type": "stream",
     "text": [
      "(27681, 7)\n",
      "    playerID  yearID   G       OBP       SLG  HR   RBI\n",
      "0  abbotje01    1998  89  0.298450  0.491803  12  41.0\n",
      "1  abbotji01    1998   5  0.000000  0.000000   0   0.0\n",
      "2  abbotku01    1998  35  0.325926  0.390244   2   9.0\n",
      "3  abbotku01    1998  42  0.276316  0.464789   3  15.0\n",
      "4  abbotpa01    1998   4  0.000000  0.000000   0   0.0\n"
     ]
    }
   ],
   "source": [
    "# Create new variables and select only them (fill NaN with 0)\n",
    "batting_data['OBP'] = (batting_data['H'] + \n",
    "                       batting_data['BB'] + \n",
    "                       batting_data['HBP']).divide(batting_data['AB'] + \n",
    "                                                   batting_data['BB'] + \n",
    "                                                   batting_data['HBP'] + \n",
    "                                                   batting_data['SF']).fillna(0)\n",
    "\n",
    "batting_data['SLG'] = (batting_data['H'] + \n",
    "                       batting_data['2B'] + \n",
    "                       2 * batting_data['3B'] + \n",
    "                       3 * batting_data['HR']).divide(batting_data['AB']).fillna(0)\n",
    "\n",
    "batting_trimmed = batting_data[['playerID', 'yearID', 'G', 'OBP', 'SLG', 'HR', 'RBI']]\n",
    "\n",
    "# Fill \"NaN\" values for OBP/SLG with 0\n",
    "print(batting_trimmed.shape)\n",
    "print(batting_trimmed.head())"
   ]
  },
  {
   "cell_type": "markdown",
   "metadata": {},
   "source": [
    "### Now we'll pull the People and Free Agents and join People to Batting, and \n",
    "\n",
    "Note: I tried to do the join directly with SQL and it got mad, so I'm going to do it here instead"
   ]
  },
  {
   "cell_type": "code",
   "execution_count": 323,
   "metadata": {},
   "outputs": [
    {
     "name": "stdout",
     "output_type": "stream",
     "text": [
      "(19370, 25) (7687, 9)\n",
      "Index(['index', 'playerID', 'birthYear', 'birthMonth', 'birthDay',\n",
      "       'birthCountry', 'birthState', 'birthCity', 'deathYear', 'deathMonth',\n",
      "       'deathDay', 'deathCountry', 'deathState', 'deathCity', 'nameFirst',\n",
      "       'nameLast', 'nameGiven', 'weight', 'height', 'bats', 'throws', 'debut',\n",
      "       'finalGame', 'retroID', 'bbrefID'],\n",
      "      dtype='object') Index(['index', 'Age', 'Destination', 'Full_Name', 'Origin', 'WAR_3',\n",
      "       'nameFirst', 'nameLast', 'Year'],\n",
      "      dtype='object')\n"
     ]
    }
   ],
   "source": [
    "# Bring in people and free agents\n",
    "people = pullFullTable('people', engine)\n",
    "free_agents = pullFullTable('free_agents', engine)\n",
    "\n",
    "print(people.shape, free_agents.shape)\n",
    "print(people.columns, free_agents.columns)"
   ]
  },
  {
   "cell_type": "code",
   "execution_count": 324,
   "metadata": {},
   "outputs": [
    {
     "name": "stdout",
     "output_type": "stream",
     "text": [
      "(27681, 9)\n",
      "Index(['playerID', 'yearID', 'G', 'OBP', 'SLG', 'HR', 'RBI', 'nameFirst',\n",
      "       'nameLast'],\n",
      "      dtype='object')\n"
     ]
    }
   ],
   "source": [
    "# Join people to batting, adding ONLY nameLast/nameFirst\n",
    "people_trimmed = people[['playerID', 'nameFirst', 'nameLast']]\n",
    "\n",
    "batting_w_people = pd.merge(batting_trimmed, people_trimmed, on = 'playerID', how = 'inner')\n",
    "print(batting_w_people.shape)\n",
    "print(batting_w_people.columns)"
   ]
  },
  {
   "cell_type": "code",
   "execution_count": 325,
   "metadata": {
    "collapsed": true
   },
   "outputs": [],
   "source": [
    "# Make the yearID into a datetime object\n",
    "batting_w_people['yearID'] = pd.to_datetime(batting_w_people['yearID'], format = '%Y')"
   ]
  },
  {
   "cell_type": "code",
   "execution_count": 326,
   "metadata": {},
   "outputs": [
    {
     "name": "stdout",
     "output_type": "stream",
     "text": [
      "(6202, 16)\n",
      "Index(['index', 'Age', 'Destination', 'Full_Name', 'Origin', 'WAR_3',\n",
      "       'nameFirst', 'nameLast', 'Year', 'playerID', 'yearID', 'G', 'OBP',\n",
      "       'SLG', 'HR', 'RBI'],\n",
      "      dtype='object')\n",
      "   index  Age          Destination       Full_Name Origin  WAR_3 nameFirst  \\\n",
      "0      0   28     Seattle Mariners    Allen Watson    LAA    1.9     Allen   \n",
      "1      1   30   Pittsburgh Pirates  Frank Castillo    DET   -2.5     Frank   \n",
      "2      2   27  Los Angeles Dodgers  Robinson Checo    BOS    0.1  Robinson   \n",
      "3      3   31    Toronto Blue Jays       Pat Kelly    STL   -0.2       Pat   \n",
      "4      6   28   Pittsburgh Pirates     Brad Clontz    NYM   -1.1      Brad   \n",
      "\n",
      "   nameLast       Year   playerID     yearID   G       OBP       SLG  HR   RBI  \n",
      "0    Watson 1998-01-01  watsoal01 1998-01-01  28  0.000000  0.000000   0   0.0  \n",
      "1  Castillo 1998-01-01  castifr01 1998-01-01  27  0.000000  0.000000   0   0.0  \n",
      "2     Checo 1998-01-01  checoro01 1998-01-01   2  0.000000  0.000000   0   0.0  \n",
      "3     Kelly 1998-01-01  kellypa03 1998-01-01  53  0.284024  0.326797   4  14.0  \n",
      "4    Clontz 1998-01-01  clontbr01 1998-01-01  18  0.000000  0.000000   0   0.0  \n"
     ]
    }
   ],
   "source": [
    "# Join based on nameFirst/nameLast\n",
    "free_agents_batting = pd.merge(free_agents, batting_w_people, \n",
    "                               left_on = ['nameFirst', 'nameLast', 'Year'],\n",
    "                               right_on = ['nameFirst', 'nameLast', 'yearID'])\n",
    "print(free_agents_batting.shape)\n",
    "print(free_agents_batting.columns)\n",
    "print(free_agents_batting.head())"
   ]
  },
  {
   "cell_type": "code",
   "execution_count": 327,
   "metadata": {},
   "outputs": [
    {
     "name": "stdout",
     "output_type": "stream",
     "text": [
      "   Age          Destination Origin  WAR_3 nameFirst  nameLast   playerID  \\\n",
      "0   28     Seattle Mariners    LAA    1.9     Allen    Watson  watsoal01   \n",
      "1   30   Pittsburgh Pirates    DET   -2.5     Frank  Castillo  castifr01   \n",
      "2   27  Los Angeles Dodgers    BOS    0.1  Robinson     Checo  checoro01   \n",
      "3   31    Toronto Blue Jays    STL   -0.2       Pat     Kelly  kellypa03   \n",
      "4   28   Pittsburgh Pirates    NYM   -1.1      Brad    Clontz  clontbr01   \n",
      "\n",
      "      yearID   G       OBP       SLG  HR   RBI  \n",
      "0 1998-01-01  28  0.000000  0.000000   0   0.0  \n",
      "1 1998-01-01  27  0.000000  0.000000   0   0.0  \n",
      "2 1998-01-01   2  0.000000  0.000000   0   0.0  \n",
      "3 1998-01-01  53  0.284024  0.326797   4  14.0  \n",
      "4 1998-01-01  18  0.000000  0.000000   0   0.0  \n"
     ]
    }
   ],
   "source": [
    "# Pull out only the desired columns\n",
    "free_agents_batting = free_agents_batting.drop(['index', 'Full_Name', 'Year'], axis = 1)\n",
    "print(free_agents_batting.head())"
   ]
  },
  {
   "cell_type": "markdown",
   "metadata": {},
   "source": [
    "## Task 2: Add positions\n",
    "\n",
    "This will require data from our new \"free_agents_batting\" and \"appearances\". Basically:\n",
    "\n",
    "* Pull appearances data\n",
    "* Collapse \"appearances\" data into positions\n",
    "* Join it with free_agents_batting data"
   ]
  },
  {
   "cell_type": "code",
   "execution_count": 328,
   "metadata": {},
   "outputs": [
    {
     "name": "stdout",
     "output_type": "stream",
     "text": [
      "   index  yearID teamID lgID   playerID  G_all    GS  G_batting  G_defense  \\\n",
      "0  76591    1998    CHA   AL  abbotje01     89  61.0         89       76.0   \n",
      "1  76592    1998    CHA   AL  abbotji01      5   5.0          0        5.0   \n",
      "2  76593    1998    COL   NL  abbotku01     42  15.0         42       25.0   \n",
      "3  76594    1998    OAK   AL  abbotku01     35  32.0         35       32.0   \n",
      "4  76595    1998    SEA   AL  abbotpa01      4   4.0          0        4.0   \n",
      "\n",
      "   G_p  ...   G_2b  G_3b  G_ss  G_lf  G_cf  G_rf  G_of  G_dh  G_ph  G_pr  \n",
      "0    0  ...      0     0     0    20    38    27    76   2.0  15.0   0.0  \n",
      "1    5  ...      0     0     0     0     0     0     0   0.0   0.0   0.0  \n",
      "2    0  ...      7     3     7     4     0     5     9   1.0  19.0   1.0  \n",
      "3    0  ...      0     1    28     5     0     1     5   3.0   1.0   1.0  \n",
      "4    4  ...      0     0     0     0     0     0     0   0.0   0.0   0.0  \n",
      "\n",
      "[5 rows x 22 columns]\n"
     ]
    }
   ],
   "source": [
    "# Bring in Appearances data to add positions\n",
    "appearances = pullFullTable('appearances', engine)\n",
    "    \n",
    "print(appearances.head())"
   ]
  },
  {
   "cell_type": "code",
   "execution_count": 329,
   "metadata": {},
   "outputs": [
    {
     "name": "stdout",
     "output_type": "stream",
     "text": [
      "                  G_p  G_c  G_1b  G_2b  G_3b  G_ss  G_lf  G_cf  G_rf  G_of  \\\n",
      "playerID  yearID                                                             \n",
      "aardsda01 2004     11    0     0     0     0     0     0     0     0     0   \n",
      "          2006     45    0     0     0     0     0     0     0     0     0   \n",
      "          2007     25    0     0     0     0     0     0     0     0     0   \n",
      "          2008     47    0     0     0     0     0     0     0     0     0   \n",
      "          2009     73    0     0     0     0     0     0     0     0     0   \n",
      "\n",
      "                  G_dh  \n",
      "playerID  yearID        \n",
      "aardsda01 2004     0.0  \n",
      "          2006     0.0  \n",
      "          2007     0.0  \n",
      "          2008     0.0  \n",
      "          2009     0.0  \n"
     ]
    }
   ],
   "source": [
    "# Subset to only positional data and group by playerID/yearID\n",
    "appearances_compact = appearances.drop(['index', 'teamID','lgID', 'G_batting', \n",
    "                                        'G_defense','G_all','GS', 'G_ph', 'G_pr'], \n",
    "                                       axis = 1).groupby(['playerID','yearID']).sum()\n",
    "\n",
    "# Check data\n",
    "print(appearances_compact.head())"
   ]
  },
  {
   "cell_type": "code",
   "execution_count": 330,
   "metadata": {},
   "outputs": [
    {
     "name": "stdout",
     "output_type": "stream",
     "text": [
      "         playerID  yearID Position  Games\n",
      "279010  zuninmi01    2016     G_dh    2.0\n",
      "279011  zuninmi01    2017     G_dh    2.0\n",
      "279012   zychto01    2015     G_dh    0.0\n",
      "279013   zychto01    2016     G_dh    0.0\n",
      "279014   zychto01    2017     G_dh    0.0\n"
     ]
    }
   ],
   "source": [
    "# Figure out primary position by melting, then grouping and finding the max value\n",
    "appearances_melt = pd.melt(appearances_compact.reset_index(), id_vars= ['playerID', 'yearID'],\n",
    "                           value_name = 'Games', var_name = 'Position')\n",
    "print(appearances_melt.tail())"
   ]
  },
  {
   "cell_type": "code",
   "execution_count": 331,
   "metadata": {},
   "outputs": [
    {
     "name": "stdout",
     "output_type": "stream",
     "text": [
      "        playerID  yearID Position  Games\n",
      "50725  zuninmi01    2016        C   52.0\n",
      "50726  zuninmi01    2017        C  120.0\n",
      "25362   zychto01    2015        P   13.0\n",
      "25363   zychto01    2016        P   12.0\n",
      "25364   zychto01    2017        P   45.0\n"
     ]
    }
   ],
   "source": [
    "# Grab the index for the maximum games\n",
    "primary_idx = appearances_melt.groupby(['playerID','yearID'])['Games'].idxmax()\n",
    "\n",
    "# Use it to screen out the proper rows\n",
    "primary_position = appearances_melt.loc[primary_idx]\n",
    "\n",
    "# Turn the \"Position\" Column into the right contents by pulling just the position and capitalizing\n",
    "primary_position['Position'] = primary_position.Position.str.split(\"_\").str.get(1).str.upper()\n",
    "print(primary_position.tail())"
   ]
  },
  {
   "cell_type": "code",
   "execution_count": 332,
   "metadata": {},
   "outputs": [],
   "source": [
    "# Finally, turn the yearID into a Datetime\n",
    "primary_position['yearID'] = pd.to_datetime(primary_position.yearID, format = '%Y')"
   ]
  },
  {
   "cell_type": "code",
   "execution_count": 333,
   "metadata": {},
   "outputs": [
    {
     "name": "stdout",
     "output_type": "stream",
     "text": [
      "   Age          Destination Origin  WAR_3 nameFirst  nameLast   playerID  \\\n",
      "0   28     Seattle Mariners    LAA    1.9     Allen    Watson  watsoal01   \n",
      "1   30   Pittsburgh Pirates    DET   -2.5     Frank  Castillo  castifr01   \n",
      "2   27  Los Angeles Dodgers    BOS    0.1  Robinson     Checo  checoro01   \n",
      "3   31    Toronto Blue Jays    STL   -0.2       Pat     Kelly  kellypa03   \n",
      "4   28   Pittsburgh Pirates    NYM   -1.1      Brad    Clontz  clontbr01   \n",
      "\n",
      "      yearID   G       OBP       SLG  HR   RBI Position  \n",
      "0 1998-01-01  28  0.000000  0.000000   0   0.0        P  \n",
      "1 1998-01-01  27  0.000000  0.000000   0   0.0        P  \n",
      "2 1998-01-01   2  0.000000  0.000000   0   0.0        P  \n",
      "3 1998-01-01  53  0.284024  0.326797   4  14.0       2B  \n",
      "4 1998-01-01  18  0.000000  0.000000   0   0.0        P  \n",
      "(6202, 14)\n"
     ]
    }
   ],
   "source": [
    "# Do the join on the 6202 x 13 free_agents_batting\n",
    "# Join based on nameFirst/nameLast\n",
    "fa_bat_pos = pd.merge(free_agents_batting, primary_position, \n",
    "                      on = ['playerID', 'yearID']).drop(['Games'], axis = 1)\n",
    "print(fa_bat_pos.head())\n",
    "print(fa_bat_pos.shape)"
   ]
  },
  {
   "cell_type": "markdown",
   "metadata": {},
   "source": [
    "## Task 3 Add Team WAR for position\n",
    "\n",
    "Basically I see this as:\n",
    "\n",
    "1. Load the Team WAR data\n",
    "2. Change column names to be more concise\n",
    "3. Join it to the existing data frame using yearID + position. This should necessarily remove pitchers"
   ]
  },
  {
   "cell_type": "code",
   "execution_count": 334,
   "metadata": {},
   "outputs": [
    {
     "name": "stdout",
     "output_type": "stream",
     "text": [
      "<class 'pandas.core.frame.DataFrame'>\n",
      "RangeIndex: 180 entries, 0 to 179\n",
      "Data columns (total 32 columns):\n",
      "Angels          180 non-null float64\n",
      "Astros          165 non-null float64\n",
      "Athletics       180 non-null float64\n",
      "Blue Jays       180 non-null float64\n",
      "Braves          160 non-null float64\n",
      "Brewers         163 non-null float64\n",
      "Cardinals       161 non-null float64\n",
      "Cubs            160 non-null float64\n",
      "Diamondbacks    167 non-null float64\n",
      "Dodgers         163 non-null float64\n",
      "Giants          162 non-null float64\n",
      "Indians         180 non-null float64\n",
      "Mariners        180 non-null float64\n",
      "Marlins         162 non-null float64\n",
      "Mets            162 non-null float64\n",
      "Nationals       162 non-null float64\n",
      "Orioles         180 non-null float64\n",
      "Padres          164 non-null float64\n",
      "Phillies        162 non-null float64\n",
      "Pirates         162 non-null float64\n",
      "Position        180 non-null object\n",
      "Rangers         180 non-null float64\n",
      "Rays            180 non-null float64\n",
      "Red Sox         180 non-null float64\n",
      "Reds            162 non-null float64\n",
      "Rockies         166 non-null float64\n",
      "Royals          180 non-null float64\n",
      "Tigers          180 non-null float64\n",
      "Twins           180 non-null float64\n",
      "White Sox       180 non-null float64\n",
      "Yankees         180 non-null float64\n",
      "Year            180 non-null datetime64[ns]\n",
      "dtypes: datetime64[ns](1), float64(30), object(1)\n",
      "memory usage: 45.1+ KB\n",
      "None\n"
     ]
    }
   ],
   "source": [
    "# Pull the data but drop the index\n",
    "position_war = pullFullTable('position_team_war', engine).drop(['index'], axis = 1)\n",
    "print(position_war.info())"
   ]
  },
  {
   "cell_type": "code",
   "execution_count": 335,
   "metadata": {},
   "outputs": [
    {
     "name": "stdout",
     "output_type": "stream",
     "text": [
      "Index(['Angels', 'Astros', 'Athletics', 'Blue Jays', 'Braves', 'Brewers',\n",
      "       'Cardinals', 'Cubs', 'Diamondbacks', 'Dodgers', 'Giants', 'Indians',\n",
      "       'Mariners', 'Marlins', 'Mets', 'Nationals', 'Orioles', 'Padres',\n",
      "       'Phillies', 'Pirates', 'Position', 'Rangers', 'Rays', 'Red Sox', 'Reds',\n",
      "       'Rockies', 'Royals', 'Tigers', 'Twins', 'White Sox', 'Yankees',\n",
      "       'yearID'],\n",
      "      dtype='object')\n"
     ]
    }
   ],
   "source": [
    "# Change the Year to a date-time and call it \"yearID\"\n",
    "position_war['yearID'] = pd.to_datetime(position_war.Year, format = '%Y')\n",
    "position_war = position_war.drop(['Year'], axis = 1)\n",
    "print(position_war.columns)"
   ]
  },
  {
   "cell_type": "code",
   "execution_count": 336,
   "metadata": {},
   "outputs": [
    {
     "name": "stdout",
     "output_type": "stream",
     "text": [
      "{'Angels': 'LAA_WAR', 'Astros': 'HOU_WAR', 'Athletics': 'OAK_WAR', 'Blue Jays': 'TOR_WAR', 'Braves': 'ATL_WAR', 'Brewers': 'MIL_WAR', 'Cardinals': 'STL_WAR', 'Cubs': 'CHN_WAR', 'Diamondbacks': 'ARI_WAR', 'Dodgers': 'LAN_WAR', 'Giants': 'SFN_WAR', 'Indians': 'CLE_WAR', 'Mariners': 'SEA_WAR', 'Marlins': 'MIA_WAR', 'Mets': 'NYN_WAR', 'Nationals': 'WAS_WAR', 'Orioles': 'BAL_WAR', 'Padres': 'SDN_WAR', 'Phillies': 'PHI_WAR', 'Pirates': 'PIT_WAR', 'Rangers': 'TEX_WAR', 'Rays': 'TBR_WAR', 'Red Sox': 'BOS_WAR', 'Reds': 'CIN_WAR', 'Rockies': 'COL_WAR', 'Royals': 'KCR_WAR', 'Tigers': 'DET_WAR', 'Twins': 'MIN_WAR', 'White Sox': 'CHA_WAR', 'Yankees': 'NYA_WAR'}\n"
     ]
    }
   ],
   "source": [
    "# Create a dictionary for converting these to abbreviations\n",
    "team_dict = {'Angels' : 'LAA', 'Astros' : 'HOU', 'Athletics' : 'OAK', 'Blue Jays' : 'TOR', \n",
    "             'Braves' : 'ATL', 'Brewers': 'MIL', 'Cardinals' : 'STL', 'Cubs' : 'CHN',\n",
    "             'Diamondbacks' : 'ARI', 'Dodgers' : 'LAN', 'Giants' : 'SFN', 'Indians' : 'CLE',\n",
    "             'Mariners' : 'SEA', 'Marlins' : 'MIA', 'Mets' : 'NYN', 'Nationals' : 'WAS',\n",
    "             'Orioles' : 'BAL', 'Padres' : 'SDN', 'Phillies' : 'PHI', 'Pirates' : 'PIT', \n",
    "             'Rangers' : 'TEX', 'Rays' : 'TBR', 'Red Sox' : 'BOS', 'Reds' : 'CIN', \n",
    "             'Rockies' : 'COL', 'Royals' : 'KCR', 'Tigers' : 'DET', 'Twins' : 'MIN', \n",
    "             'White Sox' : 'CHA', 'Yankees' : 'NYA'}\n",
    "\n",
    "# Alter it to include WAR\n",
    "team_dict = {key : value + \"_WAR\" for key, value in team_dict.items()}\n",
    "print(team_dict)"
   ]
  },
  {
   "cell_type": "code",
   "execution_count": 337,
   "metadata": {},
   "outputs": [
    {
     "name": "stdout",
     "output_type": "stream",
     "text": [
      "   LAA_WAR  HOU_WAR  OAK_WAR  TOR_WAR  ATL_WAR  MIL_WAR  STL_WAR  CHN_WAR  \\\n",
      "0     -0.2      2.4      0.8      1.9      5.7     -0.2      1.3      0.6   \n",
      "1     -0.8      1.7      0.4      2.0      2.4      1.2      0.4      0.9   \n",
      "2      2.2      3.0      1.5      2.6      2.2      2.6      3.3      2.6   \n",
      "3      2.3      1.4      2.8      0.3      2.4      1.0      1.1      0.1   \n",
      "4     -1.4      0.3      1.8     -0.1     -0.3     -1.4      3.8      0.4   \n",
      "\n",
      "   ARI_WAR  LAN_WAR    ...      TBR_WAR  BOS_WAR  CIN_WAR  COL_WAR  KCR_WAR  \\\n",
      "0      2.8      2.3    ...         -0.3      2.3      1.7      1.1      1.1   \n",
      "1      2.1      0.4    ...          3.3      2.7      1.9     -0.1      0.7   \n",
      "2      2.4      5.6    ...          0.2      1.6     -0.5      0.0      1.0   \n",
      "3      0.7      6.4    ...          0.3      1.8      2.3      0.1      0.0   \n",
      "4      2.0      2.9    ...          1.0      2.4      2.3     -0.7      1.0   \n",
      "\n",
      "   DET_WAR  MIN_WAR  CHA_WAR  NYA_WAR     yearID  \n",
      "0      0.8      0.7      1.0      3.8 1998-01-01  \n",
      "1      3.6      1.7      1.9      0.9 1999-01-01  \n",
      "2      3.6     -1.0      4.1      5.9 2000-01-01  \n",
      "3      2.4      2.4      1.5      2.5 2001-01-01  \n",
      "4     -0.4      2.7      1.0      4.2 2002-01-01  \n",
      "\n",
      "[5 rows x 32 columns]\n"
     ]
    }
   ],
   "source": [
    "position_war = position_war.rename(columns = team_dict)\n",
    "print(position_war.head())"
   ]
  },
  {
   "cell_type": "code",
   "execution_count": 338,
   "metadata": {},
   "outputs": [
    {
     "name": "stdout",
     "output_type": "stream",
     "text": [
      "<class 'pandas.core.frame.DataFrame'>\n",
      "RangeIndex: 180 entries, 0 to 179\n",
      "Data columns (total 32 columns):\n",
      "LAA_WAR     180 non-null float64\n",
      "HOU_WAR     165 non-null float64\n",
      "OAK_WAR     180 non-null float64\n",
      "TOR_WAR     180 non-null float64\n",
      "ATL_WAR     160 non-null float64\n",
      "MIL_WAR     163 non-null float64\n",
      "STL_WAR     161 non-null float64\n",
      "CHN_WAR     160 non-null float64\n",
      "ARI_WAR     167 non-null float64\n",
      "LAN_WAR     163 non-null float64\n",
      "SFN_WAR     162 non-null float64\n",
      "CLE_WAR     180 non-null float64\n",
      "SEA_WAR     180 non-null float64\n",
      "MIA_WAR     162 non-null float64\n",
      "NYN_WAR     162 non-null float64\n",
      "WAS_WAR     162 non-null float64\n",
      "BAL_WAR     180 non-null float64\n",
      "SDN_WAR     164 non-null float64\n",
      "PHI_WAR     162 non-null float64\n",
      "PIT_WAR     162 non-null float64\n",
      "Position    180 non-null object\n",
      "TEX_WAR     180 non-null float64\n",
      "TBR_WAR     180 non-null float64\n",
      "BOS_WAR     180 non-null float64\n",
      "CIN_WAR     162 non-null float64\n",
      "COL_WAR     166 non-null float64\n",
      "KCR_WAR     180 non-null float64\n",
      "DET_WAR     180 non-null float64\n",
      "MIN_WAR     180 non-null float64\n",
      "CHA_WAR     180 non-null float64\n",
      "NYA_WAR     180 non-null float64\n",
      "yearID      180 non-null datetime64[ns]\n",
      "dtypes: datetime64[ns](1), float64(30), object(1)\n",
      "memory usage: 45.1+ KB\n"
     ]
    }
   ],
   "source": [
    "position_war.info()"
   ]
  },
  {
   "cell_type": "markdown",
   "metadata": {},
   "source": [
    "### Now add these WAR data to the batting data, by position/year\n"
   ]
  },
  {
   "cell_type": "code",
   "execution_count": 339,
   "metadata": {},
   "outputs": [
    {
     "name": "stdout",
     "output_type": "stream",
     "text": [
      "<class 'pandas.core.frame.DataFrame'>\n",
      "Int64Index: 6202 entries, 0 to 6201\n",
      "Data columns (total 14 columns):\n",
      "Age            6202 non-null int64\n",
      "Destination    6202 non-null object\n",
      "Origin         6202 non-null object\n",
      "WAR_3          6202 non-null float64\n",
      "nameFirst      6202 non-null object\n",
      "nameLast       6202 non-null object\n",
      "playerID       6202 non-null object\n",
      "yearID         6202 non-null datetime64[ns]\n",
      "G              6202 non-null int64\n",
      "OBP            6202 non-null float64\n",
      "SLG            6202 non-null float64\n",
      "HR             6202 non-null int64\n",
      "RBI            6202 non-null float64\n",
      "Position       6202 non-null object\n",
      "dtypes: datetime64[ns](1), float64(4), int64(3), object(6)\n",
      "memory usage: 726.8+ KB\n"
     ]
    }
   ],
   "source": [
    "fa_bat_pos.info()"
   ]
  },
  {
   "cell_type": "code",
   "execution_count": 340,
   "metadata": {},
   "outputs": [
    {
     "data": {
      "text/plain": [
       "P     3012\n",
       "OF     837\n",
       "C      623\n",
       "3B     365\n",
       "2B     347\n",
       "1B     346\n",
       "SS     279\n",
       "DH     135\n",
       "LF     106\n",
       "RF      77\n",
       "CF      75\n",
       "Name: Position, dtype: int64"
      ]
     },
     "execution_count": 340,
     "metadata": {},
     "output_type": "execute_result"
    }
   ],
   "source": [
    "fa_bat_pos['Position'].value_counts()"
   ]
  },
  {
   "cell_type": "markdown",
   "metadata": {},
   "source": [
    "# ALERT ALERT: Grab Pitcher info and add in to fix this!!"
   ]
  },
  {
   "cell_type": "code",
   "execution_count": 341,
   "metadata": {},
   "outputs": [
    {
     "name": "stdout",
     "output_type": "stream",
     "text": [
      "<class 'pandas.core.frame.DataFrame'>\n",
      "Int64Index: 6202 entries, 0 to 6201\n",
      "Data columns (total 44 columns):\n",
      "Age            6202 non-null int64\n",
      "Destination    6202 non-null object\n",
      "Origin         6202 non-null object\n",
      "WAR_3          6202 non-null float64\n",
      "nameFirst      6202 non-null object\n",
      "nameLast       6202 non-null object\n",
      "playerID       6202 non-null object\n",
      "yearID         6202 non-null datetime64[ns]\n",
      "G              6202 non-null int64\n",
      "OBP            6202 non-null float64\n",
      "SLG            6202 non-null float64\n",
      "HR             6202 non-null int64\n",
      "RBI            6202 non-null float64\n",
      "Position       6202 non-null object\n",
      "LAA_WAR        2353 non-null float64\n",
      "HOU_WAR        2240 non-null float64\n",
      "OAK_WAR        2353 non-null float64\n",
      "TOR_WAR        2353 non-null float64\n",
      "ATL_WAR        2218 non-null float64\n",
      "MIL_WAR        2246 non-null float64\n",
      "STL_WAR        2220 non-null float64\n",
      "CHN_WAR        2218 non-null float64\n",
      "ARI_WAR        2269 non-null float64\n",
      "LAN_WAR        2238 non-null float64\n",
      "SFN_WAR        2237 non-null float64\n",
      "CLE_WAR        2353 non-null float64\n",
      "SEA_WAR        2353 non-null float64\n",
      "MIA_WAR        2231 non-null float64\n",
      "NYN_WAR        2234 non-null float64\n",
      "WAS_WAR        2227 non-null float64\n",
      "BAL_WAR        2353 non-null float64\n",
      "SDN_WAR        2251 non-null float64\n",
      "PHI_WAR        2229 non-null float64\n",
      "PIT_WAR        2232 non-null float64\n",
      "TEX_WAR        2353 non-null float64\n",
      "TBR_WAR        2353 non-null float64\n",
      "BOS_WAR        2353 non-null float64\n",
      "CIN_WAR        2229 non-null float64\n",
      "COL_WAR        2268 non-null float64\n",
      "KCR_WAR        2353 non-null float64\n",
      "DET_WAR        2353 non-null float64\n",
      "MIN_WAR        2353 non-null float64\n",
      "CHA_WAR        2353 non-null float64\n",
      "NYA_WAR        2353 non-null float64\n",
      "dtypes: datetime64[ns](1), float64(34), int64(3), object(6)\n",
      "memory usage: 2.1+ MB\n",
      "None\n"
     ]
    }
   ],
   "source": [
    "# Merge the 2 data frames\n",
    "# This is only the ~2350 position players for now; do a left join\n",
    "fa_bat_team_war = pd.merge(fa_bat_pos, position_war, how = 'left',\n",
    "                           on = ['Position', 'yearID'], )\n",
    "\n",
    "print(fa_bat_team_war.info())"
   ]
  },
  {
   "cell_type": "markdown",
   "metadata": {},
   "source": [
    "## Task ???: Pull Team data\n",
    "\n",
    "Pull this to help with team -> teamID"
   ]
  },
  {
   "cell_type": "code",
   "execution_count": 342,
   "metadata": {},
   "outputs": [
    {
     "name": "stdout",
     "output_type": "stream",
     "text": [
      "   index  yearID lgID teamID franchID divID  Rank    G  Ghome    W  \\\n",
      "0   2265    1998   AL    ANA      ANA     W     2  162   81.0   85   \n",
      "1   2266    1998   NL    ARI      ARI     W     5  162   81.0   65   \n",
      "2   2267    1998   NL    ATL      ATL     E     1  162   81.0  106   \n",
      "3   2268    1998   AL    BAL      BAL     E     4  162   81.0   79   \n",
      "4   2269    1998   AL    BOS      BOS     E     2  162   81.0   92   \n",
      "\n",
      "      ...        DP     FP                  name                         park  \\\n",
      "0     ...       146  0.983        Anaheim Angels   Edison International Field   \n",
      "1     ...       125  0.984  Arizona Diamondbacks            Bank One Ballpark   \n",
      "2     ...       139  0.985        Atlanta Braves                 Turner Field   \n",
      "3     ...       144  0.987     Baltimore Orioles  Oriole Park at Camden Yards   \n",
      "4     ...       128  0.983        Boston Red Sox               Fenway Park II   \n",
      "\n",
      "  attendance  BPF  PPF  teamIDBR  teamIDlahman45  teamIDretro  \n",
      "0  2519280.0  102  102       ANA             ANA          ANA  \n",
      "1  3610290.0  100   99       ARI             ARI          ARI  \n",
      "2  3360860.0  100   98       ATL             ATL          ATL  \n",
      "3  3684650.0   98   97       BAL             BAL          BAL  \n",
      "4  2314704.0  102  101       BOS             BOS          BOS  \n",
      "\n",
      "[5 rows x 49 columns]\n",
      "['index', 'yearID', 'lgID', 'teamID', 'franchID', 'divID', 'Rank', 'G', 'Ghome', 'W', 'L', 'DivWin', 'WCWin', 'LgWin', 'WSWin', 'R', 'AB', 'H', '2B', '3B', 'HR', 'BB', 'SO', 'SB', 'CS', 'HBP', 'SF', 'RA', 'ER', 'ERA', 'CG', 'SHO', 'SV', 'IPouts', 'HA', 'HRA', 'BBA', 'SOA', 'E', 'DP', 'FP', 'name', 'park', 'attendance', 'BPF', 'PPF', 'teamIDBR', 'teamIDlahman45', 'teamIDretro']\n"
     ]
    }
   ],
   "source": [
    "# Change column names to team abbreviations using Team Data\n",
    "teams = pullFullTable('teams', engine)\n",
    "print(teams.head())\n",
    "print(list(teams.columns))"
   ]
  },
  {
   "cell_type": "code",
   "execution_count": 343,
   "metadata": {},
   "outputs": [
    {
     "data": {
      "text/plain": [
       "PIT    20\n",
       "OAK    20\n",
       "CHA    20\n",
       "NYN    20\n",
       "DET    20\n",
       "TOR    20\n",
       "PHI    20\n",
       "MIL    20\n",
       "BOS    20\n",
       "COL    20\n",
       "CLE    20\n",
       "ARI    20\n",
       "BAL    20\n",
       "TEX    20\n",
       "KCA    20\n",
       "CHN    20\n",
       "LAN    20\n",
       "TBA    20\n",
       "CIN    20\n",
       "NYA    20\n",
       "HOU    20\n",
       "ATL    20\n",
       "SEA    20\n",
       "SDN    20\n",
       "SLN    20\n",
       "SFN    20\n",
       "MIN    20\n",
       "FLO    14\n",
       "WAS    13\n",
       "LAA    13\n",
       "MON     7\n",
       "ANA     7\n",
       "MIA     6\n",
       "Name: teamID, dtype: int64"
      ]
     },
     "execution_count": 343,
     "metadata": {},
     "output_type": "execute_result"
    }
   ],
   "source": [
    "# Pull just a handful of these columns (W, G, teamID, name, yearID)\n",
    "teams_short = teams[['yearID', 'teamID', 'name', 'W', 'G']]\n",
    "teams_short['teamID'].value_counts()"
   ]
  },
  {
   "cell_type": "code",
   "execution_count": 344,
   "metadata": {},
   "outputs": [
    {
     "name": "stderr",
     "output_type": "stream",
     "text": [
      "/home/matt/anaconda3/lib/python3.6/site-packages/ipykernel_launcher.py:10: SettingWithCopyWarning: \n",
      "A value is trying to be set on a copy of a slice from a DataFrame.\n",
      "Try using .loc[row_indexer,col_indexer] = value instead\n",
      "\n",
      "See the caveats in the documentation: http://pandas.pydata.org/pandas-docs/stable/indexing.html#indexing-view-versus-copy\n",
      "  # Remove the CWD from sys.path while we load stuff.\n",
      "/home/matt/anaconda3/lib/python3.6/site-packages/ipykernel_launcher.py:11: SettingWithCopyWarning: \n",
      "A value is trying to be set on a copy of a slice from a DataFrame.\n",
      "Try using .loc[row_indexer,col_indexer] = value instead\n",
      "\n",
      "See the caveats in the documentation: http://pandas.pydata.org/pandas-docs/stable/indexing.html#indexing-view-versus-copy\n",
      "  # This is added back by InteractiveShellApp.init_path()\n",
      "/home/matt/anaconda3/lib/python3.6/site-packages/ipykernel_launcher.py:15: SettingWithCopyWarning: \n",
      "A value is trying to be set on a copy of a slice from a DataFrame.\n",
      "Try using .loc[row_indexer,col_indexer] = value instead\n",
      "\n",
      "See the caveats in the documentation: http://pandas.pydata.org/pandas-docs/stable/indexing.html#indexing-view-versus-copy\n",
      "  from ipykernel import kernelapp as app\n"
     ]
    },
    {
     "data": {
      "text/html": [
       "<div>\n",
       "<style>\n",
       "    .dataframe thead tr:only-child th {\n",
       "        text-align: right;\n",
       "    }\n",
       "\n",
       "    .dataframe thead th {\n",
       "        text-align: left;\n",
       "    }\n",
       "\n",
       "    .dataframe tbody tr th {\n",
       "        vertical-align: top;\n",
       "    }\n",
       "</style>\n",
       "<table border=\"1\" class=\"dataframe\">\n",
       "  <thead>\n",
       "    <tr style=\"text-align: right;\">\n",
       "      <th></th>\n",
       "      <th>yearID</th>\n",
       "      <th>teamID</th>\n",
       "      <th>name</th>\n",
       "      <th>W_Pct</th>\n",
       "    </tr>\n",
       "  </thead>\n",
       "  <tbody>\n",
       "    <tr>\n",
       "      <th>0</th>\n",
       "      <td>1998</td>\n",
       "      <td>LAA</td>\n",
       "      <td>Los Angeles Angels of Anaheim</td>\n",
       "      <td>0.524691</td>\n",
       "    </tr>\n",
       "    <tr>\n",
       "      <th>1</th>\n",
       "      <td>1998</td>\n",
       "      <td>ARI</td>\n",
       "      <td>Arizona Diamondbacks</td>\n",
       "      <td>0.401235</td>\n",
       "    </tr>\n",
       "    <tr>\n",
       "      <th>2</th>\n",
       "      <td>1998</td>\n",
       "      <td>ATL</td>\n",
       "      <td>Atlanta Braves</td>\n",
       "      <td>0.654321</td>\n",
       "    </tr>\n",
       "    <tr>\n",
       "      <th>3</th>\n",
       "      <td>1998</td>\n",
       "      <td>BAL</td>\n",
       "      <td>Baltimore Orioles</td>\n",
       "      <td>0.487654</td>\n",
       "    </tr>\n",
       "    <tr>\n",
       "      <th>4</th>\n",
       "      <td>1998</td>\n",
       "      <td>BOS</td>\n",
       "      <td>Boston Red Sox</td>\n",
       "      <td>0.567901</td>\n",
       "    </tr>\n",
       "  </tbody>\n",
       "</table>\n",
       "</div>"
      ],
      "text/plain": [
       "   yearID teamID                           name     W_Pct\n",
       "0    1998    LAA  Los Angeles Angels of Anaheim  0.524691\n",
       "1    1998    ARI           Arizona Diamondbacks  0.401235\n",
       "2    1998    ATL                 Atlanta Braves  0.654321\n",
       "3    1998    BAL              Baltimore Orioles  0.487654\n",
       "4    1998    BOS                 Boston Red Sox  0.567901"
      ]
     },
     "execution_count": 344,
     "metadata": {},
     "output_type": "execute_result"
    }
   ],
   "source": [
    "# Convert altered names/teamID \n",
    "name_change = {'Anaheim Angels': 'Los Angeles Angels of Anaheim', \n",
    "                   'Tampa Bay Devil Rays' : 'Tampa Bay Rays',\n",
    "                   'Montreal Expos' : 'Washington Nationals', \n",
    "                   'Florida Marlins' : 'Miami Marlins'\n",
    "                  }\n",
    "    \n",
    "origin_change = {'ANA': 'LAA', 'TBD':'TBR', 'MON':'WAS', 'FLO':'MIA'}\n",
    "\n",
    "teams_short['name'] = teams_short['name'].replace(name_change)\n",
    "teams_short['teamID'] = teams_short['teamID'].replace(origin_change)\n",
    "\n",
    "# Change W/G to W_Pct\n",
    "    \n",
    "teams_short['W_Pct'] = teams_short['W'].divide(teams_short.G)\n",
    "\n",
    "teams_short = teams_short.drop(['W','G'], axis = 1)\n",
    "\n",
    "teams_short.head()"
   ]
  },
  {
   "cell_type": "code",
   "execution_count": 345,
   "metadata": {},
   "outputs": [
    {
     "data": {
      "text/plain": [
       "Boston Red Sox                   20\n",
       "Seattle Mariners                 20\n",
       "New York Yankees                 20\n",
       "Colorado Rockies                 20\n",
       "Cleveland Indians                20\n",
       "Milwaukee Brewers                20\n",
       "San Diego Padres                 20\n",
       "Cincinnati Reds                  20\n",
       "Oakland Athletics                20\n",
       "Chicago Cubs                     20\n",
       "Washington Nationals             20\n",
       "Toronto Blue Jays                20\n",
       "Detroit Tigers                   20\n",
       "Miami Marlins                    20\n",
       "San Francisco Giants             20\n",
       "Pittsburgh Pirates               20\n",
       "St. Louis Cardinals              20\n",
       "Kansas City Royals               20\n",
       "Arizona Diamondbacks             20\n",
       "Houston Astros                   20\n",
       "Minnesota Twins                  20\n",
       "Baltimore Orioles                20\n",
       "Los Angeles Angels of Anaheim    20\n",
       "Tampa Bay Rays                   20\n",
       "New York Mets                    20\n",
       "Atlanta Braves                   20\n",
       "Los Angeles Dodgers              20\n",
       "Philadelphia Phillies            20\n",
       "Chicago White Sox                20\n",
       "Texas Rangers                    20\n",
       "Name: name, dtype: int64"
      ]
     },
     "execution_count": 345,
     "metadata": {},
     "output_type": "execute_result"
    }
   ],
   "source": [
    "teams_short.name.value_counts()"
   ]
  },
  {
   "cell_type": "markdown",
   "metadata": {},
   "source": [
    "### Next task: Use these data to change the free_agents data a bit\n",
    "\n",
    "We need to convert the Destination data from free_agents...this is where to do it!\n",
    "\n",
    "*This will also remove the FAs without teams*"
   ]
  },
  {
   "cell_type": "code",
   "execution_count": 346,
   "metadata": {},
   "outputs": [
    {
     "data": {
      "text/plain": [
       "Los Angeles Dodgers              269\n",
       "Chicago Cubs                     248\n",
       "New York Mets                    247\n",
       "New York Yankees                 243\n",
       "Washington Nationals             239\n",
       "Texas Rangers                    237\n",
       "Philadelphia Phillies            236\n",
       "Cleveland Indians                235\n",
       "Boston Red Sox                   235\n",
       "Colorado Rockies                 231\n",
       "San Diego Padres                 223\n",
       "Pittsburgh Pirates               223\n",
       "Baltimore Orioles                221\n",
       "Cincinnati Reds                  217\n",
       "Kansas City Royals               215\n",
       "Toronto Blue Jays                213\n",
       "Tampa Bay Rays                   210\n",
       "San Francisco Giants             208\n",
       "Atlanta Braves                   194\n",
       "Seattle Mariners                 188\n",
       "Milwaukee Brewers                188\n",
       "St. Louis Cardinals              181\n",
       "Houston Astros                   178\n",
       "Arizona Diamondbacks             176\n",
       "Chicago White Sox                171\n",
       "Miami Marlins                    167\n",
       "Detroit Tigers                   166\n",
       "Oakland Athletics                140\n",
       "Los Angeles Angels of Anaheim    139\n",
       "Minnesota Twins                  132\n",
       "                                  27\n",
       "Los Angeles Angels                 5\n",
       "Name: Destination, dtype: int64"
      ]
     },
     "execution_count": 346,
     "metadata": {},
     "output_type": "execute_result"
    }
   ],
   "source": [
    "# Check destination data\n",
    "fa_bat_team_war.Destination.value_counts()"
   ]
  },
  {
   "cell_type": "code",
   "execution_count": 347,
   "metadata": {},
   "outputs": [
    {
     "data": {
      "text/plain": [
       "Los Angeles Dodgers              269\n",
       "Chicago Cubs                     248\n",
       "New York Mets                    247\n",
       "New York Yankees                 243\n",
       "Washington Nationals             239\n",
       "Texas Rangers                    237\n",
       "Philadelphia Phillies            236\n",
       "Boston Red Sox                   235\n",
       "Cleveland Indians                235\n",
       "Colorado Rockies                 231\n",
       "Pittsburgh Pirates               223\n",
       "San Diego Padres                 223\n",
       "Baltimore Orioles                221\n",
       "Cincinnati Reds                  217\n",
       "Kansas City Royals               215\n",
       "Toronto Blue Jays                213\n",
       "Tampa Bay Rays                   210\n",
       "San Francisco Giants             208\n",
       "Atlanta Braves                   194\n",
       "Seattle Mariners                 188\n",
       "Milwaukee Brewers                188\n",
       "St. Louis Cardinals              181\n",
       "Houston Astros                   178\n",
       "Arizona Diamondbacks             176\n",
       "Chicago White Sox                171\n",
       "Miami Marlins                    167\n",
       "Detroit Tigers                   166\n",
       "Los Angeles Angels of Anaheim    144\n",
       "Oakland Athletics                140\n",
       "Minnesota Twins                  132\n",
       "                                  27\n",
       "Name: Destination, dtype: int64"
      ]
     },
     "execution_count": 347,
     "metadata": {},
     "output_type": "execute_result"
    }
   ],
   "source": [
    "#Fix the weird angels data\n",
    "fa_bat_team_war['Destination'] = fa_bat_team_war['Destination'].replace({'Los Angeles Angels' :\n",
    "                                                                         'Los Angeles Angels of Anaheim'})\n",
    "fa_bat_team_war.Destination.value_counts()"
   ]
  },
  {
   "cell_type": "code",
   "execution_count": 353,
   "metadata": {},
   "outputs": [
    {
     "name": "stdout",
     "output_type": "stream",
     "text": [
      "<class 'pandas.core.frame.DataFrame'>\n",
      "Int64Index: 6202 entries, 0 to 6201\n",
      "Data columns (total 46 columns):\n",
      "Age            6202 non-null int64\n",
      "Destination    6202 non-null object\n",
      "Origin         6202 non-null object\n",
      "WAR_3          6202 non-null float64\n",
      "nameFirst      6202 non-null object\n",
      "nameLast       6202 non-null object\n",
      "playerID       6202 non-null object\n",
      "yearID         6202 non-null datetime64[ns]\n",
      "G              6202 non-null int64\n",
      "OBP            6202 non-null float64\n",
      "SLG            6202 non-null float64\n",
      "HR             6202 non-null int64\n",
      "RBI            6202 non-null float64\n",
      "Position       6202 non-null object\n",
      "LAA_WAR        2353 non-null float64\n",
      "HOU_WAR        2240 non-null float64\n",
      "OAK_WAR        2353 non-null float64\n",
      "TOR_WAR        2353 non-null float64\n",
      "ATL_WAR        2218 non-null float64\n",
      "MIL_WAR        2246 non-null float64\n",
      "STL_WAR        2220 non-null float64\n",
      "CHN_WAR        2218 non-null float64\n",
      "ARI_WAR        2269 non-null float64\n",
      "LAN_WAR        2238 non-null float64\n",
      "SFN_WAR        2237 non-null float64\n",
      "CLE_WAR        2353 non-null float64\n",
      "SEA_WAR        2353 non-null float64\n",
      "MIA_WAR        2231 non-null float64\n",
      "NYN_WAR        2234 non-null float64\n",
      "WAS_WAR        2227 non-null float64\n",
      "BAL_WAR        2353 non-null float64\n",
      "SDN_WAR        2251 non-null float64\n",
      "PHI_WAR        2229 non-null float64\n",
      "PIT_WAR        2232 non-null float64\n",
      "TEX_WAR        2353 non-null float64\n",
      "TBR_WAR        2353 non-null float64\n",
      "BOS_WAR        2353 non-null float64\n",
      "CIN_WAR        2229 non-null float64\n",
      "COL_WAR        2268 non-null float64\n",
      "KCR_WAR        2353 non-null float64\n",
      "DET_WAR        2353 non-null float64\n",
      "MIN_WAR        2353 non-null float64\n",
      "CHA_WAR        2353 non-null float64\n",
      "NYA_WAR        2353 non-null float64\n",
      "teamID         6175 non-null object\n",
      "name           6175 non-null object\n",
      "dtypes: datetime64[ns](1), float64(34), int64(3), object(8)\n",
      "memory usage: 2.2+ MB\n"
     ]
    }
   ],
   "source": [
    "# Do a join to the sub-team DF\n",
    "team_translate = teams_short[['teamID', 'name']].drop_duplicates()\n",
    "\n",
    "\n",
    "fa_bat_team_war_teamID = pd.merge(fa_bat_team_war, team_translate, how = 'left',\n",
    "                          left_on = ['Destination'], right_on = ['name'])\n",
    "fa_bat_team_war_teamID.info()"
   ]
  },
  {
   "cell_type": "markdown",
   "metadata": {},
   "source": [
    "# Final Task: Save the data\n",
    "\n",
    "For now, save a test set"
   ]
  },
  {
   "cell_type": "code",
   "execution_count": 354,
   "metadata": {
    "collapsed": true
   },
   "outputs": [],
   "source": [
    "import pickle\n",
    "\n",
    "test_set = fa_bat_team_war_teamID.dropna()\n",
    "final_data = test_set\n",
    "\n",
    "final_data.to_pickle('final_data.pickle')\n",
    "\n"
   ]
  },
  {
   "cell_type": "code",
   "execution_count": null,
   "metadata": {
    "collapsed": true
   },
   "outputs": [],
   "source": []
  }
 ],
 "metadata": {
  "kernelspec": {
   "display_name": "Python 3",
   "language": "python",
   "name": "python3"
  },
  "language_info": {
   "codemirror_mode": {
    "name": "ipython",
    "version": 3
   },
   "file_extension": ".py",
   "mimetype": "text/x-python",
   "name": "python",
   "nbconvert_exporter": "python",
   "pygments_lexer": "ipython3",
   "version": "3.6.3"
  }
 },
 "nbformat": 4,
 "nbformat_minor": 2
}
