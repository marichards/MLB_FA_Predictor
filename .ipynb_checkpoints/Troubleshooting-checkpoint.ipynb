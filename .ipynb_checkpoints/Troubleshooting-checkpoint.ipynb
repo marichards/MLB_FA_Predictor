{
 "cells": [
  {
   "cell_type": "markdown",
   "metadata": {},
   "source": [
    "# Problem\n",
    "\n",
    "Updating data at end of February, some players aren't getting caught (e.g. Yu Darvish)\n",
    "\n",
    "My goal is to:\n",
    "\n",
    "1. Identify where Darvish is getting lost\n",
    "2. Fix the problem\n",
    "\n",
    "I'll load the necessary things:"
   ]
  },
  {
   "cell_type": "code",
   "execution_count": 6,
   "metadata": {},
   "outputs": [],
   "source": [
    "from dataScraping import * \n",
    "import pandas as pd\n",
    "import numpy as np\n",
    "from sqlalchemy import create_engine\n",
    "from sqlalchemy_utils import database_exists, create_database\n",
    "import psycopg2\n",
    "import math\n",
    "from scipy.stats import zscore\n",
    "from buildFeatureMatrix import *"
   ]
  },
  {
   "cell_type": "markdown",
   "metadata": {},
   "source": [
    "I'm going to replicate the necessary steps for building out the features and see where Darvish disappears\n",
    "\n",
    "First, I'll grab him using free agent data:"
   ]
  },
  {
   "cell_type": "code",
   "execution_count": 2,
   "metadata": {},
   "outputs": [
    {
     "name": "stderr",
     "output_type": "stream",
     "text": [
      "/home/matt/anaconda3/lib/python3.6/site-packages/pandas/core/generic.py:3924: SettingWithCopyWarning: \n",
      "A value is trying to be set on a copy of a slice from a DataFrame\n",
      "\n",
      "See the caveats in the documentation: http://pandas.pydata.org/pandas-docs/stable/indexing.html#indexing-view-versus-copy\n",
      "  self._update_inplace(new_data)\n",
      "/home/matt/Github/MLB_FA_Predictor/dataScraping.py:137: SettingWithCopyWarning: \n",
      "A value is trying to be set on a copy of a slice from a DataFrame.\n",
      "Try using .loc[row_indexer,col_indexer] = value instead\n",
      "\n",
      "See the caveats in the documentation: http://pandas.pydata.org/pandas-docs/stable/indexing.html#indexing-view-versus-copy\n",
      "  all_fa_contracts_real['Length'] = pd.to_numeric(all_fa_contracts_real['Length'])\n",
      "/home/matt/Github/MLB_FA_Predictor/dataScraping.py:141: SettingWithCopyWarning: \n",
      "A value is trying to be set on a copy of a slice from a DataFrame.\n",
      "Try using .loc[row_indexer,col_indexer] = value instead\n",
      "\n",
      "See the caveats in the documentation: http://pandas.pydata.org/pandas-docs/stable/indexing.html#indexing-view-versus-copy\n",
      "  all_fa_contracts_real['Dollars'] = pd.to_numeric(all_fa_contracts_real['Dollars'].str.strip('$').str.replace(',',''))\n"
     ]
    }
   ],
   "source": [
    "# Grab all free agents since 2006\n",
    "all_years = list(range(2006,2018))\n",
    "all_fa_data = getAllFAData(all_years)"
   ]
  },
  {
   "cell_type": "markdown",
   "metadata": {},
   "source": [
    "Now I'll check to make sure he's there for the year 2017"
   ]
  },
  {
   "cell_type": "code",
   "execution_count": 4,
   "metadata": {},
   "outputs": [
    {
     "data": {
      "text/html": [
       "<div>\n",
       "<style>\n",
       "    .dataframe thead tr:only-child th {\n",
       "        text-align: right;\n",
       "    }\n",
       "\n",
       "    .dataframe thead th {\n",
       "        text-align: left;\n",
       "    }\n",
       "\n",
       "    .dataframe tbody tr th {\n",
       "        vertical-align: top;\n",
       "    }\n",
       "</style>\n",
       "<table border=\"1\" class=\"dataframe\">\n",
       "  <thead>\n",
       "    <tr style=\"text-align: right;\">\n",
       "      <th></th>\n",
       "      <th>Age</th>\n",
       "      <th>Full_Name</th>\n",
       "      <th>WAR_3</th>\n",
       "      <th>nameFirst</th>\n",
       "      <th>nameLast</th>\n",
       "      <th>Year</th>\n",
       "      <th>Dollars</th>\n",
       "      <th>Length</th>\n",
       "      <th>Name</th>\n",
       "      <th>Position</th>\n",
       "    </tr>\n",
       "  </thead>\n",
       "  <tbody>\n",
       "    <tr>\n",
       "      <th>2070</th>\n",
       "      <td>31</td>\n",
       "      <td>Yu Darvish</td>\n",
       "      <td>6.5</td>\n",
       "      <td>Yu</td>\n",
       "      <td>Darvish</td>\n",
       "      <td>2017</td>\n",
       "      <td>126000000.0</td>\n",
       "      <td>6</td>\n",
       "      <td>Yu Darvish</td>\n",
       "      <td>P</td>\n",
       "    </tr>\n",
       "  </tbody>\n",
       "</table>\n",
       "</div>"
      ],
      "text/plain": [
       "      Age   Full_Name  WAR_3 nameFirst nameLast  Year      Dollars  Length  \\\n",
       "2070   31  Yu Darvish    6.5        Yu  Darvish  2017  126000000.0       6   \n",
       "\n",
       "            Name Position  \n",
       "2070  Yu Darvish        P  "
      ]
     },
     "execution_count": 4,
     "metadata": {},
     "output_type": "execute_result"
    }
   ],
   "source": [
    "all_fa_data[all_fa_data.nameLast == 'Darvish']"
   ]
  },
  {
   "cell_type": "markdown",
   "metadata": {},
   "source": [
    "Looks good, now I'm going to fast forward to loading from the database, as that's the next time I'd think he'd disappear"
   ]
  },
  {
   "cell_type": "code",
   "execution_count": 10,
   "metadata": {},
   "outputs": [
    {
     "name": "stderr",
     "output_type": "stream",
     "text": [
      "/home/matt/anaconda3/lib/python3.6/site-packages/pandas/core/frame.py:2352: SettingWithCopyWarning: \n",
      "A value is trying to be set on a copy of a slice from a DataFrame.\n",
      "Try using .loc[row_indexer,col_indexer] = value instead\n",
      "\n",
      "See the caveats in the documentation: http://pandas.pydata.org/pandas-docs/stable/indexing.html#indexing-view-versus-copy\n",
      "  self[k1] = value[k2]\n"
     ]
    }
   ],
   "source": [
    "engine = db_connect()\n",
    "pitching_df = createPitchingTable(engine)\n",
    "pitching_fa = addFilterFreeAgents(pitching_df, engine)"
   ]
  },
  {
   "cell_type": "code",
   "execution_count": 11,
   "metadata": {},
   "outputs": [
    {
     "data": {
      "text/html": [
       "<div>\n",
       "<style>\n",
       "    .dataframe thead tr:only-child th {\n",
       "        text-align: right;\n",
       "    }\n",
       "\n",
       "    .dataframe thead th {\n",
       "        text-align: left;\n",
       "    }\n",
       "\n",
       "    .dataframe tbody tr th {\n",
       "        vertical-align: top;\n",
       "    }\n",
       "</style>\n",
       "<table border=\"1\" class=\"dataframe\">\n",
       "  <thead>\n",
       "    <tr style=\"text-align: right;\">\n",
       "      <th></th>\n",
       "      <th>Age</th>\n",
       "      <th>WAR_3</th>\n",
       "      <th>nameFirst</th>\n",
       "      <th>nameLast</th>\n",
       "      <th>Year</th>\n",
       "      <th>Dollars</th>\n",
       "      <th>Length</th>\n",
       "      <th>Position</th>\n",
       "      <th>playerID</th>\n",
       "      <th>yearID</th>\n",
       "      <th>ERA</th>\n",
       "      <th>WHIP</th>\n",
       "      <th>K_9</th>\n",
       "      <th>HR_9</th>\n",
       "      <th>IPouts</th>\n",
       "      <th>W</th>\n",
       "      <th>SV</th>\n",
       "    </tr>\n",
       "  </thead>\n",
       "  <tbody>\n",
       "    <tr>\n",
       "      <th>994</th>\n",
       "      <td>31</td>\n",
       "      <td>6.5</td>\n",
       "      <td>Yu</td>\n",
       "      <td>Darvish</td>\n",
       "      <td>2017</td>\n",
       "      <td>126000000.0</td>\n",
       "      <td>6</td>\n",
       "      <td>P</td>\n",
       "      <td>darviyu01</td>\n",
       "      <td>2017</td>\n",
       "      <td>-0.244162</td>\n",
       "      <td>-0.45139</td>\n",
       "      <td>0.656312</td>\n",
       "      <td>-0.109456</td>\n",
       "      <td>2.42751</td>\n",
       "      <td>1.714552</td>\n",
       "      <td>-0.271589</td>\n",
       "    </tr>\n",
       "  </tbody>\n",
       "</table>\n",
       "</div>"
      ],
      "text/plain": [
       "     Age  WAR_3 nameFirst nameLast  Year      Dollars  Length Position  \\\n",
       "994   31    6.5        Yu  Darvish  2017  126000000.0       6        P   \n",
       "\n",
       "      playerID  yearID       ERA     WHIP       K_9      HR_9   IPouts  \\\n",
       "994  darviyu01    2017 -0.244162 -0.45139  0.656312 -0.109456  2.42751   \n",
       "\n",
       "            W        SV  \n",
       "994  1.714552 -0.271589  "
      ]
     },
     "execution_count": 11,
     "metadata": {},
     "output_type": "execute_result"
    }
   ],
   "source": [
    "pitching_fa[pitching_fa.nameLast == 'Darvish']"
   ]
  },
  {
   "cell_type": "markdown",
   "metadata": {},
   "source": [
    "He's still there, so I haven't lost him yet. I'll do the next couple steps, though they shouldn't affect much:"
   ]
  },
  {
   "cell_type": "code",
   "execution_count": 13,
   "metadata": {},
   "outputs": [
    {
     "name": "stderr",
     "output_type": "stream",
     "text": [
      "/home/matt/anaconda3/lib/python3.6/site-packages/pandas/core/indexing.py:179: SettingWithCopyWarning: \n",
      "A value is trying to be set on a copy of a slice from a DataFrame\n",
      "\n",
      "See the caveats in the documentation: http://pandas.pydata.org/pandas-docs/stable/indexing.html#indexing-view-versus-copy\n",
      "  self._setitem_with_indexer(indexer, value)\n",
      "/home/matt/Github/MLB_FA_Predictor/buildFeatureMatrix.py:185: SettingWithCopyWarning: \n",
      "A value is trying to be set on a copy of a slice from a DataFrame\n",
      "\n",
      "See the caveats in the documentation: http://pandas.pydata.org/pandas-docs/stable/indexing.html#indexing-view-versus-copy\n",
      "  inflation.loc[2017] = inflation.loc[2016] * (1 + per_year)\n"
     ]
    }
   ],
   "source": [
    "pitching_war = allPositionWAR(pitching_fa, engine)\n",
    "pitching_adjusted = addInflation(pitching_war, engine)"
   ]
  },
  {
   "cell_type": "code",
   "execution_count": 14,
   "metadata": {},
   "outputs": [
    {
     "data": {
      "text/html": [
       "<div>\n",
       "<style>\n",
       "    .dataframe thead tr:only-child th {\n",
       "        text-align: right;\n",
       "    }\n",
       "\n",
       "    .dataframe thead th {\n",
       "        text-align: left;\n",
       "    }\n",
       "\n",
       "    .dataframe tbody tr th {\n",
       "        vertical-align: top;\n",
       "    }\n",
       "</style>\n",
       "<table border=\"1\" class=\"dataframe\">\n",
       "  <thead>\n",
       "    <tr style=\"text-align: right;\">\n",
       "      <th></th>\n",
       "      <th>Age</th>\n",
       "      <th>WAR_3</th>\n",
       "      <th>nameFirst</th>\n",
       "      <th>nameLast</th>\n",
       "      <th>Year</th>\n",
       "      <th>Dollars</th>\n",
       "      <th>Length</th>\n",
       "      <th>Position</th>\n",
       "      <th>playerID</th>\n",
       "      <th>yearID</th>\n",
       "      <th>...</th>\n",
       "      <th>K_9</th>\n",
       "      <th>HR_9</th>\n",
       "      <th>IPouts</th>\n",
       "      <th>W</th>\n",
       "      <th>SV</th>\n",
       "      <th>Med_WAR</th>\n",
       "      <th>Min_WAR</th>\n",
       "      <th>Inflation_Factor</th>\n",
       "      <th>Total</th>\n",
       "      <th>Dollars_2006</th>\n",
       "    </tr>\n",
       "  </thead>\n",
       "  <tbody>\n",
       "  </tbody>\n",
       "</table>\n",
       "<p>0 rows × 22 columns</p>\n",
       "</div>"
      ],
      "text/plain": [
       "Empty DataFrame\n",
       "Columns: [Age, WAR_3, nameFirst, nameLast, Year, Dollars, Length, Position, playerID, yearID, ERA, WHIP, K_9, HR_9, IPouts, W, SV, Med_WAR, Min_WAR, Inflation_Factor, Total, Dollars_2006]\n",
       "Index: []\n",
       "\n",
       "[0 rows x 22 columns]"
      ]
     },
     "execution_count": 14,
     "metadata": {},
     "output_type": "execute_result"
    }
   ],
   "source": [
    "pitching_adjusted[pitching_adjusted.nameLast == 'Darvish']"
   ]
  },
  {
   "cell_type": "markdown",
   "metadata": {},
   "source": [
    "Looks like this is the problem step; I'll just make sure the pitching_war step isn't the problem:"
   ]
  },
  {
   "cell_type": "code",
   "execution_count": 15,
   "metadata": {},
   "outputs": [
    {
     "data": {
      "text/html": [
       "<div>\n",
       "<style>\n",
       "    .dataframe thead tr:only-child th {\n",
       "        text-align: right;\n",
       "    }\n",
       "\n",
       "    .dataframe thead th {\n",
       "        text-align: left;\n",
       "    }\n",
       "\n",
       "    .dataframe tbody tr th {\n",
       "        vertical-align: top;\n",
       "    }\n",
       "</style>\n",
       "<table border=\"1\" class=\"dataframe\">\n",
       "  <thead>\n",
       "    <tr style=\"text-align: right;\">\n",
       "      <th></th>\n",
       "      <th>Age</th>\n",
       "      <th>WAR_3</th>\n",
       "      <th>nameFirst</th>\n",
       "      <th>nameLast</th>\n",
       "      <th>Year</th>\n",
       "      <th>Dollars</th>\n",
       "      <th>Length</th>\n",
       "      <th>Position</th>\n",
       "      <th>playerID</th>\n",
       "      <th>yearID</th>\n",
       "      <th>ERA</th>\n",
       "      <th>WHIP</th>\n",
       "      <th>K_9</th>\n",
       "      <th>HR_9</th>\n",
       "      <th>IPouts</th>\n",
       "      <th>W</th>\n",
       "      <th>SV</th>\n",
       "      <th>Med_WAR</th>\n",
       "      <th>Min_WAR</th>\n",
       "    </tr>\n",
       "  </thead>\n",
       "  <tbody>\n",
       "  </tbody>\n",
       "</table>\n",
       "</div>"
      ],
      "text/plain": [
       "Empty DataFrame\n",
       "Columns: [Age, WAR_3, nameFirst, nameLast, Year, Dollars, Length, Position, playerID, yearID, ERA, WHIP, K_9, HR_9, IPouts, W, SV, Med_WAR, Min_WAR]\n",
       "Index: []"
      ]
     },
     "execution_count": 15,
     "metadata": {},
     "output_type": "execute_result"
    }
   ],
   "source": [
    "pitching_war[pitching_war.nameLast == 'Darvish']"
   ]
  },
  {
   "cell_type": "markdown",
   "metadata": {},
   "source": [
    "Okay, so this is the problem step. Somehow, Darvish is getting dropped out, so I'll now jump into that method"
   ]
  },
  {
   "cell_type": "code",
   "execution_count": 17,
   "metadata": {},
   "outputs": [],
   "source": [
    "# Pull the data but drop the index\n",
    "position_only_war = pullFullTable('position_team_war', engine).drop(['index'], axis = 1)\n",
    "pitching_war = pullFullTable('pitcher_team_war', engine).drop(['index'], axis = 1)\n",
    "    \n",
    "# Put them together\n",
    "position_war = pd.concat([position_only_war, pitching_war])\n",
    "    \n",
    "# Change the Year to \"yearID\"\n",
    "position_war['yearID'] = position_war.Year\n",
    "position_war = position_war.drop(['Year'], axis = 1)\n",
    "    \n",
    "# Create a dictionary for converting these to abbreviations\n",
    "team_dict = {'Angels' : 'LAA', 'Astros' : 'HOU', 'Athletics' : 'OAK', 'Blue Jays' : 'TOR', \n",
    "                 'Braves' : 'ATL', 'Brewers': 'MIL', 'Cardinals' : 'STL', 'Cubs' : 'CHN',\n",
    "                 'Diamondbacks' : 'ARI', 'Dodgers' : 'LAN', 'Giants' : 'SFN', 'Indians' : 'CLE',\n",
    "                 'Mariners' : 'SEA', 'Marlins' : 'MIA', 'Mets' : 'NYN', 'Nationals' : 'WAS',\n",
    "                 'Orioles' : 'BAL', 'Padres' : 'SDN', 'Phillies' : 'PHI', 'Pirates' : 'PIT', \n",
    "                 'Rangers' : 'TEX', 'Rays' : 'TBR', 'Red Sox' : 'BOS', 'Reds' : 'CIN', \n",
    "                 'Rockies' : 'COL', 'Royals' : 'KCR', 'Tigers' : 'DET', 'Twins' : 'MIN', \n",
    "                 'White Sox' : 'CHA', 'Yankees' : 'NYA'}\n",
    "    \n",
    "# Alter it to include WAR and Change the actual data frame\n",
    "team_dict = {key : value + \"_WAR\" for key, value in team_dict.items()}\n",
    "position_war = position_war.rename(columns = team_dict)\n",
    "    \n",
    "# Create stats for non-position/Year categories\n",
    "position_war['Med_WAR'] = position_war.drop(['yearID', 'Position'], axis = 1).median(axis = 1)\n",
    "position_war['Min_WAR'] = position_war.drop(['yearID', 'Position'], axis = 1).min(axis = 1)\n",
    "\n",
    "# Shrink to only the Year/Position/Median/Min WAR stats\n",
    "position_war_small = position_war[['yearID', 'Position', 'Med_WAR', 'Min_WAR']]\n",
    "    "
   ]
  },
  {
   "cell_type": "markdown",
   "metadata": {},
   "source": [
    "This will get merged with the pitching_fa data....it's doing so on position and yearID\n",
    "\n",
    "--> The problem here is the position; Darvish is a \"P\", not an 'SP'....this is really annoying\n",
    "\n",
    "I'd wager is this also the case for Arrieta:"
   ]
  },
  {
   "cell_type": "code",
   "execution_count": 18,
   "metadata": {},
   "outputs": [
    {
     "data": {
      "text/html": [
       "<div>\n",
       "<style>\n",
       "    .dataframe thead tr:only-child th {\n",
       "        text-align: right;\n",
       "    }\n",
       "\n",
       "    .dataframe thead th {\n",
       "        text-align: left;\n",
       "    }\n",
       "\n",
       "    .dataframe tbody tr th {\n",
       "        vertical-align: top;\n",
       "    }\n",
       "</style>\n",
       "<table border=\"1\" class=\"dataframe\">\n",
       "  <thead>\n",
       "    <tr style=\"text-align: right;\">\n",
       "      <th></th>\n",
       "      <th>Age</th>\n",
       "      <th>WAR_3</th>\n",
       "      <th>nameFirst</th>\n",
       "      <th>nameLast</th>\n",
       "      <th>Year</th>\n",
       "      <th>Dollars</th>\n",
       "      <th>Length</th>\n",
       "      <th>Position</th>\n",
       "      <th>playerID</th>\n",
       "      <th>yearID</th>\n",
       "      <th>ERA</th>\n",
       "      <th>WHIP</th>\n",
       "      <th>K_9</th>\n",
       "      <th>HR_9</th>\n",
       "      <th>IPouts</th>\n",
       "      <th>W</th>\n",
       "      <th>SV</th>\n",
       "    </tr>\n",
       "  </thead>\n",
       "  <tbody>\n",
       "    <tr>\n",
       "      <th>1052</th>\n",
       "      <td>32</td>\n",
       "      <td>15.1</td>\n",
       "      <td>Jake</td>\n",
       "      <td>Arrieta</td>\n",
       "      <td>2017</td>\n",
       "      <td>NaN</td>\n",
       "      <td>0</td>\n",
       "      <td>P</td>\n",
       "      <td>arrieja01</td>\n",
       "      <td>2017</td>\n",
       "      <td>-0.288174</td>\n",
       "      <td>-0.389471</td>\n",
       "      <td>0.224369</td>\n",
       "      <td>-0.154607</td>\n",
       "      <td>2.083104</td>\n",
       "      <td>2.727146</td>\n",
       "      <td>-0.271589</td>\n",
       "    </tr>\n",
       "  </tbody>\n",
       "</table>\n",
       "</div>"
      ],
      "text/plain": [
       "      Age  WAR_3 nameFirst nameLast  Year  Dollars  Length Position  \\\n",
       "1052   32   15.1      Jake  Arrieta  2017      NaN       0        P   \n",
       "\n",
       "       playerID  yearID       ERA      WHIP       K_9      HR_9    IPouts  \\\n",
       "1052  arrieja01    2017 -0.288174 -0.389471  0.224369 -0.154607  2.083104   \n",
       "\n",
       "             W        SV  \n",
       "1052  2.727146 -0.271589  "
      ]
     },
     "execution_count": 18,
     "metadata": {},
     "output_type": "execute_result"
    }
   ],
   "source": [
    "pitching_fa[pitching_fa.nameLast == 'Arrieta']"
   ]
  },
  {
   "cell_type": "markdown",
   "metadata": {},
   "source": [
    "Alright, so when did THIS crap happen? Apparently now ESPN has \"P\" as position for some pitchers. I think I will.....\n",
    "\n",
    "Just convert all \"P\" to \"SP for now? I think that's a quick fix. Unfortunate, but that's what I'll have to do"
   ]
  },
  {
   "cell_type": "code",
   "execution_count": null,
   "metadata": {},
   "outputs": [],
   "source": []
  }
 ],
 "metadata": {
  "kernelspec": {
   "display_name": "Python 3",
   "language": "python",
   "name": "python3"
  },
  "language_info": {
   "codemirror_mode": {
    "name": "ipython",
    "version": 3
   },
   "file_extension": ".py",
   "mimetype": "text/x-python",
   "name": "python",
   "nbconvert_exporter": "python",
   "pygments_lexer": "ipython3",
   "version": "3.6.3"
  }
 },
 "nbformat": 4,
 "nbformat_minor": 2
}
