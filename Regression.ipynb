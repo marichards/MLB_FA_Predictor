{
 "cells": [
  {
   "cell_type": "markdown",
   "metadata": {},
   "source": [
    "# Quick Regression\n",
    "\n",
    "Let's see if we can predict something terribly!"
   ]
  },
  {
   "cell_type": "code",
   "execution_count": 100,
   "metadata": {
    "collapsed": true
   },
   "outputs": [],
   "source": [
    "# Bring in data\n",
    "import pandas as pd\n",
    "import pickle\n",
    "import matplotlib.pyplot as plt\n",
    "import numpy as np\n",
    "\n",
    "# Import LinearRegression\n",
    "from sklearn.linear_model import LinearRegression\n",
    "# Import LogisticRegression\n",
    "from sklearn.linear_model import LogisticRegression\n",
    "from sklearn.multiclass import OneVsRestClassifier\n",
    "# Split the data\n",
    "from sklearn.model_selection import train_test_split\n",
    "# Optimize Parameters\n",
    "from sklearn.model_selection import RandomizedSearchCV\n",
    "# Import RandomForest\n",
    "from sklearn.ensemble import RandomForestRegressor\n",
    "from sklearn.ensemble import RandomForestClassifier\n",
    "# Import GradientBoosted\n",
    "from sklearn.ensemble import GradientBoostingRegressor\n",
    "from sklearn.ensemble import GradientBoostingClassifier\n",
    "# Import xgboost\n",
    "import xgboost as xgb\n",
    "# Import RSME\n",
    "from sklearn.metrics import mean_squared_error\n",
    "from scipy.stats import randint\n",
    "# Import Classification metrics\n",
    "from sklearn.metrics import classification_report\n",
    "from sklearn.metrics import confusion_matrix\n",
    "\n",
    "with open('pitching_data.pickle', 'rb') as file:\n",
    "    pitcher_all = pickle.load(file)\n",
    "\n",
    "with open('position_data.pickle', 'rb') as file:\n",
    "    position_all = pickle.load(file)"
   ]
  },
  {
   "cell_type": "code",
   "execution_count": 101,
   "metadata": {},
   "outputs": [
    {
     "data": {
      "text/plain": [
       "(1033, 22)"
      ]
     },
     "execution_count": 101,
     "metadata": {},
     "output_type": "execute_result"
    }
   ],
   "source": [
    "pitcher_all.shape"
   ]
  },
  {
   "cell_type": "code",
   "execution_count": 102,
   "metadata": {},
   "outputs": [
    {
     "data": {
      "text/plain": [
       "(1096, 21)"
      ]
     },
     "execution_count": 102,
     "metadata": {},
     "output_type": "execute_result"
    }
   ],
   "source": [
    "position_all.shape"
   ]
  },
  {
   "cell_type": "code",
   "execution_count": 103,
   "metadata": {
    "collapsed": true
   },
   "outputs": [],
   "source": [
    "# Bring in models\n",
    "lm = LinearRegression()\n",
    "logr = LogisticRegression()\n",
    "rf = RandomForestRegressor()\n",
    "rfc = RandomForestClassifier()\n",
    "gbr = GradientBoostingRegressor()\n",
    "gbc = GradientBoostingClassifier()\n",
    "xgr = xgb.XGBRegressor()\n",
    "xgc = xgb.XGBClassifier()"
   ]
  },
  {
   "cell_type": "code",
   "execution_count": 104,
   "metadata": {},
   "outputs": [
    {
     "data": {
      "text/html": [
       "<div>\n",
       "<style>\n",
       "    .dataframe thead tr:only-child th {\n",
       "        text-align: right;\n",
       "    }\n",
       "\n",
       "    .dataframe thead th {\n",
       "        text-align: left;\n",
       "    }\n",
       "\n",
       "    .dataframe tbody tr th {\n",
       "        vertical-align: top;\n",
       "    }\n",
       "</style>\n",
       "<table border=\"1\" class=\"dataframe\">\n",
       "  <thead>\n",
       "    <tr style=\"text-align: right;\">\n",
       "      <th></th>\n",
       "      <th>AAV</th>\n",
       "      <th>Dollars_2006</th>\n",
       "      <th>Length</th>\n",
       "    </tr>\n",
       "  </thead>\n",
       "  <tbody>\n",
       "    <tr>\n",
       "      <th>0</th>\n",
       "      <td>NaN</td>\n",
       "      <td>NaN</td>\n",
       "      <td>0</td>\n",
       "    </tr>\n",
       "    <tr>\n",
       "      <th>1</th>\n",
       "      <td>NaN</td>\n",
       "      <td>NaN</td>\n",
       "      <td>0</td>\n",
       "    </tr>\n",
       "    <tr>\n",
       "      <th>2</th>\n",
       "      <td>7.500000e+05</td>\n",
       "      <td>750000.0</td>\n",
       "      <td>1</td>\n",
       "    </tr>\n",
       "    <tr>\n",
       "      <th>3</th>\n",
       "      <td>2.000000e+06</td>\n",
       "      <td>2000000.0</td>\n",
       "      <td>1</td>\n",
       "    </tr>\n",
       "    <tr>\n",
       "      <th>4</th>\n",
       "      <td>NaN</td>\n",
       "      <td>NaN</td>\n",
       "      <td>0</td>\n",
       "    </tr>\n",
       "    <tr>\n",
       "      <th>5</th>\n",
       "      <td>NaN</td>\n",
       "      <td>NaN</td>\n",
       "      <td>0</td>\n",
       "    </tr>\n",
       "    <tr>\n",
       "      <th>6</th>\n",
       "      <td>1.500000e+06</td>\n",
       "      <td>1500000.0</td>\n",
       "      <td>1</td>\n",
       "    </tr>\n",
       "    <tr>\n",
       "      <th>7</th>\n",
       "      <td>6.666667e+06</td>\n",
       "      <td>20000000.0</td>\n",
       "      <td>3</td>\n",
       "    </tr>\n",
       "    <tr>\n",
       "      <th>8</th>\n",
       "      <td>NaN</td>\n",
       "      <td>NaN</td>\n",
       "      <td>0</td>\n",
       "    </tr>\n",
       "    <tr>\n",
       "      <th>9</th>\n",
       "      <td>8.500000e+05</td>\n",
       "      <td>850000.0</td>\n",
       "      <td>1</td>\n",
       "    </tr>\n",
       "    <tr>\n",
       "      <th>10</th>\n",
       "      <td>1.750000e+06</td>\n",
       "      <td>1750000.0</td>\n",
       "      <td>1</td>\n",
       "    </tr>\n",
       "    <tr>\n",
       "      <th>11</th>\n",
       "      <td>1.050000e+06</td>\n",
       "      <td>1050000.0</td>\n",
       "      <td>1</td>\n",
       "    </tr>\n",
       "    <tr>\n",
       "      <th>12</th>\n",
       "      <td>NaN</td>\n",
       "      <td>NaN</td>\n",
       "      <td>1</td>\n",
       "    </tr>\n",
       "    <tr>\n",
       "      <th>13</th>\n",
       "      <td>4.000000e+06</td>\n",
       "      <td>8000000.0</td>\n",
       "      <td>2</td>\n",
       "    </tr>\n",
       "    <tr>\n",
       "      <th>14</th>\n",
       "      <td>2.750000e+06</td>\n",
       "      <td>2750000.0</td>\n",
       "      <td>1</td>\n",
       "    </tr>\n",
       "    <tr>\n",
       "      <th>15</th>\n",
       "      <td>1.666667e+07</td>\n",
       "      <td>100000000.0</td>\n",
       "      <td>6</td>\n",
       "    </tr>\n",
       "    <tr>\n",
       "      <th>16</th>\n",
       "      <td>9.250000e+06</td>\n",
       "      <td>18500000.0</td>\n",
       "      <td>2</td>\n",
       "    </tr>\n",
       "    <tr>\n",
       "      <th>17</th>\n",
       "      <td>4.000000e+06</td>\n",
       "      <td>4000000.0</td>\n",
       "      <td>1</td>\n",
       "    </tr>\n",
       "    <tr>\n",
       "      <th>18</th>\n",
       "      <td>NaN</td>\n",
       "      <td>NaN</td>\n",
       "      <td>0</td>\n",
       "    </tr>\n",
       "    <tr>\n",
       "      <th>19</th>\n",
       "      <td>NaN</td>\n",
       "      <td>NaN</td>\n",
       "      <td>0</td>\n",
       "    </tr>\n",
       "    <tr>\n",
       "      <th>20</th>\n",
       "      <td>1.580000e+07</td>\n",
       "      <td>15800000.0</td>\n",
       "      <td>1</td>\n",
       "    </tr>\n",
       "    <tr>\n",
       "      <th>21</th>\n",
       "      <td>1.000000e+06</td>\n",
       "      <td>1000000.0</td>\n",
       "      <td>1</td>\n",
       "    </tr>\n",
       "    <tr>\n",
       "      <th>22</th>\n",
       "      <td>3.000000e+06</td>\n",
       "      <td>3000000.0</td>\n",
       "      <td>1</td>\n",
       "    </tr>\n",
       "    <tr>\n",
       "      <th>23</th>\n",
       "      <td>1.000000e+06</td>\n",
       "      <td>1000000.0</td>\n",
       "      <td>1</td>\n",
       "    </tr>\n",
       "    <tr>\n",
       "      <th>24</th>\n",
       "      <td>NaN</td>\n",
       "      <td>NaN</td>\n",
       "      <td>0</td>\n",
       "    </tr>\n",
       "    <tr>\n",
       "      <th>25</th>\n",
       "      <td>6.000000e+06</td>\n",
       "      <td>6000000.0</td>\n",
       "      <td>1</td>\n",
       "    </tr>\n",
       "    <tr>\n",
       "      <th>26</th>\n",
       "      <td>4.750000e+06</td>\n",
       "      <td>9500000.0</td>\n",
       "      <td>2</td>\n",
       "    </tr>\n",
       "    <tr>\n",
       "      <th>27</th>\n",
       "      <td>7.350000e+06</td>\n",
       "      <td>7350000.0</td>\n",
       "      <td>1</td>\n",
       "    </tr>\n",
       "    <tr>\n",
       "      <th>28</th>\n",
       "      <td>7.350000e+06</td>\n",
       "      <td>7350000.0</td>\n",
       "      <td>1</td>\n",
       "    </tr>\n",
       "    <tr>\n",
       "      <th>29</th>\n",
       "      <td>6.000000e+06</td>\n",
       "      <td>18000000.0</td>\n",
       "      <td>3</td>\n",
       "    </tr>\n",
       "  </tbody>\n",
       "</table>\n",
       "</div>"
      ],
      "text/plain": [
       "             AAV  Dollars_2006  Length\n",
       "0            NaN           NaN       0\n",
       "1            NaN           NaN       0\n",
       "2   7.500000e+05      750000.0       1\n",
       "3   2.000000e+06     2000000.0       1\n",
       "4            NaN           NaN       0\n",
       "5            NaN           NaN       0\n",
       "6   1.500000e+06     1500000.0       1\n",
       "7   6.666667e+06    20000000.0       3\n",
       "8            NaN           NaN       0\n",
       "9   8.500000e+05      850000.0       1\n",
       "10  1.750000e+06     1750000.0       1\n",
       "11  1.050000e+06     1050000.0       1\n",
       "12           NaN           NaN       1\n",
       "13  4.000000e+06     8000000.0       2\n",
       "14  2.750000e+06     2750000.0       1\n",
       "15  1.666667e+07   100000000.0       6\n",
       "16  9.250000e+06    18500000.0       2\n",
       "17  4.000000e+06     4000000.0       1\n",
       "18           NaN           NaN       0\n",
       "19           NaN           NaN       0\n",
       "20  1.580000e+07    15800000.0       1\n",
       "21  1.000000e+06     1000000.0       1\n",
       "22  3.000000e+06     3000000.0       1\n",
       "23  1.000000e+06     1000000.0       1\n",
       "24           NaN           NaN       0\n",
       "25  6.000000e+06     6000000.0       1\n",
       "26  4.750000e+06     9500000.0       2\n",
       "27  7.350000e+06     7350000.0       1\n",
       "28  7.350000e+06     7350000.0       1\n",
       "29  6.000000e+06    18000000.0       3"
      ]
     },
     "execution_count": 104,
     "metadata": {},
     "output_type": "execute_result"
    }
   ],
   "source": [
    "# Create position one-hot configuration\n",
    "position_all = pd.get_dummies(position_all, columns = ['Position'], prefix= ['Pos'])\n",
    "pitcher_all = pd.get_dummies(pitcher_all, columns = ['Position'], prefix= ['Pos'])\n",
    "\n",
    "# Create Contract logical variable\n",
    "position_all['Contract'] = position_all.Dollars.notnull()\n",
    "pitcher_all['Contract'] = pitcher_all.Dollars.notnull()\n",
    "\n",
    "# Create AAV variable\n",
    "position_all['AAV'] = position_all.Dollars_2006.divide(position_all.Length)\n",
    "pitcher_all['AAV'] = pitcher_all.Dollars_2006.divide(pitcher_all.Length)\n",
    "# Remove 2017 data\n",
    "position_data = position_all[position_all.Year < 2017]\n",
    "pitcher_data = pitcher_all[pitcher_all.Year < 2017]\n",
    "\n",
    "# Designate interesting columns\n",
    "features_pos = ['Age', 'WAR_3', 'G', 'OBP', 'SLG', 'HR', 'RBI', 'SB',\n",
    "                'Med_WAR', 'Min_WAR', 'Pos_C', 'Pos_1B', 'Pos_2B', 'Pos_3B',\n",
    "                'Pos_SS', 'Pos_LF', 'Pos_CF', 'Pos_RF', 'Pos_DH']\n",
    "features_pitch = ['Age', 'WAR_3', 'ERA', 'WHIP', 'K_9', 'HR_9', 'IPouts',\n",
    "                  'W', 'SV', 'Med_WAR', 'Min_WAR', 'Pos_SP', 'Pos_RP']\n",
    "\n",
    "position_all[['AAV', 'Dollars_2006', 'Length']].head(30)"
   ]
  },
  {
   "cell_type": "markdown",
   "metadata": {},
   "source": [
    "## Predict yes/no on who will get a contract"
   ]
  },
  {
   "cell_type": "code",
   "execution_count": 82,
   "metadata": {},
   "outputs": [
    {
     "name": "stdout",
     "output_type": "stream",
     "text": [
      "0.722772277228\n",
      "             precision    recall  f1-score   support\n",
      "\n",
      "      False       0.71      0.71      0.71        48\n",
      "       True       0.74      0.74      0.74        53\n",
      "\n",
      "avg / total       0.72      0.72      0.72       101\n",
      "\n",
      "[[34 14]\n",
      " [14 39]]\n"
     ]
    }
   ],
   "source": [
    "# Position players first\n",
    "# Grab just the features and the outcome\n",
    "X_pos = position_data[features_pos].values\n",
    "y_contract_pos = position_data['Contract'].values\n",
    "\n",
    "# Split into training and test set\n",
    "X_train, X_test, y_train, y_test = train_test_split(X_pos, y_contract_pos, random_state = 20, test_size = 0.1)\n",
    "\n",
    "# Use the logr model\n",
    "logr.fit(X_train, y_train)\n",
    "\n",
    "print(logr.score(X_test, y_test))\n",
    "\n",
    "y_pred = logr.predict(X_test)\n",
    "\n",
    "print(classification_report(y_test, y_pred))\n",
    "print(confusion_matrix(y_test, y_pred))"
   ]
  },
  {
   "cell_type": "code",
   "execution_count": 83,
   "metadata": {},
   "outputs": [
    {
     "name": "stdout",
     "output_type": "stream",
     "text": [
      "0.722772277228\n",
      "             precision    recall  f1-score   support\n",
      "\n",
      "      False       0.74      0.65      0.69        48\n",
      "       True       0.71      0.79      0.75        53\n",
      "\n",
      "avg / total       0.72      0.72      0.72       101\n",
      "\n",
      "[[31 17]\n",
      " [11 42]]\n"
     ]
    }
   ],
   "source": [
    "# Try random forest\n",
    "rfc.fit(X_train, y_train)\n",
    "\n",
    "print(rfc.score(X_test, y_test))\n",
    "\n",
    "y_pred = rfc.predict(X_test)\n",
    "\n",
    "print(classification_report(y_test, y_pred))\n",
    "print(confusion_matrix(y_test, y_pred))"
   ]
  },
  {
   "cell_type": "code",
   "execution_count": 84,
   "metadata": {},
   "outputs": [
    {
     "name": "stdout",
     "output_type": "stream",
     "text": [
      "0.732673267327\n",
      "             precision    recall  f1-score   support\n",
      "\n",
      "      False       0.73      0.69      0.71        48\n",
      "       True       0.73      0.77      0.75        53\n",
      "\n",
      "avg / total       0.73      0.73      0.73       101\n",
      "\n",
      "[[33 15]\n",
      " [12 41]]\n"
     ]
    }
   ],
   "source": [
    "# Try gradient boosting\n",
    "gbc.fit(X_train, y_train)\n",
    "\n",
    "print(gbc.score(X_test, y_test))\n",
    "\n",
    "y_pred = gbc.predict(X_test)\n",
    "\n",
    "print(classification_report(y_test, y_pred))\n",
    "print(confusion_matrix(y_test, y_pred))"
   ]
  },
  {
   "cell_type": "code",
   "execution_count": 85,
   "metadata": {},
   "outputs": [
    {
     "name": "stdout",
     "output_type": "stream",
     "text": [
      "0.808510638298\n",
      "             precision    recall  f1-score   support\n",
      "\n",
      "      False       0.78      0.85      0.81        46\n",
      "       True       0.84      0.77      0.80        48\n",
      "\n",
      "avg / total       0.81      0.81      0.81        94\n",
      "\n",
      "[[39  7]\n",
      " [11 37]]\n"
     ]
    }
   ],
   "source": [
    "# Now pitchers\n",
    "\n",
    "# Grab just the features and the outcome\n",
    "X_pitch = pitcher_data[features_pitch].values\n",
    "y_contract_pitch = pitcher_data['Contract'].values\n",
    "\n",
    "# Split into training and test set\n",
    "X_train, X_test, y_train, y_test = train_test_split(X_pitch, y_contract_pitch, random_state = 20, test_size = 0.1)\n",
    "\n",
    "# Use the logr model\n",
    "logr.fit(X_train, y_train)\n",
    "\n",
    "print(logr.score(X_test, y_test))\n",
    "\n",
    "y_pred = logr.predict(X_test)\n",
    "\n",
    "print(classification_report(y_test, y_pred))\n",
    "print(confusion_matrix(y_test, y_pred))"
   ]
  },
  {
   "cell_type": "code",
   "execution_count": 86,
   "metadata": {},
   "outputs": [
    {
     "name": "stdout",
     "output_type": "stream",
     "text": [
      "0.755319148936\n",
      "             precision    recall  f1-score   support\n",
      "\n",
      "      False       0.72      0.83      0.77        46\n",
      "       True       0.80      0.69      0.74        48\n",
      "\n",
      "avg / total       0.76      0.76      0.75        94\n",
      "\n",
      "[[38  8]\n",
      " [15 33]]\n"
     ]
    }
   ],
   "source": [
    "# Try random forest\n",
    "rfc.fit(X_train, y_train)\n",
    "\n",
    "print(rfc.score(X_test, y_test))\n",
    "\n",
    "y_pred = rfc.predict(X_test)\n",
    "\n",
    "print(classification_report(y_test, y_pred))\n",
    "print(confusion_matrix(y_test, y_pred))"
   ]
  },
  {
   "cell_type": "code",
   "execution_count": 87,
   "metadata": {},
   "outputs": [
    {
     "name": "stdout",
     "output_type": "stream",
     "text": [
      "0.787234042553\n",
      "             precision    recall  f1-score   support\n",
      "\n",
      "      False       0.78      0.78      0.78        46\n",
      "       True       0.79      0.79      0.79        48\n",
      "\n",
      "avg / total       0.79      0.79      0.79        94\n",
      "\n",
      "[[36 10]\n",
      " [10 38]]\n"
     ]
    }
   ],
   "source": [
    "# Try gradient boosting\n",
    "gbc.fit(X_train, y_train)\n",
    "\n",
    "print(gbc.score(X_test, y_test))\n",
    "\n",
    "y_pred = gbc.predict(X_test)\n",
    "\n",
    "print(classification_report(y_test, y_pred))\n",
    "print(confusion_matrix(y_test, y_pred))"
   ]
  },
  {
   "cell_type": "markdown",
   "metadata": {},
   "source": [
    "## Functions for creating predictions for a year given that year\n",
    "\n",
    "For now, these will use an OOTB gradient boosted model"
   ]
  },
  {
   "cell_type": "code",
   "execution_count": null,
   "metadata": {
    "collapsed": true
   },
   "outputs": [],
   "source": []
  },
  {
   "cell_type": "code",
   "execution_count": 88,
   "metadata": {
    "collapsed": true
   },
   "outputs": [],
   "source": [
    "# Define function for Dollars\n",
    "def predictDollars(model, X, y):\n",
    "    \n",
    "    # Split into training and test set\n",
    "    X_train, X_test, y_train, y_test = train_test_split(X, y, random_state = 20, test_size = 0.1)\n",
    "    \n",
    "    # Train the model\n",
    "    model.fit(X_train, y_train)\n",
    "\n",
    "    y_pred = model.predict(X_test)\n",
    "    rmse = np.sqrt(mean_squared_error(y_test, y_pred))\n",
    "\n",
    "    plt.scatter(y_pred, y_test, color = 'blue')\n",
    "    plt.xlabel('Predicted Dollars (millions)')\n",
    "    plt.ylabel('Actual Dollars (millions)')\n",
    "    plt.title('Prediction Contract Value')\n",
    "    plt.yticks([0,4e7,8e7,1.2e8,1.6e8],['0','40','80','120','160'])\n",
    "    plt.xticks([0,2e7,4e7,6e7,8e7,1e8],['0','20','40','60','80','100'])\n",
    "    plt.text(x = 0, y = 1.5e8, s = \"R^2 = {:0.3f}\".format(model.score(X_test, y_test)))\n",
    "    # plt.savefig('./contract_dollars_regression.png')\n",
    "    plt.show()\n",
    "\n",
    "    return model"
   ]
  },
  {
   "cell_type": "code",
   "execution_count": 89,
   "metadata": {
    "collapsed": true
   },
   "outputs": [],
   "source": [
    "# Definte function for contract length\n",
    "def predictLength(model, X, y):\n",
    "    \n",
    "    # Split into training and test set\n",
    "    X_train, X_test, y_train, y_test = train_test_split(X, y, random_state = 20, test_size = 0.1)\n",
    "\n",
    "    model.fit(X_train, y_train)\n",
    "\n",
    "    y_pred = model.predict(X_test)\n",
    "\n",
    "\n",
    "    plt.scatter(y_pred, y_test, color = 'red')\n",
    "\n",
    "    plt.xlabel('Predicted Contract Length (years)')\n",
    "\n",
    "    plt.ylabel('Actual Contract Length (years)')\n",
    "\n",
    "    plt.title('Prediction Contract Length')\n",
    "    plt.text(x = 1, y = 7, s = \"R^2 = {:0.3f}\".format(model.score(X_test, y_test)))\n",
    "    #plt.savefig('./contract_length_regression.png')\n",
    "    plt.show()\n",
    "\n",
    "    return model"
   ]
  },
  {
   "cell_type": "markdown",
   "metadata": {},
   "source": [
    "# First Task: Predict Yes/No on contract\n",
    "\n",
    "We'll use a binary classifier (starting with Logistic Regression and moving on if needed) to:\n",
    "\n",
    "1. Classify position players into \"Yes/No\" on contract\n",
    "2. Classify pitchers into \"Yes/No\" on contract\n",
    "3. Run RandomizedSearchCV to determine best parameters for each model\n"
   ]
  },
  {
   "cell_type": "markdown",
   "metadata": {},
   "source": [
    "## Attempt 1: Batting Data w/ Team WAR\n",
    "\n",
    "Woo!\n",
    "\n",
    "### Step 1: Predict which players will get contracts"
   ]
  },
  {
   "cell_type": "code",
   "execution_count": 90,
   "metadata": {
    "collapsed": true
   },
   "outputs": [],
   "source": [
    "\n",
    "\n",
    "# For now, simulate dropping these\n",
    "position_trimmed = position_data.dropna()"
   ]
  },
  {
   "cell_type": "markdown",
   "metadata": {},
   "source": [
    "### Step 2: Predict how big the contracts will be\n",
    "\n",
    "Make 2 models, and do it in 2006 dollars"
   ]
  },
  {
   "cell_type": "code",
   "execution_count": 91,
   "metadata": {},
   "outputs": [
    {
     "data": {
      "image/png": "[encoded data removed]",
      "text/plain": [
       "<matplotlib.figure.Figure at 0x7fb27ae8a470>"
      ]
     },
     "metadata": {},
     "output_type": "display_data"
    },
    {
     "data": {
      "text/plain": [
       "LinearRegression(copy_X=True, fit_intercept=True, n_jobs=1, normalize=False)"
      ]
     },
     "execution_count": 91,
     "metadata": {},
     "output_type": "execute_result"
    }
   ],
   "source": [
    "# Grab just the features and the outcome\n",
    "X_pos = position_trimmed[features_pos].values\n",
    "y_dollars_pos = position_trimmed['AAV'].values\n",
    "y_length_pos = position_trimmed['Length'].values\n",
    "predictDollars(lm, X_pos, y_dollars_pos)"
   ]
  },
  {
   "cell_type": "code",
   "execution_count": 92,
   "metadata": {},
   "outputs": [
    {
     "data": {
      "image/png": "[encoded data removed]",
      "text/plain": [
       "<matplotlib.figure.Figure at 0x7fb26d901b70>"
      ]
     },
     "metadata": {},
     "output_type": "display_data"
    },
    {
     "data": {
      "text/plain": [
       "OneVsRestClassifier(estimator=LogisticRegression(C=1.0, class_weight=None, dual=False, fit_intercept=True,\n",
       "          intercept_scaling=1, max_iter=100, multi_class='ovr', n_jobs=1,\n",
       "          penalty='l2', random_state=None, solver='liblinear', tol=0.0001,\n",
       "          verbose=0, warm_start=False),\n",
       "          n_jobs=1)"
      ]
     },
     "execution_count": 92,
     "metadata": {},
     "output_type": "execute_result"
    }
   ],
   "source": [
    "# Do length (This is wrong; need multi-class!)\n",
    "logr = OneVsRestClassifier(LogisticRegression())\n",
    "\n",
    "y_dummies  = pd.get_dummies(y_length_pos)\n",
    "\n",
    "predictLength(logr, X_pos, y_dummies)"
   ]
  },
  {
   "cell_type": "markdown",
   "metadata": {},
   "source": [
    "## Try Random Forest...now let's add Position to the matrix!"
   ]
  },
  {
   "cell_type": "code",
   "execution_count": 93,
   "metadata": {},
   "outputs": [
    {
     "data": {
      "image/png": "[encoded data removed]",
      "text/plain": [
       "<matplotlib.figure.Figure at 0x7fb272ca7e80>"
      ]
     },
     "metadata": {},
     "output_type": "display_data"
    },
    {
     "data": {
      "text/plain": [
       "RandomForestRegressor(bootstrap=True, criterion='mse', max_depth=None,\n",
       "           max_features='auto', max_leaf_nodes=None,\n",
       "           min_impurity_decrease=0.0, min_impurity_split=None,\n",
       "           min_samples_leaf=1, min_samples_split=2,\n",
       "           min_weight_fraction_leaf=0.0, n_estimators=10, n_jobs=1,\n",
       "           oob_score=False, random_state=None, verbose=0, warm_start=False)"
      ]
     },
     "execution_count": 93,
     "metadata": {},
     "output_type": "execute_result"
    }
   ],
   "source": [
    "predictDollars(rf, X_pos, y_dollars_pos)"
   ]
  },
  {
   "cell_type": "code",
   "execution_count": 95,
   "metadata": {},
   "outputs": [
    {
     "data": {
      "image/png": "[encoded data removed]",
      "text/plain": [
       "<matplotlib.figure.Figure at 0x7fb26d6770b8>"
      ]
     },
     "metadata": {},
     "output_type": "display_data"
    },
    {
     "data": {
      "text/plain": [
       "RandomForestClassifier(bootstrap=True, class_weight=None, criterion='gini',\n",
       "            max_depth=None, max_features='auto', max_leaf_nodes=None,\n",
       "            min_impurity_decrease=0.0, min_impurity_split=None,\n",
       "            min_samples_leaf=1, min_samples_split=2,\n",
       "            min_weight_fraction_leaf=0.0, n_estimators=10, n_jobs=1,\n",
       "            oob_score=False, random_state=None, verbose=0,\n",
       "            warm_start=False)"
      ]
     },
     "execution_count": 95,
     "metadata": {},
     "output_type": "execute_result"
    }
   ],
   "source": [
    "predictLength(rfc, X_pos, y_length_pos)"
   ]
  },
  {
   "cell_type": "markdown",
   "metadata": {},
   "source": [
    "### Make quadratic terms"
   ]
  },
  {
   "cell_type": "code",
   "execution_count": 96,
   "metadata": {},
   "outputs": [
    {
     "data": {
      "image/png": "[encoded data removed]",
      "text/plain": [
       "<matplotlib.figure.Figure at 0x7fb26dd3ef98>"
      ]
     },
     "metadata": {},
     "output_type": "display_data"
    },
    {
     "data": {
      "text/plain": [
       "RandomForestRegressor(bootstrap=True, criterion='mse', max_depth=None,\n",
       "           max_features='auto', max_leaf_nodes=None,\n",
       "           min_impurity_decrease=0.0, min_impurity_split=None,\n",
       "           min_samples_leaf=1, min_samples_split=2,\n",
       "           min_weight_fraction_leaf=0.0, n_estimators=10, n_jobs=1,\n",
       "           oob_score=False, random_state=None, verbose=0, warm_start=False)"
      ]
     },
     "execution_count": 96,
     "metadata": {},
     "output_type": "execute_result"
    }
   ],
   "source": [
    "from sklearn.preprocessing import PolynomialFeatures\n",
    "from sklearn.pipeline import make_pipeline\n",
    "                   \n",
    "poly = PolynomialFeatures()\n",
    "\n",
    "something = poly.fit_transform(X_pos)\n",
    "\n",
    "predictDollars(rf, something, y_dollars_pos)"
   ]
  },
  {
   "cell_type": "markdown",
   "metadata": {},
   "source": [
    "## Try it for pitchers; straight to RF + LM!"
   ]
  },
  {
   "cell_type": "code",
   "execution_count": 105,
   "metadata": {},
   "outputs": [],
   "source": [
    "# For now, simulate dropping these\n",
    "pitcher_trimmed = pitcher_data.dropna()\n",
    "\n",
    "X_pitch = pitcher_trimmed[features_pitch].values\n",
    "y_dollars_pitch = pitcher_trimmed['AAV'].values\n",
    "y_length_pitch = pitcher_trimmed['Length'].values"
   ]
  },
  {
   "cell_type": "code",
   "execution_count": 106,
   "metadata": {},
   "outputs": [
    {
     "data": {
      "image/png": "[encoded data removed]",
      "text/plain": [
       "<matplotlib.figure.Figure at 0x7fb272d61eb8>"
      ]
     },
     "metadata": {},
     "output_type": "display_data"
    },
    {
     "data": {
      "text/plain": [
       "LinearRegression(copy_X=True, fit_intercept=True, n_jobs=1, normalize=False)"
      ]
     },
     "execution_count": 106,
     "metadata": {},
     "output_type": "execute_result"
    }
   ],
   "source": [
    "# Try the LM\n",
    "predictDollars(lm, X_pitch, y_dollars_pitch)"
   ]
  },
  {
   "cell_type": "code",
   "execution_count": 107,
   "metadata": {},
   "outputs": [
    {
     "data": {
      "image/png": "[encoded data removed]",
      "text/plain": [
       "<matplotlib.figure.Figure at 0x7fb26d9136a0>"
      ]
     },
     "metadata": {},
     "output_type": "display_data"
    },
    {
     "data": {
      "text/plain": [
       "LinearRegression(copy_X=True, fit_intercept=True, n_jobs=1, normalize=False)"
      ]
     },
     "execution_count": 107,
     "metadata": {},
     "output_type": "execute_result"
    }
   ],
   "source": [
    "predictLength(lm, X_pitch, y_length_pitch)"
   ]
  },
  {
   "cell_type": "code",
   "execution_count": 108,
   "metadata": {},
   "outputs": [
    {
     "data": {
      "image/png": "[encoded data removed]",
      "text/plain": [
       "<matplotlib.figure.Figure at 0x7fb272c8b9e8>"
      ]
     },
     "metadata": {},
     "output_type": "display_data"
    },
    {
     "data": {
      "text/plain": [
       "RandomForestRegressor(bootstrap=True, criterion='mse', max_depth=None,\n",
       "           max_features='auto', max_leaf_nodes=None,\n",
       "           min_impurity_decrease=0.0, min_impurity_split=None,\n",
       "           min_samples_leaf=1, min_samples_split=2,\n",
       "           min_weight_fraction_leaf=0.0, n_estimators=10, n_jobs=1,\n",
       "           oob_score=False, random_state=None, verbose=0, warm_start=False)"
      ]
     },
     "execution_count": 108,
     "metadata": {},
     "output_type": "execute_result"
    }
   ],
   "source": [
    "# Try RF\n",
    "predictDollars(rf, X_pitch, y_dollars_pitch)"
   ]
  },
  {
   "cell_type": "code",
   "execution_count": 109,
   "metadata": {},
   "outputs": [
    {
     "data": {
      "image/png": "[encoded data removed]",
      "text/plain": [
       "<matplotlib.figure.Figure at 0x7fb26d928ef0>"
      ]
     },
     "metadata": {},
     "output_type": "display_data"
    },
    {
     "data": {
      "text/plain": [
       "RandomForestClassifier(bootstrap=True, class_weight=None, criterion='gini',\n",
       "            max_depth=None, max_features='auto', max_leaf_nodes=None,\n",
       "            min_impurity_decrease=0.0, min_impurity_split=None,\n",
       "            min_samples_leaf=1, min_samples_split=2,\n",
       "            min_weight_fraction_leaf=0.0, n_estimators=10, n_jobs=1,\n",
       "            oob_score=False, random_state=None, verbose=0,\n",
       "            warm_start=False)"
      ]
     },
     "execution_count": 109,
     "metadata": {},
     "output_type": "execute_result"
    }
   ],
   "source": [
    "predictLength(rfc, X_pitch, y_length_pitch)"
   ]
  },
  {
   "cell_type": "markdown",
   "metadata": {},
   "source": [
    "## Try Boosting (xgboost)"
   ]
  },
  {
   "cell_type": "code",
   "execution_count": 110,
   "metadata": {},
   "outputs": [
    {
     "data": {
      "image/png": "[encoded data removed]",
      "text/plain": [
       "<matplotlib.figure.Figure at 0x7fb26de08cf8>"
      ]
     },
     "metadata": {},
     "output_type": "display_data"
    },
    {
     "data": {
      "text/plain": [
       "XGBRegressor(base_score=0.5, booster='gbtree', colsample_bylevel=1,\n",
       "       colsample_bytree=1, gamma=0, learning_rate=0.1, max_delta_step=0,\n",
       "       max_depth=3, min_child_weight=1, missing=None, n_estimators=100,\n",
       "       n_jobs=1, nthread=None, objective='reg:linear', random_state=0,\n",
       "       reg_alpha=0, reg_lambda=1, scale_pos_weight=1, seed=None,\n",
       "       silent=True, subsample=1)"
      ]
     },
     "execution_count": 110,
     "metadata": {},
     "output_type": "execute_result"
    }
   ],
   "source": [
    "predictDollars(xgr, X_pos, y_dollars_pos)"
   ]
  },
  {
   "cell_type": "code",
   "execution_count": 111,
   "metadata": {},
   "outputs": [
    {
     "data": {
      "image/png": "[encoded data removed]",
      "text/plain": [
       "<matplotlib.figure.Figure at 0x7fb26d85ec88>"
      ]
     },
     "metadata": {},
     "output_type": "display_data"
    },
    {
     "data": {
      "text/plain": [
       "XGBClassifier(base_score=0.5, booster='gbtree', colsample_bylevel=1,\n",
       "       colsample_bytree=1, gamma=0, learning_rate=0.1, max_delta_step=0,\n",
       "       max_depth=3, min_child_weight=1, missing=None, n_estimators=100,\n",
       "       n_jobs=1, nthread=None, objective='multi:softprob', random_state=0,\n",
       "       reg_alpha=0, reg_lambda=1, scale_pos_weight=1, seed=None,\n",
       "       silent=True, subsample=1)"
      ]
     },
     "execution_count": 111,
     "metadata": {},
     "output_type": "execute_result"
    }
   ],
   "source": [
    "predictLength(xgc, X_pos, y_length_pos)"
   ]
  },
  {
   "cell_type": "code",
   "execution_count": 112,
   "metadata": {},
   "outputs": [
    {
     "data": {
      "image/png": "[encoded data removed]",
      "text/plain": [
       "<matplotlib.figure.Figure at 0x7fb26de27630>"
      ]
     },
     "metadata": {},
     "output_type": "display_data"
    },
    {
     "data": {
      "text/plain": [
       "XGBRegressor(base_score=0.5, booster='gbtree', colsample_bylevel=1,\n",
       "       colsample_bytree=1, gamma=0, learning_rate=0.1, max_delta_step=0,\n",
       "       max_depth=3, min_child_weight=1, missing=None, n_estimators=100,\n",
       "       n_jobs=1, nthread=None, objective='reg:linear', random_state=0,\n",
       "       reg_alpha=0, reg_lambda=1, scale_pos_weight=1, seed=None,\n",
       "       silent=True, subsample=1)"
      ]
     },
     "execution_count": 112,
     "metadata": {},
     "output_type": "execute_result"
    }
   ],
   "source": [
    "predictDollars(xgr, X_pitch, y_dollars_pitch)"
   ]
  },
  {
   "cell_type": "code",
   "execution_count": 113,
   "metadata": {},
   "outputs": [
    {
     "data": {
      "image/png": "[encoded data removed]",
      "text/plain": [
       "<matplotlib.figure.Figure at 0x7fb26dd1b940>"
      ]
     },
     "metadata": {},
     "output_type": "display_data"
    },
    {
     "data": {
      "text/plain": [
       "XGBClassifier(base_score=0.5, booster='gbtree', colsample_bylevel=1,\n",
       "       colsample_bytree=1, gamma=0, learning_rate=0.1, max_delta_step=0,\n",
       "       max_depth=3, min_child_weight=1, missing=None, n_estimators=100,\n",
       "       n_jobs=1, nthread=None, objective='multi:softprob', random_state=0,\n",
       "       reg_alpha=0, reg_lambda=1, scale_pos_weight=1, seed=None,\n",
       "       silent=True, subsample=1)"
      ]
     },
     "execution_count": 113,
     "metadata": {},
     "output_type": "execute_result"
    }
   ],
   "source": [
    "predictLength(xgc, X_pitch, y_length_pitch)"
   ]
  },
  {
   "cell_type": "markdown",
   "metadata": {},
   "source": [
    "## Try boosting (sklearn)"
   ]
  },
  {
   "cell_type": "code",
   "execution_count": 114,
   "metadata": {},
   "outputs": [
    {
     "data": {
      "image/png": "[encoded data removed]",
      "text/plain": [
       "<matplotlib.figure.Figure at 0x7fb26d335358>"
      ]
     },
     "metadata": {},
     "output_type": "display_data"
    },
    {
     "data": {
      "text/plain": [
       "GradientBoostingRegressor(alpha=0.9, criterion='friedman_mse', init=None,\n",
       "             learning_rate=0.1, loss='ls', max_depth=3, max_features=None,\n",
       "             max_leaf_nodes=None, min_impurity_decrease=0.0,\n",
       "             min_impurity_split=None, min_samples_leaf=1,\n",
       "             min_samples_split=2, min_weight_fraction_leaf=0.0,\n",
       "             n_estimators=100, presort='auto', random_state=None,\n",
       "             subsample=1.0, verbose=0, warm_start=False)"
      ]
     },
     "execution_count": 114,
     "metadata": {},
     "output_type": "execute_result"
    }
   ],
   "source": [
    "predictDollars(gbr, X_pos, y_dollars_pos)"
   ]
  },
  {
   "cell_type": "code",
   "execution_count": 115,
   "metadata": {},
   "outputs": [
    {
     "data": {
      "image/png": "[encoded data removed]",
      "text/plain": [
       "<matplotlib.figure.Figure at 0x7fb26d5ff780>"
      ]
     },
     "metadata": {},
     "output_type": "display_data"
    },
    {
     "data": {
      "text/plain": [
       "GradientBoostingClassifier(criterion='friedman_mse', init=None,\n",
       "              learning_rate=0.1, loss='deviance', max_depth=3,\n",
       "              max_features=None, max_leaf_nodes=None,\n",
       "              min_impurity_decrease=0.0, min_impurity_split=None,\n",
       "              min_samples_leaf=1, min_samples_split=2,\n",
       "              min_weight_fraction_leaf=0.0, n_estimators=100,\n",
       "              presort='auto', random_state=None, subsample=1.0, verbose=0,\n",
       "              warm_start=False)"
      ]
     },
     "execution_count": 115,
     "metadata": {},
     "output_type": "execute_result"
    }
   ],
   "source": [
    "predictLength(gbc, X_pos, y_length_pos)"
   ]
  },
  {
   "cell_type": "code",
   "execution_count": 116,
   "metadata": {},
   "outputs": [
    {
     "data": {
      "image/png": "[encoded data removed]",
      "text/plain": [
       "<matplotlib.figure.Figure at 0x7fb26d602ac8>"
      ]
     },
     "metadata": {},
     "output_type": "display_data"
    },
    {
     "data": {
      "text/plain": [
       "GradientBoostingRegressor(alpha=0.9, criterion='friedman_mse', init=None,\n",
       "             learning_rate=0.1, loss='ls', max_depth=3, max_features=None,\n",
       "             max_leaf_nodes=None, min_impurity_decrease=0.0,\n",
       "             min_impurity_split=None, min_samples_leaf=1,\n",
       "             min_samples_split=2, min_weight_fraction_leaf=0.0,\n",
       "             n_estimators=100, presort='auto', random_state=None,\n",
       "             subsample=1.0, verbose=0, warm_start=False)"
      ]
     },
     "execution_count": 116,
     "metadata": {},
     "output_type": "execute_result"
    }
   ],
   "source": [
    "predictDollars(gbr, X_pitch, y_dollars_pitch)"
   ]
  },
  {
   "cell_type": "code",
   "execution_count": 117,
   "metadata": {},
   "outputs": [
    {
     "data": {
      "image/png": "[encoded data removed]",
      "text/plain": [
       "<matplotlib.figure.Figure at 0x7fb26dc4a438>"
      ]
     },
     "metadata": {},
     "output_type": "display_data"
    },
    {
     "data": {
      "text/plain": [
       "GradientBoostingClassifier(criterion='friedman_mse', init=None,\n",
       "              learning_rate=0.1, loss='deviance', max_depth=3,\n",
       "              max_features=None, max_leaf_nodes=None,\n",
       "              min_impurity_decrease=0.0, min_impurity_split=None,\n",
       "              min_samples_leaf=1, min_samples_split=2,\n",
       "              min_weight_fraction_leaf=0.0, n_estimators=100,\n",
       "              presort='auto', random_state=None, subsample=1.0, verbose=0,\n",
       "              warm_start=False)"
      ]
     },
     "execution_count": 117,
     "metadata": {},
     "output_type": "execute_result"
    }
   ],
   "source": [
    "predictLength(gbc, X_pitch, y_length_pitch)"
   ]
  },
  {
   "cell_type": "markdown",
   "metadata": {},
   "source": [
    "# I'm using GradientBoosted from sklearn....now I must:\n",
    "\n",
    "1. Determine hyper-parameters using RandomizedSearchCV\n",
    "2. Pull out feature importance\n",
    "\n",
    "## 1. Hyper-parameters for position players"
   ]
  },
  {
   "cell_type": "code",
   "execution_count": 32,
   "metadata": {},
   "outputs": [
    {
     "name": "stdout",
     "output_type": "stream",
     "text": [
      "Tuned Gradient Boosted Parameters: {'n_estimators': 5000, 'max_depth': 3, 'learning_rate': 0.05}\n",
      "Best score is 0.6750448246033407\n"
     ]
    }
   ],
   "source": [
    "# Setup the parameters and distributions to sample from: param_dist\n",
    "param_dist = {\"max_depth\": [3, 5, 7, 9],\n",
    "              \"n_estimators\": [100, 500, 1000, 5000],\n",
    "              \"learning_rate\": [0.001, 0.005, 0.01, 0.05, 0.1]}\n",
    "\n",
    "# Instantiate the RandomizedSearchCV object: tree_cv\n",
    "gbr_cv = RandomizedSearchCV(gbr, param_dist, cv=5)\n",
    "\n",
    "# Fit it to the data\n",
    "gbr_cv.fit(X_pos, y_dollars_pos)\n",
    "\n",
    "# Print the tuned parameters and score\n",
    "print(\"Tuned Gradient Boosted Parameters: {}\".format(gbr_cv.best_params_))\n",
    "print(\"Best score is {}\".format(gbr_cv.best_score_))"
   ]
  },
  {
   "cell_type": "code",
   "execution_count": 33,
   "metadata": {},
   "outputs": [
    {
     "name": "stderr",
     "output_type": "stream",
     "text": [
      "/home/matt/anaconda3/lib/python3.6/site-packages/sklearn/model_selection/_split.py:605: Warning: The least populated class in y has only 1 members, which is too few. The minimum number of members in any class cannot be less than n_splits=5.\n",
      "  % (min_groups, self.n_splits)), Warning)\n"
     ]
    },
    {
     "name": "stdout",
     "output_type": "stream",
     "text": [
      "Tuned Gradient Boosted Parameters: {'n_estimators': 500, 'max_depth': 9, 'learning_rate': 0.1}\n",
      "Best score is 0.592391304347826\n"
     ]
    }
   ],
   "source": [
    "# Setup the parameters and distributions to sample from: param_dist\n",
    "param_dist = {\"max_depth\": [3, 5, 7, 9],\n",
    "              \"n_estimators\": [100, 500, 1000],\n",
    "              \"learning_rate\": [0.01, 0.05, 0.1]}\n",
    "\n",
    "# Instantiate the RandomizedSearchCV object: tree_cv\n",
    "gbc_cv = RandomizedSearchCV(gbc, param_dist, cv=5)\n",
    "\n",
    "# Fit it to the data\n",
    "gbc_cv.fit(X_pos, y_length_pos)\n",
    "\n",
    "# Print the tuned parameters and score\n",
    "print(\"Tuned Gradient Boosted Parameters: {}\".format(gbc_cv.best_params_))\n",
    "print(\"Best score is {}\".format(gbc_cv.best_score_))"
   ]
  },
  {
   "cell_type": "markdown",
   "metadata": {},
   "source": [
    "# 2. Hyper-parameters for pitchers"
   ]
  },
  {
   "cell_type": "code",
   "execution_count": 34,
   "metadata": {},
   "outputs": [
    {
     "name": "stdout",
     "output_type": "stream",
     "text": [
      "Tuned Gradient Boosted Parameters: {'n_estimators': 5000, 'max_depth': 3, 'learning_rate': 0.005}\n",
      "Best score is 0.5652854073368493\n"
     ]
    }
   ],
   "source": [
    "# Setup the parameters and distributions to sample from: param_dist\n",
    "param_dist = {\"max_depth\": [3, 5, 7, 9],\n",
    "              \"n_estimators\": [100, 500, 1000, 5000],\n",
    "              \"learning_rate\": [0.001, 0.005, 0.01, 0.05, 0.1]}\n",
    "\n",
    "# Instantiate the RandomizedSearchCV object: tree_cv\n",
    "gbr_cv = RandomizedSearchCV(gbr, param_dist, cv=5)\n",
    "\n",
    "# Fit it to the data\n",
    "gbr_cv.fit(X_pitch, y_dollars_pitch)\n",
    "\n",
    "# Print the tuned parameters and score\n",
    "print(\"Tuned Gradient Boosted Parameters: {}\".format(gbr_cv.best_params_))\n",
    "print(\"Best score is {}\".format(gbr_cv.best_score_))"
   ]
  },
  {
   "cell_type": "code",
   "execution_count": 35,
   "metadata": {
    "scrolled": true
   },
   "outputs": [
    {
     "name": "stderr",
     "output_type": "stream",
     "text": [
      "/home/matt/anaconda3/lib/python3.6/site-packages/sklearn/model_selection/_split.py:605: Warning: The least populated class in y has only 4 members, which is too few. The minimum number of members in any class cannot be less than n_splits=5.\n",
      "  % (min_groups, self.n_splits)), Warning)\n"
     ]
    },
    {
     "name": "stdout",
     "output_type": "stream",
     "text": [
      "Tuned Gradient Boosted Parameters: {'n_estimators': 1000, 'max_depth': 5, 'learning_rate': 0.05}\n",
      "Best score is 0.47265625\n"
     ]
    }
   ],
   "source": [
    "# Setup the parameters and distributions to sample from: param_dist\n",
    "param_dist = {\"max_depth\": [3, 5, 7, 9],\n",
    "              \"n_estimators\": [100, 500, 1000],\n",
    "              \"learning_rate\": [0.01, 0.05, 0.1]}\n",
    "\n",
    "# Instantiate the RandomizedSearchCV object: tree_cv\n",
    "gbc_cv = RandomizedSearchCV(gbc, param_dist, cv=5)\n",
    "\n",
    "# Fit it to the data\n",
    "gbc_cv.fit(X_pitch, y_length_pitch)\n",
    "\n",
    "# Print the tuned parameters and score\n",
    "print(\"Tuned Gradient Boosted Parameters: {}\".format(gbc_cv.best_params_))\n",
    "print(\"Best score is {}\".format(gbc_cv.best_score_))"
   ]
  },
  {
   "cell_type": "markdown",
   "metadata": {},
   "source": [
    "## 3. Use correct hyperparameters to train models and pull out feature importance"
   ]
  },
  {
   "cell_type": "code",
   "execution_count": 36,
   "metadata": {},
   "outputs": [
    {
     "data": {
      "image/png": "[encoded data removed]",
      "text/plain": [
       "<matplotlib.figure.Figure at 0x7f1925007630>"
      ]
     },
     "metadata": {},
     "output_type": "display_data"
    },
    {
     "data": {
      "image/png": "[encoded data removed]",
      "text/plain": [
       "<matplotlib.figure.Figure at 0x7f1924ffe588>"
      ]
     },
     "metadata": {},
     "output_type": "display_data"
    }
   ],
   "source": [
    "gbr_pos = GradientBoostingRegressor(max_depth = 3, n_estimators = 1000, learning_rate = 0.1)\n",
    "gbr_pos_out = predictDollars(gbr_pos, X_pos, y_dollars_pos)\n",
    "\n",
    "# Make a pretty plot\n",
    "sorted_idx = np.argsort(gbr_pos_out.feature_importances_)\n",
    "pos = np.arange(sorted_idx.shape[0]) + .5\n",
    "plt.barh(pos, gbr_pos_out.feature_importances_[sorted_idx], align='center')\n",
    "labels = [features_pos[i] for i in sorted_idx]\n",
    "plt.yticks(pos, labels)\n",
    "plt.xlabel('Relative Importance')\n",
    "plt.title('Variable Importance')\n",
    "plt.show()"
   ]
  },
  {
   "cell_type": "code",
   "execution_count": 37,
   "metadata": {},
   "outputs": [
    {
     "data": {
      "image/png": "[encoded data removed]",
      "text/plain": [
       "<matplotlib.figure.Figure at 0x7f1924dabd68>"
      ]
     },
     "metadata": {},
     "output_type": "display_data"
    },
    {
     "data": {
      "image/png": "[encoded data removed]",
      "text/plain": [
       "<matplotlib.figure.Figure at 0x7f1924fab7b8>"
      ]
     },
     "metadata": {},
     "output_type": "display_data"
    }
   ],
   "source": [
    "gbr_pitch = GradientBoostingRegressor(max_depth = 3, n_estimators = 5000, learning_rate = 0.001)\n",
    "gbr_pitch_out = predictDollars(gbr_pitch, X_pitch, y_dollars_pitch)\n",
    "\n",
    "# Make a pretty plot\n",
    "sorted_idx = np.argsort(gbr_pitch_out.feature_importances_)\n",
    "pos = np.arange(sorted_idx.shape[0]) + .5\n",
    "plt.barh(pos, gbr_pitch_out.feature_importances_[sorted_idx], align='center')\n",
    "labels = [features_pitch[i] for i in sorted_idx]\n",
    "plt.yticks(pos, labels)\n",
    "plt.xlabel('Relative Importance')\n",
    "plt.title('Variable Importance')\n",
    "plt.show()"
   ]
  },
  {
   "cell_type": "code",
   "execution_count": 38,
   "metadata": {},
   "outputs": [
    {
     "data": {
      "image/png": "[encoded data removed]",
      "text/plain": [
       "<matplotlib.figure.Figure at 0x7f1924b29828>"
      ]
     },
     "metadata": {},
     "output_type": "display_data"
    },
    {
     "data": {
      "image/png": "[encoded data removed]",
      "text/plain": [
       "<matplotlib.figure.Figure at 0x7f1924d766a0>"
      ]
     },
     "metadata": {},
     "output_type": "display_data"
    }
   ],
   "source": [
    "gbc_pos = GradientBoostingClassifier(max_depth = 3, n_estimators = 500, learning_rate = 0.01)\n",
    "gbc_pos_out = predictLength(gbc_pos, X_pos, y_length_pos)\n",
    "\n",
    "# Make a pretty plot\n",
    "sorted_idx = np.argsort(gbc_pos_out.feature_importances_)\n",
    "pos = np.arange(sorted_idx.shape[0]) + .5\n",
    "plt.barh(pos, gbc_pos_out.feature_importances_[sorted_idx], align='center')\n",
    "labels = [features_pos[i] for i in sorted_idx]\n",
    "plt.yticks(pos, labels)\n",
    "plt.xlabel('Relative Importance')\n",
    "plt.title('Variable Importance')\n",
    "plt.show()"
   ]
  },
  {
   "cell_type": "code",
   "execution_count": 39,
   "metadata": {},
   "outputs": [
    {
     "data": {
      "image/png": "[encoded data removed]",
      "text/plain": [
       "<matplotlib.figure.Figure at 0x7f192478cf60>"
      ]
     },
     "metadata": {},
     "output_type": "display_data"
    },
    {
     "data": {
      "image/png": "[encoded data removed]",
      "text/plain": [
       "<matplotlib.figure.Figure at 0x7f192479a358>"
      ]
     },
     "metadata": {},
     "output_type": "display_data"
    }
   ],
   "source": [
    "gbc_pitch = GradientBoostingClassifier(max_depth = 5, n_estimators = 1000, learning_rate = 0.01)\n",
    "gbc_pitch_out = predictLength(gbc_pitch, X_pitch, y_length_pitch)\n",
    "\n",
    "# Make a pretty plot\n",
    "sorted_idx = np.argsort(gbc_pitch_out.feature_importances_)\n",
    "pos = np.arange(sorted_idx.shape[0]) + .5\n",
    "plt.barh(pos, gbc_pitch_out.feature_importances_[sorted_idx], align='center')\n",
    "labels = [features_pitch[i] for i in sorted_idx]\n",
    "plt.yticks(pos, labels)\n",
    "plt.xlabel('Relative Importance')\n",
    "plt.title('Variable Importance')\n",
    "plt.show()"
   ]
  },
  {
   "cell_type": "markdown",
   "metadata": {},
   "source": [
    "# Things the final model should do:\n",
    "\n",
    "1. Take in a given year\n",
    "2. Remove that year AND 2017 from the training data\n",
    "3. For each player in that year, predict:\n",
    "   1. Whether they will get a major league contract\n",
    "   2. If \"yes\", length and total dollars of contract\n",
    "       1. First, predict in 2006 dollars\n",
    "       2. Then, grab the inflation table and translate to appropriate year's dollars\n",
    "   3. If \"no\", fill in with N/A and 0 (or no major league contract)"
   ]
  },
  {
   "cell_type": "code",
   "execution_count": 40,
   "metadata": {},
   "outputs": [
    {
     "data": {
      "text/plain": [
       "(867, 31)"
      ]
     },
     "execution_count": 40,
     "metadata": {},
     "output_type": "execute_result"
    }
   ],
   "source": [
    "position_all.shape"
   ]
  },
  {
   "cell_type": "code",
   "execution_count": 41,
   "metadata": {},
   "outputs": [
    {
     "data": {
      "text/plain": [
       "(851, 31)"
      ]
     },
     "execution_count": 41,
     "metadata": {},
     "output_type": "execute_result"
    }
   ],
   "source": [
    "position_all[position_all.Year < 2017].shape"
   ]
  },
  {
   "cell_type": "code",
   "execution_count": 42,
   "metadata": {},
   "outputs": [
    {
     "data": {
      "text/plain": [
       "(748, 33)"
      ]
     },
     "execution_count": 42,
     "metadata": {},
     "output_type": "execute_result"
    }
   ],
   "source": [
    "pitcher_all[pitcher_all.Year < 2016].shape"
   ]
  },
  {
   "cell_type": "code",
   "execution_count": 43,
   "metadata": {},
   "outputs": [
    {
     "data": {
      "text/plain": [
       "(865, 33)"
      ]
     },
     "execution_count": 43,
     "metadata": {},
     "output_type": "execute_result"
    }
   ],
   "source": [
    "pitcher_all.shape"
   ]
  },
  {
   "cell_type": "code",
   "execution_count": 236,
   "metadata": {},
   "outputs": [
    {
     "data": {
      "text/plain": [
       "(748, 23)"
      ]
     },
     "execution_count": 236,
     "metadata": {},
     "output_type": "execute_result"
    }
   ],
   "source": [
    "pitcher_all[(pitcher_all.Year != 2016) & (pitcher_all.Year != 2017)].shape"
   ]
  },
  {
   "cell_type": "code",
   "execution_count": 118,
   "metadata": {
    "collapsed": true
   },
   "outputs": [],
   "source": [
    "import importlib\n",
    "import models\n",
    "models = importlib.reload(models)"
   ]
  },
  {
   "cell_type": "code",
   "execution_count": 119,
   "metadata": {
    "collapsed": true
   },
   "outputs": [],
   "source": [
    "with open('pitching_data.pickle', 'rb') as file:\n",
    "    pitcher_all = pickle.load(file)\n",
    "\n",
    "pitcher_prepped = models.prepareFreeAgentData(pitcher_all)\n",
    "X_train, y_train, X_test, y_test = models.splitDataByYear(pitcher_prepped, 2014, 'pitcher')"
   ]
  },
  {
   "cell_type": "code",
   "execution_count": 120,
   "metadata": {},
   "outputs": [
    {
     "name": "stdout",
     "output_type": "stream",
     "text": [
      "<class 'pandas.core.frame.DataFrame'>\n",
      "Int64Index: 1033 entries, 0 to 1069\n",
      "Data columns (total 25 columns):\n",
      "Age                 1033 non-null int64\n",
      "WAR_3               1033 non-null float64\n",
      "nameFirst           1033 non-null object\n",
      "nameLast            1033 non-null object\n",
      "Year                1033 non-null int64\n",
      "Dollars             529 non-null float64\n",
      "Length              1033 non-null int64\n",
      "playerID            1033 non-null object\n",
      "yearID              1033 non-null int64\n",
      "ERA                 1033 non-null float64\n",
      "WHIP                1033 non-null float64\n",
      "K_9                 1033 non-null float64\n",
      "HR_9                1033 non-null float64\n",
      "IPouts              1033 non-null float64\n",
      "W                   1033 non-null float64\n",
      "SV                  1033 non-null float64\n",
      "Med_WAR             1033 non-null float64\n",
      "Min_WAR             1033 non-null float64\n",
      "Inflation_Factor    1033 non-null float64\n",
      "Total               1033 non-null float64\n",
      "Dollars_2006        529 non-null float64\n",
      "Pos_RP              1033 non-null uint8\n",
      "Pos_SP              1033 non-null uint8\n",
      "Contract            1033 non-null bool\n",
      "AAV_2006            529 non-null float64\n",
      "dtypes: bool(1), float64(15), int64(4), object(3), uint8(2)\n",
      "memory usage: 188.6+ KB\n"
     ]
    }
   ],
   "source": [
    "pitcher_prepped.info()"
   ]
  },
  {
   "cell_type": "code",
   "execution_count": 41,
   "metadata": {
    "collapsed": true
   },
   "outputs": [],
   "source": [
    "contract_model, contract_preds = models.predictContract(X_train, y_train, X_test)"
   ]
  },
  {
   "cell_type": "code",
   "execution_count": 42,
   "metadata": {},
   "outputs": [],
   "source": [
    "length_model, length_preds = models.predictLength(X_train, y_train, X_test)"
   ]
  },
  {
   "cell_type": "code",
   "execution_count": 43,
   "metadata": {},
   "outputs": [],
   "source": [
    "dollars_model, dollars_preds = models.predictDollars(X_train, y_train, X_test) "
   ]
  },
  {
   "cell_type": "code",
   "execution_count": 44,
   "metadata": {},
   "outputs": [
    {
     "data": {
      "text/plain": [
       "0.83606557377049184"
      ]
     },
     "execution_count": 44,
     "metadata": {},
     "output_type": "execute_result"
    }
   ],
   "source": [
    "contract_model.score(X_test, y_test['Contract'])"
   ]
  },
  {
   "cell_type": "code",
   "execution_count": 46,
   "metadata": {},
   "outputs": [
    {
     "data": {
      "text/plain": [
       "pandas.core.frame.DataFrame"
      ]
     },
     "execution_count": 46,
     "metadata": {},
     "output_type": "execute_result"
    }
   ],
   "source": [
    "X_test_short = X_test[y_test.AAV_2006.notnull()]\n",
    "y_test_short = y_test[y_test.AAV_2006.notnull()]\n",
    "type(y_test_short)"
   ]
  },
  {
   "cell_type": "code",
   "execution_count": 47,
   "metadata": {},
   "outputs": [
    {
     "data": {
      "text/plain": [
       "0.6428571428571429"
      ]
     },
     "execution_count": 47,
     "metadata": {},
     "output_type": "execute_result"
    }
   ],
   "source": [
    "length_model.score(X_test_short, y_test_short['Length'])"
   ]
  },
  {
   "cell_type": "code",
   "execution_count": 48,
   "metadata": {},
   "outputs": [
    {
     "data": {
      "text/plain": [
       "0.76505278374475838"
      ]
     },
     "execution_count": 48,
     "metadata": {},
     "output_type": "execute_result"
    }
   ],
   "source": [
    "dollars_model.score(X_test_short, y_test_short['AAV_2006'])"
   ]
  },
  {
   "cell_type": "code",
   "execution_count": 49,
   "metadata": {},
   "outputs": [
    {
     "data": {
      "text/plain": [
       "1.6924528301886792"
      ]
     },
     "execution_count": 49,
     "metadata": {},
     "output_type": "execute_result"
    }
   ],
   "source": [
    "pitcher_prepped[pitcher_prepped.Year == 2016]['Inflation_Factor'].unique()[0]"
   ]
  },
  {
   "cell_type": "code",
   "execution_count": 51,
   "metadata": {},
   "outputs": [],
   "source": [
    "fa_year = 2006\n",
    "\n",
    "# Load and prepare the datasets                                                                                                                                                             \n",
    "#pitcher_all, position_all = models.loadAllData()\n",
    "with open('pitching_data.pickle', 'rb') as file:\n",
    "    pitcher_all = pickle.load(file)\n",
    "\n",
    "with open('position_data.pickle', 'rb') as file:\n",
    "    position_all = pickle.load(file)\n",
    "\n",
    "pitcher_prepped = models.prepareFreeAgentData(pitcher_all)\n",
    "position_prepped = models.prepareFreeAgentData(position_all)\n",
    "\n",
    "# Use year to split dataset                                                                                                                                                                 \n",
    "X_train_pitch, y_train_pitch, X_test_pitch, y_test_pitch = models.splitDataByYear(pitcher_prepped, fa_year, 'pitcher')\n",
    "X_train_pos, y_train_pos, X_test_pos, y_test_pos = models.splitDataByYear(position_prepped, fa_year, 'position')\n",
    "\n",
    "# Predict whether they'll get contracts                                                                                                                                                     \n",
    "score_pitch, contract_pitch = models.predictContract(X_train_pitch, y_train_pitch, X_test_pitch)\n",
    "_, contract_pos = models.predictContract(X_train_pos, y_train_pos, X_test_pos)\n",
    "\n",
    "    # Predict contract length                                                                                                                                                                   \n",
    "_, length_pitch = models.predictLength(X_train_pitch, y_train_pitch, X_test_pitch)\n",
    "_, length_pos = models.predictLength(X_train_pos, y_train_pos, X_test_pos)\n",
    "\n",
    "# Predict contract dollars                                                                                                                                                                  \n",
    "_, dollars_pitch = models.predictDollars(X_train_pitch, y_train_pitch, X_test_pitch)\n",
    "_, dollars_pos = models.predictDollars(X_train_pos, y_train_pos, X_test_pos) "
   ]
  },
  {
   "cell_type": "code",
   "execution_count": 60,
   "metadata": {},
   "outputs": [
    {
     "data": {
      "text/html": [
       "<div>\n",
       "<style>\n",
       "    .dataframe thead tr:only-child th {\n",
       "        text-align: right;\n",
       "    }\n",
       "\n",
       "    .dataframe thead th {\n",
       "        text-align: left;\n",
       "    }\n",
       "\n",
       "    .dataframe tbody tr th {\n",
       "        vertical-align: top;\n",
       "    }\n",
       "</style>\n",
       "<table border=\"1\" class=\"dataframe\">\n",
       "  <thead>\n",
       "    <tr style=\"text-align: right;\">\n",
       "      <th></th>\n",
       "      <th>contract_actual</th>\n",
       "      <th>contract_pred</th>\n",
       "      <th>dollars_actual</th>\n",
       "      <th>dollars_pred</th>\n",
       "      <th>length_actual</th>\n",
       "      <th>length_pred</th>\n",
       "      <th>nameFirst</th>\n",
       "      <th>nameLast</th>\n",
       "      <th>position</th>\n",
       "    </tr>\n",
       "  </thead>\n",
       "  <tbody>\n",
       "    <tr>\n",
       "      <th>0</th>\n",
       "      <td>False</td>\n",
       "      <td>False</td>\n",
       "      <td>NaN</td>\n",
       "      <td>2600000.0</td>\n",
       "      <td>0</td>\n",
       "      <td>1</td>\n",
       "      <td>Bruce</td>\n",
       "      <td>Chen</td>\n",
       "      <td>SP</td>\n",
       "    </tr>\n",
       "    <tr>\n",
       "      <th>1</th>\n",
       "      <td>True</td>\n",
       "      <td>True</td>\n",
       "      <td>3100000.0</td>\n",
       "      <td>3200000.0</td>\n",
       "      <td>1</td>\n",
       "      <td>1</td>\n",
       "      <td>Steve</td>\n",
       "      <td>Trachsel</td>\n",
       "      <td>SP</td>\n",
       "    </tr>\n",
       "    <tr>\n",
       "      <th>2</th>\n",
       "      <td>False</td>\n",
       "      <td>True</td>\n",
       "      <td>NaN</td>\n",
       "      <td>2600000.0</td>\n",
       "      <td>0</td>\n",
       "      <td>1</td>\n",
       "      <td>Mark</td>\n",
       "      <td>Redman</td>\n",
       "      <td>SP</td>\n",
       "    </tr>\n",
       "    <tr>\n",
       "      <th>3</th>\n",
       "      <td>True</td>\n",
       "      <td>True</td>\n",
       "      <td>3000000.0</td>\n",
       "      <td>4400000.0</td>\n",
       "      <td>1</td>\n",
       "      <td>1</td>\n",
       "      <td>David</td>\n",
       "      <td>Wells</td>\n",
       "      <td>SP</td>\n",
       "    </tr>\n",
       "    <tr>\n",
       "      <th>4</th>\n",
       "      <td>True</td>\n",
       "      <td>True</td>\n",
       "      <td>3500000.0</td>\n",
       "      <td>3000000.0</td>\n",
       "      <td>1</td>\n",
       "      <td>1</td>\n",
       "      <td>Tony</td>\n",
       "      <td>Armas</td>\n",
       "      <td>SP</td>\n",
       "    </tr>\n",
       "    <tr>\n",
       "      <th>5</th>\n",
       "      <td>False</td>\n",
       "      <td>False</td>\n",
       "      <td>NaN</td>\n",
       "      <td>1400000.0</td>\n",
       "      <td>0</td>\n",
       "      <td>1</td>\n",
       "      <td>Victor</td>\n",
       "      <td>Zambrano</td>\n",
       "      <td>SP</td>\n",
       "    </tr>\n",
       "    <tr>\n",
       "      <th>6</th>\n",
       "      <td>True</td>\n",
       "      <td>True</td>\n",
       "      <td>1500000.0</td>\n",
       "      <td>2100000.0</td>\n",
       "      <td>1</td>\n",
       "      <td>1</td>\n",
       "      <td>Tomo</td>\n",
       "      <td>Ohka</td>\n",
       "      <td>SP</td>\n",
       "    </tr>\n",
       "    <tr>\n",
       "      <th>7</th>\n",
       "      <td>True</td>\n",
       "      <td>True</td>\n",
       "      <td>3100000.0</td>\n",
       "      <td>3300000.0</td>\n",
       "      <td>1</td>\n",
       "      <td>1</td>\n",
       "      <td>Ramon</td>\n",
       "      <td>Ortiz</td>\n",
       "      <td>SP</td>\n",
       "    </tr>\n",
       "    <tr>\n",
       "      <th>8</th>\n",
       "      <td>True</td>\n",
       "      <td>False</td>\n",
       "      <td>500000.0</td>\n",
       "      <td>2100000.0</td>\n",
       "      <td>1</td>\n",
       "      <td>1</td>\n",
       "      <td>John</td>\n",
       "      <td>Thomson</td>\n",
       "      <td>SP</td>\n",
       "    </tr>\n",
       "    <tr>\n",
       "      <th>9</th>\n",
       "      <td>True</td>\n",
       "      <td>True</td>\n",
       "      <td>13000000.0</td>\n",
       "      <td>1900000.0</td>\n",
       "      <td>2</td>\n",
       "      <td>1</td>\n",
       "      <td>Mark</td>\n",
       "      <td>Mulder</td>\n",
       "      <td>SP</td>\n",
       "    </tr>\n",
       "    <tr>\n",
       "      <th>10</th>\n",
       "      <td>True</td>\n",
       "      <td>True</td>\n",
       "      <td>47000000.0</td>\n",
       "      <td>35300000.0</td>\n",
       "      <td>3</td>\n",
       "      <td>2</td>\n",
       "      <td>Jason</td>\n",
       "      <td>Schmidt</td>\n",
       "      <td>SP</td>\n",
       "    </tr>\n",
       "    <tr>\n",
       "      <th>11</th>\n",
       "      <td>False</td>\n",
       "      <td>True</td>\n",
       "      <td>NaN</td>\n",
       "      <td>2700000.0</td>\n",
       "      <td>0</td>\n",
       "      <td>1</td>\n",
       "      <td>Shawn</td>\n",
       "      <td>Estes</td>\n",
       "      <td>SP</td>\n",
       "    </tr>\n",
       "    <tr>\n",
       "      <th>12</th>\n",
       "      <td>True</td>\n",
       "      <td>True</td>\n",
       "      <td>4000000.0</td>\n",
       "      <td>1900000.0</td>\n",
       "      <td>1</td>\n",
       "      <td>1</td>\n",
       "      <td>Joel</td>\n",
       "      <td>Pineiro</td>\n",
       "      <td>SP</td>\n",
       "    </tr>\n",
       "    <tr>\n",
       "      <th>13</th>\n",
       "      <td>True</td>\n",
       "      <td>True</td>\n",
       "      <td>126000000.0</td>\n",
       "      <td>63300000.0</td>\n",
       "      <td>7</td>\n",
       "      <td>5</td>\n",
       "      <td>Barry</td>\n",
       "      <td>Zito</td>\n",
       "      <td>SP</td>\n",
       "    </tr>\n",
       "    <tr>\n",
       "      <th>14</th>\n",
       "      <td>True</td>\n",
       "      <td>True</td>\n",
       "      <td>42000000.0</td>\n",
       "      <td>6000000.0</td>\n",
       "      <td>4</td>\n",
       "      <td>1</td>\n",
       "      <td>Jeff</td>\n",
       "      <td>Suppan</td>\n",
       "      <td>SP</td>\n",
       "    </tr>\n",
       "    <tr>\n",
       "      <th>15</th>\n",
       "      <td>True</td>\n",
       "      <td>True</td>\n",
       "      <td>21000000.0</td>\n",
       "      <td>4000000.0</td>\n",
       "      <td>3</td>\n",
       "      <td>1</td>\n",
       "      <td>Jason</td>\n",
       "      <td>Marquis</td>\n",
       "      <td>SP</td>\n",
       "    </tr>\n",
       "    <tr>\n",
       "      <th>16</th>\n",
       "      <td>True</td>\n",
       "      <td>True</td>\n",
       "      <td>40000000.0</td>\n",
       "      <td>17300000.0</td>\n",
       "      <td>4</td>\n",
       "      <td>2</td>\n",
       "      <td>Ted</td>\n",
       "      <td>Lilly</td>\n",
       "      <td>SP</td>\n",
       "    </tr>\n",
       "    <tr>\n",
       "      <th>17</th>\n",
       "      <td>True</td>\n",
       "      <td>True</td>\n",
       "      <td>25000000.0</td>\n",
       "      <td>5200000.0</td>\n",
       "      <td>3</td>\n",
       "      <td>1</td>\n",
       "      <td>Miguel</td>\n",
       "      <td>Batista</td>\n",
       "      <td>SP</td>\n",
       "    </tr>\n",
       "    <tr>\n",
       "      <th>18</th>\n",
       "      <td>True</td>\n",
       "      <td>True</td>\n",
       "      <td>10000000.0</td>\n",
       "      <td>21600000.0</td>\n",
       "      <td>1</td>\n",
       "      <td>2</td>\n",
       "      <td>Greg</td>\n",
       "      <td>Maddux</td>\n",
       "      <td>SP</td>\n",
       "    </tr>\n",
       "    <tr>\n",
       "      <th>19</th>\n",
       "      <td>True</td>\n",
       "      <td>True</td>\n",
       "      <td>55000000.0</td>\n",
       "      <td>7400000.0</td>\n",
       "      <td>5</td>\n",
       "      <td>1</td>\n",
       "      <td>Gil</td>\n",
       "      <td>Meche</td>\n",
       "      <td>SP</td>\n",
       "    </tr>\n",
       "    <tr>\n",
       "      <th>20</th>\n",
       "      <td>True</td>\n",
       "      <td>True</td>\n",
       "      <td>16000000.0</td>\n",
       "      <td>50000000.0</td>\n",
       "      <td>1</td>\n",
       "      <td>4</td>\n",
       "      <td>Andy</td>\n",
       "      <td>Pettitte</td>\n",
       "      <td>SP</td>\n",
       "    </tr>\n",
       "    <tr>\n",
       "      <th>21</th>\n",
       "      <td>True</td>\n",
       "      <td>True</td>\n",
       "      <td>10500000.0</td>\n",
       "      <td>12700000.0</td>\n",
       "      <td>1</td>\n",
       "      <td>1</td>\n",
       "      <td>Tom</td>\n",
       "      <td>Glavine</td>\n",
       "      <td>SP</td>\n",
       "    </tr>\n",
       "    <tr>\n",
       "      <th>22</th>\n",
       "      <td>True</td>\n",
       "      <td>False</td>\n",
       "      <td>4000000.0</td>\n",
       "      <td>1500000.0</td>\n",
       "      <td>1</td>\n",
       "      <td>1</td>\n",
       "      <td>Kip</td>\n",
       "      <td>Wells</td>\n",
       "      <td>SP</td>\n",
       "    </tr>\n",
       "    <tr>\n",
       "      <th>23</th>\n",
       "      <td>True</td>\n",
       "      <td>True</td>\n",
       "      <td>8000000.0</td>\n",
       "      <td>2100000.0</td>\n",
       "      <td>1</td>\n",
       "      <td>1</td>\n",
       "      <td>Randy</td>\n",
       "      <td>Wolf</td>\n",
       "      <td>SP</td>\n",
       "    </tr>\n",
       "    <tr>\n",
       "      <th>24</th>\n",
       "      <td>True</td>\n",
       "      <td>True</td>\n",
       "      <td>23000000.0</td>\n",
       "      <td>14300000.0</td>\n",
       "      <td>2</td>\n",
       "      <td>1</td>\n",
       "      <td>Mike</td>\n",
       "      <td>Mussina</td>\n",
       "      <td>SP</td>\n",
       "    </tr>\n",
       "    <tr>\n",
       "      <th>25</th>\n",
       "      <td>True</td>\n",
       "      <td>True</td>\n",
       "      <td>12500000.0</td>\n",
       "      <td>2600000.0</td>\n",
       "      <td>2</td>\n",
       "      <td>1</td>\n",
       "      <td>Woody</td>\n",
       "      <td>Williams</td>\n",
       "      <td>SP</td>\n",
       "    </tr>\n",
       "    <tr>\n",
       "      <th>26</th>\n",
       "      <td>True</td>\n",
       "      <td>True</td>\n",
       "      <td>12000000.0</td>\n",
       "      <td>5500000.0</td>\n",
       "      <td>2</td>\n",
       "      <td>1</td>\n",
       "      <td>Orlando</td>\n",
       "      <td>Hernandez</td>\n",
       "      <td>SP</td>\n",
       "    </tr>\n",
       "    <tr>\n",
       "      <th>27</th>\n",
       "      <td>True</td>\n",
       "      <td>True</td>\n",
       "      <td>1500000.0</td>\n",
       "      <td>2300000.0</td>\n",
       "      <td>1</td>\n",
       "      <td>1</td>\n",
       "      <td>Wade</td>\n",
       "      <td>Miller</td>\n",
       "      <td>SP</td>\n",
       "    </tr>\n",
       "    <tr>\n",
       "      <th>28</th>\n",
       "      <td>False</td>\n",
       "      <td>True</td>\n",
       "      <td>NaN</td>\n",
       "      <td>3000000.0</td>\n",
       "      <td>0</td>\n",
       "      <td>1</td>\n",
       "      <td>Dustin</td>\n",
       "      <td>Hermanson</td>\n",
       "      <td>RP</td>\n",
       "    </tr>\n",
       "    <tr>\n",
       "      <th>29</th>\n",
       "      <td>False</td>\n",
       "      <td>True</td>\n",
       "      <td>NaN</td>\n",
       "      <td>2000000.0</td>\n",
       "      <td>0</td>\n",
       "      <td>1</td>\n",
       "      <td>Aaron</td>\n",
       "      <td>Sele</td>\n",
       "      <td>RP</td>\n",
       "    </tr>\n",
       "    <tr>\n",
       "      <th>...</th>\n",
       "      <td>...</td>\n",
       "      <td>...</td>\n",
       "      <td>...</td>\n",
       "      <td>...</td>\n",
       "      <td>...</td>\n",
       "      <td>...</td>\n",
       "      <td>...</td>\n",
       "      <td>...</td>\n",
       "      <td>...</td>\n",
       "    </tr>\n",
       "    <tr>\n",
       "      <th>45</th>\n",
       "      <td>True</td>\n",
       "      <td>False</td>\n",
       "      <td>380000.0</td>\n",
       "      <td>1000000.0</td>\n",
       "      <td>1</td>\n",
       "      <td>1</td>\n",
       "      <td>Russ</td>\n",
       "      <td>Ortiz</td>\n",
       "      <td>RP</td>\n",
       "    </tr>\n",
       "    <tr>\n",
       "      <th>46</th>\n",
       "      <td>False</td>\n",
       "      <td>False</td>\n",
       "      <td>NaN</td>\n",
       "      <td>800000.0</td>\n",
       "      <td>0</td>\n",
       "      <td>1</td>\n",
       "      <td>Willie</td>\n",
       "      <td>Eyre</td>\n",
       "      <td>RP</td>\n",
       "    </tr>\n",
       "    <tr>\n",
       "      <th>47</th>\n",
       "      <td>True</td>\n",
       "      <td>False</td>\n",
       "      <td>2050000.0</td>\n",
       "      <td>700000.0</td>\n",
       "      <td>1</td>\n",
       "      <td>1</td>\n",
       "      <td>Chris</td>\n",
       "      <td>Reitsma</td>\n",
       "      <td>RP</td>\n",
       "    </tr>\n",
       "    <tr>\n",
       "      <th>48</th>\n",
       "      <td>False</td>\n",
       "      <td>False</td>\n",
       "      <td>NaN</td>\n",
       "      <td>900000.0</td>\n",
       "      <td>0</td>\n",
       "      <td>1</td>\n",
       "      <td>Mike</td>\n",
       "      <td>Wood</td>\n",
       "      <td>RP</td>\n",
       "    </tr>\n",
       "    <tr>\n",
       "      <th>49</th>\n",
       "      <td>True</td>\n",
       "      <td>True</td>\n",
       "      <td>2250000.0</td>\n",
       "      <td>1700000.0</td>\n",
       "      <td>1</td>\n",
       "      <td>1</td>\n",
       "      <td>David</td>\n",
       "      <td>Riske</td>\n",
       "      <td>RP</td>\n",
       "    </tr>\n",
       "    <tr>\n",
       "      <th>50</th>\n",
       "      <td>True</td>\n",
       "      <td>True</td>\n",
       "      <td>6000000.0</td>\n",
       "      <td>5100000.0</td>\n",
       "      <td>1</td>\n",
       "      <td>1</td>\n",
       "      <td>Eric</td>\n",
       "      <td>Gagne</td>\n",
       "      <td>RP</td>\n",
       "    </tr>\n",
       "    <tr>\n",
       "      <th>51</th>\n",
       "      <td>False</td>\n",
       "      <td>False</td>\n",
       "      <td>NaN</td>\n",
       "      <td>800000.0</td>\n",
       "      <td>0</td>\n",
       "      <td>1</td>\n",
       "      <td>Ray</td>\n",
       "      <td>King</td>\n",
       "      <td>RP</td>\n",
       "    </tr>\n",
       "    <tr>\n",
       "      <th>52</th>\n",
       "      <td>True</td>\n",
       "      <td>False</td>\n",
       "      <td>500000.0</td>\n",
       "      <td>1700000.0</td>\n",
       "      <td>1</td>\n",
       "      <td>1</td>\n",
       "      <td>Doug</td>\n",
       "      <td>Brocail</td>\n",
       "      <td>RP</td>\n",
       "    </tr>\n",
       "    <tr>\n",
       "      <th>53</th>\n",
       "      <td>True</td>\n",
       "      <td>False</td>\n",
       "      <td>2500000.0</td>\n",
       "      <td>1200000.0</td>\n",
       "      <td>1</td>\n",
       "      <td>1</td>\n",
       "      <td>Jose</td>\n",
       "      <td>Mesa</td>\n",
       "      <td>RP</td>\n",
       "    </tr>\n",
       "    <tr>\n",
       "      <th>54</th>\n",
       "      <td>True</td>\n",
       "      <td>True</td>\n",
       "      <td>1750000.0</td>\n",
       "      <td>1500000.0</td>\n",
       "      <td>1</td>\n",
       "      <td>1</td>\n",
       "      <td>Darren</td>\n",
       "      <td>Oliver</td>\n",
       "      <td>RP</td>\n",
       "    </tr>\n",
       "    <tr>\n",
       "      <th>55</th>\n",
       "      <td>True</td>\n",
       "      <td>False</td>\n",
       "      <td>5000000.0</td>\n",
       "      <td>900000.0</td>\n",
       "      <td>1</td>\n",
       "      <td>1</td>\n",
       "      <td>Octavio</td>\n",
       "      <td>Dotel</td>\n",
       "      <td>RP</td>\n",
       "    </tr>\n",
       "    <tr>\n",
       "      <th>56</th>\n",
       "      <td>True</td>\n",
       "      <td>True</td>\n",
       "      <td>3500000.0</td>\n",
       "      <td>1600000.0</td>\n",
       "      <td>2</td>\n",
       "      <td>1</td>\n",
       "      <td>Steve</td>\n",
       "      <td>Kline</td>\n",
       "      <td>RP</td>\n",
       "    </tr>\n",
       "    <tr>\n",
       "      <th>57</th>\n",
       "      <td>True</td>\n",
       "      <td>False</td>\n",
       "      <td>1750000.0</td>\n",
       "      <td>1500000.0</td>\n",
       "      <td>1</td>\n",
       "      <td>1</td>\n",
       "      <td>Russ</td>\n",
       "      <td>Springer</td>\n",
       "      <td>RP</td>\n",
       "    </tr>\n",
       "    <tr>\n",
       "      <th>58</th>\n",
       "      <td>True</td>\n",
       "      <td>False</td>\n",
       "      <td>800000.0</td>\n",
       "      <td>2200000.0</td>\n",
       "      <td>1</td>\n",
       "      <td>1</td>\n",
       "      <td>Tom</td>\n",
       "      <td>Martin</td>\n",
       "      <td>RP</td>\n",
       "    </tr>\n",
       "    <tr>\n",
       "      <th>59</th>\n",
       "      <td>True</td>\n",
       "      <td>True</td>\n",
       "      <td>5000000.0</td>\n",
       "      <td>2500000.0</td>\n",
       "      <td>2</td>\n",
       "      <td>1</td>\n",
       "      <td>Guillermo</td>\n",
       "      <td>Mota</td>\n",
       "      <td>RP</td>\n",
       "    </tr>\n",
       "    <tr>\n",
       "      <th>60</th>\n",
       "      <td>True</td>\n",
       "      <td>True</td>\n",
       "      <td>4250000.0</td>\n",
       "      <td>9300000.0</td>\n",
       "      <td>1</td>\n",
       "      <td>2</td>\n",
       "      <td>Joe</td>\n",
       "      <td>Borowski</td>\n",
       "      <td>RP</td>\n",
       "    </tr>\n",
       "    <tr>\n",
       "      <th>61</th>\n",
       "      <td>True</td>\n",
       "      <td>True</td>\n",
       "      <td>5500000.0</td>\n",
       "      <td>2500000.0</td>\n",
       "      <td>2</td>\n",
       "      <td>1</td>\n",
       "      <td>Alan</td>\n",
       "      <td>Embree</td>\n",
       "      <td>RP</td>\n",
       "    </tr>\n",
       "    <tr>\n",
       "      <th>62</th>\n",
       "      <td>True</td>\n",
       "      <td>True</td>\n",
       "      <td>3500000.0</td>\n",
       "      <td>2200000.0</td>\n",
       "      <td>1</td>\n",
       "      <td>1</td>\n",
       "      <td>LaTroy</td>\n",
       "      <td>Hawkins</td>\n",
       "      <td>RP</td>\n",
       "    </tr>\n",
       "    <tr>\n",
       "      <th>63</th>\n",
       "      <td>True</td>\n",
       "      <td>True</td>\n",
       "      <td>33750000.0</td>\n",
       "      <td>39600000.0</td>\n",
       "      <td>3</td>\n",
       "      <td>4</td>\n",
       "      <td>Vicente</td>\n",
       "      <td>Padilla</td>\n",
       "      <td>RP</td>\n",
       "    </tr>\n",
       "    <tr>\n",
       "      <th>64</th>\n",
       "      <td>True</td>\n",
       "      <td>False</td>\n",
       "      <td>750000.0</td>\n",
       "      <td>900000.0</td>\n",
       "      <td>1</td>\n",
       "      <td>1</td>\n",
       "      <td>Tanyon</td>\n",
       "      <td>Sturtze</td>\n",
       "      <td>RP</td>\n",
       "    </tr>\n",
       "    <tr>\n",
       "      <th>65</th>\n",
       "      <td>True</td>\n",
       "      <td>True</td>\n",
       "      <td>1650000.0</td>\n",
       "      <td>2400000.0</td>\n",
       "      <td>1</td>\n",
       "      <td>1</td>\n",
       "      <td>Aaron</td>\n",
       "      <td>Fultz</td>\n",
       "      <td>RP</td>\n",
       "    </tr>\n",
       "    <tr>\n",
       "      <th>66</th>\n",
       "      <td>True</td>\n",
       "      <td>False</td>\n",
       "      <td>3500000.0</td>\n",
       "      <td>1300000.0</td>\n",
       "      <td>1</td>\n",
       "      <td>1</td>\n",
       "      <td>Roberto</td>\n",
       "      <td>Hernandez</td>\n",
       "      <td>RP</td>\n",
       "    </tr>\n",
       "    <tr>\n",
       "      <th>67</th>\n",
       "      <td>True</td>\n",
       "      <td>False</td>\n",
       "      <td>3500000.0</td>\n",
       "      <td>2300000.0</td>\n",
       "      <td>1</td>\n",
       "      <td>1</td>\n",
       "      <td>Roberto</td>\n",
       "      <td>Hernandez</td>\n",
       "      <td>RP</td>\n",
       "    </tr>\n",
       "    <tr>\n",
       "      <th>68</th>\n",
       "      <td>True</td>\n",
       "      <td>True</td>\n",
       "      <td>900000.0</td>\n",
       "      <td>1500000.0</td>\n",
       "      <td>1</td>\n",
       "      <td>1</td>\n",
       "      <td>Scott</td>\n",
       "      <td>Williamson</td>\n",
       "      <td>RP</td>\n",
       "    </tr>\n",
       "    <tr>\n",
       "      <th>69</th>\n",
       "      <td>True</td>\n",
       "      <td>True</td>\n",
       "      <td>10500000.0</td>\n",
       "      <td>8700000.0</td>\n",
       "      <td>3</td>\n",
       "      <td>3</td>\n",
       "      <td>Chad</td>\n",
       "      <td>Bradford</td>\n",
       "      <td>RP</td>\n",
       "    </tr>\n",
       "    <tr>\n",
       "      <th>70</th>\n",
       "      <td>True</td>\n",
       "      <td>True</td>\n",
       "      <td>19000000.0</td>\n",
       "      <td>2900000.0</td>\n",
       "      <td>3</td>\n",
       "      <td>1</td>\n",
       "      <td>Danys</td>\n",
       "      <td>Baez</td>\n",
       "      <td>RP</td>\n",
       "    </tr>\n",
       "    <tr>\n",
       "      <th>71</th>\n",
       "      <td>True</td>\n",
       "      <td>True</td>\n",
       "      <td>12000000.0</td>\n",
       "      <td>1800000.0</td>\n",
       "      <td>3</td>\n",
       "      <td>1</td>\n",
       "      <td>Jamie</td>\n",
       "      <td>Walker</td>\n",
       "      <td>RP</td>\n",
       "    </tr>\n",
       "    <tr>\n",
       "      <th>72</th>\n",
       "      <td>True</td>\n",
       "      <td>True</td>\n",
       "      <td>5500000.0</td>\n",
       "      <td>2800000.0</td>\n",
       "      <td>2</td>\n",
       "      <td>1</td>\n",
       "      <td>Mike</td>\n",
       "      <td>Stanton</td>\n",
       "      <td>RP</td>\n",
       "    </tr>\n",
       "    <tr>\n",
       "      <th>73</th>\n",
       "      <td>True</td>\n",
       "      <td>True</td>\n",
       "      <td>18000000.0</td>\n",
       "      <td>2600000.0</td>\n",
       "      <td>4</td>\n",
       "      <td>1</td>\n",
       "      <td>Justin</td>\n",
       "      <td>Speier</td>\n",
       "      <td>RP</td>\n",
       "    </tr>\n",
       "    <tr>\n",
       "      <th>74</th>\n",
       "      <td>True</td>\n",
       "      <td>True</td>\n",
       "      <td>1750000.0</td>\n",
       "      <td>2000000.0</td>\n",
       "      <td>1</td>\n",
       "      <td>1</td>\n",
       "      <td>Kerry</td>\n",
       "      <td>Wood</td>\n",
       "      <td>RP</td>\n",
       "    </tr>\n",
       "  </tbody>\n",
       "</table>\n",
       "<p>75 rows × 9 columns</p>\n",
       "</div>"
      ],
      "text/plain": [
       "    contract_actual  contract_pred  dollars_actual  dollars_pred  \\\n",
       "0             False          False             NaN     2600000.0   \n",
       "1              True           True       3100000.0     3200000.0   \n",
       "2             False           True             NaN     2600000.0   \n",
       "3              True           True       3000000.0     4400000.0   \n",
       "4              True           True       3500000.0     3000000.0   \n",
       "5             False          False             NaN     1400000.0   \n",
       "6              True           True       1500000.0     2100000.0   \n",
       "7              True           True       3100000.0     3300000.0   \n",
       "8              True          False        500000.0     2100000.0   \n",
       "9              True           True      13000000.0     1900000.0   \n",
       "10             True           True      47000000.0    35300000.0   \n",
       "11            False           True             NaN     2700000.0   \n",
       "12             True           True       4000000.0     1900000.0   \n",
       "13             True           True     126000000.0    63300000.0   \n",
       "14             True           True      42000000.0     6000000.0   \n",
       "15             True           True      21000000.0     4000000.0   \n",
       "16             True           True      40000000.0    17300000.0   \n",
       "17             True           True      25000000.0     5200000.0   \n",
       "18             True           True      10000000.0    21600000.0   \n",
       "19             True           True      55000000.0     7400000.0   \n",
       "20             True           True      16000000.0    50000000.0   \n",
       "21             True           True      10500000.0    12700000.0   \n",
       "22             True          False       4000000.0     1500000.0   \n",
       "23             True           True       8000000.0     2100000.0   \n",
       "24             True           True      23000000.0    14300000.0   \n",
       "25             True           True      12500000.0     2600000.0   \n",
       "26             True           True      12000000.0     5500000.0   \n",
       "27             True           True       1500000.0     2300000.0   \n",
       "28            False           True             NaN     3000000.0   \n",
       "29            False           True             NaN     2000000.0   \n",
       "..              ...            ...             ...           ...   \n",
       "45             True          False        380000.0     1000000.0   \n",
       "46            False          False             NaN      800000.0   \n",
       "47             True          False       2050000.0      700000.0   \n",
       "48            False          False             NaN      900000.0   \n",
       "49             True           True       2250000.0     1700000.0   \n",
       "50             True           True       6000000.0     5100000.0   \n",
       "51            False          False             NaN      800000.0   \n",
       "52             True          False        500000.0     1700000.0   \n",
       "53             True          False       2500000.0     1200000.0   \n",
       "54             True           True       1750000.0     1500000.0   \n",
       "55             True          False       5000000.0      900000.0   \n",
       "56             True           True       3500000.0     1600000.0   \n",
       "57             True          False       1750000.0     1500000.0   \n",
       "58             True          False        800000.0     2200000.0   \n",
       "59             True           True       5000000.0     2500000.0   \n",
       "60             True           True       4250000.0     9300000.0   \n",
       "61             True           True       5500000.0     2500000.0   \n",
       "62             True           True       3500000.0     2200000.0   \n",
       "63             True           True      33750000.0    39600000.0   \n",
       "64             True          False        750000.0      900000.0   \n",
       "65             True           True       1650000.0     2400000.0   \n",
       "66             True          False       3500000.0     1300000.0   \n",
       "67             True          False       3500000.0     2300000.0   \n",
       "68             True           True        900000.0     1500000.0   \n",
       "69             True           True      10500000.0     8700000.0   \n",
       "70             True           True      19000000.0     2900000.0   \n",
       "71             True           True      12000000.0     1800000.0   \n",
       "72             True           True       5500000.0     2800000.0   \n",
       "73             True           True      18000000.0     2600000.0   \n",
       "74             True           True       1750000.0     2000000.0   \n",
       "\n",
       "    length_actual  length_pred  nameFirst    nameLast position  \n",
       "0               0            1      Bruce        Chen       SP  \n",
       "1               1            1      Steve    Trachsel       SP  \n",
       "2               0            1       Mark      Redman       SP  \n",
       "3               1            1      David       Wells       SP  \n",
       "4               1            1       Tony       Armas       SP  \n",
       "5               0            1     Victor    Zambrano       SP  \n",
       "6               1            1       Tomo        Ohka       SP  \n",
       "7               1            1      Ramon       Ortiz       SP  \n",
       "8               1            1       John     Thomson       SP  \n",
       "9               2            1       Mark      Mulder       SP  \n",
       "10              3            2      Jason     Schmidt       SP  \n",
       "11              0            1      Shawn       Estes       SP  \n",
       "12              1            1       Joel     Pineiro       SP  \n",
       "13              7            5      Barry        Zito       SP  \n",
       "14              4            1       Jeff      Suppan       SP  \n",
       "15              3            1      Jason     Marquis       SP  \n",
       "16              4            2        Ted       Lilly       SP  \n",
       "17              3            1     Miguel     Batista       SP  \n",
       "18              1            2       Greg      Maddux       SP  \n",
       "19              5            1        Gil       Meche       SP  \n",
       "20              1            4       Andy    Pettitte       SP  \n",
       "21              1            1        Tom     Glavine       SP  \n",
       "22              1            1        Kip       Wells       SP  \n",
       "23              1            1      Randy        Wolf       SP  \n",
       "24              2            1       Mike     Mussina       SP  \n",
       "25              2            1      Woody    Williams       SP  \n",
       "26              2            1    Orlando   Hernandez       SP  \n",
       "27              1            1       Wade      Miller       SP  \n",
       "28              0            1     Dustin   Hermanson       RP  \n",
       "29              0            1      Aaron        Sele       RP  \n",
       "..            ...          ...        ...         ...      ...  \n",
       "45              1            1       Russ       Ortiz       RP  \n",
       "46              0            1     Willie        Eyre       RP  \n",
       "47              1            1      Chris     Reitsma       RP  \n",
       "48              0            1       Mike        Wood       RP  \n",
       "49              1            1      David       Riske       RP  \n",
       "50              1            1       Eric       Gagne       RP  \n",
       "51              0            1        Ray        King       RP  \n",
       "52              1            1       Doug     Brocail       RP  \n",
       "53              1            1       Jose        Mesa       RP  \n",
       "54              1            1     Darren      Oliver       RP  \n",
       "55              1            1    Octavio       Dotel       RP  \n",
       "56              2            1      Steve       Kline       RP  \n",
       "57              1            1       Russ    Springer       RP  \n",
       "58              1            1        Tom      Martin       RP  \n",
       "59              2            1  Guillermo        Mota       RP  \n",
       "60              1            2        Joe    Borowski       RP  \n",
       "61              2            1       Alan      Embree       RP  \n",
       "62              1            1     LaTroy     Hawkins       RP  \n",
       "63              3            4    Vicente     Padilla       RP  \n",
       "64              1            1     Tanyon     Sturtze       RP  \n",
       "65              1            1      Aaron       Fultz       RP  \n",
       "66              1            1    Roberto   Hernandez       RP  \n",
       "67              1            1    Roberto   Hernandez       RP  \n",
       "68              1            1      Scott  Williamson       RP  \n",
       "69              3            3       Chad    Bradford       RP  \n",
       "70              3            1      Danys        Baez       RP  \n",
       "71              3            1      Jamie      Walker       RP  \n",
       "72              2            1       Mike     Stanton       RP  \n",
       "73              4            1     Justin      Speier       RP  \n",
       "74              1            1      Kerry        Wood       RP  \n",
       "\n",
       "[75 rows x 9 columns]"
      ]
     },
     "execution_count": 60,
     "metadata": {},
     "output_type": "execute_result"
    }
   ],
   "source": [
    "inflation_factor = pitcher_prepped[pitcher_prepped.Year == fa_year]['Inflation_Factor'].unique()[0]\n",
    "\n",
    "test = pd.DataFrame({'nameFirst' : pitcher_prepped[pitcher_prepped.Year == fa_year]['nameFirst'].values,\n",
    "              'nameLast' : pitcher_prepped[pitcher_prepped.Year == fa_year]['nameLast'].values,\n",
    "              'position' : pitcher_all[pitcher_prepped.Year == fa_year]['Position'],\n",
    "              'contract_pred' : contract_pitch,\n",
    "              'contract_actual' : y_test_pitch['Contract'],\n",
    "              'length_pred' : length_pitch,\n",
    "              'length_actual': y_test_pitch['Length'],\n",
    "              'dollars_pred' : np.round(dollars_pitch * length_pitch * inflation_factor, decimals = -5),\n",
    "              'dollars_actual' : y_test_pitch['Dollars']})\n",
    "test_small = test\n",
    "test_small"
   ]
  },
  {
   "cell_type": "code",
   "execution_count": 392,
   "metadata": {
    "collapsed": true
   },
   "outputs": [],
   "source": [
    "test_small['dollars_actual'] = test_small['dollars_actual'].apply(lambda x: '{:,.2f}'.format(x))\n",
    "test_small['dollars_pred'] = test_small['dollars_pred'].apply(lambda x: '{:,.2f}'.format(x))\n",
    "test_small['dollars_actual'].replace({'nan':'N/A'}, inplace = True)\n",
    "test_small.loc[test_small.contract_pred == False,'dollars_pred'] = 'N/A'\n",
    "test_small.loc[test_small.contract_pred == False,'length_pred'] = 0"
   ]
  },
  {
   "cell_type": "code",
   "execution_count": 393,
   "metadata": {},
   "outputs": [
    {
     "data": {
      "text/html": [
       "<div>\n",
       "<style>\n",
       "    .dataframe thead tr:only-child th {\n",
       "        text-align: right;\n",
       "    }\n",
       "\n",
       "    .dataframe thead th {\n",
       "        text-align: left;\n",
       "    }\n",
       "\n",
       "    .dataframe tbody tr th {\n",
       "        vertical-align: top;\n",
       "    }\n",
       "</style>\n",
       "<table border=\"1\" class=\"dataframe\">\n",
       "  <thead>\n",
       "    <tr style=\"text-align: right;\">\n",
       "      <th></th>\n",
       "      <th>contract_actual</th>\n",
       "      <th>contract_pred</th>\n",
       "      <th>dollars_actual</th>\n",
       "      <th>dollars_pred</th>\n",
       "      <th>length_actual</th>\n",
       "      <th>length_pred</th>\n",
       "      <th>nameFirst</th>\n",
       "      <th>nameLast</th>\n",
       "      <th>position</th>\n",
       "    </tr>\n",
       "  </thead>\n",
       "  <tbody>\n",
       "    <tr>\n",
       "      <th>0</th>\n",
       "      <td>False</td>\n",
       "      <td>False</td>\n",
       "      <td>N/A</td>\n",
       "      <td>N/A</td>\n",
       "      <td>0</td>\n",
       "      <td>0</td>\n",
       "      <td>Bruce</td>\n",
       "      <td>Chen</td>\n",
       "      <td>SP</td>\n",
       "    </tr>\n",
       "    <tr>\n",
       "      <th>1</th>\n",
       "      <td>True</td>\n",
       "      <td>True</td>\n",
       "      <td>3,100,000.00</td>\n",
       "      <td>2,396,481.42</td>\n",
       "      <td>1</td>\n",
       "      <td>1</td>\n",
       "      <td>Steve</td>\n",
       "      <td>Trachsel</td>\n",
       "      <td>SP</td>\n",
       "    </tr>\n",
       "    <tr>\n",
       "      <th>2</th>\n",
       "      <td>False</td>\n",
       "      <td>True</td>\n",
       "      <td>N/A</td>\n",
       "      <td>2,686,779.53</td>\n",
       "      <td>0</td>\n",
       "      <td>1</td>\n",
       "      <td>Mark</td>\n",
       "      <td>Redman</td>\n",
       "      <td>SP</td>\n",
       "    </tr>\n",
       "    <tr>\n",
       "      <th>3</th>\n",
       "      <td>True</td>\n",
       "      <td>True</td>\n",
       "      <td>3,000,000.00</td>\n",
       "      <td>3,549,930.84</td>\n",
       "      <td>1</td>\n",
       "      <td>1</td>\n",
       "      <td>David</td>\n",
       "      <td>Wells</td>\n",
       "      <td>SP</td>\n",
       "    </tr>\n",
       "    <tr>\n",
       "      <th>4</th>\n",
       "      <td>True</td>\n",
       "      <td>True</td>\n",
       "      <td>3,500,000.00</td>\n",
       "      <td>2,407,506.55</td>\n",
       "      <td>1</td>\n",
       "      <td>1</td>\n",
       "      <td>Tony</td>\n",
       "      <td>Armas</td>\n",
       "      <td>SP</td>\n",
       "    </tr>\n",
       "    <tr>\n",
       "      <th>5</th>\n",
       "      <td>False</td>\n",
       "      <td>False</td>\n",
       "      <td>N/A</td>\n",
       "      <td>N/A</td>\n",
       "      <td>0</td>\n",
       "      <td>0</td>\n",
       "      <td>Victor</td>\n",
       "      <td>Zambrano</td>\n",
       "      <td>SP</td>\n",
       "    </tr>\n",
       "    <tr>\n",
       "      <th>6</th>\n",
       "      <td>True</td>\n",
       "      <td>True</td>\n",
       "      <td>1,500,000.00</td>\n",
       "      <td>4,270,287.32</td>\n",
       "      <td>1</td>\n",
       "      <td>1</td>\n",
       "      <td>Tomo</td>\n",
       "      <td>Ohka</td>\n",
       "      <td>SP</td>\n",
       "    </tr>\n",
       "    <tr>\n",
       "      <th>7</th>\n",
       "      <td>True</td>\n",
       "      <td>True</td>\n",
       "      <td>3,100,000.00</td>\n",
       "      <td>6,259,598.73</td>\n",
       "      <td>1</td>\n",
       "      <td>1</td>\n",
       "      <td>Ramon</td>\n",
       "      <td>Ortiz</td>\n",
       "      <td>SP</td>\n",
       "    </tr>\n",
       "    <tr>\n",
       "      <th>8</th>\n",
       "      <td>True</td>\n",
       "      <td>False</td>\n",
       "      <td>500,000.00</td>\n",
       "      <td>N/A</td>\n",
       "      <td>1</td>\n",
       "      <td>0</td>\n",
       "      <td>John</td>\n",
       "      <td>Thomson</td>\n",
       "      <td>SP</td>\n",
       "    </tr>\n",
       "    <tr>\n",
       "      <th>9</th>\n",
       "      <td>True</td>\n",
       "      <td>True</td>\n",
       "      <td>13,000,000.00</td>\n",
       "      <td>2,076,433.20</td>\n",
       "      <td>2</td>\n",
       "      <td>1</td>\n",
       "      <td>Mark</td>\n",
       "      <td>Mulder</td>\n",
       "      <td>SP</td>\n",
       "    </tr>\n",
       "    <tr>\n",
       "      <th>10</th>\n",
       "      <td>True</td>\n",
       "      <td>True</td>\n",
       "      <td>47,000,000.00</td>\n",
       "      <td>55,421,638.01</td>\n",
       "      <td>3</td>\n",
       "      <td>2</td>\n",
       "      <td>Jason</td>\n",
       "      <td>Schmidt</td>\n",
       "      <td>SP</td>\n",
       "    </tr>\n",
       "    <tr>\n",
       "      <th>11</th>\n",
       "      <td>False</td>\n",
       "      <td>True</td>\n",
       "      <td>N/A</td>\n",
       "      <td>3,989,783.35</td>\n",
       "      <td>0</td>\n",
       "      <td>1</td>\n",
       "      <td>Shawn</td>\n",
       "      <td>Estes</td>\n",
       "      <td>SP</td>\n",
       "    </tr>\n",
       "    <tr>\n",
       "      <th>12</th>\n",
       "      <td>True</td>\n",
       "      <td>True</td>\n",
       "      <td>4,000,000.00</td>\n",
       "      <td>3,613,429.34</td>\n",
       "      <td>1</td>\n",
       "      <td>1</td>\n",
       "      <td>Joel</td>\n",
       "      <td>Pineiro</td>\n",
       "      <td>SP</td>\n",
       "    </tr>\n",
       "    <tr>\n",
       "      <th>13</th>\n",
       "      <td>True</td>\n",
       "      <td>True</td>\n",
       "      <td>126,000,000.00</td>\n",
       "      <td>51,778,403.03</td>\n",
       "      <td>7</td>\n",
       "      <td>5</td>\n",
       "      <td>Barry</td>\n",
       "      <td>Zito</td>\n",
       "      <td>SP</td>\n",
       "    </tr>\n",
       "    <tr>\n",
       "      <th>14</th>\n",
       "      <td>True</td>\n",
       "      <td>True</td>\n",
       "      <td>42,000,000.00</td>\n",
       "      <td>12,997,994.23</td>\n",
       "      <td>4</td>\n",
       "      <td>1</td>\n",
       "      <td>Jeff</td>\n",
       "      <td>Suppan</td>\n",
       "      <td>SP</td>\n",
       "    </tr>\n",
       "    <tr>\n",
       "      <th>15</th>\n",
       "      <td>True</td>\n",
       "      <td>True</td>\n",
       "      <td>21,000,000.00</td>\n",
       "      <td>9,765,055.56</td>\n",
       "      <td>3</td>\n",
       "      <td>1</td>\n",
       "      <td>Jason</td>\n",
       "      <td>Marquis</td>\n",
       "      <td>SP</td>\n",
       "    </tr>\n",
       "    <tr>\n",
       "      <th>16</th>\n",
       "      <td>True</td>\n",
       "      <td>True</td>\n",
       "      <td>40,000,000.00</td>\n",
       "      <td>26,307,225.00</td>\n",
       "      <td>4</td>\n",
       "      <td>2</td>\n",
       "      <td>Ted</td>\n",
       "      <td>Lilly</td>\n",
       "      <td>SP</td>\n",
       "    </tr>\n",
       "    <tr>\n",
       "      <th>17</th>\n",
       "      <td>True</td>\n",
       "      <td>True</td>\n",
       "      <td>25,000,000.00</td>\n",
       "      <td>7,435,868.70</td>\n",
       "      <td>3</td>\n",
       "      <td>1</td>\n",
       "      <td>Miguel</td>\n",
       "      <td>Batista</td>\n",
       "      <td>SP</td>\n",
       "    </tr>\n",
       "    <tr>\n",
       "      <th>18</th>\n",
       "      <td>True</td>\n",
       "      <td>True</td>\n",
       "      <td>10,000,000.00</td>\n",
       "      <td>21,235,454.76</td>\n",
       "      <td>1</td>\n",
       "      <td>2</td>\n",
       "      <td>Greg</td>\n",
       "      <td>Maddux</td>\n",
       "      <td>SP</td>\n",
       "    </tr>\n",
       "    <tr>\n",
       "      <th>19</th>\n",
       "      <td>True</td>\n",
       "      <td>True</td>\n",
       "      <td>55,000,000.00</td>\n",
       "      <td>22,749,507.61</td>\n",
       "      <td>5</td>\n",
       "      <td>1</td>\n",
       "      <td>Gil</td>\n",
       "      <td>Meche</td>\n",
       "      <td>SP</td>\n",
       "    </tr>\n",
       "    <tr>\n",
       "      <th>20</th>\n",
       "      <td>True</td>\n",
       "      <td>True</td>\n",
       "      <td>16,000,000.00</td>\n",
       "      <td>42,129,099.38</td>\n",
       "      <td>1</td>\n",
       "      <td>4</td>\n",
       "      <td>Andy</td>\n",
       "      <td>Pettitte</td>\n",
       "      <td>SP</td>\n",
       "    </tr>\n",
       "    <tr>\n",
       "      <th>21</th>\n",
       "      <td>True</td>\n",
       "      <td>True</td>\n",
       "      <td>10,500,000.00</td>\n",
       "      <td>33,912,868.37</td>\n",
       "      <td>1</td>\n",
       "      <td>1</td>\n",
       "      <td>Tom</td>\n",
       "      <td>Glavine</td>\n",
       "      <td>SP</td>\n",
       "    </tr>\n",
       "    <tr>\n",
       "      <th>22</th>\n",
       "      <td>True</td>\n",
       "      <td>False</td>\n",
       "      <td>4,000,000.00</td>\n",
       "      <td>N/A</td>\n",
       "      <td>1</td>\n",
       "      <td>0</td>\n",
       "      <td>Kip</td>\n",
       "      <td>Wells</td>\n",
       "      <td>SP</td>\n",
       "    </tr>\n",
       "    <tr>\n",
       "      <th>23</th>\n",
       "      <td>True</td>\n",
       "      <td>True</td>\n",
       "      <td>8,000,000.00</td>\n",
       "      <td>2,453,225.11</td>\n",
       "      <td>1</td>\n",
       "      <td>1</td>\n",
       "      <td>Randy</td>\n",
       "      <td>Wolf</td>\n",
       "      <td>SP</td>\n",
       "    </tr>\n",
       "    <tr>\n",
       "      <th>24</th>\n",
       "      <td>True</td>\n",
       "      <td>True</td>\n",
       "      <td>23,000,000.00</td>\n",
       "      <td>33,195,997.70</td>\n",
       "      <td>2</td>\n",
       "      <td>1</td>\n",
       "      <td>Mike</td>\n",
       "      <td>Mussina</td>\n",
       "      <td>SP</td>\n",
       "    </tr>\n",
       "    <tr>\n",
       "      <th>25</th>\n",
       "      <td>True</td>\n",
       "      <td>True</td>\n",
       "      <td>12,500,000.00</td>\n",
       "      <td>1,106,937.76</td>\n",
       "      <td>2</td>\n",
       "      <td>1</td>\n",
       "      <td>Woody</td>\n",
       "      <td>Williams</td>\n",
       "      <td>SP</td>\n",
       "    </tr>\n",
       "    <tr>\n",
       "      <th>26</th>\n",
       "      <td>True</td>\n",
       "      <td>True</td>\n",
       "      <td>12,000,000.00</td>\n",
       "      <td>6,422,900.38</td>\n",
       "      <td>2</td>\n",
       "      <td>1</td>\n",
       "      <td>Orlando</td>\n",
       "      <td>Hernandez</td>\n",
       "      <td>SP</td>\n",
       "    </tr>\n",
       "    <tr>\n",
       "      <th>27</th>\n",
       "      <td>True</td>\n",
       "      <td>True</td>\n",
       "      <td>1,500,000.00</td>\n",
       "      <td>2,840,616.63</td>\n",
       "      <td>1</td>\n",
       "      <td>1</td>\n",
       "      <td>Wade</td>\n",
       "      <td>Miller</td>\n",
       "      <td>SP</td>\n",
       "    </tr>\n",
       "    <tr>\n",
       "      <th>28</th>\n",
       "      <td>False</td>\n",
       "      <td>True</td>\n",
       "      <td>N/A</td>\n",
       "      <td>3,992,540.33</td>\n",
       "      <td>0</td>\n",
       "      <td>1</td>\n",
       "      <td>Dustin</td>\n",
       "      <td>Hermanson</td>\n",
       "      <td>RP</td>\n",
       "    </tr>\n",
       "    <tr>\n",
       "      <th>29</th>\n",
       "      <td>False</td>\n",
       "      <td>True</td>\n",
       "      <td>N/A</td>\n",
       "      <td>2,050,440.02</td>\n",
       "      <td>0</td>\n",
       "      <td>1</td>\n",
       "      <td>Aaron</td>\n",
       "      <td>Sele</td>\n",
       "      <td>RP</td>\n",
       "    </tr>\n",
       "    <tr>\n",
       "      <th>...</th>\n",
       "      <td>...</td>\n",
       "      <td>...</td>\n",
       "      <td>...</td>\n",
       "      <td>...</td>\n",
       "      <td>...</td>\n",
       "      <td>...</td>\n",
       "      <td>...</td>\n",
       "      <td>...</td>\n",
       "      <td>...</td>\n",
       "    </tr>\n",
       "    <tr>\n",
       "      <th>45</th>\n",
       "      <td>True</td>\n",
       "      <td>False</td>\n",
       "      <td>380,000.00</td>\n",
       "      <td>N/A</td>\n",
       "      <td>1</td>\n",
       "      <td>0</td>\n",
       "      <td>Russ</td>\n",
       "      <td>Ortiz</td>\n",
       "      <td>RP</td>\n",
       "    </tr>\n",
       "    <tr>\n",
       "      <th>46</th>\n",
       "      <td>False</td>\n",
       "      <td>False</td>\n",
       "      <td>N/A</td>\n",
       "      <td>N/A</td>\n",
       "      <td>0</td>\n",
       "      <td>0</td>\n",
       "      <td>Willie</td>\n",
       "      <td>Eyre</td>\n",
       "      <td>RP</td>\n",
       "    </tr>\n",
       "    <tr>\n",
       "      <th>47</th>\n",
       "      <td>True</td>\n",
       "      <td>False</td>\n",
       "      <td>2,050,000.00</td>\n",
       "      <td>N/A</td>\n",
       "      <td>1</td>\n",
       "      <td>0</td>\n",
       "      <td>Chris</td>\n",
       "      <td>Reitsma</td>\n",
       "      <td>RP</td>\n",
       "    </tr>\n",
       "    <tr>\n",
       "      <th>48</th>\n",
       "      <td>False</td>\n",
       "      <td>False</td>\n",
       "      <td>N/A</td>\n",
       "      <td>N/A</td>\n",
       "      <td>0</td>\n",
       "      <td>0</td>\n",
       "      <td>Mike</td>\n",
       "      <td>Wood</td>\n",
       "      <td>RP</td>\n",
       "    </tr>\n",
       "    <tr>\n",
       "      <th>49</th>\n",
       "      <td>True</td>\n",
       "      <td>True</td>\n",
       "      <td>2,250,000.00</td>\n",
       "      <td>3,327,960.26</td>\n",
       "      <td>1</td>\n",
       "      <td>1</td>\n",
       "      <td>David</td>\n",
       "      <td>Riske</td>\n",
       "      <td>RP</td>\n",
       "    </tr>\n",
       "    <tr>\n",
       "      <th>50</th>\n",
       "      <td>True</td>\n",
       "      <td>True</td>\n",
       "      <td>6,000,000.00</td>\n",
       "      <td>11,460,369.11</td>\n",
       "      <td>1</td>\n",
       "      <td>1</td>\n",
       "      <td>Eric</td>\n",
       "      <td>Gagne</td>\n",
       "      <td>RP</td>\n",
       "    </tr>\n",
       "    <tr>\n",
       "      <th>51</th>\n",
       "      <td>False</td>\n",
       "      <td>False</td>\n",
       "      <td>N/A</td>\n",
       "      <td>N/A</td>\n",
       "      <td>0</td>\n",
       "      <td>0</td>\n",
       "      <td>Ray</td>\n",
       "      <td>King</td>\n",
       "      <td>RP</td>\n",
       "    </tr>\n",
       "    <tr>\n",
       "      <th>52</th>\n",
       "      <td>True</td>\n",
       "      <td>False</td>\n",
       "      <td>500,000.00</td>\n",
       "      <td>N/A</td>\n",
       "      <td>1</td>\n",
       "      <td>0</td>\n",
       "      <td>Doug</td>\n",
       "      <td>Brocail</td>\n",
       "      <td>RP</td>\n",
       "    </tr>\n",
       "    <tr>\n",
       "      <th>53</th>\n",
       "      <td>True</td>\n",
       "      <td>False</td>\n",
       "      <td>2,500,000.00</td>\n",
       "      <td>N/A</td>\n",
       "      <td>1</td>\n",
       "      <td>0</td>\n",
       "      <td>Jose</td>\n",
       "      <td>Mesa</td>\n",
       "      <td>RP</td>\n",
       "    </tr>\n",
       "    <tr>\n",
       "      <th>54</th>\n",
       "      <td>True</td>\n",
       "      <td>True</td>\n",
       "      <td>1,750,000.00</td>\n",
       "      <td>6,381,074.71</td>\n",
       "      <td>1</td>\n",
       "      <td>1</td>\n",
       "      <td>Darren</td>\n",
       "      <td>Oliver</td>\n",
       "      <td>RP</td>\n",
       "    </tr>\n",
       "    <tr>\n",
       "      <th>55</th>\n",
       "      <td>True</td>\n",
       "      <td>False</td>\n",
       "      <td>5,000,000.00</td>\n",
       "      <td>N/A</td>\n",
       "      <td>1</td>\n",
       "      <td>0</td>\n",
       "      <td>Octavio</td>\n",
       "      <td>Dotel</td>\n",
       "      <td>RP</td>\n",
       "    </tr>\n",
       "    <tr>\n",
       "      <th>56</th>\n",
       "      <td>True</td>\n",
       "      <td>True</td>\n",
       "      <td>3,500,000.00</td>\n",
       "      <td>1,900,420.43</td>\n",
       "      <td>2</td>\n",
       "      <td>1</td>\n",
       "      <td>Steve</td>\n",
       "      <td>Kline</td>\n",
       "      <td>RP</td>\n",
       "    </tr>\n",
       "    <tr>\n",
       "      <th>57</th>\n",
       "      <td>True</td>\n",
       "      <td>False</td>\n",
       "      <td>1,750,000.00</td>\n",
       "      <td>N/A</td>\n",
       "      <td>1</td>\n",
       "      <td>0</td>\n",
       "      <td>Russ</td>\n",
       "      <td>Springer</td>\n",
       "      <td>RP</td>\n",
       "    </tr>\n",
       "    <tr>\n",
       "      <th>58</th>\n",
       "      <td>True</td>\n",
       "      <td>False</td>\n",
       "      <td>800,000.00</td>\n",
       "      <td>N/A</td>\n",
       "      <td>1</td>\n",
       "      <td>0</td>\n",
       "      <td>Tom</td>\n",
       "      <td>Martin</td>\n",
       "      <td>RP</td>\n",
       "    </tr>\n",
       "    <tr>\n",
       "      <th>59</th>\n",
       "      <td>True</td>\n",
       "      <td>True</td>\n",
       "      <td>5,000,000.00</td>\n",
       "      <td>3,844,571.38</td>\n",
       "      <td>2</td>\n",
       "      <td>1</td>\n",
       "      <td>Guillermo</td>\n",
       "      <td>Mota</td>\n",
       "      <td>RP</td>\n",
       "    </tr>\n",
       "    <tr>\n",
       "      <th>60</th>\n",
       "      <td>True</td>\n",
       "      <td>True</td>\n",
       "      <td>4,250,000.00</td>\n",
       "      <td>9,398,758.02</td>\n",
       "      <td>1</td>\n",
       "      <td>2</td>\n",
       "      <td>Joe</td>\n",
       "      <td>Borowski</td>\n",
       "      <td>RP</td>\n",
       "    </tr>\n",
       "    <tr>\n",
       "      <th>61</th>\n",
       "      <td>True</td>\n",
       "      <td>True</td>\n",
       "      <td>5,500,000.00</td>\n",
       "      <td>6,966,010.04</td>\n",
       "      <td>2</td>\n",
       "      <td>1</td>\n",
       "      <td>Alan</td>\n",
       "      <td>Embree</td>\n",
       "      <td>RP</td>\n",
       "    </tr>\n",
       "    <tr>\n",
       "      <th>62</th>\n",
       "      <td>True</td>\n",
       "      <td>True</td>\n",
       "      <td>3,500,000.00</td>\n",
       "      <td>2,174,303.05</td>\n",
       "      <td>1</td>\n",
       "      <td>1</td>\n",
       "      <td>LaTroy</td>\n",
       "      <td>Hawkins</td>\n",
       "      <td>RP</td>\n",
       "    </tr>\n",
       "    <tr>\n",
       "      <th>63</th>\n",
       "      <td>True</td>\n",
       "      <td>True</td>\n",
       "      <td>33,750,000.00</td>\n",
       "      <td>32,277,227.99</td>\n",
       "      <td>3</td>\n",
       "      <td>4</td>\n",
       "      <td>Vicente</td>\n",
       "      <td>Padilla</td>\n",
       "      <td>RP</td>\n",
       "    </tr>\n",
       "    <tr>\n",
       "      <th>64</th>\n",
       "      <td>True</td>\n",
       "      <td>False</td>\n",
       "      <td>750,000.00</td>\n",
       "      <td>N/A</td>\n",
       "      <td>1</td>\n",
       "      <td>0</td>\n",
       "      <td>Tanyon</td>\n",
       "      <td>Sturtze</td>\n",
       "      <td>RP</td>\n",
       "    </tr>\n",
       "    <tr>\n",
       "      <th>65</th>\n",
       "      <td>True</td>\n",
       "      <td>True</td>\n",
       "      <td>1,650,000.00</td>\n",
       "      <td>3,550,274.28</td>\n",
       "      <td>1</td>\n",
       "      <td>1</td>\n",
       "      <td>Aaron</td>\n",
       "      <td>Fultz</td>\n",
       "      <td>RP</td>\n",
       "    </tr>\n",
       "    <tr>\n",
       "      <th>66</th>\n",
       "      <td>True</td>\n",
       "      <td>False</td>\n",
       "      <td>3,500,000.00</td>\n",
       "      <td>N/A</td>\n",
       "      <td>1</td>\n",
       "      <td>0</td>\n",
       "      <td>Roberto</td>\n",
       "      <td>Hernandez</td>\n",
       "      <td>RP</td>\n",
       "    </tr>\n",
       "    <tr>\n",
       "      <th>67</th>\n",
       "      <td>True</td>\n",
       "      <td>False</td>\n",
       "      <td>3,500,000.00</td>\n",
       "      <td>N/A</td>\n",
       "      <td>1</td>\n",
       "      <td>0</td>\n",
       "      <td>Roberto</td>\n",
       "      <td>Hernandez</td>\n",
       "      <td>RP</td>\n",
       "    </tr>\n",
       "    <tr>\n",
       "      <th>68</th>\n",
       "      <td>True</td>\n",
       "      <td>True</td>\n",
       "      <td>900,000.00</td>\n",
       "      <td>2,589,986.41</td>\n",
       "      <td>1</td>\n",
       "      <td>1</td>\n",
       "      <td>Scott</td>\n",
       "      <td>Williamson</td>\n",
       "      <td>RP</td>\n",
       "    </tr>\n",
       "    <tr>\n",
       "      <th>69</th>\n",
       "      <td>True</td>\n",
       "      <td>True</td>\n",
       "      <td>10,500,000.00</td>\n",
       "      <td>7,966,376.38</td>\n",
       "      <td>3</td>\n",
       "      <td>3</td>\n",
       "      <td>Chad</td>\n",
       "      <td>Bradford</td>\n",
       "      <td>RP</td>\n",
       "    </tr>\n",
       "    <tr>\n",
       "      <th>70</th>\n",
       "      <td>True</td>\n",
       "      <td>True</td>\n",
       "      <td>19,000,000.00</td>\n",
       "      <td>4,649,997.74</td>\n",
       "      <td>3</td>\n",
       "      <td>1</td>\n",
       "      <td>Danys</td>\n",
       "      <td>Baez</td>\n",
       "      <td>RP</td>\n",
       "    </tr>\n",
       "    <tr>\n",
       "      <th>71</th>\n",
       "      <td>True</td>\n",
       "      <td>True</td>\n",
       "      <td>12,000,000.00</td>\n",
       "      <td>3,844,642.98</td>\n",
       "      <td>3</td>\n",
       "      <td>1</td>\n",
       "      <td>Jamie</td>\n",
       "      <td>Walker</td>\n",
       "      <td>RP</td>\n",
       "    </tr>\n",
       "    <tr>\n",
       "      <th>72</th>\n",
       "      <td>True</td>\n",
       "      <td>True</td>\n",
       "      <td>5,500,000.00</td>\n",
       "      <td>5,837,260.44</td>\n",
       "      <td>2</td>\n",
       "      <td>1</td>\n",
       "      <td>Mike</td>\n",
       "      <td>Stanton</td>\n",
       "      <td>RP</td>\n",
       "    </tr>\n",
       "    <tr>\n",
       "      <th>73</th>\n",
       "      <td>True</td>\n",
       "      <td>True</td>\n",
       "      <td>18,000,000.00</td>\n",
       "      <td>4,134,023.54</td>\n",
       "      <td>4</td>\n",
       "      <td>1</td>\n",
       "      <td>Justin</td>\n",
       "      <td>Speier</td>\n",
       "      <td>RP</td>\n",
       "    </tr>\n",
       "    <tr>\n",
       "      <th>74</th>\n",
       "      <td>True</td>\n",
       "      <td>True</td>\n",
       "      <td>1,750,000.00</td>\n",
       "      <td>1,648,247.04</td>\n",
       "      <td>1</td>\n",
       "      <td>1</td>\n",
       "      <td>Kerry</td>\n",
       "      <td>Wood</td>\n",
       "      <td>RP</td>\n",
       "    </tr>\n",
       "  </tbody>\n",
       "</table>\n",
       "<p>75 rows × 9 columns</p>\n",
       "</div>"
      ],
      "text/plain": [
       "    contract_actual  contract_pred  dollars_actual   dollars_pred  \\\n",
       "0             False          False             N/A            N/A   \n",
       "1              True           True    3,100,000.00   2,396,481.42   \n",
       "2             False           True             N/A   2,686,779.53   \n",
       "3              True           True    3,000,000.00   3,549,930.84   \n",
       "4              True           True    3,500,000.00   2,407,506.55   \n",
       "5             False          False             N/A            N/A   \n",
       "6              True           True    1,500,000.00   4,270,287.32   \n",
       "7              True           True    3,100,000.00   6,259,598.73   \n",
       "8              True          False      500,000.00            N/A   \n",
       "9              True           True   13,000,000.00   2,076,433.20   \n",
       "10             True           True   47,000,000.00  55,421,638.01   \n",
       "11            False           True             N/A   3,989,783.35   \n",
       "12             True           True    4,000,000.00   3,613,429.34   \n",
       "13             True           True  126,000,000.00  51,778,403.03   \n",
       "14             True           True   42,000,000.00  12,997,994.23   \n",
       "15             True           True   21,000,000.00   9,765,055.56   \n",
       "16             True           True   40,000,000.00  26,307,225.00   \n",
       "17             True           True   25,000,000.00   7,435,868.70   \n",
       "18             True           True   10,000,000.00  21,235,454.76   \n",
       "19             True           True   55,000,000.00  22,749,507.61   \n",
       "20             True           True   16,000,000.00  42,129,099.38   \n",
       "21             True           True   10,500,000.00  33,912,868.37   \n",
       "22             True          False    4,000,000.00            N/A   \n",
       "23             True           True    8,000,000.00   2,453,225.11   \n",
       "24             True           True   23,000,000.00  33,195,997.70   \n",
       "25             True           True   12,500,000.00   1,106,937.76   \n",
       "26             True           True   12,000,000.00   6,422,900.38   \n",
       "27             True           True    1,500,000.00   2,840,616.63   \n",
       "28            False           True             N/A   3,992,540.33   \n",
       "29            False           True             N/A   2,050,440.02   \n",
       "..              ...            ...             ...            ...   \n",
       "45             True          False      380,000.00            N/A   \n",
       "46            False          False             N/A            N/A   \n",
       "47             True          False    2,050,000.00            N/A   \n",
       "48            False          False             N/A            N/A   \n",
       "49             True           True    2,250,000.00   3,327,960.26   \n",
       "50             True           True    6,000,000.00  11,460,369.11   \n",
       "51            False          False             N/A            N/A   \n",
       "52             True          False      500,000.00            N/A   \n",
       "53             True          False    2,500,000.00            N/A   \n",
       "54             True           True    1,750,000.00   6,381,074.71   \n",
       "55             True          False    5,000,000.00            N/A   \n",
       "56             True           True    3,500,000.00   1,900,420.43   \n",
       "57             True          False    1,750,000.00            N/A   \n",
       "58             True          False      800,000.00            N/A   \n",
       "59             True           True    5,000,000.00   3,844,571.38   \n",
       "60             True           True    4,250,000.00   9,398,758.02   \n",
       "61             True           True    5,500,000.00   6,966,010.04   \n",
       "62             True           True    3,500,000.00   2,174,303.05   \n",
       "63             True           True   33,750,000.00  32,277,227.99   \n",
       "64             True          False      750,000.00            N/A   \n",
       "65             True           True    1,650,000.00   3,550,274.28   \n",
       "66             True          False    3,500,000.00            N/A   \n",
       "67             True          False    3,500,000.00            N/A   \n",
       "68             True           True      900,000.00   2,589,986.41   \n",
       "69             True           True   10,500,000.00   7,966,376.38   \n",
       "70             True           True   19,000,000.00   4,649,997.74   \n",
       "71             True           True   12,000,000.00   3,844,642.98   \n",
       "72             True           True    5,500,000.00   5,837,260.44   \n",
       "73             True           True   18,000,000.00   4,134,023.54   \n",
       "74             True           True    1,750,000.00   1,648,247.04   \n",
       "\n",
       "    length_actual  length_pred  nameFirst    nameLast position  \n",
       "0               0            0      Bruce        Chen       SP  \n",
       "1               1            1      Steve    Trachsel       SP  \n",
       "2               0            1       Mark      Redman       SP  \n",
       "3               1            1      David       Wells       SP  \n",
       "4               1            1       Tony       Armas       SP  \n",
       "5               0            0     Victor    Zambrano       SP  \n",
       "6               1            1       Tomo        Ohka       SP  \n",
       "7               1            1      Ramon       Ortiz       SP  \n",
       "8               1            0       John     Thomson       SP  \n",
       "9               2            1       Mark      Mulder       SP  \n",
       "10              3            2      Jason     Schmidt       SP  \n",
       "11              0            1      Shawn       Estes       SP  \n",
       "12              1            1       Joel     Pineiro       SP  \n",
       "13              7            5      Barry        Zito       SP  \n",
       "14              4            1       Jeff      Suppan       SP  \n",
       "15              3            1      Jason     Marquis       SP  \n",
       "16              4            2        Ted       Lilly       SP  \n",
       "17              3            1     Miguel     Batista       SP  \n",
       "18              1            2       Greg      Maddux       SP  \n",
       "19              5            1        Gil       Meche       SP  \n",
       "20              1            4       Andy    Pettitte       SP  \n",
       "21              1            1        Tom     Glavine       SP  \n",
       "22              1            0        Kip       Wells       SP  \n",
       "23              1            1      Randy        Wolf       SP  \n",
       "24              2            1       Mike     Mussina       SP  \n",
       "25              2            1      Woody    Williams       SP  \n",
       "26              2            1    Orlando   Hernandez       SP  \n",
       "27              1            1       Wade      Miller       SP  \n",
       "28              0            1     Dustin   Hermanson       RP  \n",
       "29              0            1      Aaron        Sele       RP  \n",
       "..            ...          ...        ...         ...      ...  \n",
       "45              1            0       Russ       Ortiz       RP  \n",
       "46              0            0     Willie        Eyre       RP  \n",
       "47              1            0      Chris     Reitsma       RP  \n",
       "48              0            0       Mike        Wood       RP  \n",
       "49              1            1      David       Riske       RP  \n",
       "50              1            1       Eric       Gagne       RP  \n",
       "51              0            0        Ray        King       RP  \n",
       "52              1            0       Doug     Brocail       RP  \n",
       "53              1            0       Jose        Mesa       RP  \n",
       "54              1            1     Darren      Oliver       RP  \n",
       "55              1            0    Octavio       Dotel       RP  \n",
       "56              2            1      Steve       Kline       RP  \n",
       "57              1            0       Russ    Springer       RP  \n",
       "58              1            0        Tom      Martin       RP  \n",
       "59              2            1  Guillermo        Mota       RP  \n",
       "60              1            2        Joe    Borowski       RP  \n",
       "61              2            1       Alan      Embree       RP  \n",
       "62              1            1     LaTroy     Hawkins       RP  \n",
       "63              3            4    Vicente     Padilla       RP  \n",
       "64              1            0     Tanyon     Sturtze       RP  \n",
       "65              1            1      Aaron       Fultz       RP  \n",
       "66              1            0    Roberto   Hernandez       RP  \n",
       "67              1            0    Roberto   Hernandez       RP  \n",
       "68              1            1      Scott  Williamson       RP  \n",
       "69              3            3       Chad    Bradford       RP  \n",
       "70              3            1      Danys        Baez       RP  \n",
       "71              3            1      Jamie      Walker       RP  \n",
       "72              2            1       Mike     Stanton       RP  \n",
       "73              4            1     Justin      Speier       RP  \n",
       "74              1            1      Kerry        Wood       RP  \n",
       "\n",
       "[75 rows x 9 columns]"
      ]
     },
     "execution_count": 393,
     "metadata": {},
     "output_type": "execute_result"
    }
   ],
   "source": [
    "test_small"
   ]
  },
  {
   "cell_type": "code",
   "execution_count": 351,
   "metadata": {},
   "outputs": [
    {
     "name": "stdout",
     "output_type": "stream",
     "text": [
      "<class 'pandas.core.frame.DataFrame'>\n",
      "Int64Index: 75 entries, 748 to 822\n",
      "Data columns (total 9 columns):\n",
      "contract_actual    75 non-null bool\n",
      "contract_pred      75 non-null bool\n",
      "dollars_actual     46 non-null float64\n",
      "dollars_pred       75 non-null float64\n",
      "length_actual      75 non-null int64\n",
      "length_pred        75 non-null int64\n",
      "nameFirst          75 non-null object\n",
      "nameLast           75 non-null object\n",
      "position           75 non-null object\n",
      "dtypes: bool(2), float64(2), int64(2), object(3)\n",
      "memory usage: 7.3+ KB\n"
     ]
    }
   ],
   "source": [
    "test.info()"
   ]
  },
  {
   "cell_type": "code",
   "execution_count": 353,
   "metadata": {},
   "outputs": [
    {
     "data": {
      "text/plain": [
       "748              $nan\n",
       "749              $nan\n",
       "750              $nan\n",
       "751              $nan\n",
       "752     $4,000,000.00\n",
       "753              $nan\n",
       "754              $nan\n",
       "755     $3,000,000.00\n",
       "756     $3,000,000.00\n",
       "757    $12,000,000.00\n",
       "758              $nan\n",
       "759              $nan\n",
       "760              $nan\n",
       "761     $6,500,000.00\n",
       "762     $3,000,000.00\n",
       "763              $nan\n",
       "764     $5,500,000.00\n",
       "765     $2,050,000.00\n",
       "766              $nan\n",
       "767              $nan\n",
       "768              $nan\n",
       "769     $1,150,000.00\n",
       "770    $11,000,000.00\n",
       "771     $5,350,000.00\n",
       "772              $nan\n",
       "773    $80,000,000.00\n",
       "774              $nan\n",
       "775              $nan\n",
       "776     $3,000,000.00\n",
       "777    $16,000,000.00\n",
       "            ...      \n",
       "793    $62,000,000.00\n",
       "794     $1,100,000.00\n",
       "795    $11,000,000.00\n",
       "796     $2,000,000.00\n",
       "797    $30,500,000.00\n",
       "798     $1,000,000.00\n",
       "799              $nan\n",
       "800              $nan\n",
       "801              $nan\n",
       "802              $nan\n",
       "803     $3,000,000.00\n",
       "804              $nan\n",
       "805    $16,000,000.00\n",
       "806     $3,500,000.00\n",
       "807     $2,300,000.00\n",
       "808     $1,750,000.00\n",
       "809     $6,000,000.00\n",
       "810              $nan\n",
       "811    $26,000,000.00\n",
       "812     $1,750,000.00\n",
       "813     $1,750,000.00\n",
       "814     $6,000,000.00\n",
       "815     $3,025,000.00\n",
       "816              $nan\n",
       "817    $48,000,000.00\n",
       "818    $22,000,000.00\n",
       "819    $10,000,000.00\n",
       "820    $12,500,000.00\n",
       "821    $14,000,000.00\n",
       "822     $5,750,000.00\n",
       "Name: dollars_actual, Length: 75, dtype: object"
      ]
     },
     "execution_count": 353,
     "metadata": {},
     "output_type": "execute_result"
    }
   ],
   "source": [
    "test['dollars_actual'].apply(lambda x: '${:,.2f}'.format(x))"
   ]
  },
  {
   "cell_type": "code",
   "execution_count": 56,
   "metadata": {},
   "outputs": [
    {
     "data": {
      "text/plain": [
       "1001"
      ]
     },
     "execution_count": 56,
     "metadata": {},
     "output_type": "execute_result"
    }
   ],
   "source": [
    "round(1001.1)"
   ]
  },
  {
   "cell_type": "code",
   "execution_count": 59,
   "metadata": {},
   "outputs": [
    {
     "data": {
      "text/plain": [
       "1100000.0"
      ]
     },
     "execution_count": 59,
     "metadata": {},
     "output_type": "execute_result"
    }
   ],
   "source": [
    "np.round(1101119.1, decimals= -5)"
   ]
  },
  {
   "cell_type": "code",
   "execution_count": 63,
   "metadata": {},
   "outputs": [
    {
     "data": {
      "text/plain": [
       "(37, 23)"
      ]
     },
     "execution_count": 63,
     "metadata": {},
     "output_type": "execute_result"
    }
   ],
   "source": [
    "pitcher_all[pitcher_all.Year == 2017].shape"
   ]
  },
  {
   "cell_type": "code",
   "execution_count": 65,
   "metadata": {
    "collapsed": true
   },
   "outputs": [],
   "source": [
    "import dataScraping as ds"
   ]
  },
  {
   "cell_type": "code",
   "execution_count": 73,
   "metadata": {},
   "outputs": [
    {
     "data": {
      "text/plain": [
       "(223, 7)"
      ]
     },
     "execution_count": 73,
     "metadata": {},
     "output_type": "execute_result"
    }
   ],
   "source": [
    "blah = ds.assembleFAContractsForYear(2017)\n",
    "blah.shape"
   ]
  },
  {
   "cell_type": "code",
   "execution_count": 69,
   "metadata": {},
   "outputs": [
    {
     "data": {
      "text/html": [
       "<div>\n",
       "<style>\n",
       "    .dataframe thead tr:only-child th {\n",
       "        text-align: right;\n",
       "    }\n",
       "\n",
       "    .dataframe thead th {\n",
       "        text-align: left;\n",
       "    }\n",
       "\n",
       "    .dataframe tbody tr th {\n",
       "        vertical-align: top;\n",
       "    }\n",
       "</style>\n",
       "<table border=\"1\" class=\"dataframe\">\n",
       "  <thead>\n",
       "    <tr style=\"text-align: right;\">\n",
       "      <th></th>\n",
       "      <th>Dollars</th>\n",
       "      <th>Length</th>\n",
       "      <th>Name</th>\n",
       "      <th>Position</th>\n",
       "      <th>Year</th>\n",
       "      <th>nameFirst</th>\n",
       "      <th>nameLast</th>\n",
       "    </tr>\n",
       "  </thead>\n",
       "  <tbody>\n",
       "    <tr>\n",
       "      <th>51</th>\n",
       "      <td>--</td>\n",
       "      <td></td>\n",
       "      <td>Yu Darvish</td>\n",
       "      <td>SP</td>\n",
       "      <td>2017</td>\n",
       "      <td>Yu</td>\n",
       "      <td>Darvish</td>\n",
       "    </tr>\n",
       "  </tbody>\n",
       "</table>\n",
       "</div>"
      ],
      "text/plain": [
       "   Dollars Length        Name Position  Year nameFirst nameLast\n",
       "51      --         Yu Darvish       SP  2017        Yu  Darvish"
      ]
     },
     "execution_count": 69,
     "metadata": {},
     "output_type": "execute_result"
    }
   ],
   "source": [
    "blah[blah.nameLast == 'Darvish']"
   ]
  },
  {
   "cell_type": "code",
   "execution_count": 71,
   "metadata": {},
   "outputs": [
    {
     "name": "stderr",
     "output_type": "stream",
     "text": [
      "/home/matt/anaconda3/lib/python3.6/site-packages/pandas/core/generic.py:3924: SettingWithCopyWarning: \n",
      "A value is trying to be set on a copy of a slice from a DataFrame\n",
      "\n",
      "See the caveats in the documentation: http://pandas.pydata.org/pandas-docs/stable/indexing.html#indexing-view-versus-copy\n",
      "  self._update_inplace(new_data)\n",
      "/home/matt/Github/MLB_FA_Predictor/dataScraping.py:138: SettingWithCopyWarning: \n",
      "A value is trying to be set on a copy of a slice from a DataFrame.\n",
      "Try using .loc[row_indexer,col_indexer] = value instead\n",
      "\n",
      "See the caveats in the documentation: http://pandas.pydata.org/pandas-docs/stable/indexing.html#indexing-view-versus-copy\n",
      "  all_fa_contracts_real['Length'] = pd.to_numeric(all_fa_contracts_real['Length'])\n",
      "/home/matt/Github/MLB_FA_Predictor/dataScraping.py:142: SettingWithCopyWarning: \n",
      "A value is trying to be set on a copy of a slice from a DataFrame.\n",
      "Try using .loc[row_indexer,col_indexer] = value instead\n",
      "\n",
      "See the caveats in the documentation: http://pandas.pydata.org/pandas-docs/stable/indexing.html#indexing-view-versus-copy\n",
      "  all_fa_contracts_real['Dollars'] = pd.to_numeric(all_fa_contracts_real['Dollars'].str.strip('$').str.replace(',',''))\n"
     ]
    },
    {
     "data": {
      "text/plain": [
       "(64, 12)"
      ]
     },
     "execution_count": 71,
     "metadata": {},
     "output_type": "execute_result"
    }
   ],
   "source": [
    "all_fa_data = getAllFAData([2017])\n",
    "all_fa_data.shape"
   ]
  },
  {
   "cell_type": "code",
   "execution_count": 72,
   "metadata": {},
   "outputs": [
    {
     "data": {
      "text/plain": [
       "(171, 8)"
      ]
     },
     "execution_count": 72,
     "metadata": {},
     "output_type": "execute_result"
    }
   ],
   "source": [
    "bbref_fa = ds.compileFAsForYear(2017)\n",
    "bbref_fa.shape"
   ]
  },
  {
   "cell_type": "code",
   "execution_count": 76,
   "metadata": {},
   "outputs": [
    {
     "data": {
      "text/html": [
       "<div>\n",
       "<style>\n",
       "    .dataframe thead tr:only-child th {\n",
       "        text-align: right;\n",
       "    }\n",
       "\n",
       "    .dataframe thead th {\n",
       "        text-align: left;\n",
       "    }\n",
       "\n",
       "    .dataframe tbody tr th {\n",
       "        vertical-align: top;\n",
       "    }\n",
       "</style>\n",
       "<table border=\"1\" class=\"dataframe\">\n",
       "  <thead>\n",
       "    <tr style=\"text-align: right;\">\n",
       "      <th></th>\n",
       "      <th>Age</th>\n",
       "      <th>Destination</th>\n",
       "      <th>Full_Name</th>\n",
       "      <th>Origin</th>\n",
       "      <th>WAR_3</th>\n",
       "      <th>nameFirst</th>\n",
       "      <th>nameLast</th>\n",
       "      <th>Year</th>\n",
       "    </tr>\n",
       "  </thead>\n",
       "  <tbody>\n",
       "  </tbody>\n",
       "</table>\n",
       "</div>"
      ],
      "text/plain": [
       "Empty DataFrame\n",
       "Columns: [Age, Destination, Full_Name, Origin, WAR_3, nameFirst, nameLast, Year]\n",
       "Index: []"
      ]
     },
     "execution_count": 76,
     "metadata": {},
     "output_type": "execute_result"
    }
   ],
   "source": [
    "bbref_fa[bbref_fa.nameLast == 'Darvish']"
   ]
  },
  {
   "cell_type": "code",
   "execution_count": null,
   "metadata": {
    "collapsed": true
   },
   "outputs": [],
   "source": []
  }
 ],
 "metadata": {
  "kernelspec": {
   "display_name": "Python 3",
   "language": "python",
   "name": "python3"
  },
  "language_info": {
   "codemirror_mode": {
    "name": "ipython",
    "version": 3
   },
   "file_extension": ".py",
   "mimetype": "text/x-python",
   "name": "python",
   "nbconvert_exporter": "python",
   "pygments_lexer": "ipython3",
   "version": "3.6.3"
  }
 },
 "nbformat": 4,
 "nbformat_minor": 2
}
