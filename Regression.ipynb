{
 "cells": [
  {
   "cell_type": "markdown",
   "metadata": {},
   "source": [
    "# Quick Regression\n",
    "\n",
    "Let's see if we can predict something terribly!"
   ]
  },
  {
   "cell_type": "code",
   "execution_count": 1,
   "metadata": {
    "collapsed": true
   },
   "outputs": [],
   "source": [
    "# Bring in data\n",
    "import pandas as pd\n",
    "import pickle\n",
    "import matplotlib.pyplot as plt\n",
    "import numpy as np\n",
    "\n",
    "# Import LinearRegression\n",
    "from sklearn.linear_model import LinearRegression\n",
    "# Import LogisticRegression\n",
    "from sklearn.linear_model import LogisticRegression\n",
    "from sklearn.multiclass import OneVsRestClassifier\n",
    "# Split the data\n",
    "from sklearn.model_selection import train_test_split\n",
    "# Optimize Parameters\n",
    "from sklearn.model_selection import RandomizedSearchCV\n",
    "# Import RandomForest\n",
    "from sklearn.ensemble import RandomForestRegressor\n",
    "from sklearn.ensemble import RandomForestClassifier\n",
    "# Import GradientBoosted\n",
    "from sklearn.ensemble import GradientBoostingRegressor\n",
    "from sklearn.ensemble import GradientBoostingClassifier\n",
    "# Import xgboost\n",
    "import xgboost as xgb\n",
    "# Import RSME\n",
    "from sklearn.metrics import mean_squared_error\n",
    "from scipy.stats import randint\n",
    "# Import Classification metrics\n",
    "from sklearn.metrics import classification_report\n",
    "from sklearn.metrics import confusion_matrix\n",
    "\n",
    "with open('pitching_data.pickle', 'rb') as file:\n",
    "    pitcher_all = pickle.load(file)\n",
    "\n",
    "with open('position_data.pickle', 'rb') as file:\n",
    "    position_all = pickle.load(file)"
   ]
  },
  {
   "cell_type": "code",
   "execution_count": 2,
   "metadata": {
    "collapsed": true
   },
   "outputs": [],
   "source": [
    "# Bring in models\n",
    "lm = LinearRegression()\n",
    "logr = LogisticRegression()\n",
    "rf = RandomForestRegressor()\n",
    "rfc = RandomForestClassifier()\n",
    "gbr = GradientBoostingRegressor()\n",
    "gbc = GradientBoostingClassifier()\n",
    "xgr = xgb.XGBRegressor()\n",
    "xgc = xgb.XGBClassifier()"
   ]
  },
  {
   "cell_type": "code",
   "execution_count": 3,
   "metadata": {},
   "outputs": [],
   "source": [
    "# Create position one-hot configuration\n",
    "position_all = pd.get_dummies(position_all, columns = ['Position'], prefix= ['Pos'])\n",
    "pitcher_all = pd.get_dummies(pitcher_all, columns = ['Position'], prefix= ['Pos'])\n",
    "\n",
    "# Create Contract logical variable\n",
    "position_all['Contract'] = position_all.Dollars.notnull()\n",
    "pitcher_all['Contract'] = pitcher_all.Dollars.notnull()\n",
    "\n",
    "# Remove 2017 data\n",
    "position_data = position_all[position_all.Year < 2017]\n",
    "pitcher_data = pitcher_all[pitcher_all.Year < 2017]\n",
    "\n",
    "# Designate interesting columns\n",
    "features_pos = ['Age', 'WAR_3', 'G', 'OBP', 'SLG', 'HR', 'RBI', 'SB',\n",
    "                'Med_WAR', 'Min_WAR', 'Pos_C', 'Pos_1B', 'Pos_2B', 'Pos_3B',\n",
    "                'Pos_SS', 'Pos_LF', 'Pos_CF', 'Pos_RF', 'Pos_DH']\n",
    "features_pitch = ['Age', 'WAR_3', 'ERA', 'WHIP', 'K_9', 'HR_9', 'IPouts',\n",
    "                  'W', 'SV', 'Med_WAR', 'Min_WAR', 'Pos_SP', 'Pos_RP']\n"
   ]
  },
  {
   "cell_type": "markdown",
   "metadata": {},
   "source": [
    "## Predict yes/no on who will get a contract"
   ]
  },
  {
   "cell_type": "code",
   "execution_count": 4,
   "metadata": {},
   "outputs": [
    {
     "name": "stdout",
     "output_type": "stream",
     "text": [
      "0.732558139535\n",
      "             precision    recall  f1-score   support\n",
      "\n",
      "      False       0.78      0.79      0.79        53\n",
      "       True       0.66      0.64      0.65        33\n",
      "\n",
      "avg / total       0.73      0.73      0.73        86\n",
      "\n",
      "[[42 11]\n",
      " [12 21]]\n"
     ]
    }
   ],
   "source": [
    "# Position players first\n",
    "# Grab just the features and the outcome\n",
    "X_pos = position_data[features_pos].values\n",
    "y_contract_pos = position_data['Contract'].values\n",
    "\n",
    "# Split into training and test set\n",
    "X_train, X_test, y_train, y_test = train_test_split(X_pos, y_contract_pos, random_state = 20, test_size = 0.1)\n",
    "\n",
    "# Use the logr model\n",
    "logr.fit(X_train, y_train)\n",
    "\n",
    "print(logr.score(X_test, y_test))\n",
    "\n",
    "y_pred = logr.predict(X_test)\n",
    "\n",
    "print(classification_report(y_test, y_pred))\n",
    "print(confusion_matrix(y_test, y_pred))"
   ]
  },
  {
   "cell_type": "code",
   "execution_count": 5,
   "metadata": {},
   "outputs": [
    {
     "name": "stdout",
     "output_type": "stream",
     "text": [
      "0.697674418605\n",
      "             precision    recall  f1-score   support\n",
      "\n",
      "      False       0.72      0.83      0.77        53\n",
      "       True       0.64      0.48      0.55        33\n",
      "\n",
      "avg / total       0.69      0.70      0.69        86\n",
      "\n",
      "[[44  9]\n",
      " [17 16]]\n"
     ]
    }
   ],
   "source": [
    "# Try random forest\n",
    "rfc.fit(X_train, y_train)\n",
    "\n",
    "print(rfc.score(X_test, y_test))\n",
    "\n",
    "y_pred = rfc.predict(X_test)\n",
    "\n",
    "print(classification_report(y_test, y_pred))\n",
    "print(confusion_matrix(y_test, y_pred))"
   ]
  },
  {
   "cell_type": "code",
   "execution_count": 6,
   "metadata": {},
   "outputs": [
    {
     "name": "stdout",
     "output_type": "stream",
     "text": [
      "0.686046511628\n",
      "             precision    recall  f1-score   support\n",
      "\n",
      "      False       0.72      0.81      0.76        53\n",
      "       True       0.62      0.48      0.54        33\n",
      "\n",
      "avg / total       0.68      0.69      0.68        86\n",
      "\n",
      "[[43 10]\n",
      " [17 16]]\n"
     ]
    }
   ],
   "source": [
    "# Try gradient boosting\n",
    "gbc.fit(X_train, y_train)\n",
    "\n",
    "print(gbc.score(X_test, y_test))\n",
    "\n",
    "y_pred = gbc.predict(X_test)\n",
    "\n",
    "print(classification_report(y_test, y_pred))\n",
    "print(confusion_matrix(y_test, y_pred))"
   ]
  },
  {
   "cell_type": "code",
   "execution_count": 7,
   "metadata": {},
   "outputs": [
    {
     "name": "stdout",
     "output_type": "stream",
     "text": [
      "0.795180722892\n",
      "             precision    recall  f1-score   support\n",
      "\n",
      "      False       0.82      0.89      0.85        56\n",
      "       True       0.73      0.59      0.65        27\n",
      "\n",
      "avg / total       0.79      0.80      0.79        83\n",
      "\n",
      "[[50  6]\n",
      " [11 16]]\n"
     ]
    }
   ],
   "source": [
    "# Now pitchers\n",
    "\n",
    "# Grab just the features and the outcome\n",
    "X_pitch = pitcher_data[features_pitch].values\n",
    "y_contract_pitch = pitcher_data['Contract'].values\n",
    "\n",
    "# Split into training and test set\n",
    "X_train, X_test, y_train, y_test = train_test_split(X_pitch, y_contract_pitch, random_state = 20, test_size = 0.1)\n",
    "\n",
    "# Use the logr model\n",
    "logr.fit(X_train, y_train)\n",
    "\n",
    "print(logr.score(X_test, y_test))\n",
    "\n",
    "y_pred = logr.predict(X_test)\n",
    "\n",
    "print(classification_report(y_test, y_pred))\n",
    "print(confusion_matrix(y_test, y_pred))"
   ]
  },
  {
   "cell_type": "code",
   "execution_count": 8,
   "metadata": {},
   "outputs": [
    {
     "name": "stdout",
     "output_type": "stream",
     "text": [
      "0.771084337349\n",
      "             precision    recall  f1-score   support\n",
      "\n",
      "      False       0.79      0.89      0.84        56\n",
      "       True       0.70      0.52      0.60        27\n",
      "\n",
      "avg / total       0.76      0.77      0.76        83\n",
      "\n",
      "[[50  6]\n",
      " [13 14]]\n"
     ]
    }
   ],
   "source": [
    "# Try random forest\n",
    "rfc.fit(X_train, y_train)\n",
    "\n",
    "print(rfc.score(X_test, y_test))\n",
    "\n",
    "y_pred = rfc.predict(X_test)\n",
    "\n",
    "print(classification_report(y_test, y_pred))\n",
    "print(confusion_matrix(y_test, y_pred))"
   ]
  },
  {
   "cell_type": "code",
   "execution_count": 9,
   "metadata": {},
   "outputs": [
    {
     "name": "stdout",
     "output_type": "stream",
     "text": [
      "0.843373493976\n",
      "             precision    recall  f1-score   support\n",
      "\n",
      "      False       0.88      0.89      0.88        56\n",
      "       True       0.77      0.74      0.75        27\n",
      "\n",
      "avg / total       0.84      0.84      0.84        83\n",
      "\n",
      "[[50  6]\n",
      " [ 7 20]]\n"
     ]
    }
   ],
   "source": [
    "# Try gradient boosting\n",
    "gbc.fit(X_train, y_train)\n",
    "\n",
    "print(gbc.score(X_test, y_test))\n",
    "\n",
    "y_pred = gbc.predict(X_test)\n",
    "\n",
    "print(classification_report(y_test, y_pred))\n",
    "print(confusion_matrix(y_test, y_pred))"
   ]
  },
  {
   "cell_type": "markdown",
   "metadata": {},
   "source": [
    "## Functions for creating predictions for a year given that year\n",
    "\n",
    "For now, these will use an OOTB gradient boosted model"
   ]
  },
  {
   "cell_type": "code",
   "execution_count": null,
   "metadata": {
    "collapsed": true
   },
   "outputs": [],
   "source": []
  },
  {
   "cell_type": "code",
   "execution_count": 10,
   "metadata": {
    "collapsed": true
   },
   "outputs": [],
   "source": [
    "# Define function for Dollars\n",
    "def predictDollars(model, X, y):\n",
    "    \n",
    "    # Split into training and test set\n",
    "    X_train, X_test, y_train, y_test = train_test_split(X, y, random_state = 20, test_size = 0.1)\n",
    "    \n",
    "    # Train the model\n",
    "    model.fit(X_train, y_train)\n",
    "\n",
    "    y_pred = model.predict(X_test)\n",
    "    rmse = np.sqrt(mean_squared_error(y_test, y_pred))\n",
    "\n",
    "    plt.scatter(y_pred, y_test, color = 'blue')\n",
    "    plt.xlabel('Predicted Dollars (millions)')\n",
    "    plt.ylabel('Actual Dollars (millions)')\n",
    "    plt.title('Prediction Contract Value')\n",
    "    plt.yticks([0,4e7,8e7,1.2e8,1.6e8],['0','40','80','120','160'])\n",
    "    plt.xticks([0,2e7,4e7,6e7,8e7,1e8],['0','20','40','60','80','100'])\n",
    "    plt.text(x = 0, y = 1.5e8, s = \"R^2 = {:0.3f}\".format(model.score(X_test, y_test)))\n",
    "    # plt.savefig('./contract_dollars_regression.png')\n",
    "    plt.show()\n",
    "\n",
    "    return model"
   ]
  },
  {
   "cell_type": "code",
   "execution_count": 11,
   "metadata": {
    "collapsed": true
   },
   "outputs": [],
   "source": [
    "# Definte function for contract length\n",
    "def predictLength(model, X, y):\n",
    "    \n",
    "    # Split into training and test set\n",
    "    X_train, X_test, y_train, y_test = train_test_split(X, y, random_state = 20, test_size = 0.1)\n",
    "\n",
    "    model.fit(X_train, y_train)\n",
    "\n",
    "    y_pred = model.predict(X_test)\n",
    "\n",
    "\n",
    "    plt.scatter(y_pred, y_test, color = 'red')\n",
    "\n",
    "    plt.xlabel('Predicted Contract Length (years)')\n",
    "\n",
    "    plt.ylabel('Actual Contract Length (years)')\n",
    "\n",
    "    plt.title('Prediction Contract Length')\n",
    "    plt.text(x = 1, y = 7, s = \"R^2 = {:0.3f}\".format(model.score(X_test, y_test)))\n",
    "    #plt.savefig('./contract_length_regression.png')\n",
    "    plt.show()\n",
    "\n",
    "    return model"
   ]
  },
  {
   "cell_type": "markdown",
   "metadata": {},
   "source": [
    "# First Task: Predict Yes/No on contract\n",
    "\n",
    "We'll use a binary classifier (starting with Logistic Regression and moving on if needed) to:\n",
    "\n",
    "1. Classify position players into \"Yes/No\" on contract\n",
    "2. Classify pitchers into \"Yes/No\" on contract\n",
    "3. Run RandomizedSearchCV to determine best parameters for each model\n"
   ]
  },
  {
   "cell_type": "markdown",
   "metadata": {},
   "source": [
    "## Attempt 1: Batting Data w/ Team WAR\n",
    "\n",
    "Woo!\n",
    "\n",
    "### Step 1: Predict which players will get contracts"
   ]
  },
  {
   "cell_type": "code",
   "execution_count": 12,
   "metadata": {
    "collapsed": true
   },
   "outputs": [],
   "source": [
    "\n",
    "\n",
    "# For now, simulate dropping these\n",
    "position_trimmed = position_data.dropna()"
   ]
  },
  {
   "cell_type": "markdown",
   "metadata": {},
   "source": [
    "### Step 2: Predict how big the contracts will be\n",
    "\n",
    "Make 2 models, and do it in 2006 dollars"
   ]
  },
  {
   "cell_type": "code",
   "execution_count": 13,
   "metadata": {},
   "outputs": [
    {
     "data": {
      "image/png": "[encoded data removed]",
      "text/plain": [
       "<matplotlib.figure.Figure at 0x7f192ea9d208>"
      ]
     },
     "metadata": {},
     "output_type": "display_data"
    },
    {
     "data": {
      "text/plain": [
       "LinearRegression(copy_X=True, fit_intercept=True, n_jobs=1, normalize=False)"
      ]
     },
     "execution_count": 13,
     "metadata": {},
     "output_type": "execute_result"
    }
   ],
   "source": [
    "# Grab just the features and the outcome\n",
    "X_pos = position_trimmed[features_pos].values\n",
    "y_dollars_pos = position_trimmed['Dollars_2006'].values\n",
    "y_dollars_raw_pos = position_trimmed['Dollars'].values\n",
    "y_length_pos = position_trimmed['Length'].values\n",
    "predictDollars(lm, X_pos, y_dollars_pos)"
   ]
  },
  {
   "cell_type": "code",
   "execution_count": 14,
   "metadata": {},
   "outputs": [
    {
     "name": "stderr",
     "output_type": "stream",
     "text": [
      "/home/matt/anaconda3/lib/python3.6/site-packages/sklearn/multiclass.py:76: UserWarning: Label not 8 is present in all training examples.\n",
      "  str(classes[c]))\n"
     ]
    },
    {
     "data": {
      "image/png": "[encoded data removed]",
      "text/plain": [
       "<matplotlib.figure.Figure at 0x7f192ea9d978>"
      ]
     },
     "metadata": {},
     "output_type": "display_data"
    },
    {
     "data": {
      "text/plain": [
       "OneVsRestClassifier(estimator=LogisticRegression(C=1.0, class_weight=None, dual=False, fit_intercept=True,\n",
       "          intercept_scaling=1, max_iter=100, multi_class='ovr', n_jobs=1,\n",
       "          penalty='l2', random_state=None, solver='liblinear', tol=0.0001,\n",
       "          verbose=0, warm_start=False),\n",
       "          n_jobs=1)"
      ]
     },
     "execution_count": 14,
     "metadata": {},
     "output_type": "execute_result"
    }
   ],
   "source": [
    "# Do length (This is wrong; need multi-class!)\n",
    "logr = OneVsRestClassifier(LogisticRegression())\n",
    "\n",
    "y_dummies  = pd.get_dummies(y_length_pos)\n",
    "\n",
    "predictLength(logr, X_pos, y_dummies)"
   ]
  },
  {
   "cell_type": "markdown",
   "metadata": {},
   "source": [
    "## Try Random Forest...now let's add Position to the matrix!"
   ]
  },
  {
   "cell_type": "code",
   "execution_count": 15,
   "metadata": {},
   "outputs": [
    {
     "data": {
      "image/png": "[encoded data removed]",
      "text/plain": [
       "<matplotlib.figure.Figure at 0x7f192ea9d0f0>"
      ]
     },
     "metadata": {},
     "output_type": "display_data"
    },
    {
     "data": {
      "text/plain": [
       "RandomForestRegressor(bootstrap=True, criterion='mse', max_depth=None,\n",
       "           max_features='auto', max_leaf_nodes=None,\n",
       "           min_impurity_decrease=0.0, min_impurity_split=None,\n",
       "           min_samples_leaf=1, min_samples_split=2,\n",
       "           min_weight_fraction_leaf=0.0, n_estimators=10, n_jobs=1,\n",
       "           oob_score=False, random_state=None, verbose=0, warm_start=False)"
      ]
     },
     "execution_count": 15,
     "metadata": {},
     "output_type": "execute_result"
    }
   ],
   "source": [
    "predictDollars(rf, X_pos, y_dollars_pos)"
   ]
  },
  {
   "cell_type": "code",
   "execution_count": 16,
   "metadata": {},
   "outputs": [
    {
     "data": {
      "image/png": "[encoded data removed]",
      "text/plain": [
       "<matplotlib.figure.Figure at 0x7f192567cc50>"
      ]
     },
     "metadata": {},
     "output_type": "display_data"
    },
    {
     "data": {
      "text/plain": [
       "RandomForestRegressor(bootstrap=True, criterion='mse', max_depth=None,\n",
       "           max_features='auto', max_leaf_nodes=None,\n",
       "           min_impurity_decrease=0.0, min_impurity_split=None,\n",
       "           min_samples_leaf=1, min_samples_split=2,\n",
       "           min_weight_fraction_leaf=0.0, n_estimators=10, n_jobs=1,\n",
       "           oob_score=False, random_state=None, verbose=0, warm_start=False)"
      ]
     },
     "execution_count": 16,
     "metadata": {},
     "output_type": "execute_result"
    }
   ],
   "source": [
    "predictDollars(rf, X_pos, y_dollars_raw_pos)"
   ]
  },
  {
   "cell_type": "code",
   "execution_count": 17,
   "metadata": {},
   "outputs": [
    {
     "data": {
      "image/png": "[encoded data removed]",
      "text/plain": [
       "<matplotlib.figure.Figure at 0x7f192f1ba6a0>"
      ]
     },
     "metadata": {},
     "output_type": "display_data"
    },
    {
     "data": {
      "text/plain": [
       "RandomForestClassifier(bootstrap=True, class_weight=None, criterion='gini',\n",
       "            max_depth=None, max_features='auto', max_leaf_nodes=None,\n",
       "            min_impurity_decrease=0.0, min_impurity_split=None,\n",
       "            min_samples_leaf=1, min_samples_split=2,\n",
       "            min_weight_fraction_leaf=0.0, n_estimators=10, n_jobs=1,\n",
       "            oob_score=False, random_state=None, verbose=0,\n",
       "            warm_start=False)"
      ]
     },
     "execution_count": 17,
     "metadata": {},
     "output_type": "execute_result"
    }
   ],
   "source": [
    "predictLength(rfc, X_pos, y_length_pos)"
   ]
  },
  {
   "cell_type": "markdown",
   "metadata": {},
   "source": [
    "### Make quadratic terms"
   ]
  },
  {
   "cell_type": "code",
   "execution_count": 18,
   "metadata": {},
   "outputs": [
    {
     "data": {
      "image/png": "[encoded data removed]",
      "text/plain": [
       "<matplotlib.figure.Figure at 0x7f19256b6ba8>"
      ]
     },
     "metadata": {},
     "output_type": "display_data"
    },
    {
     "data": {
      "text/plain": [
       "RandomForestRegressor(bootstrap=True, criterion='mse', max_depth=None,\n",
       "           max_features='auto', max_leaf_nodes=None,\n",
       "           min_impurity_decrease=0.0, min_impurity_split=None,\n",
       "           min_samples_leaf=1, min_samples_split=2,\n",
       "           min_weight_fraction_leaf=0.0, n_estimators=10, n_jobs=1,\n",
       "           oob_score=False, random_state=None, verbose=0, warm_start=False)"
      ]
     },
     "execution_count": 18,
     "metadata": {},
     "output_type": "execute_result"
    }
   ],
   "source": [
    "from sklearn.preprocessing import PolynomialFeatures\n",
    "from sklearn.pipeline import make_pipeline\n",
    "                   \n",
    "poly = PolynomialFeatures()\n",
    "\n",
    "something = poly.fit_transform(X_pos)\n",
    "\n",
    "predictDollars(rf, something, y_dollars_pos)"
   ]
  },
  {
   "cell_type": "markdown",
   "metadata": {},
   "source": [
    "## Try it for pitchers; straight to RF + LM!"
   ]
  },
  {
   "cell_type": "code",
   "execution_count": 19,
   "metadata": {
    "collapsed": true
   },
   "outputs": [],
   "source": [
    "# For now, simulate dropping these\n",
    "pitcher_trimmed = pitcher_data.dropna()\n",
    "\n",
    "X_pitch = pitcher_trimmed[features_pitch].values\n",
    "y_dollars_pitch = pitcher_trimmed['Dollars_2006'].values\n",
    "y_dollars_raw_pitch = pitcher_trimmed['Dollars'].values\n",
    "y_length_pitch = pitcher_trimmed['Length'].values"
   ]
  },
  {
   "cell_type": "code",
   "execution_count": 20,
   "metadata": {},
   "outputs": [
    {
     "data": {
      "image/png": "[encoded data removed]",
      "text/plain": [
       "<matplotlib.figure.Figure at 0x7f19253c6908>"
      ]
     },
     "metadata": {},
     "output_type": "display_data"
    },
    {
     "data": {
      "text/plain": [
       "LinearRegression(copy_X=True, fit_intercept=True, n_jobs=1, normalize=False)"
      ]
     },
     "execution_count": 20,
     "metadata": {},
     "output_type": "execute_result"
    }
   ],
   "source": [
    "# Try the LM\n",
    "predictDollars(lm, X_pitch, y_dollars_pitch)"
   ]
  },
  {
   "cell_type": "code",
   "execution_count": 21,
   "metadata": {},
   "outputs": [
    {
     "data": {
      "image/png": "[encoded data removed]",
      "text/plain": [
       "<matplotlib.figure.Figure at 0x7f1925721e80>"
      ]
     },
     "metadata": {},
     "output_type": "display_data"
    },
    {
     "data": {
      "text/plain": [
       "LinearRegression(copy_X=True, fit_intercept=True, n_jobs=1, normalize=False)"
      ]
     },
     "execution_count": 21,
     "metadata": {},
     "output_type": "execute_result"
    }
   ],
   "source": [
    "predictLength(lm, X_pitch, y_length_pitch)"
   ]
  },
  {
   "cell_type": "code",
   "execution_count": 22,
   "metadata": {},
   "outputs": [
    {
     "data": {
      "image/png": "[encoded data removed]",
      "text/plain": [
       "<matplotlib.figure.Figure at 0x7f1925419ba8>"
      ]
     },
     "metadata": {},
     "output_type": "display_data"
    },
    {
     "data": {
      "text/plain": [
       "RandomForestRegressor(bootstrap=True, criterion='mse', max_depth=None,\n",
       "           max_features='auto', max_leaf_nodes=None,\n",
       "           min_impurity_decrease=0.0, min_impurity_split=None,\n",
       "           min_samples_leaf=1, min_samples_split=2,\n",
       "           min_weight_fraction_leaf=0.0, n_estimators=10, n_jobs=1,\n",
       "           oob_score=False, random_state=None, verbose=0, warm_start=False)"
      ]
     },
     "execution_count": 22,
     "metadata": {},
     "output_type": "execute_result"
    }
   ],
   "source": [
    "# Try RF\n",
    "predictDollars(rf, X_pitch, y_dollars_pitch)"
   ]
  },
  {
   "cell_type": "code",
   "execution_count": 23,
   "metadata": {},
   "outputs": [
    {
     "data": {
      "image/png": "[encoded data removed]",
      "text/plain": [
       "<matplotlib.figure.Figure at 0x7f19253c6ac8>"
      ]
     },
     "metadata": {},
     "output_type": "display_data"
    },
    {
     "data": {
      "text/plain": [
       "RandomForestClassifier(bootstrap=True, class_weight=None, criterion='gini',\n",
       "            max_depth=None, max_features='auto', max_leaf_nodes=None,\n",
       "            min_impurity_decrease=0.0, min_impurity_split=None,\n",
       "            min_samples_leaf=1, min_samples_split=2,\n",
       "            min_weight_fraction_leaf=0.0, n_estimators=10, n_jobs=1,\n",
       "            oob_score=False, random_state=None, verbose=0,\n",
       "            warm_start=False)"
      ]
     },
     "execution_count": 23,
     "metadata": {},
     "output_type": "execute_result"
    }
   ],
   "source": [
    "predictLength(rfc, X_pitch, y_length_pitch)"
   ]
  },
  {
   "cell_type": "markdown",
   "metadata": {},
   "source": [
    "## Try Boosting (xgboost)"
   ]
  },
  {
   "cell_type": "code",
   "execution_count": 24,
   "metadata": {},
   "outputs": [
    {
     "data": {
      "image/png": "[encoded data removed]",
      "text/plain": [
       "<matplotlib.figure.Figure at 0x7f19255d0b00>"
      ]
     },
     "metadata": {},
     "output_type": "display_data"
    },
    {
     "data": {
      "text/plain": [
       "XGBRegressor(base_score=0.5, booster='gbtree', colsample_bylevel=1,\n",
       "       colsample_bytree=1, gamma=0, learning_rate=0.1, max_delta_step=0,\n",
       "       max_depth=3, min_child_weight=1, missing=None, n_estimators=100,\n",
       "       n_jobs=1, nthread=None, objective='reg:linear', random_state=0,\n",
       "       reg_alpha=0, reg_lambda=1, scale_pos_weight=1, seed=None,\n",
       "       silent=True, subsample=1)"
      ]
     },
     "execution_count": 24,
     "metadata": {},
     "output_type": "execute_result"
    }
   ],
   "source": [
    "predictDollars(xgr, X_pos, y_dollars_pos)"
   ]
  },
  {
   "cell_type": "code",
   "execution_count": 25,
   "metadata": {},
   "outputs": [
    {
     "data": {
      "image/png": "[encoded data removed]",
      "text/plain": [
       "<matplotlib.figure.Figure at 0x7f19253c69e8>"
      ]
     },
     "metadata": {},
     "output_type": "display_data"
    },
    {
     "data": {
      "text/plain": [
       "XGBClassifier(base_score=0.5, booster='gbtree', colsample_bylevel=1,\n",
       "       colsample_bytree=1, gamma=0, learning_rate=0.1, max_delta_step=0,\n",
       "       max_depth=3, min_child_weight=1, missing=None, n_estimators=100,\n",
       "       n_jobs=1, nthread=None, objective='multi:softprob', random_state=0,\n",
       "       reg_alpha=0, reg_lambda=1, scale_pos_weight=1, seed=None,\n",
       "       silent=True, subsample=1)"
      ]
     },
     "execution_count": 25,
     "metadata": {},
     "output_type": "execute_result"
    }
   ],
   "source": [
    "predictLength(xgc, X_pos, y_length_pos)"
   ]
  },
  {
   "cell_type": "code",
   "execution_count": 26,
   "metadata": {},
   "outputs": [
    {
     "data": {
      "image/png": "[encoded data removed]",
      "text/plain": [
       "<matplotlib.figure.Figure at 0x7f1925506198>"
      ]
     },
     "metadata": {},
     "output_type": "display_data"
    },
    {
     "data": {
      "text/plain": [
       "XGBRegressor(base_score=0.5, booster='gbtree', colsample_bylevel=1,\n",
       "       colsample_bytree=1, gamma=0, learning_rate=0.1, max_delta_step=0,\n",
       "       max_depth=3, min_child_weight=1, missing=None, n_estimators=100,\n",
       "       n_jobs=1, nthread=None, objective='reg:linear', random_state=0,\n",
       "       reg_alpha=0, reg_lambda=1, scale_pos_weight=1, seed=None,\n",
       "       silent=True, subsample=1)"
      ]
     },
     "execution_count": 26,
     "metadata": {},
     "output_type": "execute_result"
    }
   ],
   "source": [
    "predictDollars(xgr, X_pitch, y_dollars_pitch)"
   ]
  },
  {
   "cell_type": "code",
   "execution_count": 27,
   "metadata": {},
   "outputs": [
    {
     "data": {
      "image/png": "[encoded data removed]",
      "text/plain": [
       "<matplotlib.figure.Figure at 0x7f1925641780>"
      ]
     },
     "metadata": {},
     "output_type": "display_data"
    },
    {
     "data": {
      "text/plain": [
       "XGBClassifier(base_score=0.5, booster='gbtree', colsample_bylevel=1,\n",
       "       colsample_bytree=1, gamma=0, learning_rate=0.1, max_delta_step=0,\n",
       "       max_depth=3, min_child_weight=1, missing=None, n_estimators=100,\n",
       "       n_jobs=1, nthread=None, objective='multi:softprob', random_state=0,\n",
       "       reg_alpha=0, reg_lambda=1, scale_pos_weight=1, seed=None,\n",
       "       silent=True, subsample=1)"
      ]
     },
     "execution_count": 27,
     "metadata": {},
     "output_type": "execute_result"
    }
   ],
   "source": [
    "predictLength(xgc, X_pitch, y_length_pitch)"
   ]
  },
  {
   "cell_type": "markdown",
   "metadata": {},
   "source": [
    "## Try boosting (sklearn)"
   ]
  },
  {
   "cell_type": "code",
   "execution_count": 28,
   "metadata": {},
   "outputs": [
    {
     "data": {
      "image/png": "[encoded data removed]",
      "text/plain": [
       "<matplotlib.figure.Figure at 0x7f1925463710>"
      ]
     },
     "metadata": {},
     "output_type": "display_data"
    },
    {
     "data": {
      "text/plain": [
       "GradientBoostingRegressor(alpha=0.9, criterion='friedman_mse', init=None,\n",
       "             learning_rate=0.1, loss='ls', max_depth=3, max_features=None,\n",
       "             max_leaf_nodes=None, min_impurity_decrease=0.0,\n",
       "             min_impurity_split=None, min_samples_leaf=1,\n",
       "             min_samples_split=2, min_weight_fraction_leaf=0.0,\n",
       "             n_estimators=100, presort='auto', random_state=None,\n",
       "             subsample=1.0, verbose=0, warm_start=False)"
      ]
     },
     "execution_count": 28,
     "metadata": {},
     "output_type": "execute_result"
    }
   ],
   "source": [
    "predictDollars(gbr, X_pos, y_dollars_pos)"
   ]
  },
  {
   "cell_type": "code",
   "execution_count": 29,
   "metadata": {},
   "outputs": [
    {
     "data": {
      "image/png": "[encoded data removed]",
      "text/plain": [
       "<matplotlib.figure.Figure at 0x7f19252bdb38>"
      ]
     },
     "metadata": {},
     "output_type": "display_data"
    },
    {
     "data": {
      "text/plain": [
       "GradientBoostingClassifier(criterion='friedman_mse', init=None,\n",
       "              learning_rate=0.1, loss='deviance', max_depth=3,\n",
       "              max_features=None, max_leaf_nodes=None,\n",
       "              min_impurity_decrease=0.0, min_impurity_split=None,\n",
       "              min_samples_leaf=1, min_samples_split=2,\n",
       "              min_weight_fraction_leaf=0.0, n_estimators=100,\n",
       "              presort='auto', random_state=None, subsample=1.0, verbose=0,\n",
       "              warm_start=False)"
      ]
     },
     "execution_count": 29,
     "metadata": {},
     "output_type": "execute_result"
    }
   ],
   "source": [
    "predictLength(gbc, X_pos, y_length_pos)"
   ]
  },
  {
   "cell_type": "code",
   "execution_count": 30,
   "metadata": {},
   "outputs": [
    {
     "data": {
      "image/png": "[encoded data removed]",
      "text/plain": [
       "<matplotlib.figure.Figure at 0x7f19252d0a90>"
      ]
     },
     "metadata": {},
     "output_type": "display_data"
    },
    {
     "data": {
      "text/plain": [
       "GradientBoostingRegressor(alpha=0.9, criterion='friedman_mse', init=None,\n",
       "             learning_rate=0.1, loss='ls', max_depth=3, max_features=None,\n",
       "             max_leaf_nodes=None, min_impurity_decrease=0.0,\n",
       "             min_impurity_split=None, min_samples_leaf=1,\n",
       "             min_samples_split=2, min_weight_fraction_leaf=0.0,\n",
       "             n_estimators=100, presort='auto', random_state=None,\n",
       "             subsample=1.0, verbose=0, warm_start=False)"
      ]
     },
     "execution_count": 30,
     "metadata": {},
     "output_type": "execute_result"
    }
   ],
   "source": [
    "predictDollars(gbr, X_pitch, y_dollars_pitch)"
   ]
  },
  {
   "cell_type": "code",
   "execution_count": 31,
   "metadata": {},
   "outputs": [
    {
     "data": {
      "image/png": "[encoded data removed]",
      "text/plain": [
       "<matplotlib.figure.Figure at 0x7f1925242f98>"
      ]
     },
     "metadata": {},
     "output_type": "display_data"
    },
    {
     "data": {
      "text/plain": [
       "GradientBoostingClassifier(criterion='friedman_mse', init=None,\n",
       "              learning_rate=0.1, loss='deviance', max_depth=3,\n",
       "              max_features=None, max_leaf_nodes=None,\n",
       "              min_impurity_decrease=0.0, min_impurity_split=None,\n",
       "              min_samples_leaf=1, min_samples_split=2,\n",
       "              min_weight_fraction_leaf=0.0, n_estimators=100,\n",
       "              presort='auto', random_state=None, subsample=1.0, verbose=0,\n",
       "              warm_start=False)"
      ]
     },
     "execution_count": 31,
     "metadata": {},
     "output_type": "execute_result"
    }
   ],
   "source": [
    "predictLength(gbc, X_pitch, y_length_pitch)"
   ]
  },
  {
   "cell_type": "markdown",
   "metadata": {},
   "source": [
    "# I'm using GradientBoosted from sklearn....now I must:\n",
    "\n",
    "1. Determine hyper-parameters using RandomizedSearchCV\n",
    "2. Pull out feature importance\n",
    "\n",
    "## 1. Hyper-parameters for position players"
   ]
  },
  {
   "cell_type": "code",
   "execution_count": 32,
   "metadata": {},
   "outputs": [
    {
     "name": "stdout",
     "output_type": "stream",
     "text": [
      "Tuned Gradient Boosted Parameters: {'n_estimators': 5000, 'max_depth': 3, 'learning_rate': 0.05}\n",
      "Best score is 0.6750448246033407\n"
     ]
    }
   ],
   "source": [
    "# Setup the parameters and distributions to sample from: param_dist\n",
    "param_dist = {\"max_depth\": [3, 5, 7, 9],\n",
    "              \"n_estimators\": [100, 500, 1000, 5000],\n",
    "              \"learning_rate\": [0.001, 0.005, 0.01, 0.05, 0.1]}\n",
    "\n",
    "# Instantiate the RandomizedSearchCV object: tree_cv\n",
    "gbr_cv = RandomizedSearchCV(gbr, param_dist, cv=5)\n",
    "\n",
    "# Fit it to the data\n",
    "gbr_cv.fit(X_pos, y_dollars_pos)\n",
    "\n",
    "# Print the tuned parameters and score\n",
    "print(\"Tuned Gradient Boosted Parameters: {}\".format(gbr_cv.best_params_))\n",
    "print(\"Best score is {}\".format(gbr_cv.best_score_))"
   ]
  },
  {
   "cell_type": "code",
   "execution_count": 33,
   "metadata": {},
   "outputs": [
    {
     "name": "stderr",
     "output_type": "stream",
     "text": [
      "/home/matt/anaconda3/lib/python3.6/site-packages/sklearn/model_selection/_split.py:605: Warning: The least populated class in y has only 1 members, which is too few. The minimum number of members in any class cannot be less than n_splits=5.\n",
      "  % (min_groups, self.n_splits)), Warning)\n"
     ]
    },
    {
     "name": "stdout",
     "output_type": "stream",
     "text": [
      "Tuned Gradient Boosted Parameters: {'n_estimators': 500, 'max_depth': 9, 'learning_rate': 0.1}\n",
      "Best score is 0.592391304347826\n"
     ]
    }
   ],
   "source": [
    "# Setup the parameters and distributions to sample from: param_dist\n",
    "param_dist = {\"max_depth\": [3, 5, 7, 9],\n",
    "              \"n_estimators\": [100, 500, 1000],\n",
    "              \"learning_rate\": [0.01, 0.05, 0.1]}\n",
    "\n",
    "# Instantiate the RandomizedSearchCV object: tree_cv\n",
    "gbc_cv = RandomizedSearchCV(gbc, param_dist, cv=5)\n",
    "\n",
    "# Fit it to the data\n",
    "gbc_cv.fit(X_pos, y_length_pos)\n",
    "\n",
    "# Print the tuned parameters and score\n",
    "print(\"Tuned Gradient Boosted Parameters: {}\".format(gbc_cv.best_params_))\n",
    "print(\"Best score is {}\".format(gbc_cv.best_score_))"
   ]
  },
  {
   "cell_type": "markdown",
   "metadata": {},
   "source": [
    "# 2. Hyper-parameters for pitchers"
   ]
  },
  {
   "cell_type": "code",
   "execution_count": 34,
   "metadata": {},
   "outputs": [
    {
     "name": "stdout",
     "output_type": "stream",
     "text": [
      "Tuned Gradient Boosted Parameters: {'n_estimators': 5000, 'max_depth': 3, 'learning_rate': 0.005}\n",
      "Best score is 0.5652854073368493\n"
     ]
    }
   ],
   "source": [
    "# Setup the parameters and distributions to sample from: param_dist\n",
    "param_dist = {\"max_depth\": [3, 5, 7, 9],\n",
    "              \"n_estimators\": [100, 500, 1000, 5000],\n",
    "              \"learning_rate\": [0.001, 0.005, 0.01, 0.05, 0.1]}\n",
    "\n",
    "# Instantiate the RandomizedSearchCV object: tree_cv\n",
    "gbr_cv = RandomizedSearchCV(gbr, param_dist, cv=5)\n",
    "\n",
    "# Fit it to the data\n",
    "gbr_cv.fit(X_pitch, y_dollars_pitch)\n",
    "\n",
    "# Print the tuned parameters and score\n",
    "print(\"Tuned Gradient Boosted Parameters: {}\".format(gbr_cv.best_params_))\n",
    "print(\"Best score is {}\".format(gbr_cv.best_score_))"
   ]
  },
  {
   "cell_type": "code",
   "execution_count": 35,
   "metadata": {
    "scrolled": true
   },
   "outputs": [
    {
     "name": "stderr",
     "output_type": "stream",
     "text": [
      "/home/matt/anaconda3/lib/python3.6/site-packages/sklearn/model_selection/_split.py:605: Warning: The least populated class in y has only 4 members, which is too few. The minimum number of members in any class cannot be less than n_splits=5.\n",
      "  % (min_groups, self.n_splits)), Warning)\n"
     ]
    },
    {
     "name": "stdout",
     "output_type": "stream",
     "text": [
      "Tuned Gradient Boosted Parameters: {'n_estimators': 1000, 'max_depth': 5, 'learning_rate': 0.05}\n",
      "Best score is 0.47265625\n"
     ]
    }
   ],
   "source": [
    "# Setup the parameters and distributions to sample from: param_dist\n",
    "param_dist = {\"max_depth\": [3, 5, 7, 9],\n",
    "              \"n_estimators\": [100, 500, 1000],\n",
    "              \"learning_rate\": [0.01, 0.05, 0.1]}\n",
    "\n",
    "# Instantiate the RandomizedSearchCV object: tree_cv\n",
    "gbc_cv = RandomizedSearchCV(gbc, param_dist, cv=5)\n",
    "\n",
    "# Fit it to the data\n",
    "gbc_cv.fit(X_pitch, y_length_pitch)\n",
    "\n",
    "# Print the tuned parameters and score\n",
    "print(\"Tuned Gradient Boosted Parameters: {}\".format(gbc_cv.best_params_))\n",
    "print(\"Best score is {}\".format(gbc_cv.best_score_))"
   ]
  },
  {
   "cell_type": "markdown",
   "metadata": {},
   "source": [
    "## 3. Use correct hyperparameters to train models and pull out feature importance"
   ]
  },
  {
   "cell_type": "code",
   "execution_count": 36,
   "metadata": {},
   "outputs": [
    {
     "data": {
      "image/png": "[encoded data removed]",
      "text/plain": [
       "<matplotlib.figure.Figure at 0x7f1925007630>"
      ]
     },
     "metadata": {},
     "output_type": "display_data"
    },
    {
     "data": {
      "image/png": "[encoded data removed]",
      "text/plain": [
       "<matplotlib.figure.Figure at 0x7f1924ffe588>"
      ]
     },
     "metadata": {},
     "output_type": "display_data"
    }
   ],
   "source": [
    "gbr_pos = GradientBoostingRegressor(max_depth = 3, n_estimators = 1000, learning_rate = 0.1)\n",
    "gbr_pos_out = predictDollars(gbr_pos, X_pos, y_dollars_pos)\n",
    "\n",
    "# Make a pretty plot\n",
    "sorted_idx = np.argsort(gbr_pos_out.feature_importances_)\n",
    "pos = np.arange(sorted_idx.shape[0]) + .5\n",
    "plt.barh(pos, gbr_pos_out.feature_importances_[sorted_idx], align='center')\n",
    "labels = [features_pos[i] for i in sorted_idx]\n",
    "plt.yticks(pos, labels)\n",
    "plt.xlabel('Relative Importance')\n",
    "plt.title('Variable Importance')\n",
    "plt.show()"
   ]
  },
  {
   "cell_type": "code",
   "execution_count": 37,
   "metadata": {},
   "outputs": [
    {
     "data": {
      "image/png": "[encoded data removed]",
      "text/plain": [
       "<matplotlib.figure.Figure at 0x7f1924dabd68>"
      ]
     },
     "metadata": {},
     "output_type": "display_data"
    },
    {
     "data": {
      "image/png": "[encoded data removed]",
      "text/plain": [
       "<matplotlib.figure.Figure at 0x7f1924fab7b8>"
      ]
     },
     "metadata": {},
     "output_type": "display_data"
    }
   ],
   "source": [
    "gbr_pitch = GradientBoostingRegressor(max_depth = 3, n_estimators = 5000, learning_rate = 0.001)\n",
    "gbr_pitch_out = predictDollars(gbr_pitch, X_pitch, y_dollars_pitch)\n",
    "\n",
    "# Make a pretty plot\n",
    "sorted_idx = np.argsort(gbr_pitch_out.feature_importances_)\n",
    "pos = np.arange(sorted_idx.shape[0]) + .5\n",
    "plt.barh(pos, gbr_pitch_out.feature_importances_[sorted_idx], align='center')\n",
    "labels = [features_pitch[i] for i in sorted_idx]\n",
    "plt.yticks(pos, labels)\n",
    "plt.xlabel('Relative Importance')\n",
    "plt.title('Variable Importance')\n",
    "plt.show()"
   ]
  },
  {
   "cell_type": "code",
   "execution_count": 38,
   "metadata": {},
   "outputs": [
    {
     "data": {
      "image/png": "[encoded data removed]",
      "text/plain": [
       "<matplotlib.figure.Figure at 0x7f1924b29828>"
      ]
     },
     "metadata": {},
     "output_type": "display_data"
    },
    {
     "data": {
      "image/png": "[encoded data removed]",
      "text/plain": [
       "<matplotlib.figure.Figure at 0x7f1924d766a0>"
      ]
     },
     "metadata": {},
     "output_type": "display_data"
    }
   ],
   "source": [
    "gbc_pos = GradientBoostingClassifier(max_depth = 3, n_estimators = 500, learning_rate = 0.01)\n",
    "gbc_pos_out = predictLength(gbc_pos, X_pos, y_length_pos)\n",
    "\n",
    "# Make a pretty plot\n",
    "sorted_idx = np.argsort(gbc_pos_out.feature_importances_)\n",
    "pos = np.arange(sorted_idx.shape[0]) + .5\n",
    "plt.barh(pos, gbc_pos_out.feature_importances_[sorted_idx], align='center')\n",
    "labels = [features_pos[i] for i in sorted_idx]\n",
    "plt.yticks(pos, labels)\n",
    "plt.xlabel('Relative Importance')\n",
    "plt.title('Variable Importance')\n",
    "plt.show()"
   ]
  },
  {
   "cell_type": "code",
   "execution_count": 39,
   "metadata": {},
   "outputs": [
    {
     "data": {
      "image/png": "[encoded data removed]",
      "text/plain": [
       "<matplotlib.figure.Figure at 0x7f192478cf60>"
      ]
     },
     "metadata": {},
     "output_type": "display_data"
    },
    {
     "data": {
      "image/png": "[encoded data removed]",
      "text/plain": [
       "<matplotlib.figure.Figure at 0x7f192479a358>"
      ]
     },
     "metadata": {},
     "output_type": "display_data"
    }
   ],
   "source": [
    "gbc_pitch = GradientBoostingClassifier(max_depth = 5, n_estimators = 1000, learning_rate = 0.01)\n",
    "gbc_pitch_out = predictLength(gbc_pitch, X_pitch, y_length_pitch)\n",
    "\n",
    "# Make a pretty plot\n",
    "sorted_idx = np.argsort(gbc_pitch_out.feature_importances_)\n",
    "pos = np.arange(sorted_idx.shape[0]) + .5\n",
    "plt.barh(pos, gbc_pitch_out.feature_importances_[sorted_idx], align='center')\n",
    "labels = [features_pitch[i] for i in sorted_idx]\n",
    "plt.yticks(pos, labels)\n",
    "plt.xlabel('Relative Importance')\n",
    "plt.title('Variable Importance')\n",
    "plt.show()"
   ]
  },
  {
   "cell_type": "markdown",
   "metadata": {},
   "source": [
    "# Things the final model should do:\n",
    "\n",
    "1. Take in a given year\n",
    "2. Remove that year AND 2017 from the training data\n",
    "3. For each player in that year, predict:\n",
    "   1. Whether they will get a major league contract\n",
    "   2. If \"yes\", length and total dollars of contract\n",
    "       1. First, predict in 2006 dollars\n",
    "       2. Then, grab the inflation table and translate to appropriate year's dollars\n",
    "   3. If \"no\", fill in with N/A and 0 (or no major league contract)"
   ]
  },
  {
   "cell_type": "code",
   "execution_count": 40,
   "metadata": {},
   "outputs": [
    {
     "data": {
      "text/plain": [
       "(867, 31)"
      ]
     },
     "execution_count": 40,
     "metadata": {},
     "output_type": "execute_result"
    }
   ],
   "source": [
    "position_all.shape"
   ]
  },
  {
   "cell_type": "code",
   "execution_count": 41,
   "metadata": {},
   "outputs": [
    {
     "data": {
      "text/plain": [
       "(851, 31)"
      ]
     },
     "execution_count": 41,
     "metadata": {},
     "output_type": "execute_result"
    }
   ],
   "source": [
    "position_all[position_all.Year < 2017].shape"
   ]
  },
  {
   "cell_type": "code",
   "execution_count": 42,
   "metadata": {},
   "outputs": [
    {
     "data": {
      "text/plain": [
       "(748, 33)"
      ]
     },
     "execution_count": 42,
     "metadata": {},
     "output_type": "execute_result"
    }
   ],
   "source": [
    "pitcher_all[pitcher_all.Year < 2016].shape"
   ]
  },
  {
   "cell_type": "code",
   "execution_count": 43,
   "metadata": {},
   "outputs": [
    {
     "data": {
      "text/plain": [
       "(865, 33)"
      ]
     },
     "execution_count": 43,
     "metadata": {},
     "output_type": "execute_result"
    }
   ],
   "source": [
    "pitcher_all.shape"
   ]
  },
  {
   "cell_type": "code",
   "execution_count": 44,
   "metadata": {},
   "outputs": [
    {
     "data": {
      "text/plain": [
       "(748, 33)"
      ]
     },
     "execution_count": 44,
     "metadata": {},
     "output_type": "execute_result"
    }
   ],
   "source": [
    "pitcher_all[(pitcher_all.Year != 2016) & (pitcher_all.Year != 2017)].shape"
   ]
  },
  {
   "cell_type": "code",
   "execution_count": 222,
   "metadata": {},
   "outputs": [],
   "source": [
    "import importlib\n",
    "import models\n",
    "models = importlib.reload(models)"
   ]
  },
  {
   "cell_type": "code",
   "execution_count": 223,
   "metadata": {},
   "outputs": [],
   "source": [
    "with open('pitching_data.pickle', 'rb') as file:\n",
    "    pitcher_all = pickle.load(file)\n",
    "\n",
    "pitcher_prepped = models.prepareFreeAgentData(pitcher_all)\n",
    "X_train, y_train, X_test, y_test = models.splitDataByYear(pitcher_prepped, 2014, 'pitcher')"
   ]
  },
  {
   "cell_type": "code",
   "execution_count": 224,
   "metadata": {},
   "outputs": [],
   "source": [
    "contract_model, contract_preds = models.predictContract(X_train, y_train, X_test)"
   ]
  },
  {
   "cell_type": "code",
   "execution_count": 225,
   "metadata": {},
   "outputs": [],
   "source": [
    "length_model, length_preds = models.predictLength(X_train, y_train, X_test)"
   ]
  },
  {
   "cell_type": "code",
   "execution_count": 226,
   "metadata": {
    "collapsed": true
   },
   "outputs": [],
   "source": [
    "dollars_model, dollars_preds = models.predictDollars(X_train, y_train, X_test) "
   ]
  },
  {
   "cell_type": "code",
   "execution_count": 227,
   "metadata": {},
   "outputs": [
    {
     "data": {
      "text/plain": [
       "0.828125"
      ]
     },
     "execution_count": 227,
     "metadata": {},
     "output_type": "execute_result"
    }
   ],
   "source": [
    "contract_model.score(X_test, y_test['Contract'])"
   ]
  },
  {
   "cell_type": "code",
   "execution_count": 228,
   "metadata": {},
   "outputs": [
    {
     "data": {
      "text/plain": [
       "pandas.core.frame.DataFrame"
      ]
     },
     "execution_count": 228,
     "metadata": {},
     "output_type": "execute_result"
    }
   ],
   "source": [
    "X_test_short = X_test[y_test.Dollars_2006.notnull()]\n",
    "y_test_short = y_test[y_test.Dollars_2006.notnull()]\n",
    "type(y_test_short)"
   ]
  },
  {
   "cell_type": "code",
   "execution_count": 229,
   "metadata": {},
   "outputs": [
    {
     "data": {
      "text/plain": [
       "0.71111111111111114"
      ]
     },
     "execution_count": 229,
     "metadata": {},
     "output_type": "execute_result"
    }
   ],
   "source": [
    "length_model.score(X_test_short, y_test_short['Length'])"
   ]
  },
  {
   "cell_type": "code",
   "execution_count": 230,
   "metadata": {},
   "outputs": [
    {
     "data": {
      "text/plain": [
       "0.89338769730555478"
      ]
     },
     "execution_count": 230,
     "metadata": {},
     "output_type": "execute_result"
    }
   ],
   "source": [
    "dollars_model.score(X_test_short, y_test_short['Dollars_2006'])"
   ]
  },
  {
   "cell_type": "code",
   "execution_count": 231,
   "metadata": {},
   "outputs": [
    {
     "data": {
      "text/plain": [
       "1.6924528301886792"
      ]
     },
     "execution_count": 231,
     "metadata": {},
     "output_type": "execute_result"
    }
   ],
   "source": [
    "pitcher_prepped[pitcher_prepped.Year == 2016]['Inflation_Factor'].unique()[0]"
   ]
  },
  {
   "cell_type": "code",
   "execution_count": 232,
   "metadata": {},
   "outputs": [],
   "source": [
    "fa_year = 2016\n",
    "\n",
    "# Load and prepare the datasets                                                                                                                                                             \n",
    "pitcher_all, position_all = models.loadAllData()\n",
    "pitcher_prepped = models.prepareFreeAgentData(pitcher_all)\n",
    "position_prepped = models.prepareFreeAgentData(position_all)\n",
    "\n",
    "# Use year to split dataset                                                                                                                                                                 \n",
    "X_train_pitch, y_train_pitch, X_test_pitch, y_test_pitch = models.splitDataByYear(pitcher_prepped, fa_year, 'pitcher')\n",
    "X_train_pos, y_train_pos, X_test_pos, y_test_pos = models.splitDataByYear(position_prepped, fa_year, 'position')\n",
    "\n",
    "# Predict whether they'll get contracts                                                                                                                                                     \n",
    "score_pitch, contract_pitch = models.predictContract(X_train_pitch, y_train_pitch, X_test_pitch)\n",
    "_, contract_pos = models.predictContract(X_train_pos, y_train_pos, X_test_pos)\n",
    "\n",
    "    # Predict contract length                                                                                                                                                                   \n",
    "_, length_pitch = models.predictLength(X_train_pitch, y_train_pitch, X_test_pitch)\n",
    "_, length_pos = models.predictLength(X_train_pos, y_train_pos, X_test_pos)\n",
    "\n",
    "# Predict contract dollars                                                                                                                                                                  \n",
    "_, dollars_pitch = models.predictDollars(X_train_pitch, y_train_pitch, X_test_pitch)\n",
    "_, dollars_pos = models.predictDollars(X_train_pos, y_train_pos, X_test_pos) "
   ]
  },
  {
   "cell_type": "code",
   "execution_count": 233,
   "metadata": {},
   "outputs": [
    {
     "data": {
      "text/plain": [
       "(79,)"
      ]
     },
     "execution_count": 233,
     "metadata": {},
     "output_type": "execute_result"
    }
   ],
   "source": [
    "dollars_pitch.shape"
   ]
  },
  {
   "cell_type": "code",
   "execution_count": 234,
   "metadata": {},
   "outputs": [
    {
     "data": {
      "text/plain": [
       "(79,)"
      ]
     },
     "execution_count": 234,
     "metadata": {},
     "output_type": "execute_result"
    }
   ],
   "source": [
    "contract_pitch.shape"
   ]
  },
  {
   "cell_type": "code",
   "execution_count": 235,
   "metadata": {},
   "outputs": [
    {
     "data": {
      "text/html": [
       "<div>\n",
       "<style>\n",
       "    .dataframe thead tr:only-child th {\n",
       "        text-align: right;\n",
       "    }\n",
       "\n",
       "    .dataframe thead th {\n",
       "        text-align: left;\n",
       "    }\n",
       "\n",
       "    .dataframe tbody tr th {\n",
       "        vertical-align: top;\n",
       "    }\n",
       "</style>\n",
       "<table border=\"1\" class=\"dataframe\">\n",
       "  <thead>\n",
       "    <tr style=\"text-align: right;\">\n",
       "      <th></th>\n",
       "      <th>contract_actual</th>\n",
       "      <th>contract_pred</th>\n",
       "      <th>dollars_actual</th>\n",
       "      <th>dollars_pred</th>\n",
       "      <th>length_actual</th>\n",
       "      <th>length_pred</th>\n",
       "      <th>nameFirst</th>\n",
       "      <th>nameLast</th>\n",
       "    </tr>\n",
       "  </thead>\n",
       "  <tbody>\n",
       "    <tr>\n",
       "      <th>748</th>\n",
       "      <td>False</td>\n",
       "      <td>True</td>\n",
       "      <td>NaN</td>\n",
       "      <td>7.458902e+06</td>\n",
       "      <td>0</td>\n",
       "      <td>2</td>\n",
       "      <td>David</td>\n",
       "      <td>Hernandez</td>\n",
       "    </tr>\n",
       "    <tr>\n",
       "      <th>749</th>\n",
       "      <td>False</td>\n",
       "      <td>True</td>\n",
       "      <td>NaN</td>\n",
       "      <td>5.382006e+06</td>\n",
       "      <td>0</td>\n",
       "      <td>1</td>\n",
       "      <td>Blaine</td>\n",
       "      <td>Boyer</td>\n",
       "    </tr>\n",
       "    <tr>\n",
       "      <th>750</th>\n",
       "      <td>False</td>\n",
       "      <td>True</td>\n",
       "      <td>NaN</td>\n",
       "      <td>3.983847e+06</td>\n",
       "      <td>0</td>\n",
       "      <td>1</td>\n",
       "      <td>Joe</td>\n",
       "      <td>Nathan</td>\n",
       "    </tr>\n",
       "    <tr>\n",
       "      <th>751</th>\n",
       "      <td>False</td>\n",
       "      <td>False</td>\n",
       "      <td>NaN</td>\n",
       "      <td>1.160785e+06</td>\n",
       "      <td>0</td>\n",
       "      <td>1</td>\n",
       "      <td>Matt</td>\n",
       "      <td>Albers</td>\n",
       "    </tr>\n",
       "    <tr>\n",
       "      <th>752</th>\n",
       "      <td>True</td>\n",
       "      <td>True</td>\n",
       "      <td>4000000.0</td>\n",
       "      <td>1.058698e+07</td>\n",
       "      <td>1</td>\n",
       "      <td>2</td>\n",
       "      <td>Joe</td>\n",
       "      <td>Blanton</td>\n",
       "    </tr>\n",
       "    <tr>\n",
       "      <th>753</th>\n",
       "      <td>False</td>\n",
       "      <td>False</td>\n",
       "      <td>NaN</td>\n",
       "      <td>4.404828e+06</td>\n",
       "      <td>0</td>\n",
       "      <td>1</td>\n",
       "      <td>Peter</td>\n",
       "      <td>Moylan</td>\n",
       "    </tr>\n",
       "    <tr>\n",
       "      <th>754</th>\n",
       "      <td>False</td>\n",
       "      <td>True</td>\n",
       "      <td>NaN</td>\n",
       "      <td>5.571272e+06</td>\n",
       "      <td>0</td>\n",
       "      <td>1</td>\n",
       "      <td>Tommy</td>\n",
       "      <td>Hunter</td>\n",
       "    </tr>\n",
       "    <tr>\n",
       "      <th>755</th>\n",
       "      <td>True</td>\n",
       "      <td>True</td>\n",
       "      <td>3000000.0</td>\n",
       "      <td>1.035589e+07</td>\n",
       "      <td>1</td>\n",
       "      <td>1</td>\n",
       "      <td>Sergio</td>\n",
       "      <td>Romo</td>\n",
       "    </tr>\n",
       "    <tr>\n",
       "      <th>756</th>\n",
       "      <td>True</td>\n",
       "      <td>True</td>\n",
       "      <td>3000000.0</td>\n",
       "      <td>1.015176e+07</td>\n",
       "      <td>1</td>\n",
       "      <td>1</td>\n",
       "      <td>Fernando</td>\n",
       "      <td>Salas</td>\n",
       "    </tr>\n",
       "    <tr>\n",
       "      <th>757</th>\n",
       "      <td>True</td>\n",
       "      <td>True</td>\n",
       "      <td>12000000.0</td>\n",
       "      <td>7.645280e+06</td>\n",
       "      <td>2</td>\n",
       "      <td>1</td>\n",
       "      <td>Travis</td>\n",
       "      <td>Wood</td>\n",
       "    </tr>\n",
       "    <tr>\n",
       "      <th>758</th>\n",
       "      <td>False</td>\n",
       "      <td>False</td>\n",
       "      <td>NaN</td>\n",
       "      <td>5.644903e+05</td>\n",
       "      <td>0</td>\n",
       "      <td>1</td>\n",
       "      <td>Chris</td>\n",
       "      <td>Narveson</td>\n",
       "    </tr>\n",
       "    <tr>\n",
       "      <th>759</th>\n",
       "      <td>False</td>\n",
       "      <td>True</td>\n",
       "      <td>NaN</td>\n",
       "      <td>4.857980e+06</td>\n",
       "      <td>0</td>\n",
       "      <td>1</td>\n",
       "      <td>Kevin</td>\n",
       "      <td>Jepsen</td>\n",
       "    </tr>\n",
       "    <tr>\n",
       "      <th>760</th>\n",
       "      <td>False</td>\n",
       "      <td>True</td>\n",
       "      <td>NaN</td>\n",
       "      <td>7.198706e+06</td>\n",
       "      <td>0</td>\n",
       "      <td>1</td>\n",
       "      <td>Seth</td>\n",
       "      <td>Maness</td>\n",
       "    </tr>\n",
       "    <tr>\n",
       "      <th>761</th>\n",
       "      <td>True</td>\n",
       "      <td>True</td>\n",
       "      <td>6500000.0</td>\n",
       "      <td>1.000246e+07</td>\n",
       "      <td>1</td>\n",
       "      <td>2</td>\n",
       "      <td>Jerry</td>\n",
       "      <td>Blevins</td>\n",
       "    </tr>\n",
       "    <tr>\n",
       "      <th>762</th>\n",
       "      <td>True</td>\n",
       "      <td>True</td>\n",
       "      <td>3000000.0</td>\n",
       "      <td>9.438346e+06</td>\n",
       "      <td>1</td>\n",
       "      <td>2</td>\n",
       "      <td>Joe</td>\n",
       "      <td>Smith</td>\n",
       "    </tr>\n",
       "    <tr>\n",
       "      <th>763</th>\n",
       "      <td>False</td>\n",
       "      <td>True</td>\n",
       "      <td>NaN</td>\n",
       "      <td>8.646535e+06</td>\n",
       "      <td>0</td>\n",
       "      <td>1</td>\n",
       "      <td>Yusmeiro</td>\n",
       "      <td>Petit</td>\n",
       "    </tr>\n",
       "    <tr>\n",
       "      <th>764</th>\n",
       "      <td>True</td>\n",
       "      <td>True</td>\n",
       "      <td>5500000.0</td>\n",
       "      <td>1.076228e+07</td>\n",
       "      <td>1</td>\n",
       "      <td>2</td>\n",
       "      <td>Boone</td>\n",
       "      <td>Logan</td>\n",
       "    </tr>\n",
       "    <tr>\n",
       "      <th>765</th>\n",
       "      <td>True</td>\n",
       "      <td>True</td>\n",
       "      <td>2050000.0</td>\n",
       "      <td>4.021804e+06</td>\n",
       "      <td>1</td>\n",
       "      <td>1</td>\n",
       "      <td>Matt</td>\n",
       "      <td>Belisle</td>\n",
       "    </tr>\n",
       "    <tr>\n",
       "      <th>766</th>\n",
       "      <td>False</td>\n",
       "      <td>False</td>\n",
       "      <td>NaN</td>\n",
       "      <td>3.132897e+06</td>\n",
       "      <td>0</td>\n",
       "      <td>1</td>\n",
       "      <td>Lucas</td>\n",
       "      <td>Harrell</td>\n",
       "    </tr>\n",
       "    <tr>\n",
       "      <th>767</th>\n",
       "      <td>False</td>\n",
       "      <td>True</td>\n",
       "      <td>NaN</td>\n",
       "      <td>6.534709e+05</td>\n",
       "      <td>0</td>\n",
       "      <td>1</td>\n",
       "      <td>Brandon</td>\n",
       "      <td>Morrow</td>\n",
       "    </tr>\n",
       "    <tr>\n",
       "      <th>768</th>\n",
       "      <td>False</td>\n",
       "      <td>False</td>\n",
       "      <td>NaN</td>\n",
       "      <td>7.190587e+05</td>\n",
       "      <td>0</td>\n",
       "      <td>1</td>\n",
       "      <td>Blake</td>\n",
       "      <td>Smith</td>\n",
       "    </tr>\n",
       "    <tr>\n",
       "      <th>769</th>\n",
       "      <td>True</td>\n",
       "      <td>True</td>\n",
       "      <td>1150000.0</td>\n",
       "      <td>4.934713e+06</td>\n",
       "      <td>1</td>\n",
       "      <td>1</td>\n",
       "      <td>Shawn</td>\n",
       "      <td>Tolleson</td>\n",
       "    </tr>\n",
       "    <tr>\n",
       "      <th>770</th>\n",
       "      <td>True</td>\n",
       "      <td>True</td>\n",
       "      <td>11000000.0</td>\n",
       "      <td>1.758160e+07</td>\n",
       "      <td>2</td>\n",
       "      <td>2</td>\n",
       "      <td>Santiago</td>\n",
       "      <td>Casilla</td>\n",
       "    </tr>\n",
       "    <tr>\n",
       "      <th>771</th>\n",
       "      <td>True</td>\n",
       "      <td>True</td>\n",
       "      <td>5350000.0</td>\n",
       "      <td>1.324251e+07</td>\n",
       "      <td>1</td>\n",
       "      <td>3</td>\n",
       "      <td>Neftali</td>\n",
       "      <td>Feliz</td>\n",
       "    </tr>\n",
       "    <tr>\n",
       "      <th>772</th>\n",
       "      <td>False</td>\n",
       "      <td>False</td>\n",
       "      <td>NaN</td>\n",
       "      <td>4.392676e+06</td>\n",
       "      <td>0</td>\n",
       "      <td>1</td>\n",
       "      <td>Louis</td>\n",
       "      <td>Coleman</td>\n",
       "    </tr>\n",
       "    <tr>\n",
       "      <th>773</th>\n",
       "      <td>True</td>\n",
       "      <td>True</td>\n",
       "      <td>80000000.0</td>\n",
       "      <td>6.702992e+07</td>\n",
       "      <td>5</td>\n",
       "      <td>4</td>\n",
       "      <td>Kenley</td>\n",
       "      <td>Jansen</td>\n",
       "    </tr>\n",
       "    <tr>\n",
       "      <th>774</th>\n",
       "      <td>False</td>\n",
       "      <td>True</td>\n",
       "      <td>NaN</td>\n",
       "      <td>6.901048e+06</td>\n",
       "      <td>0</td>\n",
       "      <td>1</td>\n",
       "      <td>Chris</td>\n",
       "      <td>Withrow</td>\n",
       "    </tr>\n",
       "    <tr>\n",
       "      <th>775</th>\n",
       "      <td>False</td>\n",
       "      <td>True</td>\n",
       "      <td>NaN</td>\n",
       "      <td>5.638309e+06</td>\n",
       "      <td>0</td>\n",
       "      <td>1</td>\n",
       "      <td>Gavin</td>\n",
       "      <td>Floyd</td>\n",
       "    </tr>\n",
       "    <tr>\n",
       "      <th>776</th>\n",
       "      <td>True</td>\n",
       "      <td>True</td>\n",
       "      <td>3000000.0</td>\n",
       "      <td>1.337132e+07</td>\n",
       "      <td>1</td>\n",
       "      <td>1</td>\n",
       "      <td>Drew</td>\n",
       "      <td>Storen</td>\n",
       "    </tr>\n",
       "    <tr>\n",
       "      <th>777</th>\n",
       "      <td>True</td>\n",
       "      <td>True</td>\n",
       "      <td>16000000.0</td>\n",
       "      <td>1.761739e+07</td>\n",
       "      <td>2</td>\n",
       "      <td>2</td>\n",
       "      <td>Brad</td>\n",
       "      <td>Ziegler</td>\n",
       "    </tr>\n",
       "    <tr>\n",
       "      <th>...</th>\n",
       "      <td>...</td>\n",
       "      <td>...</td>\n",
       "      <td>...</td>\n",
       "      <td>...</td>\n",
       "      <td>...</td>\n",
       "      <td>...</td>\n",
       "      <td>...</td>\n",
       "      <td>...</td>\n",
       "    </tr>\n",
       "    <tr>\n",
       "      <th>797</th>\n",
       "      <td>True</td>\n",
       "      <td>True</td>\n",
       "      <td>30500000.0</td>\n",
       "      <td>6.913668e+06</td>\n",
       "      <td>4</td>\n",
       "      <td>1</td>\n",
       "      <td>Brett</td>\n",
       "      <td>Cecil</td>\n",
       "    </tr>\n",
       "    <tr>\n",
       "      <th>798</th>\n",
       "      <td>True</td>\n",
       "      <td>True</td>\n",
       "      <td>1000000.0</td>\n",
       "      <td>8.530382e+06</td>\n",
       "      <td>1</td>\n",
       "      <td>1</td>\n",
       "      <td>Andrew</td>\n",
       "      <td>Bailey</td>\n",
       "    </tr>\n",
       "    <tr>\n",
       "      <th>799</th>\n",
       "      <td>False</td>\n",
       "      <td>False</td>\n",
       "      <td>NaN</td>\n",
       "      <td>-1.150207e+06</td>\n",
       "      <td>0</td>\n",
       "      <td>1</td>\n",
       "      <td>Edwin</td>\n",
       "      <td>Jackson</td>\n",
       "    </tr>\n",
       "    <tr>\n",
       "      <th>800</th>\n",
       "      <td>False</td>\n",
       "      <td>True</td>\n",
       "      <td>NaN</td>\n",
       "      <td>9.594142e+05</td>\n",
       "      <td>0</td>\n",
       "      <td>1</td>\n",
       "      <td>Vance</td>\n",
       "      <td>Worley</td>\n",
       "    </tr>\n",
       "    <tr>\n",
       "      <th>801</th>\n",
       "      <td>False</td>\n",
       "      <td>False</td>\n",
       "      <td>NaN</td>\n",
       "      <td>-1.424788e+06</td>\n",
       "      <td>0</td>\n",
       "      <td>1</td>\n",
       "      <td>Ross</td>\n",
       "      <td>Detwiler</td>\n",
       "    </tr>\n",
       "    <tr>\n",
       "      <th>802</th>\n",
       "      <td>False</td>\n",
       "      <td>False</td>\n",
       "      <td>NaN</td>\n",
       "      <td>-2.417353e+06</td>\n",
       "      <td>0</td>\n",
       "      <td>1</td>\n",
       "      <td>Kris</td>\n",
       "      <td>Medlen</td>\n",
       "    </tr>\n",
       "    <tr>\n",
       "      <th>803</th>\n",
       "      <td>True</td>\n",
       "      <td>True</td>\n",
       "      <td>3000000.0</td>\n",
       "      <td>9.601651e+05</td>\n",
       "      <td>1</td>\n",
       "      <td>1</td>\n",
       "      <td>Jered</td>\n",
       "      <td>Weaver</td>\n",
       "    </tr>\n",
       "    <tr>\n",
       "      <th>804</th>\n",
       "      <td>False</td>\n",
       "      <td>True</td>\n",
       "      <td>NaN</td>\n",
       "      <td>-2.475964e+06</td>\n",
       "      <td>0</td>\n",
       "      <td>1</td>\n",
       "      <td>Mat</td>\n",
       "      <td>Latos</td>\n",
       "    </tr>\n",
       "    <tr>\n",
       "      <th>805</th>\n",
       "      <td>True</td>\n",
       "      <td>True</td>\n",
       "      <td>16000000.0</td>\n",
       "      <td>1.653798e+07</td>\n",
       "      <td>2</td>\n",
       "      <td>1</td>\n",
       "      <td>Jason</td>\n",
       "      <td>Hammel</td>\n",
       "    </tr>\n",
       "    <tr>\n",
       "      <th>806</th>\n",
       "      <td>True</td>\n",
       "      <td>False</td>\n",
       "      <td>3500000.0</td>\n",
       "      <td>-1.520810e+06</td>\n",
       "      <td>1</td>\n",
       "      <td>1</td>\n",
       "      <td>Brett</td>\n",
       "      <td>Anderson</td>\n",
       "    </tr>\n",
       "    <tr>\n",
       "      <th>807</th>\n",
       "      <td>True</td>\n",
       "      <td>True</td>\n",
       "      <td>2300000.0</td>\n",
       "      <td>-3.822700e+06</td>\n",
       "      <td>1</td>\n",
       "      <td>1</td>\n",
       "      <td>Scott</td>\n",
       "      <td>Feldman</td>\n",
       "    </tr>\n",
       "    <tr>\n",
       "      <th>808</th>\n",
       "      <td>True</td>\n",
       "      <td>True</td>\n",
       "      <td>1750000.0</td>\n",
       "      <td>8.873241e+06</td>\n",
       "      <td>1</td>\n",
       "      <td>1</td>\n",
       "      <td>Trevor</td>\n",
       "      <td>Cahill</td>\n",
       "    </tr>\n",
       "    <tr>\n",
       "      <th>809</th>\n",
       "      <td>True</td>\n",
       "      <td>True</td>\n",
       "      <td>6000000.0</td>\n",
       "      <td>2.961297e+06</td>\n",
       "      <td>1</td>\n",
       "      <td>1</td>\n",
       "      <td>Tyson</td>\n",
       "      <td>Ross</td>\n",
       "    </tr>\n",
       "    <tr>\n",
       "      <th>810</th>\n",
       "      <td>False</td>\n",
       "      <td>False</td>\n",
       "      <td>NaN</td>\n",
       "      <td>-2.126667e+06</td>\n",
       "      <td>0</td>\n",
       "      <td>1</td>\n",
       "      <td>Ryan</td>\n",
       "      <td>Vogelsong</td>\n",
       "    </tr>\n",
       "    <tr>\n",
       "      <th>811</th>\n",
       "      <td>True</td>\n",
       "      <td>True</td>\n",
       "      <td>26000000.0</td>\n",
       "      <td>2.597942e+07</td>\n",
       "      <td>3</td>\n",
       "      <td>1</td>\n",
       "      <td>Ivan</td>\n",
       "      <td>Nova</td>\n",
       "    </tr>\n",
       "    <tr>\n",
       "      <th>812</th>\n",
       "      <td>True</td>\n",
       "      <td>True</td>\n",
       "      <td>1750000.0</td>\n",
       "      <td>4.253044e+06</td>\n",
       "      <td>1</td>\n",
       "      <td>1</td>\n",
       "      <td>Jhoulys</td>\n",
       "      <td>Chacin</td>\n",
       "    </tr>\n",
       "    <tr>\n",
       "      <th>813</th>\n",
       "      <td>True</td>\n",
       "      <td>True</td>\n",
       "      <td>1750000.0</td>\n",
       "      <td>1.265556e+06</td>\n",
       "      <td>1</td>\n",
       "      <td>1</td>\n",
       "      <td>Clayton</td>\n",
       "      <td>Richard</td>\n",
       "    </tr>\n",
       "    <tr>\n",
       "      <th>814</th>\n",
       "      <td>True</td>\n",
       "      <td>True</td>\n",
       "      <td>6000000.0</td>\n",
       "      <td>-1.101542e+06</td>\n",
       "      <td>1</td>\n",
       "      <td>1</td>\n",
       "      <td>Derek</td>\n",
       "      <td>Holland</td>\n",
       "    </tr>\n",
       "    <tr>\n",
       "      <th>815</th>\n",
       "      <td>True</td>\n",
       "      <td>True</td>\n",
       "      <td>3025000.0</td>\n",
       "      <td>-3.852826e+05</td>\n",
       "      <td>1</td>\n",
       "      <td>1</td>\n",
       "      <td>Jeff</td>\n",
       "      <td>Locke</td>\n",
       "    </tr>\n",
       "    <tr>\n",
       "      <th>816</th>\n",
       "      <td>False</td>\n",
       "      <td>False</td>\n",
       "      <td>NaN</td>\n",
       "      <td>-2.488019e+06</td>\n",
       "      <td>0</td>\n",
       "      <td>1</td>\n",
       "      <td>Erik</td>\n",
       "      <td>Johnson</td>\n",
       "    </tr>\n",
       "    <tr>\n",
       "      <th>817</th>\n",
       "      <td>True</td>\n",
       "      <td>True</td>\n",
       "      <td>48000000.0</td>\n",
       "      <td>6.631580e+06</td>\n",
       "      <td>3</td>\n",
       "      <td>2</td>\n",
       "      <td>Rich</td>\n",
       "      <td>Hill</td>\n",
       "    </tr>\n",
       "    <tr>\n",
       "      <th>818</th>\n",
       "      <td>True</td>\n",
       "      <td>True</td>\n",
       "      <td>22000000.0</td>\n",
       "      <td>7.907819e+06</td>\n",
       "      <td>2</td>\n",
       "      <td>1</td>\n",
       "      <td>Edinson</td>\n",
       "      <td>Volquez</td>\n",
       "    </tr>\n",
       "    <tr>\n",
       "      <th>819</th>\n",
       "      <td>True</td>\n",
       "      <td>True</td>\n",
       "      <td>10000000.0</td>\n",
       "      <td>5.792208e+06</td>\n",
       "      <td>1</td>\n",
       "      <td>1</td>\n",
       "      <td>Andrew</td>\n",
       "      <td>Cashner</td>\n",
       "    </tr>\n",
       "    <tr>\n",
       "      <th>820</th>\n",
       "      <td>True</td>\n",
       "      <td>True</td>\n",
       "      <td>12500000.0</td>\n",
       "      <td>1.835127e+07</td>\n",
       "      <td>1</td>\n",
       "      <td>1</td>\n",
       "      <td>Bartolo</td>\n",
       "      <td>Colon</td>\n",
       "    </tr>\n",
       "    <tr>\n",
       "      <th>821</th>\n",
       "      <td>True</td>\n",
       "      <td>False</td>\n",
       "      <td>14000000.0</td>\n",
       "      <td>2.315434e+06</td>\n",
       "      <td>2</td>\n",
       "      <td>1</td>\n",
       "      <td>Charlie</td>\n",
       "      <td>Morton</td>\n",
       "    </tr>\n",
       "    <tr>\n",
       "      <th>822</th>\n",
       "      <td>True</td>\n",
       "      <td>True</td>\n",
       "      <td>5750000.0</td>\n",
       "      <td>1.659848e+06</td>\n",
       "      <td>1</td>\n",
       "      <td>1</td>\n",
       "      <td>Jesse</td>\n",
       "      <td>Chavez</td>\n",
       "    </tr>\n",
       "    <tr>\n",
       "      <th>823</th>\n",
       "      <td>False</td>\n",
       "      <td>False</td>\n",
       "      <td>NaN</td>\n",
       "      <td>6.499116e+06</td>\n",
       "      <td>0</td>\n",
       "      <td>1</td>\n",
       "      <td>Bryan</td>\n",
       "      <td>Holaday</td>\n",
       "    </tr>\n",
       "    <tr>\n",
       "      <th>824</th>\n",
       "      <td>True</td>\n",
       "      <td>True</td>\n",
       "      <td>3800000.0</td>\n",
       "      <td>4.297500e+06</td>\n",
       "      <td>2</td>\n",
       "      <td>1</td>\n",
       "      <td>Drew</td>\n",
       "      <td>Butera</td>\n",
       "    </tr>\n",
       "    <tr>\n",
       "      <th>825</th>\n",
       "      <td>False</td>\n",
       "      <td>True</td>\n",
       "      <td>NaN</td>\n",
       "      <td>7.885000e+06</td>\n",
       "      <td>1</td>\n",
       "      <td>1</td>\n",
       "      <td>Alexi</td>\n",
       "      <td>Amarista</td>\n",
       "    </tr>\n",
       "    <tr>\n",
       "      <th>826</th>\n",
       "      <td>False</td>\n",
       "      <td>False</td>\n",
       "      <td>NaN</td>\n",
       "      <td>5.672240e+06</td>\n",
       "      <td>0</td>\n",
       "      <td>1</td>\n",
       "      <td>Jared</td>\n",
       "      <td>Hoying</td>\n",
       "    </tr>\n",
       "  </tbody>\n",
       "</table>\n",
       "<p>79 rows × 8 columns</p>\n",
       "</div>"
      ],
      "text/plain": [
       "     contract_actual  contract_pred  dollars_actual  dollars_pred  \\\n",
       "748            False           True             NaN  7.458902e+06   \n",
       "749            False           True             NaN  5.382006e+06   \n",
       "750            False           True             NaN  3.983847e+06   \n",
       "751            False          False             NaN  1.160785e+06   \n",
       "752             True           True       4000000.0  1.058698e+07   \n",
       "753            False          False             NaN  4.404828e+06   \n",
       "754            False           True             NaN  5.571272e+06   \n",
       "755             True           True       3000000.0  1.035589e+07   \n",
       "756             True           True       3000000.0  1.015176e+07   \n",
       "757             True           True      12000000.0  7.645280e+06   \n",
       "758            False          False             NaN  5.644903e+05   \n",
       "759            False           True             NaN  4.857980e+06   \n",
       "760            False           True             NaN  7.198706e+06   \n",
       "761             True           True       6500000.0  1.000246e+07   \n",
       "762             True           True       3000000.0  9.438346e+06   \n",
       "763            False           True             NaN  8.646535e+06   \n",
       "764             True           True       5500000.0  1.076228e+07   \n",
       "765             True           True       2050000.0  4.021804e+06   \n",
       "766            False          False             NaN  3.132897e+06   \n",
       "767            False           True             NaN  6.534709e+05   \n",
       "768            False          False             NaN  7.190587e+05   \n",
       "769             True           True       1150000.0  4.934713e+06   \n",
       "770             True           True      11000000.0  1.758160e+07   \n",
       "771             True           True       5350000.0  1.324251e+07   \n",
       "772            False          False             NaN  4.392676e+06   \n",
       "773             True           True      80000000.0  6.702992e+07   \n",
       "774            False           True             NaN  6.901048e+06   \n",
       "775            False           True             NaN  5.638309e+06   \n",
       "776             True           True       3000000.0  1.337132e+07   \n",
       "777             True           True      16000000.0  1.761739e+07   \n",
       "..               ...            ...             ...           ...   \n",
       "797             True           True      30500000.0  6.913668e+06   \n",
       "798             True           True       1000000.0  8.530382e+06   \n",
       "799            False          False             NaN -1.150207e+06   \n",
       "800            False           True             NaN  9.594142e+05   \n",
       "801            False          False             NaN -1.424788e+06   \n",
       "802            False          False             NaN -2.417353e+06   \n",
       "803             True           True       3000000.0  9.601651e+05   \n",
       "804            False           True             NaN -2.475964e+06   \n",
       "805             True           True      16000000.0  1.653798e+07   \n",
       "806             True          False       3500000.0 -1.520810e+06   \n",
       "807             True           True       2300000.0 -3.822700e+06   \n",
       "808             True           True       1750000.0  8.873241e+06   \n",
       "809             True           True       6000000.0  2.961297e+06   \n",
       "810            False          False             NaN -2.126667e+06   \n",
       "811             True           True      26000000.0  2.597942e+07   \n",
       "812             True           True       1750000.0  4.253044e+06   \n",
       "813             True           True       1750000.0  1.265556e+06   \n",
       "814             True           True       6000000.0 -1.101542e+06   \n",
       "815             True           True       3025000.0 -3.852826e+05   \n",
       "816            False          False             NaN -2.488019e+06   \n",
       "817             True           True      48000000.0  6.631580e+06   \n",
       "818             True           True      22000000.0  7.907819e+06   \n",
       "819             True           True      10000000.0  5.792208e+06   \n",
       "820             True           True      12500000.0  1.835127e+07   \n",
       "821             True          False      14000000.0  2.315434e+06   \n",
       "822             True           True       5750000.0  1.659848e+06   \n",
       "823            False          False             NaN  6.499116e+06   \n",
       "824             True           True       3800000.0  4.297500e+06   \n",
       "825            False           True             NaN  7.885000e+06   \n",
       "826            False          False             NaN  5.672240e+06   \n",
       "\n",
       "     length_actual  length_pred nameFirst   nameLast  \n",
       "748              0            2     David  Hernandez  \n",
       "749              0            1    Blaine      Boyer  \n",
       "750              0            1       Joe     Nathan  \n",
       "751              0            1      Matt     Albers  \n",
       "752              1            2       Joe    Blanton  \n",
       "753              0            1     Peter     Moylan  \n",
       "754              0            1     Tommy     Hunter  \n",
       "755              1            1    Sergio       Romo  \n",
       "756              1            1  Fernando      Salas  \n",
       "757              2            1    Travis       Wood  \n",
       "758              0            1     Chris   Narveson  \n",
       "759              0            1     Kevin     Jepsen  \n",
       "760              0            1      Seth     Maness  \n",
       "761              1            2     Jerry    Blevins  \n",
       "762              1            2       Joe      Smith  \n",
       "763              0            1  Yusmeiro      Petit  \n",
       "764              1            2     Boone      Logan  \n",
       "765              1            1      Matt    Belisle  \n",
       "766              0            1     Lucas    Harrell  \n",
       "767              0            1   Brandon     Morrow  \n",
       "768              0            1     Blake      Smith  \n",
       "769              1            1     Shawn   Tolleson  \n",
       "770              2            2  Santiago    Casilla  \n",
       "771              1            3   Neftali      Feliz  \n",
       "772              0            1     Louis    Coleman  \n",
       "773              5            4    Kenley     Jansen  \n",
       "774              0            1     Chris    Withrow  \n",
       "775              0            1     Gavin      Floyd  \n",
       "776              1            1      Drew     Storen  \n",
       "777              2            2      Brad    Ziegler  \n",
       "..             ...          ...       ...        ...  \n",
       "797              4            1     Brett      Cecil  \n",
       "798              1            1    Andrew     Bailey  \n",
       "799              0            1     Edwin    Jackson  \n",
       "800              0            1     Vance     Worley  \n",
       "801              0            1      Ross   Detwiler  \n",
       "802              0            1      Kris     Medlen  \n",
       "803              1            1     Jered     Weaver  \n",
       "804              0            1       Mat      Latos  \n",
       "805              2            1     Jason     Hammel  \n",
       "806              1            1     Brett   Anderson  \n",
       "807              1            1     Scott    Feldman  \n",
       "808              1            1    Trevor     Cahill  \n",
       "809              1            1     Tyson       Ross  \n",
       "810              0            1      Ryan  Vogelsong  \n",
       "811              3            1      Ivan       Nova  \n",
       "812              1            1   Jhoulys     Chacin  \n",
       "813              1            1   Clayton    Richard  \n",
       "814              1            1     Derek    Holland  \n",
       "815              1            1      Jeff      Locke  \n",
       "816              0            1      Erik    Johnson  \n",
       "817              3            2      Rich       Hill  \n",
       "818              2            1   Edinson    Volquez  \n",
       "819              1            1    Andrew    Cashner  \n",
       "820              1            1   Bartolo      Colon  \n",
       "821              2            1   Charlie     Morton  \n",
       "822              1            1     Jesse     Chavez  \n",
       "823              0            1     Bryan    Holaday  \n",
       "824              2            1      Drew     Butera  \n",
       "825              1            1     Alexi   Amarista  \n",
       "826              0            1     Jared     Hoying  \n",
       "\n",
       "[79 rows x 8 columns]"
      ]
     },
     "execution_count": 235,
     "metadata": {},
     "output_type": "execute_result"
    }
   ],
   "source": [
    "inflation_factor = pitcher_prepped[pitcher_prepped.Year == fa_year]['Inflation_Factor'].unique()[0]\n",
    "\n",
    "pd.DataFrame({'nameFirst' : pitcher_prepped[pitcher_prepped.Year == fa_year]['nameFirst'].values,\n",
    "              'nameLast' : pitcher_prepped[pitcher_prepped.Year == fa_year]['nameLast'].values,\n",
    "              'contract_pred' : contract_pitch,\n",
    "              'contract_actual' : y_test_pitch['Contract'],\n",
    "              'length_pred' : length_pitch,\n",
    "              'length_actual': y_test_pitch['Length'],\n",
    "              'dollars_pred' : dollars_pitch * inflation_factor,\n",
    "              'dollars_actual' : y_test_pitch['Dollars']})"
   ]
  },
  {
   "cell_type": "code",
   "execution_count": 218,
   "metadata": {},
   "outputs": [],
   "source": []
  },
  {
   "cell_type": "code",
   "execution_count": null,
   "metadata": {
    "collapsed": true
   },
   "outputs": [],
   "source": []
  }
 ],
 "metadata": {
  "kernelspec": {
   "display_name": "Python 3",
   "language": "python",
   "name": "python3"
  },
  "language_info": {
   "codemirror_mode": {
    "name": "ipython",
    "version": 3
   },
   "file_extension": ".py",
   "mimetype": "text/x-python",
   "name": "python",
   "nbconvert_exporter": "python",
   "pygments_lexer": "ipython3",
   "version": "3.6.3"
  }
 },
 "nbformat": 4,
 "nbformat_minor": 2
}
