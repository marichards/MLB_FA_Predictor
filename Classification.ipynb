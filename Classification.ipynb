{
 "cells": [
  {
   "cell_type": "markdown",
   "metadata": {},
   "source": [
    "# Classifying MLB Free agents\n",
    "\n",
    "Now we're going to actually try classifying. We'll bring in the final data (this might change from time to time), format it correctly, and then try some ML"
   ]
  },
  {
   "cell_type": "code",
   "execution_count": 3,
   "metadata": {
    "collapsed": true
   },
   "outputs": [],
   "source": [
    "# Bring in data\n",
    "import pandas as pd\n",
    "import pickle\n",
    "\n",
    "with open('final_data.pickle', 'rb') as file:\n",
    "    final_data = pickle.load(file)"
   ]
  },
  {
   "cell_type": "code",
   "execution_count": 4,
   "metadata": {},
   "outputs": [
    {
     "name": "stdout",
     "output_type": "stream",
     "text": [
      "<class 'pandas.core.frame.DataFrame'>\n",
      "Int64Index: 1897 entries, 4 to 5215\n",
      "Data columns (total 47 columns):\n",
      "Age            1897 non-null int64\n",
      "Destination    1897 non-null object\n",
      "Origin         1897 non-null object\n",
      "WAR_3          1897 non-null float64\n",
      "nameFirst      1897 non-null object\n",
      "nameLast       1897 non-null object\n",
      "playerID       1897 non-null object\n",
      "yearID         1897 non-null datetime64[ns]\n",
      "G              1897 non-null float64\n",
      "OBP            1897 non-null float64\n",
      "SLG            1897 non-null float64\n",
      "HR             1897 non-null float64\n",
      "RBI            1897 non-null float64\n",
      "Position       1897 non-null object\n",
      "LAA_WAR        1897 non-null float64\n",
      "HOU_WAR        1897 non-null float64\n",
      "OAK_WAR        1897 non-null float64\n",
      "TOR_WAR        1897 non-null float64\n",
      "ATL_WAR        1897 non-null float64\n",
      "MIL_WAR        1897 non-null float64\n",
      "STL_WAR        1897 non-null float64\n",
      "CHN_WAR        1897 non-null float64\n",
      "ARI_WAR        1897 non-null float64\n",
      "LAN_WAR        1897 non-null float64\n",
      "SFN_WAR        1897 non-null float64\n",
      "CLE_WAR        1897 non-null float64\n",
      "SEA_WAR        1897 non-null float64\n",
      "MIA_WAR        1897 non-null float64\n",
      "NYN_WAR        1897 non-null float64\n",
      "WAS_WAR        1897 non-null float64\n",
      "BAL_WAR        1897 non-null float64\n",
      "SDN_WAR        1897 non-null float64\n",
      "PHI_WAR        1897 non-null float64\n",
      "PIT_WAR        1897 non-null float64\n",
      "TEX_WAR        1897 non-null float64\n",
      "TBR_WAR        1897 non-null float64\n",
      "BOS_WAR        1897 non-null float64\n",
      "CIN_WAR        1897 non-null float64\n",
      "COL_WAR        1897 non-null float64\n",
      "KCR_WAR        1897 non-null float64\n",
      "DET_WAR        1897 non-null float64\n",
      "MIN_WAR        1897 non-null float64\n",
      "CHA_WAR        1897 non-null float64\n",
      "NYA_WAR        1897 non-null float64\n",
      "name           1897 non-null object\n",
      "teamID         1897 non-null object\n",
      "label          1897 non-null int32\n",
      "dtypes: datetime64[ns](1), float64(36), int32(1), int64(1), object(8)\n",
      "memory usage: 704.0+ KB\n"
     ]
    }
   ],
   "source": [
    "final_data.info()"
   ]
  },
  {
   "cell_type": "code",
   "execution_count": 5,
   "metadata": {},
   "outputs": [],
   "source": [
    "# For features, let's drop all names, player/year IDs, position, Destination, and origin\n",
    "\n",
    "# The Destination can stay for now, but drop all the others\n",
    "X = final_data.drop(['playerID', 'nameFirst', 'nameLast', 'name',\n",
    "                     'Origin', 'Position', 'yearID', 'Destination',\n",
    "                     'teamID', 'label'], axis = 1).values\n",
    "\n",
    "y = final_data['label'].values\n",
    "\n",
    "\n",
    "# Split the data\n",
    "from sklearn.model_selection import train_test_split\n",
    "\n",
    "# Split into training and test set\n",
    "X_train, X_test, y_train, y_test = train_test_split(X, y, test_size = 0.2, stratify=y)"
   ]
  },
  {
   "cell_type": "markdown",
   "metadata": {},
   "source": [
    "## Make the naive method\n",
    "\n",
    "Classify based on the most common team: the Yankees"
   ]
  },
  {
   "cell_type": "code",
   "execution_count": 6,
   "metadata": {},
   "outputs": [
    {
     "data": {
      "text/plain": [
       "1897"
      ]
     },
     "execution_count": 6,
     "metadata": {},
     "output_type": "execute_result"
    }
   ],
   "source": [
    "final_data['label'].value_counts().max()\n",
    "final_data['label'].shape[0]"
   ]
  },
  {
   "cell_type": "code",
   "execution_count": 7,
   "metadata": {},
   "outputs": [
    {
     "name": "stdout",
     "output_type": "stream",
     "text": [
      "Naive Accuracy = 0.44069583552978386\n"
     ]
    }
   ],
   "source": [
    "# Calculate accuracy based on this\n",
    "most_freq = float(final_data['label'].value_counts().max())\n",
    "total_freq = float(final_data['label'].shape[0])\n",
    "\n",
    "\n",
    "print(\"Naive Accuracy = {}\".format(most_freq/total_freq))"
   ]
  },
  {
   "cell_type": "markdown",
   "metadata": {},
   "source": [
    "## Attempt 1: K-Nearest Neighbors\n",
    "\n",
    "This is probably the simplest approach; let's see how it works"
   ]
  },
  {
   "cell_type": "code",
   "execution_count": 8,
   "metadata": {},
   "outputs": [
    {
     "data": {
      "text/plain": [
       "KNeighborsClassifier(algorithm='auto', leaf_size=30, metric='minkowski',\n",
       "           metric_params=None, n_jobs=1, n_neighbors=6, p=2,\n",
       "           weights='uniform')"
      ]
     },
     "execution_count": 8,
     "metadata": {},
     "output_type": "execute_result"
    }
   ],
   "source": [
    "from sklearn.neighbors import KNeighborsClassifier\n",
    "from sklearn.metrics import classification_report\n",
    "\n",
    "# Create a k-NN classifier with 6 neighbors\n",
    "knn = KNeighborsClassifier(n_neighbors = 6)\n",
    "\n",
    "# Fit the classifier to the data\n",
    "knn.fit(X_train, y_train)"
   ]
  },
  {
   "cell_type": "code",
   "execution_count": 9,
   "metadata": {},
   "outputs": [
    {
     "name": "stdout",
     "output_type": "stream",
     "text": [
      "0.35\n",
      "             precision    recall  f1-score   support\n",
      "\n",
      "          1       0.31      0.48      0.38       115\n",
      "          2       0.00      0.00      0.00        30\n",
      "          3       0.09      0.04      0.06        50\n",
      "          4       0.43      0.45      0.44       168\n",
      "          5       0.00      0.00      0.00        17\n",
      "\n",
      "avg / total       0.30      0.35      0.32       380\n",
      "\n"
     ]
    },
    {
     "name": "stderr",
     "output_type": "stream",
     "text": [
      "/home/matt/anaconda3/lib/python3.6/site-packages/sklearn/metrics/classification.py:1135: UndefinedMetricWarning: Precision and F-score are ill-defined and being set to 0.0 in labels with no predicted samples.\n",
      "  'precision', 'predicted', average, warn_for)\n"
     ]
    }
   ],
   "source": [
    "print(knn.score(X_test, y_test))\n",
    "\n",
    "y_pred = knn.predict(X_test)\n",
    "\n",
    "print(classification_report(y_test, y_pred))"
   ]
  },
  {
   "cell_type": "code",
   "execution_count": 10,
   "metadata": {},
   "outputs": [],
   "source": [
    "# Get actual probabilities\n",
    "blah = knn.predict_proba(X_test)"
   ]
  },
  {
   "cell_type": "markdown",
   "metadata": {},
   "source": [
    "## Attempt 2: Random Forest Classifier"
   ]
  },
  {
   "cell_type": "code",
   "execution_count": 11,
   "metadata": {},
   "outputs": [
    {
     "name": "stdout",
     "output_type": "stream",
     "text": [
      "0.328947368421\n",
      "             precision    recall  f1-score   support\n",
      "\n",
      "          1       0.27      0.34      0.30       115\n",
      "          2       0.08      0.03      0.05        30\n",
      "          3       0.19      0.14      0.16        50\n",
      "          4       0.43      0.46      0.44       168\n",
      "          5       0.00      0.00      0.00        17\n",
      "\n",
      "avg / total       0.30      0.33      0.31       380\n",
      "\n"
     ]
    }
   ],
   "source": [
    "from sklearn.ensemble import RandomForestClassifier\n",
    "\n",
    "rf = RandomForestClassifier()\n",
    "\n",
    "# Fit the classifier to the data\n",
    "rf.fit(X_train, y_train)\n",
    "\n",
    "print(rf.score(X_test, y_test))\n",
    "\n",
    "y_pred = rf.predict(X_test)\n",
    "\n",
    "print(classification_report(y_test, y_pred))"
   ]
  },
  {
   "cell_type": "markdown",
   "metadata": {},
   "source": [
    "## Create a Graphic"
   ]
  },
  {
   "cell_type": "code",
   "execution_count": 13,
   "metadata": {},
   "outputs": [
    {
     "ename": "TypeError",
     "evalue": "invalid type comparison",
     "output_type": "error",
     "traceback": [
      "\u001b[0;31m---------------------------------------------------------------------------\u001b[0m",
      "\u001b[0;31mTypeError\u001b[0m                                 Traceback (most recent call last)",
      "\u001b[0;32m<ipython-input-13-32bef20a5fc0>\u001b[0m in \u001b[0;36m<module>\u001b[0;34m()\u001b[0m\n\u001b[0;32m----> 1\u001b[0;31m \u001b[0mfinal_data\u001b[0m\u001b[0;34m[\u001b[0m\u001b[0;34m'yearID'\u001b[0m\u001b[0;34m]\u001b[0m \u001b[0;34m>\u001b[0m \u001b[0;36m1998\u001b[0m\u001b[0;34m\u001b[0m\u001b[0m\n\u001b[0m",
      "\u001b[0;32m~/anaconda3/lib/python3.6/site-packages/pandas/core/ops.py\u001b[0m in \u001b[0;36mwrapper\u001b[0;34m(self, other, axis)\u001b[0m\n\u001b[1;32m    859\u001b[0m \u001b[0;34m\u001b[0m\u001b[0m\n\u001b[1;32m    860\u001b[0m             \u001b[0;32mwith\u001b[0m \u001b[0mnp\u001b[0m\u001b[0;34m.\u001b[0m\u001b[0merrstate\u001b[0m\u001b[0;34m(\u001b[0m\u001b[0mall\u001b[0m\u001b[0;34m=\u001b[0m\u001b[0;34m'ignore'\u001b[0m\u001b[0;34m)\u001b[0m\u001b[0;34m:\u001b[0m\u001b[0;34m\u001b[0m\u001b[0m\n\u001b[0;32m--> 861\u001b[0;31m                 \u001b[0mres\u001b[0m \u001b[0;34m=\u001b[0m \u001b[0mna_op\u001b[0m\u001b[0;34m(\u001b[0m\u001b[0mvalues\u001b[0m\u001b[0;34m,\u001b[0m \u001b[0mother\u001b[0m\u001b[0;34m)\u001b[0m\u001b[0;34m\u001b[0m\u001b[0m\n\u001b[0m\u001b[1;32m    862\u001b[0m             \u001b[0;32mif\u001b[0m \u001b[0mis_scalar\u001b[0m\u001b[0;34m(\u001b[0m\u001b[0mres\u001b[0m\u001b[0;34m)\u001b[0m\u001b[0;34m:\u001b[0m\u001b[0;34m\u001b[0m\u001b[0m\n\u001b[1;32m    863\u001b[0m                 raise TypeError('Could not compare %s type with Series' %\n",
      "\u001b[0;32m~/anaconda3/lib/python3.6/site-packages/pandas/core/ops.py\u001b[0m in \u001b[0;36mna_op\u001b[0;34m(x, y)\u001b[0m\n\u001b[1;32m    772\u001b[0m             \u001b[0;31m# integer comparisons\u001b[0m\u001b[0;34m\u001b[0m\u001b[0;34m\u001b[0m\u001b[0m\n\u001b[1;32m    773\u001b[0m             \u001b[0;32mif\u001b[0m \u001b[0mis_datetimelike_v_numeric\u001b[0m\u001b[0;34m(\u001b[0m\u001b[0mx\u001b[0m\u001b[0;34m,\u001b[0m \u001b[0my\u001b[0m\u001b[0;34m)\u001b[0m\u001b[0;34m:\u001b[0m\u001b[0;34m\u001b[0m\u001b[0m\n\u001b[0;32m--> 774\u001b[0;31m                 \u001b[0;32mraise\u001b[0m \u001b[0mTypeError\u001b[0m\u001b[0;34m(\u001b[0m\u001b[0;34m\"invalid type comparison\"\u001b[0m\u001b[0;34m)\u001b[0m\u001b[0;34m\u001b[0m\u001b[0m\n\u001b[0m\u001b[1;32m    775\u001b[0m \u001b[0;34m\u001b[0m\u001b[0m\n\u001b[1;32m    776\u001b[0m             \u001b[0;31m# numpy does not like comparisons vs None\u001b[0m\u001b[0;34m\u001b[0m\u001b[0;34m\u001b[0m\u001b[0m\n",
      "\u001b[0;31mTypeError\u001b[0m: invalid type comparison"
     ]
    }
   ],
   "source": [
    "final_data['yearID'] > 1998"
   ]
  },
  {
   "cell_type": "code",
   "execution_count": null,
   "metadata": {
    "collapsed": true
   },
   "outputs": [],
   "source": []
  }
 ],
 "metadata": {
  "kernelspec": {
   "display_name": "Python 3",
   "language": "python",
   "name": "python3"
  },
  "language_info": {
   "codemirror_mode": {
    "name": "ipython",
    "version": 3
   },
   "file_extension": ".py",
   "mimetype": "text/x-python",
   "name": "python",
   "nbconvert_exporter": "python",
   "pygments_lexer": "ipython3",
   "version": "3.6.3"
  }
 },
 "nbformat": 4,
 "nbformat_minor": 2
}
