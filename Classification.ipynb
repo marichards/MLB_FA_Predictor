{
 "cells": [
  {
   "cell_type": "markdown",
   "metadata": {},
   "source": [
    "# Classifying MLB Free agents\n",
    "\n",
    "Now we're going to actually try classifying. We'll bring in the final data (this might change from time to time), format it correctly, and then try some ML"
   ]
  },
  {
   "cell_type": "code",
   "execution_count": 39,
   "metadata": {
    "collapsed": true
   },
   "outputs": [],
   "source": [
    "# Bring in data\n",
    "import pandas as pd\n",
    "import pickle\n",
    "\n",
    "with open('final_data.pickle', 'rb') as file:\n",
    "    final_data = pickle.load(file)"
   ]
  },
  {
   "cell_type": "code",
   "execution_count": 41,
   "metadata": {},
   "outputs": [],
   "source": [
    "# For features, let's drop all names, player/year IDs, position, Destination, and origin\n",
    "\n",
    "# The Destination can stay for now, but drop all the others\n",
    "X = final_data.drop(['playerID', 'nameFirst', 'nameLast', 'name',\n",
    "                     'Origin', 'Position', 'yearID', 'Destination'], axis = 1).values\n",
    "\n",
    "y = final_data['Destination'].values\n",
    "\n",
    "\n",
    "# Split the data\n",
    "from sklearn.model_selection import train_test_split\n",
    "\n",
    "# Split into training and test set\n",
    "X_train, X_test, y_train, y_test = train_test_split(X, y, test_size = 0.2, stratify=y)"
   ]
  },
  {
   "cell_type": "markdown",
   "metadata": {},
   "source": [
    "## Make the naive method\n",
    "\n",
    "Classify based on the most common team: the Yankees"
   ]
  },
  {
   "cell_type": "code",
   "execution_count": 72,
   "metadata": {},
   "outputs": [
    {
     "data": {
      "text/plain": [
       "1897"
      ]
     },
     "execution_count": 72,
     "metadata": {},
     "output_type": "execute_result"
    }
   ],
   "source": [
    "final_data['Destination'].value_counts().max()\n",
    "final_data['Destination'].shape[0]"
   ]
  },
  {
   "cell_type": "code",
   "execution_count": 73,
   "metadata": {},
   "outputs": [
    {
     "name": "stdout",
     "output_type": "stream",
     "text": [
      "Naive Accuracy = 0.04533473906167633\n"
     ]
    }
   ],
   "source": [
    "# Calculate accuracy based on this\n",
    "most_freq = float(final_data['Destination'].value_counts().max())\n",
    "total_freq = float(final_data['Destination'].shape[0])\n",
    "\n",
    "\n",
    "print(\"Naive Accuracy = {}\".format(most_freq/total_freq))"
   ]
  },
  {
   "cell_type": "markdown",
   "metadata": {},
   "source": [
    "## Attempt 1: K-Nearest Neighbors\n",
    "\n",
    "This is probably the simplest approach; let's see how it works"
   ]
  },
  {
   "cell_type": "code",
   "execution_count": 61,
   "metadata": {},
   "outputs": [
    {
     "data": {
      "text/plain": [
       "KNeighborsClassifier(algorithm='auto', leaf_size=30, metric='minkowski',\n",
       "           metric_params=None, n_jobs=1, n_neighbors=6, p=2,\n",
       "           weights='uniform')"
      ]
     },
     "execution_count": 61,
     "metadata": {},
     "output_type": "execute_result"
    }
   ],
   "source": [
    "from sklearn.neighbors import KNeighborsClassifier\n",
    "from sklearn.metrics import classification_report\n",
    "\n",
    "# Create a k-NN classifier with 6 neighbors\n",
    "knn = KNeighborsClassifier(n_neighbors = 6)\n",
    "\n",
    "# Fit the classifier to the data\n",
    "knn.fit(X_train, y_train)"
   ]
  },
  {
   "cell_type": "code",
   "execution_count": 62,
   "metadata": {},
   "outputs": [
    {
     "name": "stdout",
     "output_type": "stream",
     "text": [
      "0.0421052631579\n",
      "             precision    recall  f1-score   support\n",
      "\n",
      "        ARI       0.02      0.08      0.03        12\n",
      "        ATL       0.00      0.00      0.00        12\n",
      "        BAL       0.00      0.00      0.00        14\n",
      "        BOS       0.04      0.08      0.06        13\n",
      "        CHA       0.14      0.27      0.18        11\n",
      "        CHN       0.04      0.07      0.05        14\n",
      "        CIN       0.00      0.00      0.00        12\n",
      "        CLE       0.00      0.00      0.00        13\n",
      "        COL       0.10      0.12      0.11        16\n",
      "        DET       0.00      0.00      0.00        12\n",
      "        HOU       0.17      0.09      0.12        11\n",
      "        KCA       0.15      0.20      0.17        10\n",
      "        LAA       0.00      0.00      0.00         7\n",
      "        LAN       0.06      0.06      0.06        17\n",
      "        MIA       0.00      0.00      0.00        11\n",
      "        MIL       0.00      0.00      0.00        12\n",
      "        MIN       0.00      0.00      0.00         9\n",
      "        NYA       0.00      0.00      0.00        17\n",
      "        NYN       0.50      0.07      0.12        14\n",
      "        OAK       0.00      0.00      0.00         7\n",
      "        PHI       0.33      0.12      0.18        16\n",
      "        PIT       0.14      0.08      0.11        12\n",
      "        SDN       0.00      0.00      0.00        12\n",
      "        SEA       0.00      0.00      0.00        11\n",
      "        SFN       0.00      0.00      0.00        15\n",
      "        SLN       0.00      0.00      0.00        11\n",
      "        TBA       0.00      0.00      0.00        15\n",
      "        TEX       0.00      0.00      0.00        13\n",
      "        TOR       0.00      0.00      0.00        16\n",
      "        WAS       0.00      0.00      0.00        15\n",
      "\n",
      "avg / total       0.06      0.04      0.04       380\n",
      "\n"
     ]
    },
    {
     "name": "stderr",
     "output_type": "stream",
     "text": [
      "/home/matt/anaconda3/lib/python3.6/site-packages/sklearn/metrics/classification.py:1135: UndefinedMetricWarning: Precision and F-score are ill-defined and being set to 0.0 in labels with no predicted samples.\n",
      "  'precision', 'predicted', average, warn_for)\n"
     ]
    }
   ],
   "source": [
    "print(knn.score(X_test, y_test))\n",
    "\n",
    "y_pred = knn.predict(X_test)\n",
    "\n",
    "print(classification_report(y_test, y_pred))"
   ]
  },
  {
   "cell_type": "code",
   "execution_count": 67,
   "metadata": {},
   "outputs": [
    {
     "data": {
      "text/plain": [
       "array([[ 0.        ,  0.        ,  0.        ,  0.        ,  0.        ,\n",
       "         0.33333333,  0.        ,  0.        ,  0.        ,  0.16666667,\n",
       "         0.        ,  0.16666667,  0.        ,  0.        ,  0.        ,\n",
       "         0.        ,  0.        ,  0.16666667,  0.        ,  0.        ,\n",
       "         0.        ,  0.        ,  0.        ,  0.        ,  0.        ,\n",
       "         0.16666667,  0.        ,  0.        ,  0.        ,  0.        ],\n",
       "       [ 0.        ,  0.        ,  0.        ,  0.        ,  0.        ,\n",
       "         0.        ,  0.        ,  0.        ,  0.16666667,  0.        ,\n",
       "         0.        ,  0.        ,  0.        ,  0.16666667,  0.        ,\n",
       "         0.        ,  0.        ,  0.        ,  0.        ,  0.        ,\n",
       "         0.        ,  0.        ,  0.        ,  0.        ,  0.16666667,\n",
       "         0.16666667,  0.        ,  0.        ,  0.33333333,  0.        ],\n",
       "       [ 0.        ,  0.        ,  0.        ,  0.        ,  0.        ,\n",
       "         0.16666667,  0.16666667,  0.        ,  0.        ,  0.        ,\n",
       "         0.        ,  0.        ,  0.16666667,  0.        ,  0.        ,\n",
       "         0.        ,  0.        ,  0.        ,  0.        ,  0.        ,\n",
       "         0.        ,  0.        ,  0.        ,  0.16666667,  0.16666667,\n",
       "         0.        ,  0.        ,  0.16666667,  0.        ,  0.        ],\n",
       "       [ 0.        ,  0.        ,  0.        ,  0.        ,  0.        ,\n",
       "         0.        ,  0.16666667,  0.        ,  0.        ,  0.        ,\n",
       "         0.        ,  0.        ,  0.        ,  0.        ,  0.        ,\n",
       "         0.        ,  0.        ,  0.        ,  0.16666667,  0.        ,\n",
       "         0.        ,  0.33333333,  0.        ,  0.16666667,  0.        ,\n",
       "         0.        ,  0.        ,  0.        ,  0.        ,  0.16666667],\n",
       "       [ 0.16666667,  0.        ,  0.        ,  0.16666667,  0.        ,\n",
       "         0.        ,  0.        ,  0.        ,  0.        ,  0.        ,\n",
       "         0.        ,  0.        ,  0.        ,  0.16666667,  0.16666667,\n",
       "         0.        ,  0.        ,  0.16666667,  0.        ,  0.        ,\n",
       "         0.        ,  0.16666667,  0.        ,  0.        ,  0.        ,\n",
       "         0.        ,  0.        ,  0.        ,  0.        ,  0.        ],\n",
       "       [ 0.16666667,  0.        ,  0.        ,  0.        ,  0.        ,\n",
       "         0.        ,  0.        ,  0.        ,  0.        ,  0.        ,\n",
       "         0.16666667,  0.        ,  0.        ,  0.33333333,  0.        ,\n",
       "         0.16666667,  0.        ,  0.        ,  0.        ,  0.        ,\n",
       "         0.        ,  0.        ,  0.        ,  0.        ,  0.        ,\n",
       "         0.        ,  0.        ,  0.        ,  0.16666667,  0.        ],\n",
       "       [ 0.33333333,  0.        ,  0.        ,  0.        ,  0.        ,\n",
       "         0.        ,  0.        ,  0.        ,  0.        ,  0.        ,\n",
       "         0.        ,  0.        ,  0.        ,  0.        ,  0.16666667,\n",
       "         0.        ,  0.16666667,  0.16666667,  0.        ,  0.        ,\n",
       "         0.        ,  0.        ,  0.        ,  0.        ,  0.        ,\n",
       "         0.        ,  0.        ,  0.        ,  0.        ,  0.16666667],\n",
       "       [ 0.        ,  0.        ,  0.        ,  0.        ,  0.        ,\n",
       "         0.        ,  0.16666667,  0.        ,  0.        ,  0.        ,\n",
       "         0.16666667,  0.        ,  0.        ,  0.5       ,  0.        ,\n",
       "         0.        ,  0.        ,  0.        ,  0.        ,  0.        ,\n",
       "         0.        ,  0.        ,  0.16666667,  0.        ,  0.        ,\n",
       "         0.        ,  0.        ,  0.        ,  0.        ,  0.        ],\n",
       "       [ 0.        ,  0.        ,  0.        ,  0.16666667,  0.16666667,\n",
       "         0.        ,  0.        ,  0.        ,  0.16666667,  0.        ,\n",
       "         0.        ,  0.        ,  0.        ,  0.16666667,  0.        ,\n",
       "         0.        ,  0.        ,  0.        ,  0.16666667,  0.16666667,\n",
       "         0.        ,  0.        ,  0.        ,  0.        ,  0.        ,\n",
       "         0.        ,  0.        ,  0.        ,  0.        ,  0.        ],\n",
       "       [ 0.16666667,  0.16666667,  0.        ,  0.16666667,  0.        ,\n",
       "         0.        ,  0.        ,  0.        ,  0.16666667,  0.        ,\n",
       "         0.        ,  0.        ,  0.        ,  0.        ,  0.        ,\n",
       "         0.        ,  0.16666667,  0.        ,  0.        ,  0.        ,\n",
       "         0.16666667,  0.        ,  0.        ,  0.        ,  0.        ,\n",
       "         0.        ,  0.        ,  0.        ,  0.        ,  0.        ]])"
      ]
     },
     "execution_count": 67,
     "metadata": {},
     "output_type": "execute_result"
    }
   ],
   "source": [
    "# Get actual probabilities\n",
    "blah = knn.predict_proba(X_test)"
   ]
  },
  {
   "cell_type": "markdown",
   "metadata": {},
   "source": [
    "## Attempt 2: Random Forest Classifier"
   ]
  },
  {
   "cell_type": "code",
   "execution_count": 68,
   "metadata": {},
   "outputs": [
    {
     "name": "stdout",
     "output_type": "stream",
     "text": [
      "0.0184210526316\n",
      "             precision    recall  f1-score   support\n",
      "\n",
      "        ARI       0.00      0.00      0.00        12\n",
      "        ATL       0.00      0.00      0.00        12\n",
      "        BAL       0.00      0.00      0.00        14\n",
      "        BOS       0.14      0.15      0.15        13\n",
      "        CHA       0.00      0.00      0.00        11\n",
      "        CHN       0.00      0.00      0.00        14\n",
      "        CIN       0.00      0.00      0.00        12\n",
      "        CLE       0.00      0.00      0.00        13\n",
      "        COL       0.00      0.00      0.00        16\n",
      "        DET       0.05      0.08      0.06        12\n",
      "        HOU       0.00      0.00      0.00        11\n",
      "        KCA       0.10      0.10      0.10        10\n",
      "        LAA       0.00      0.00      0.00         7\n",
      "        LAN       0.00      0.00      0.00        17\n",
      "        MIA       0.00      0.00      0.00        11\n",
      "        MIL       0.00      0.00      0.00        12\n",
      "        MIN       0.00      0.00      0.00         9\n",
      "        NYA       0.08      0.06      0.07        17\n",
      "        NYN       0.08      0.07      0.07        14\n",
      "        OAK       0.00      0.00      0.00         7\n",
      "        PHI       0.00      0.00      0.00        16\n",
      "        PIT       0.00      0.00      0.00        12\n",
      "        SDN       0.00      0.00      0.00        12\n",
      "        SEA       0.00      0.00      0.00        11\n",
      "        SFN       0.00      0.00      0.00        15\n",
      "        SLN       0.00      0.00      0.00        11\n",
      "        TBA       0.00      0.00      0.00        15\n",
      "        TEX       0.00      0.00      0.00        13\n",
      "        TOR       0.00      0.00      0.00        16\n",
      "        WAS       0.11      0.07      0.08        15\n",
      "\n",
      "avg / total       0.02      0.02      0.02       380\n",
      "\n"
     ]
    }
   ],
   "source": [
    "from sklearn.ensemble import RandomForestClassifier\n",
    "\n",
    "rf = RandomForestClassifier()\n",
    "\n",
    "# Fit the classifier to the data\n",
    "rf.fit(X_train, y_train)\n",
    "\n",
    "print(rf.score(X_test, y_test))\n",
    "\n",
    "y_pred = rf.predict(X_test)\n",
    "\n",
    "print(classification_report(y_test, y_pred))"
   ]
  },
  {
   "cell_type": "code",
   "execution_count": null,
   "metadata": {
    "collapsed": true
   },
   "outputs": [],
   "source": []
  }
 ],
 "metadata": {
  "kernelspec": {
   "display_name": "Python 3",
   "language": "python",
   "name": "python3"
  },
  "language_info": {
   "codemirror_mode": {
    "name": "ipython",
    "version": 3
   },
   "file_extension": ".py",
   "mimetype": "text/x-python",
   "name": "python",
   "nbconvert_exporter": "python",
   "pygments_lexer": "ipython3",
   "version": "3.6.3"
  }
 },
 "nbformat": 4,
 "nbformat_minor": 2
}
