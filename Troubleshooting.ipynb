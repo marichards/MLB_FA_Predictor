{
 "cells": [
  {
   "cell_type": "markdown",
   "metadata": {},
   "source": [
    "# Problem\n",
    "\n",
    "Updating data at end of February, some players aren't getting caught (e.g. Yu Darvish)\n",
    "\n",
    "My goal is to:\n",
    "\n",
    "1. Identify where Darvish is getting lost\n",
    "2. Fix the problem\n",
    "\n",
    "I'll load the necessary things:"
   ]
  },
  {
   "cell_type": "code",
   "execution_count": 1,
   "metadata": {},
   "outputs": [],
   "source": [
    "from dataScraping import * \n",
    "import pandas as pd\n",
    "import numpy as np\n",
    "from sqlalchemy import create_engine\n",
    "from sqlalchemy_utils import database_exists, create_database\n",
    "import psycopg2\n",
    "import math\n",
    "from scipy.stats import zscore\n",
    "from buildFeatureMatrix import *"
   ]
  },
  {
   "cell_type": "markdown",
   "metadata": {},
   "source": [
    "I'm going to replicate the necessary steps for building out the features and see where Darvish disappears\n",
    "\n",
    "First, I'll grab him using free agent data:"
   ]
  },
  {
   "cell_type": "code",
   "execution_count": null,
   "metadata": {},
   "outputs": [],
   "source": [
    "# Grab all free agents since 2006\n",
    "all_years = list(range(2006,2018))\n",
    "all_fa_data = getAllFAData(all_years)"
   ]
  },
  {
   "cell_type": "markdown",
   "metadata": {},
   "source": [
    "Now I'll check to make sure he's there for the year 2017"
   ]
  },
  {
   "cell_type": "code",
   "execution_count": null,
   "metadata": {},
   "outputs": [],
   "source": [
    "all_fa_data[all_fa_data.nameLast == 'Darvish']"
   ]
  },
  {
   "cell_type": "markdown",
   "metadata": {},
   "source": [
    "Looks good, now I'm going to fast forward to loading from the database, as that's the next time I'd think he'd disappear"
   ]
  },
  {
   "cell_type": "code",
   "execution_count": null,
   "metadata": {},
   "outputs": [],
   "source": [
    "engine = db_connect()\n",
    "pitching_df = createPitchingTable(engine)\n",
    "pitching_fa = addFilterFreeAgents(pitching_df, engine)"
   ]
  },
  {
   "cell_type": "code",
   "execution_count": null,
   "metadata": {},
   "outputs": [],
   "source": [
    "pitching_fa[pitching_fa.nameLast == 'Darvish']"
   ]
  },
  {
   "cell_type": "markdown",
   "metadata": {},
   "source": [
    "He's still there, so I haven't lost him yet. I'll do the next couple steps, though they shouldn't affect much:"
   ]
  },
  {
   "cell_type": "code",
   "execution_count": null,
   "metadata": {},
   "outputs": [],
   "source": [
    "pitching_war = allPositionWAR(pitching_fa, engine)\n",
    "pitching_adjusted = addInflation(pitching_war, engine)"
   ]
  },
  {
   "cell_type": "code",
   "execution_count": null,
   "metadata": {},
   "outputs": [],
   "source": [
    "pitching_adjusted[pitching_adjusted.nameLast == 'Darvish']"
   ]
  },
  {
   "cell_type": "markdown",
   "metadata": {},
   "source": [
    "Looks like this is the problem step; I'll just make sure the pitching_war step isn't the problem:"
   ]
  },
  {
   "cell_type": "code",
   "execution_count": null,
   "metadata": {},
   "outputs": [],
   "source": [
    "pitching_war[pitching_war.nameLast == 'Darvish']"
   ]
  },
  {
   "cell_type": "markdown",
   "metadata": {},
   "source": [
    "Okay, so this is the problem step. Somehow, Darvish is getting dropped out, so I'll now jump into that method"
   ]
  },
  {
   "cell_type": "code",
   "execution_count": null,
   "metadata": {},
   "outputs": [],
   "source": [
    "# Pull the data but drop the index\n",
    "position_only_war = pullFullTable('position_team_war', engine).drop(['index'], axis = 1)\n",
    "pitching_war = pullFullTable('pitcher_team_war', engine).drop(['index'], axis = 1)\n",
    "    \n",
    "# Put them together\n",
    "position_war = pd.concat([position_only_war, pitching_war])\n",
    "    \n",
    "# Change the Year to \"yearID\"\n",
    "position_war['yearID'] = position_war.Year\n",
    "position_war = position_war.drop(['Year'], axis = 1)\n",
    "    \n",
    "# Create a dictionary for converting these to abbreviations\n",
    "team_dict = {'Angels' : 'LAA', 'Astros' : 'HOU', 'Athletics' : 'OAK', 'Blue Jays' : 'TOR', \n",
    "                 'Braves' : 'ATL', 'Brewers': 'MIL', 'Cardinals' : 'STL', 'Cubs' : 'CHN',\n",
    "                 'Diamondbacks' : 'ARI', 'Dodgers' : 'LAN', 'Giants' : 'SFN', 'Indians' : 'CLE',\n",
    "                 'Mariners' : 'SEA', 'Marlins' : 'MIA', 'Mets' : 'NYN', 'Nationals' : 'WAS',\n",
    "                 'Orioles' : 'BAL', 'Padres' : 'SDN', 'Phillies' : 'PHI', 'Pirates' : 'PIT', \n",
    "                 'Rangers' : 'TEX', 'Rays' : 'TBR', 'Red Sox' : 'BOS', 'Reds' : 'CIN', \n",
    "                 'Rockies' : 'COL', 'Royals' : 'KCR', 'Tigers' : 'DET', 'Twins' : 'MIN', \n",
    "                 'White Sox' : 'CHA', 'Yankees' : 'NYA'}\n",
    "    \n",
    "# Alter it to include WAR and Change the actual data frame\n",
    "team_dict = {key : value + \"_WAR\" for key, value in team_dict.items()}\n",
    "position_war = position_war.rename(columns = team_dict)\n",
    "    \n",
    "# Create stats for non-position/Year categories\n",
    "position_war['Med_WAR'] = position_war.drop(['yearID', 'Position'], axis = 1).median(axis = 1)\n",
    "position_war['Min_WAR'] = position_war.drop(['yearID', 'Position'], axis = 1).min(axis = 1)\n",
    "\n",
    "# Shrink to only the Year/Position/Median/Min WAR stats\n",
    "position_war_small = position_war[['yearID', 'Position', 'Med_WAR', 'Min_WAR']]\n",
    "    "
   ]
  },
  {
   "cell_type": "markdown",
   "metadata": {},
   "source": [
    "This will get merged with the pitching_fa data....it's doing so on position and yearID\n",
    "\n",
    "--> The problem here is the position; Darvish is a \"P\", not an 'SP'....this is really annoying\n",
    "\n",
    "I'd wager is this also the case for Arrieta:"
   ]
  },
  {
   "cell_type": "code",
   "execution_count": null,
   "metadata": {},
   "outputs": [],
   "source": [
    "pitching_fa[pitching_fa.nameLast == 'Arrieta']"
   ]
  },
  {
   "cell_type": "markdown",
   "metadata": {},
   "source": [
    "Alright, so when did THIS crap happen? Apparently now ESPN has \"P\" as position for some pitchers. I think I will.....\n",
    "\n",
    "Just convert all \"P\" to \"SP for now? I think that's a quick fix. Unfortunate, but that's what I'll have to do"
   ]
  },
  {
   "cell_type": "code",
   "execution_count": null,
   "metadata": {},
   "outputs": [],
   "source": [
    "pitching_fa[pitching_fa.Position == 'P']"
   ]
  },
  {
   "cell_type": "code",
   "execution_count": null,
   "metadata": {},
   "outputs": [],
   "source": [
    "pitching_fa.info()"
   ]
  },
  {
   "cell_type": "markdown",
   "metadata": {},
   "source": [
    "Looks like IPouts ~ 0.5 is a good enough cutoff...I'll use that"
   ]
  },
  {
   "cell_type": "code",
   "execution_count": null,
   "metadata": {},
   "outputs": [],
   "source": [
    "pitch_subset = pitching_fa[pitching_fa.Position == 'P']"
   ]
  },
  {
   "cell_type": "code",
   "execution_count": null,
   "metadata": {},
   "outputs": [],
   "source": [
    "pitch_subset.loc[pitch_subset.IPouts >= 0.5, 'Position'] = 'SP'\n",
    "pitch_subset.loc[pitch_subset.IPouts < 0.5, 'Position'] = 'RP'"
   ]
  },
  {
   "cell_type": "code",
   "execution_count": null,
   "metadata": {},
   "outputs": [],
   "source": [
    "pitch_subset"
   ]
  },
  {
   "cell_type": "markdown",
   "metadata": {},
   "source": [
    "That'll work...I'll add that to the code and call it good"
   ]
  },
  {
   "cell_type": "code",
   "execution_count": null,
   "metadata": {},
   "outputs": [],
   "source": []
  }
 ],
 "metadata": {
  "kernelspec": {
   "display_name": "Python 3",
   "language": "python",
   "name": "python3"
  },
  "language_info": {
   "codemirror_mode": {
    "name": "ipython",
    "version": 3
   },
   "file_extension": ".py",
   "mimetype": "text/x-python",
   "name": "python",
   "nbconvert_exporter": "python",
   "pygments_lexer": "ipython3",
   "version": "3.6.3"
  }
 },
 "nbformat": 4,
 "nbformat_minor": 2
}
